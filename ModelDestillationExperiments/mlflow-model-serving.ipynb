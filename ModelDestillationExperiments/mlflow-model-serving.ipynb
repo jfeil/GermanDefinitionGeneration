{
 "cells": [
  {
   "cell_type": "code",
   "execution_count": 1,
   "id": "initial_id",
   "metadata": {
    "ExecuteTime": {
     "end_time": "2024-04-25T08:43:00.785785Z",
     "start_time": "2024-04-25T08:42:59.645254Z"
    },
    "collapsed": true,
    "jupyter": {
     "outputs_hidden": true
    }
   },
   "outputs": [],
   "source": [
    "import sys\n",
    "\n",
    "sys.path.insert(0, '../')\n",
    "from src.mlflow_utils import mlflow"
   ]
  },
  {
   "cell_type": "code",
   "execution_count": 2,
   "id": "68356a4f12f73f8c",
   "metadata": {
    "ExecuteTime": {
     "end_time": "2024-04-25T08:43:01.456420Z",
     "start_time": "2024-04-25T08:43:01.420056Z"
    }
   },
   "outputs": [],
   "source": [
    "mlflow.set_experiment(\"Conversational\")"
   ]
  },
  {
   "cell_type": "code",
   "execution_count": 3,
   "id": "5dc249c1c260208c",
   "metadata": {
    "ExecuteTime": {
     "end_time": "2024-04-25T08:43:21.832538Z",
     "start_time": "2024-04-25T08:43:03.480677Z"
    }
   },
   "outputs": [],
   "source": [
    "import transformers\n",
    "import torch\n",
    "\n",
    "model_id = \"../Storage/meta-llama_Meta-Llama-3-8B-Instruct\"\n",
    "\n",
    "pipeline = transformers.pipeline(\n",
    "    \"text-generation\",\n",
    "    model=model_id,\n",
    "    model_kwargs={\"torch_dtype\": torch.bfloat16},\n",
    "    device_map=\"auto\",\n",
    ")\n",
    "\n",
    "messages = [\n",
    "    {\"role\": \"system\", \"content\": \"You are a pirate chatbot who always responds in pirate speak!\"},\n",
    "    {\"role\": \"user\", \"content\": \"Who are you?\"},\n",
    "]\n",
    "\n",
    "prompt = pipeline.tokenizer.apply_chat_template(\n",
    "        messages, \n",
    "        tokenize=False, \n",
    "        add_generation_prompt=True\n",
    ")\n",
    "\n",
    "terminators = [\n",
    "    pipeline.tokenizer.eos_token_id,\n",
    "    pipeline.tokenizer.convert_tokens_to_ids(\"<|eot_id|>\")\n",
    "]\n",
    "\n",
    "outputs = pipeline(\n",
    "    prompt,\n",
    "    max_new_tokens=256,\n",
    "    eos_token_id=terminators,\n",
    "    do_sample=True,\n",
    "    temperature=0.6,\n",
    "    top_p=0.9,\n",
    ")\n",
    "print(outputs[0][\"generated_text\"][len(prompt):])"
   ]
  },
  {
   "cell_type": "code",
   "execution_count": 4,
   "id": "463cc2bb2b205e1e",
   "metadata": {
    "ExecuteTime": {
     "end_time": "2024-04-25T08:43:34.961303Z",
     "start_time": "2024-04-25T08:43:34.465116Z"
    }
   },
   "outputs": [],
   "source": [
    "signature = mlflow.models.infer_signature(\n",
    "    \"Hi there, chatbot!\",\n",
    "    mlflow.transformers.generate_signature_output(pipeline, \"Hi there, chatbot!\"),\n",
    ")"
   ]
  },
  {
   "cell_type": "code",
   "execution_count": 7,
   "id": "f7326f5dcd181fe9",
   "metadata": {
    "ExecuteTime": {
     "end_time": "2024-04-25T08:44:00.668740Z",
     "start_time": "2024-04-25T08:43:59.985026Z"
    }
   },
   "outputs": [],
   "source": [
    "mlflow.transformers.generate_signature_output(pipeline, \"Lorem Ipsum dolor sit amet\")"
   ]
  },
  {
   "cell_type": "code",
   "execution_count": 12,
   "id": "b41a5dd7d1271d3a",
   "metadata": {
    "ExecuteTime": {
     "end_time": "2024-04-25T09:25:10.770331Z",
     "start_time": "2024-04-25T09:23:58.993356Z"
    }
   },
   "outputs": [],
   "source": [
    "with mlflow.start_run():\n",
    "    model_info = mlflow.transformers.log_model(\n",
    "        transformers_model=pipeline,\n",
    "        artifact_path=\"llama-3-8b\",\n",
    "        signature=signature,\n",
    "        registered_model_name=\"llama-3-8b-instruct\",\n",
    "    )"
   ]
  },
  {
   "cell_type": "code",
   "execution_count": null,
   "id": "954035f8a8af0c4c",
   "metadata": {},
   "outputs": [],
   "source": []
  }
 ],
 "metadata": {
  "kernelspec": {
   "display_name": "Python 3 (ipykernel)",
   "language": "python",
   "name": "python3"
  },
  "language_info": {
   "codemirror_mode": {
    "name": "ipython",
    "version": 3
   },
   "file_extension": ".py",
   "mimetype": "text/x-python",
   "name": "python",
   "nbconvert_exporter": "python",
   "pygments_lexer": "ipython3",
   "version": "3.10.12"
  }
 },
 "nbformat": 4,
 "nbformat_minor": 5
}
