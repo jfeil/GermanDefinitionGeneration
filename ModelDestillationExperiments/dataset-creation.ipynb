{
 "cells": [
  {
   "cell_type": "code",
   "execution_count": 1,
   "id": "13807d43f0229a48",
   "metadata": {
    "ExecuteTime": {
     "end_time": "2024-05-24T09:49:44.824053Z",
     "start_time": "2024-05-24T09:49:44.806527Z"
    }
   },
   "outputs": [],
   "source": [
    "%load_ext autoreload\n",
    "%autoreload 2"
   ]
  },
  {
   "cell_type": "code",
   "id": "initial_id",
   "metadata": {
    "ExecuteTime": {
     "end_time": "2024-07-15T14:16:16.543805Z",
     "start_time": "2024-07-15T14:16:15.482452Z"
    }
   },
   "source": [
    "import sys\n",
    "import pyarrow as pa\n",
    "import pyarrow.parquet as pq\n",
    "import os\n",
    "import pandas as pd\n",
    "\n",
    "sys.path.insert(0, '../')\n",
    "from src.mongo_utils import collection_de, create_set, get_all_entries, set_datasplit\n",
    "from src.utils import sanitize_context"
   ],
   "outputs": [],
   "execution_count": 1
  },
  {
   "metadata": {},
   "cell_type": "code",
   "outputs": [],
   "execution_count": null,
   "source": [
    "filter_list = [\n",
    "    \"Holdung\",\n",
    "]\n",
    "\"Titel != das, context_word = das\""
   ],
   "id": "836bd18f906b9b98"
  },
  {
   "cell_type": "code",
   "id": "4fd9714daa9daf4a",
   "metadata": {
    "ExecuteTime": {
     "end_time": "2024-07-15T14:16:22.268649Z",
     "start_time": "2024-07-15T14:16:22.266024Z"
    }
   },
   "source": [
    "def generator(col, split, postprocess=lambda x, y, a, b: (x, y, a, b)):\n",
    "    pointer = get_all_entries(col, split=split)\n",
    "    buffer = []\n",
    "\n",
    "    for data in pointer:\n",
    "        if not buffer:\n",
    "            buffer += create_set(data, replace_none=True)\n",
    "        if len(buffer) == 0:\n",
    "            continue\n",
    "        yield postprocess(*buffer.pop(0))"
   ],
   "outputs": [],
   "execution_count": 2
  },
  {
   "cell_type": "code",
   "id": "f49340a067db8114",
   "metadata": {
    "ExecuteTime": {
     "end_time": "2024-07-10T13:08:35.796659Z",
     "start_time": "2024-07-10T13:08:35.794460Z"
    }
   },
   "source": [
    "test = generator(collection_de, split=\"test\")\n",
    "train = generator(collection_de, split=\"train\")\n",
    "val = generator(collection_de, split=\"val\")"
   ],
   "outputs": [],
   "execution_count": 3
  },
  {
   "cell_type": "code",
   "id": "4ac7fa4b-015f-4cbe-821d-f29326940bf5",
   "metadata": {
    "ExecuteTime": {
     "end_time": "2024-07-10T13:08:38.510666Z",
     "start_time": "2024-07-10T13:08:36.264028Z"
    }
   },
   "source": [
    "for i in train:\n",
    "    if (i[0] == 'Stubenhocker'):\n",
    "        print(i)"
   ],
   "outputs": [
    {
     "name": "stdout",
     "output_type": "stream",
     "text": [
      "('Stubenhocker', 'Stubenhocker', \"„Das Internet ist schon lange kein Platz für »Techies« und ''Stubenhocker'' mehr, die einsam und in sich gekehrt ihren individuellen Interessen nachgehen.“<ref>{{Literatur | Autor=Heiko Haller, Markus Hartwig, Arne Liedtke | Titel=Google Analytics und Co | TitelErg=Methoden der Webanalyse professionell anwenden| Verlag=Pearson | Jahr=2010 | Seiten=334| Online=Zitiert nach {{GBS|yMteJgL7tGMC|PA334|Hervorhebung=Stubenhocker}}}}.</ref>\", '{{ugs.}}: Person, die sich vom sozialen Leben abkapselt bzw. ihr soziales Umfeld auf einen minimalen Raum beschränkt; Person, die ihre Stube nicht verlassen und ihre Ruhe haben will')\n",
      "('Stubenhocker', 'Stubenhocker', \"„Ich warte auf eine Kontaktanzeige, in der eine Frau einen maulfaulen ''Stubenhocker'' sucht, der weder tanzt noch wandert, aber gerne die Sopranos guckt und dabei Pralinen futtert.“<ref>Jan Weiler: ''Mein Leben als Mensch.'' Illustriert von Larissa Bertonasco. 2. Auflage. Rowohlt, Reinbek 2009, Seite 137. ISBN 978-3-463-40571-1.</ref>\", '{{ugs.}}: Person, die sich vom sozialen Leben abkapselt bzw. ihr soziales Umfeld auf einen minimalen Raum beschränkt; Person, die ihre Stube nicht verlassen und ihre Ruhe haben will')\n"
     ]
    }
   ],
   "execution_count": 4
  },
  {
   "metadata": {},
   "cell_type": "markdown",
   "source": "",
   "id": "bc506b798d56ca67"
  },
  {
   "cell_type": "code",
   "id": "9dd19c9a-3420-4179-bf58-d1ebff6ce00a",
   "metadata": {
    "ExecuteTime": {
     "end_time": "2024-07-15T14:16:26.337832Z",
     "start_time": "2024-07-15T14:16:26.335915Z"
    }
   },
   "source": "base_path = \"../dataset/v4/\"",
   "outputs": [],
   "execution_count": 3
  },
  {
   "cell_type": "code",
   "id": "b894c0a408a3fd67",
   "metadata": {
    "collapsed": false,
    "jupyter": {
     "outputs_hidden": false
    },
    "ExecuteTime": {
     "end_time": "2024-07-15T14:16:30.666919Z",
     "start_time": "2024-07-15T14:16:30.663969Z"
    }
   },
   "source": [
    "split = \"train\"\n",
    "\n",
    "def write_split(col, split, base_path=base_path, overwrite=False):\n",
    "    if not os.path.exists(base_path):\n",
    "        os.mkdir(base_path)\n",
    "    path = os.path.join(base_path, f\"{split}.parquet\")\n",
    "    if os.path.exists(path):\n",
    "        if overwrite:\n",
    "            os.remove(path)\n",
    "        else:\n",
    "            raise Exception(\"Already existing!\")\n",
    "    \n",
    "    data = []\n",
    "    for value in generator(col, split):\n",
    "        data.append(value)\n",
    "    df = pd.DataFrame(data=data, columns=[\"title\", \"context_word\", \"context_sentence\", \"gt\"])\n",
    "    table = pa.Table.from_pandas(df)\n",
    "    pq.write_table(table, path)"
   ],
   "outputs": [],
   "execution_count": 4
  },
  {
   "cell_type": "code",
   "id": "6c4b8658-c365-489f-b9ae-4ee520beed8e",
   "metadata": {
    "ExecuteTime": {
     "end_time": "2024-07-15T14:16:36.972900Z",
     "start_time": "2024-07-15T14:16:33.173230Z"
    }
   },
   "source": [
    "write_split(collection_de, \"train\", overwrite=True)\n",
    "write_split(collection_de, \"test\", overwrite=True)\n",
    "write_split(collection_de, \"val\", overwrite=True)"
   ],
   "outputs": [],
   "execution_count": 5
  },
  {
   "cell_type": "code",
   "execution_count": 203,
   "id": "8261386a5fd74a8c",
   "metadata": {
    "ExecuteTime": {
     "end_time": "2024-05-24T12:16:44.056539Z",
     "start_time": "2024-05-24T12:16:44.032117Z"
    }
   },
   "outputs": [],
   "source": [
    "train = generator(collection_de, split=\"train\")"
   ]
  },
  {
   "cell_type": "code",
   "execution_count": 239,
   "id": "3189780f3867742b",
   "metadata": {
    "ExecuteTime": {
     "end_time": "2024-05-24T12:18:43.095477Z",
     "start_time": "2024-05-24T12:18:43.068987Z"
    }
   },
   "outputs": [
    {
     "name": "stdout",
     "output_type": "stream",
     "text": [
      "('Januar', 'Januar,', \"„Es war in der kalten Jahreszeit, genauer gesagt im ''Januar,'' als ich meinen Asylantrag in Deutschland stellte.“\", 'erster, 31-tägiger Monat im Kalenderjahr')\n",
      "\n",
      "Es war in der kalten Jahreszeit, genauer gesagt im Januar, als ich meinen Asylantrag in Deutschland stellte.\n",
      "\n",
      "Was ist die Definition von \"Januar,\"?\n"
     ]
    }
   ],
   "source": [
    "ex = next(train)\n",
    "cl = lambda x, y, a, b: f\"{sanitize_context(a)}\\n\\nWas ist die Definition von \\\"{y}\\\"?\"\n",
    "print(ex)\n",
    "print()\n",
    "print(cl(*ex))"
   ]
  },
  {
   "cell_type": "code",
   "execution_count": 2,
   "id": "9f6326da6f6607b6",
   "metadata": {
    "ExecuteTime": {
     "end_time": "2024-05-24T09:49:52.538049Z",
     "start_time": "2024-05-24T09:49:48.556878Z"
    }
   },
   "outputs": [],
   "source": [
    "all_data = list(get_all_entries(collection_de))"
   ]
  },
  {
   "cell_type": "code",
   "execution_count": 3,
   "id": "1b4e4142ae06eb06",
   "metadata": {
    "ExecuteTime": {
     "end_time": "2024-05-24T09:49:52.560143Z",
     "start_time": "2024-05-24T09:49:52.539457Z"
    }
   },
   "outputs": [],
   "source": [
    "def count_set(data):\n",
    "    sets = []\n",
    "    for el in data:\n",
    "        sets += create_set(el)\n",
    "    return len(sets)"
   ]
  },
  {
   "cell_type": "code",
   "execution_count": 4,
   "id": "5e3d0d53cd2a241e",
   "metadata": {
    "ExecuteTime": {
     "end_time": "2024-05-24T09:34:37.645993Z",
     "start_time": "2024-05-24T09:34:25.763156Z"
    }
   },
   "outputs": [],
   "source": [
    "all_sets = []\n",
    "for el in all_data:\n",
    "    all_sets += create_set(el)"
   ]
  },
  {
   "cell_type": "code",
   "execution_count": 5,
   "id": "eec6e3fea8131e24",
   "metadata": {
    "ExecuteTime": {
     "end_time": "2024-05-24T09:33:40.967741Z",
     "start_time": "2024-05-24T09:33:40.935572Z"
    }
   },
   "outputs": [
    {
     "data": {
      "text/plain": [
       "129674"
      ]
     },
     "execution_count": 5,
     "metadata": {},
     "output_type": "execute_result"
    }
   ],
   "source": [
    "len(all_data)"
   ]
  },
  {
   "cell_type": "code",
   "execution_count": 6,
   "id": "ffbfcd36-86ca-47a2-96e2-94f59c2972f9",
   "metadata": {},
   "outputs": [
    {
     "data": {
      "text/plain": [
       "359515"
      ]
     },
     "execution_count": 6,
     "metadata": {},
     "output_type": "execute_result"
    }
   ],
   "source": [
    "len(all_sets)"
   ]
  },
  {
   "cell_type": "code",
   "execution_count": 80,
   "id": "f5f9ba0259127f47",
   "metadata": {
    "ExecuteTime": {
     "end_time": "2024-05-24T09:34:37.669617Z",
     "start_time": "2024-05-24T09:34:37.647451Z"
    }
   },
   "outputs": [
    {
     "data": {
      "text/plain": [
       "413169"
      ]
     },
     "execution_count": 80,
     "metadata": {},
     "output_type": "execute_result"
    }
   ],
   "source": [
    "len(all_sets)"
   ]
  },
  {
   "cell_type": "code",
   "execution_count": 7,
   "id": "13fc2b340b127464",
   "metadata": {
    "ExecuteTime": {
     "end_time": "2024-05-24T10:07:44.794914Z",
     "start_time": "2024-05-24T10:07:44.696720Z"
    }
   },
   "outputs": [],
   "source": [
    "from sklearn.model_selection import train_test_split\n",
    "\n",
    "train_val, test = train_test_split(all_data, test_size=0.1, random_state=42)\n",
    "train, val = train_test_split(train_val, test_size=0.11, random_state=42)"
   ]
  },
  {
   "cell_type": "code",
   "execution_count": 8,
   "id": "cdbd84a88e451dd1",
   "metadata": {
    "ExecuteTime": {
     "end_time": "2024-05-24T09:50:15.368051Z",
     "start_time": "2024-05-24T09:49:53.661206Z"
    }
   },
   "outputs": [
    {
     "name": "stdout",
     "output_type": "stream",
     "text": [
      "Test: 12968, Train: 103868, Val: 12838, Train+Val: 116706\n",
      "Test: 35733, Train: 288119, Val: 35663, Train+Val: 323782\n"
     ]
    }
   ],
   "source": [
    "test_count = count_set(test)\n",
    "train_val_count = count_set(train_val)\n",
    "train_count = count_set(train)\n",
    "val_count = train_val_count - train_count\n",
    "print(f\"Test: {len(test)}, Train: {len(train)}, Val: {len(val)}, Train+Val: {len(train_val)}\")\n",
    "print(f\"Test: {test_count}, Train: {train_count}, Val: {val_count}, Train+Val: {train_val_count}\")"
   ]
  },
  {
   "cell_type": "code",
   "execution_count": 9,
   "id": "e4bfcc93adfcd54e",
   "metadata": {
    "ExecuteTime": {
     "end_time": "2024-05-24T09:50:15.394598Z",
     "start_time": "2024-05-24T09:50:15.369592Z"
    }
   },
   "outputs": [
    {
     "name": "stdout",
     "output_type": "stream",
     "text": [
      "0.09939223676341738\n",
      "0.09919753000570213\n",
      "0.8014102332308805\n"
     ]
    }
   ],
   "source": [
    "print(test_count / (test_count+train_val_count))\n",
    "print(val_count / (test_count+train_val_count))\n",
    "print(train_count / (test_count+train_val_count))"
   ]
  },
  {
   "cell_type": "code",
   "execution_count": 10,
   "id": "fa2190e7b34ea6f8",
   "metadata": {
    "ExecuteTime": {
     "end_time": "2024-05-24T09:50:15.421146Z",
     "start_time": "2024-05-24T09:50:15.395974Z"
    }
   },
   "outputs": [
    {
     "name": "stdout",
     "output_type": "stream",
     "text": [
      "0.10000462698767679\n",
      "0.09900211299103907\n",
      "0.8009932600212841\n"
     ]
    }
   ],
   "source": [
    "print(len(test) / (len(test)+len(train_val)))\n",
    "print(len(val) / (len(test)+len(train_val)))\n",
    "print(len(train) / (len(test)+len(train_val)))"
   ]
  },
  {
   "cell_type": "code",
   "execution_count": 11,
   "id": "b5d04df2630c5f68",
   "metadata": {},
   "outputs": [],
   "source": [
    "set_datasplit(collection_de, test, 'test')\n",
    "set_datasplit(collection_de, train, 'train')\n",
    "set_datasplit(collection_de, val, 'val')"
   ]
  },
  {
   "cell_type": "code",
   "execution_count": 12,
   "id": "82cb7f7906baef9c",
   "metadata": {
    "ExecuteTime": {
     "end_time": "2024-05-24T09:56:52.738978Z",
     "start_time": "2024-05-24T09:56:52.712031Z"
    }
   },
   "outputs": [
    {
     "data": {
      "text/html": [
       "<div>\n",
       "<style scoped>\n",
       "    .dataframe tbody tr th:only-of-type {\n",
       "        vertical-align: middle;\n",
       "    }\n",
       "\n",
       "    .dataframe tbody tr th {\n",
       "        vertical-align: top;\n",
       "    }\n",
       "\n",
       "    .dataframe thead th {\n",
       "        text-align: right;\n",
       "    }\n",
       "</style>\n",
       "<table border=\"1\" class=\"dataframe\">\n",
       "  <thead>\n",
       "    <tr style=\"text-align: right;\">\n",
       "      <th></th>\n",
       "      <th>title</th>\n",
       "    </tr>\n",
       "  </thead>\n",
       "  <tbody>\n",
       "    <tr>\n",
       "      <th>0</th>\n",
       "      <td>Vollform</td>\n",
       "    </tr>\n",
       "    <tr>\n",
       "      <th>1</th>\n",
       "      <td>Neugeborener</td>\n",
       "    </tr>\n",
       "    <tr>\n",
       "      <th>2</th>\n",
       "      <td>Neun</td>\n",
       "    </tr>\n",
       "    <tr>\n",
       "      <th>3</th>\n",
       "      <td>Springerbauer</td>\n",
       "    </tr>\n",
       "    <tr>\n",
       "      <th>4</th>\n",
       "      <td>Achievementtest</td>\n",
       "    </tr>\n",
       "    <tr>\n",
       "      <th>...</th>\n",
       "      <td>...</td>\n",
       "    </tr>\n",
       "    <tr>\n",
       "      <th>12963</th>\n",
       "      <td>gegenstandslos</td>\n",
       "    </tr>\n",
       "    <tr>\n",
       "      <th>12964</th>\n",
       "      <td>Namenwort</td>\n",
       "    </tr>\n",
       "    <tr>\n",
       "      <th>12965</th>\n",
       "      <td>Fürstentum</td>\n",
       "    </tr>\n",
       "    <tr>\n",
       "      <th>12966</th>\n",
       "      <td>korrektiv</td>\n",
       "    </tr>\n",
       "    <tr>\n",
       "      <th>12967</th>\n",
       "      <td>Adressbuch</td>\n",
       "    </tr>\n",
       "  </tbody>\n",
       "</table>\n",
       "<p>12968 rows × 1 columns</p>\n",
       "</div>"
      ],
      "text/plain": [
       "                 title\n",
       "0             Vollform\n",
       "1         Neugeborener\n",
       "2                 Neun\n",
       "3        Springerbauer\n",
       "4      Achievementtest\n",
       "...                ...\n",
       "12963   gegenstandslos\n",
       "12964        Namenwort\n",
       "12965       Fürstentum\n",
       "12966        korrektiv\n",
       "12967       Adressbuch\n",
       "\n",
       "[12968 rows x 1 columns]"
      ]
     },
     "execution_count": 12,
     "metadata": {},
     "output_type": "execute_result"
    }
   ],
   "source": [
    "import pandas as pd\n",
    "\n",
    "test_ = pd.DataFrame(test, columns=[\"title\"])\n",
    "test_"
   ]
  },
  {
   "cell_type": "code",
   "execution_count": 13,
   "id": "c655fa960bb0083a",
   "metadata": {
    "ExecuteTime": {
     "end_time": "2024-05-24T10:21:32.080184Z",
     "start_time": "2024-05-24T10:21:32.054218Z"
    }
   },
   "outputs": [
    {
     "data": {
      "text/plain": [
       "ObjectId('6687babe9a5a7acaf44cfca0')"
      ]
     },
     "execution_count": 13,
     "metadata": {},
     "output_type": "execute_result"
    }
   ],
   "source": [
    "test[0]['_id']"
   ]
  },
  {
   "cell_type": "code",
   "execution_count": 36,
   "id": "92fcbf480107cac8",
   "metadata": {
    "ExecuteTime": {
     "end_time": "2024-05-24T10:25:15.561186Z",
     "start_time": "2024-05-24T10:25:15.535616Z"
    }
   },
   "outputs": [],
   "source": [
    "from src.mongo_utils import collection, db"
   ]
  },
  {
   "cell_type": "code",
   "execution_count": 37,
   "id": "b32d25246c450de3",
   "metadata": {
    "ExecuteTime": {
     "end_time": "2024-05-24T10:25:16.146756Z",
     "start_time": "2024-05-24T10:25:16.118993Z"
    }
   },
   "outputs": [
    {
     "data": {
      "text/plain": [
       "Collection(Database(MongoClient(host=['localhost:27017'], document_class=dict, tz_aware=False, connect=True), 'wikipedia_dump'), 'articles_2')"
      ]
     },
     "execution_count": 37,
     "metadata": {},
     "output_type": "execute_result"
    }
   ],
   "source": [
    "collection"
   ]
  },
  {
   "cell_type": "code",
   "execution_count": 20,
   "id": "c17ab62f346e1184",
   "metadata": {
    "ExecuteTime": {
     "end_time": "2024-05-24T10:07:57.881901Z",
     "start_time": "2024-05-24T10:07:57.856050Z"
    }
   },
   "outputs": [
    {
     "data": {
      "text/plain": [
       "ObjectId('6613c7782cfcd7a854112d94')"
      ]
     },
     "execution_count": 20,
     "metadata": {},
     "output_type": "execute_result"
    }
   ],
   "source": [
    "test[0][\"_id\"]"
   ]
  },
  {
   "cell_type": "code",
   "execution_count": 33,
   "id": "2de5e8d62bf13177",
   "metadata": {
    "ExecuteTime": {
     "end_time": "2024-05-24T10:24:25.386026Z",
     "start_time": "2024-05-24T10:24:25.356009Z"
    }
   },
   "outputs": [],
   "source": [
    "from pymongo import UpdateOne\n",
    "\n",
    "def set_datasplit(col, dataset, split):\n",
    "    updates = []\n",
    "    for d in dataset:\n",
    "        updates.append(UpdateOne({'_id': d['_id']}, {\"$set\": {\"split\": split}}))\n",
    "    col.bulk_write(updates)\n",
    "    \n",
    "def unset_datasplit(col, dataset):\n",
    "    updates = []\n",
    "    for d in dataset:\n",
    "        updates.append(UpdateOne({'_id': d['_id']}, {\"$unset\": {\"split\": 1}}))\n",
    "    col.bulk_write(updates)"
   ]
  },
  {
   "cell_type": "code",
   "execution_count": 40,
   "id": "2ba1eacbad190ea1",
   "metadata": {
    "ExecuteTime": {
     "end_time": "2024-05-24T10:26:15.683056Z",
     "start_time": "2024-05-24T10:26:14.396212Z"
    }
   },
   "outputs": [],
   "source": [
    "set_datasplit(val, 'val')"
   ]
  },
  {
   "cell_type": "code",
   "execution_count": 41,
   "id": "8225f173fdc977f3",
   "metadata": {
    "ExecuteTime": {
     "end_time": "2024-05-24T10:27:37.844616Z",
     "start_time": "2024-05-24T10:27:36.904531Z"
    }
   },
   "outputs": [
    {
     "data": {
      "text/plain": [
       "15588"
      ]
     },
     "execution_count": 41,
     "metadata": {},
     "output_type": "execute_result"
    }
   ],
   "source": [
    "test_data = list(get_all_entries(split=\"test\"))\n",
    "len(test_data)"
   ]
  }
 ],
 "metadata": {
  "kernelspec": {
   "display_name": "Python 3 (ipykernel)",
   "language": "python",
   "name": "python3"
  },
  "language_info": {
   "codemirror_mode": {
    "name": "ipython",
    "version": 3
   },
   "file_extension": ".py",
   "mimetype": "text/x-python",
   "name": "python",
   "nbconvert_exporter": "python",
   "pygments_lexer": "ipython3",
   "version": "3.10.12"
  }
 },
 "nbformat": 4,
 "nbformat_minor": 5
}
