{
 "cells": [
  {
   "cell_type": "code",
   "execution_count": 1,
   "id": "13807d43f0229a48",
   "metadata": {
    "ExecuteTime": {
     "end_time": "2024-05-24T09:49:44.824053Z",
     "start_time": "2024-05-24T09:49:44.806527Z"
    }
   },
   "outputs": [],
   "source": [
    "%load_ext autoreload\n",
    "%autoreload 2"
   ]
  },
  {
   "cell_type": "code",
   "id": "initial_id",
   "metadata": {
    "ExecuteTime": {
     "end_time": "2024-07-24T09:46:06.307246Z",
     "start_time": "2024-07-24T09:46:05.273771Z"
    }
   },
   "source": [
    "import sys\n",
    "import pyarrow as pa\n",
    "import pyarrow.parquet as pq\n",
    "import os\n",
    "import pandas as pd\n",
    "\n",
    "sys.path.insert(0, '../')\n",
    "from src.mongo_utils import collection_de, create_set, get_all_entries, set_datasplit\n",
    "from src.utils import sanitize_context"
   ],
   "outputs": [],
   "execution_count": 2
  },
  {
   "metadata": {},
   "cell_type": "code",
   "outputs": [],
   "execution_count": null,
   "source": [
    "filter_list = [\n",
    "    \"Holdung\",\n",
    "]\n",
    "\"Titel != das, context_word = das\""
   ],
   "id": "836bd18f906b9b98"
  },
  {
   "cell_type": "code",
   "id": "4fd9714daa9daf4a",
   "metadata": {
    "ExecuteTime": {
     "end_time": "2024-07-24T09:46:07.155791Z",
     "start_time": "2024-07-24T09:46:07.153026Z"
    }
   },
   "source": [
    "def generator(col, split, postprocess=lambda x, y, a, b: (x, y, a, b)):\n",
    "    pointer = get_all_entries(col, split=split)\n",
    "    buffer = []\n",
    "\n",
    "    for data in pointer:\n",
    "        buffer += create_set(data, replace_none=True)\n",
    "        if len(buffer) == 0:\n",
    "            continue\n",
    "        yield postprocess(*buffer.pop(0))\n",
    "    while buffer:\n",
    "        yield postprocess(*buffer.pop(0))"
   ],
   "outputs": [],
   "execution_count": 3
  },
  {
   "cell_type": "code",
   "id": "f49340a067db8114",
   "metadata": {
    "ExecuteTime": {
     "end_time": "2024-07-24T08:19:41.728617Z",
     "start_time": "2024-07-24T08:19:41.726223Z"
    }
   },
   "source": [
    "test = generator(collection_de, split=\"test\")\n",
    "train = generator(collection_de, split=\"train\")\n",
    "val = generator(collection_de, split=\"val\")"
   ],
   "outputs": [],
   "execution_count": 44
  },
  {
   "cell_type": "code",
   "id": "4ac7fa4b-015f-4cbe-821d-f29326940bf5",
   "metadata": {
    "ExecuteTime": {
     "end_time": "2024-07-24T08:19:49.501689Z",
     "start_time": "2024-07-24T08:19:42.632054Z"
    }
   },
   "source": [
    "length = 0\n",
    "for i in train:\n",
    "    length += 1"
   ],
   "outputs": [
    {
     "name": "stdout",
     "output_type": "stream",
     "text": [
      "('Stift', 'Stift', \"Dieses Laufrad lässt sich mit einem ''Stift'' befestigen.\", 'künstlich hergestellter länglicher, meist zylindrischer Körper aus Metall oder Holz, oft mit einer Spitze, der vielfachen Verwendungsmöglichkeiten dient')\n",
      "('Stift', 'Stifte', \"Unsere kopflosen ''Stifte'' sind verzinkt, um Korrosion vorzubeugen.\", \"''im erweiterten Sinne zu [1]:'' (dünner) [[Nagel]], (speziell) Nagel ohne Kopf\")\n",
      "('Stift', 'Stift', \"Für diesen Zweck braucht man einen spitzenlosen zylindrischen ''Stift''.\", \"''im erweiterten Sinne zu [1], häufig [[Technik]]:'' länglicher, zum Teil spitzer Körper ohne besondere Differenzierung – oft aus Metall\")\n",
      "('Stift', 'Stift', \"Mein Zahnarzt hat mir eine Zahnkrone mit einem ''Stift'' befestigt.\", '{{K|Zahnmedizin}} dünner, länglicher, spitzer Körper zum Befestigen eines künstlichen Zahnes in einer Zahnwurzel')\n",
      "('Stift', 'Stift', \"„Robinson ließ den Zapfen des Schützes um drei Löcher steigen und blockierte ihn, indem er einen ''Stift'' in das vierte Loch steckte.“<ref>{{Lit-Tournier: Freitag oder Im Schoß des Pazifik|J=1984}}, Seite 108.</ref>\", '{{K|Technik}} Maschinenelement zum Verbinden von Teilen und zum Sichern gegen deren willkürliches Lösen')\n",
      "('Stift', 'Stifte', \"Einige Disteln haben längliche ''Stifte'' am Stängel.\", 'länglicher, spitzer Gegenstand natürlichen Ursprungs')\n",
      "('Stift', 'Stifte', \"Die Stängel der Distel könnte man ''Stifte'' nennen.\", '{{K|Botanik}} [[Stängel]] von Pflanzen')\n",
      "('Stift', 'Stifte', \"Einige Pflanzen schützen sich durch ''Stifte'', die man gewöhnlich Dornen oder Stacheln nennt.\", '{{K|Botanik}} [[Dorn]] der Pflanzen')\n",
      "('Stift', 'Stifte', \"Bei Gefahr rollen sich Stachelschweine zusammen und richten ihre ''Stifte'' auf.\", '{{K|Zoologie}} [[Stachel]] eines Tiers, steifes Haar, Zahnstumpf')\n",
      "('Stift', 'Stift', \"Am ''Stift'' des Baumes war ein braunes Eichhörnchen, das mich beobachtete.\", '{{K|Botanik}} [[Pfahl]], [[Stamm]] eines Baumes')\n",
      "('Stift', 'Stift', \"Kannst du mir einmal deinen ''Stift'' leihen? Ich muss etwas aufschreiben.\", \"''im erweiterten Sinne zu [1] und [6]:'' [[Schreibgerät]]\")\n",
      "('Stift', 'Stift', \"„Fabiola kramte einen ''Stift'' aus ihrer Handtasche und schrieb die Formel auf die Rückseite eines Kassenzettels.“<ref>{{Literatur | Autor= Rainer Heuser | Titel= Ein Kontakt |TitelErg=  |Auflage= | Übersetzer= |Verlag= RAM-Verlag| Ort= Lüdenscheid| Jahr= 2019 | ISBN=978-3-942303-83-5 | Seiten=17.}}</ref>\", \"''im erweiterten Sinne zu [1] und [6]:'' [[Schreibgerät]]\")\n",
      "('Stift', 'Stift', \"„Erst als er Notizbuch, ''Stift'', Brillenetui, Stirnlampe und Reiseführer in übersichtlicher Anordnung auf dem Boden platziert hatte – alle Gegenstände nach Größe sortiert und in einem 90-Grad-Winkel zur Wand – schien er sich zu entspannen.“<ref>{{Literatur| Autor= Lois Pryce | Titel= Mit 80 Schutzengeln durch Afrika | TitelErg= Die verrückteste, halsbrecherischste, schrecklich-schönste Reise meines Lebens| Auflage= |Übersetzer= Anja Fülle, Jérôme Mermod| Verlag= DuMont Reiseverlag |Ort= Ostfildern |Jahr= 2018 | ISBN= 978-3-7701-6687-9 |Seiten= 130.}} Englisches Original 2009.</ref>\", \"''im erweiterten Sinne zu [1] und [6]:'' [[Schreibgerät]]\")\n",
      "('Stift', 'Stift', \"„Jürgen Loose klopft mit seinem ''Stift'' unruhig auf das Papier.“<ref>{{Literatur |  Autor=Mechtild Borrmann | Titel=Grenzgänger | TitelErg=Die Geschichte einer verlorenen deutschen Kindheit. Roman | Verlag=Droemer | Ort=München | Jahr=2019 | ISBN=978-3-426-30608-6 | Seiten=98.}}</ref>\", \"''im erweiterten Sinne zu [1] und [6]:'' [[Schreibgerät]]\")\n",
      "('Stift', 'Stift', \"Du bist ein elender Schwätzer, sagte der Gauner, das ist nur ein ''Stift''.\", \"''[[Gaunersprache]]:'' etwas kleines Geringwertiges, Unbedeutendes\")\n",
      "('Stift', 'Stift', \"Von Frauen wusste er, dass ein großer ''Stift'' beim Sex schmerzhaft sein könnte.\", '{{ugs.|:}} Penis')\n",
      "('Stift', 'Stift', \"Der Bursch ist so klein gewachsen, dass ihn alle einfach ''Stift'' nennen.\", '{{ugs.|:}} Junge von kleinem Wuchs')\n",
      "('Stift', 'Stifte', \"Im Heim wurden die ''Stifte'' pausenlos von den großen Oukies gemorscht.\", \"''[[Namibia]]:'' Kind\")\n",
      "('Stift', 'Stift', \"Tief in seinen Gedanken versunken, merkte der junge Mann nicht gleich, dass man ihn ''Stift'' genannt hatte.\", '{{ugs.|:}} junger Mann')\n",
      "('Stift', 'Stift', \"Mein ''Stift'' hat mich merkwürdigerweise gefragt, ob ich sein leiblicher Vater bin.\", '{{ugs.|:}} Sohn')\n",
      "('Stift', 'Stifte', \"Die ''Stifte'' malochen tagtäglich für die Alten.\", '{{ugs.|:}} (jüngster) Lehrling')\n",
      "('Stift', 'Stift', \"„Der kleine Franz wußte das von einem Vetter, der vor Jahren einmal ''Stift'' im Hotel Waldrast gewesen war, schon von vornherein. Deshalb lachte er so seelenvergnügt, als habe er das große Los gewonnen, als er die ersehnte Anstellung wirklich bekam.“<ref>{{Internetquelle|url=https://www.projekt-gutenberg.org/schanz/untertan/chap015.html|titel=Unter der Tanne|autor=Frida Schanz|zugriff=2021-10-15}}</ref>\", '{{ugs.|:}} (jüngster) Lehrling')\n",
      "('Stift', 'Stifte', \"Natürlich sind diese ''Stifte'' stabil und robust genug, um den täglichen Rettungseinsatz absolvieren zu können.\", '{{ugs.|:}} Rekrut')\n",
      "('Stift', 'Stifte', \"Die ''Stifte'' mussten erst vier Tage später, die Schulbank zum ersten Mal drücken.\", '{{ugs.|:}} Unterstufenschüler; Schulanfänger')\n",
      "('Stift', 'Stifte', \"Er ist nur einer der ''Stifte'', für die jährlich besorgte Eltern mehr als eine Milliarde Euro ausgeben.\", \"{{ugs.|,}} ''[[im übertragenen Sinn]]e zu [7]:'' Nachhilfeschüler\")\n",
      "('Stift', 'Stift', \"Der neue Studienreferendar wurde sofort als ''Stift'' bezeichnet.\", \"{{ugs.|,}} ''[[im übertragenen Sinn]]e zu [7]:'' Studienreferendar\")\n",
      "('Stift', 'Stift', \"In der veralteten Bedeutung „Einrichtung“, „Festsetzung“, „Gründung“, „Anordnung“ wurde ''Stift'' auch als Femininum gebraucht.\", '{{va.|:}} Einrichtung, Festsetzung, Gründung, Anordnung')\n",
      "('Stift', 'Stift', \"Diesen Ereignissen zufolge wurde das reiche geistliche ''Stift'' zu einer weltlichen Anstalt umgewandelt.\", 'eine mit Grundvermögen oder Kapitalien ausgestattete autonome Anstalt, ursprünglich religiösen Charakters, jünger auch für weltliche Gründungen gemeinnütziger Art mit den dazu gehörigen Personen, Gebäuden und Gütern')\n",
      "('Stift', 'Stift', \"Das ''Stift'' dieses geistlichen Kollegiums ist mit Grundbesitz und Vermögen ausgestattet.\", \"''im engeren Sinne zu [2]:'' mit gestiftetem Grundbesitz und Vermögen ausgestattete, einem geistlichen Kollegium gehörende, kirchlichen Zwecken dienende Anstalt\")\n",
      "('Stift', 'Stift', \"„»Kein weibliches Mitglied unserer Familie befindet sich in einem Kloster oder geistlichen ''Stift''. Nicht in der entferntesten Linie ist jemand zu finden. Schwester Anna starb im Frühjahr, aber das weißt du vielleicht nicht.«“<ref>{{Internetquelle|url=https://www.projekt-gutenberg.org/gjelleru/gottesfr/chap11.html|titel=Die Gottesfreundin|autor=Karl Gjellerup|zugriff=2021-10-14}}</ref>\", '\\'\\'im engeren Sinne zu [3]:\\'\\' als \"kirchliche Einrichtung, geistliche Stiftung\") eine geistliche Korporation, ein Kloster, eine Domkirche, Kollegiatkirche, dann auch für ein Bistum oder Erzbistum ([[Hochstift]]) allgemein als Verwaltungskörper mit allem Zubehör')\n",
      "('Stift', 'Stifte', \"„Im Hochmannischen ''Stifte'', einem großen Gebäude, worin verschiedene Studenten freie Kost und Wohnung haben, brach in der Nacht des 9. September 1789 ein großes Feuer aus [...].“<ref>{{Internetquelle|url=https://www.projekt-gutenberg.org/nicolai/bayschwa/chap007.html|titel=Unter Bayern und Schwaben|autor=Friedrich Nicolai|zugriff=2021-10-14}}</ref>\", \"''im engeren Sinne zu [3], [[elliptisch]]:'' [[Stiftsgebäude]], ''vereinzelt auch:'' [[Stiftskirche]]\")\n",
      "('Stift', 'Stift', \"„Das ganze ''Stift'' sammelte sich um mich und brüllte aus vollem Hals, was sie an französischen Schimpfworten wußten, am ärgsten die 3te Klasse, meine sonstigen Freundinnen.“<ref>{{Internetquelle|url=https://www.projekt-gutenberg.org/reventlo/autbrief/autbrief.html|titel=Autobiographisches / Briefe|autor=Franziska zu Reventlow|zugriff=2021-10-14}}</ref>\", '{{veraltend|:}} auf eine Stiftung zurückgehende, den Zwecken der Wohltätigkeit dienende (kirchliche) Anstalt für a) den Unterricht, die Erziehung ([[Stiftsschule]]) oder b) für die Betreuung notleidender, meist alter Menschen')\n",
      "('Stift', 'Stift', \"Nach dem Krieg wurde das ''Stift'' um vier Quadratkilometer erweitert.\", \"''im engeren Sinne zu [2]:'' Gebiet, Landbesitz, der zu einem Bistum oder Erzbistum gehört\")\n",
      "('Stift', 'Stiftes', \"„Die Prozessionen wurden einmal im Jahre gehalten und zwar im Sommer [...]. Der Dekan und das Kapitel des ''Stiftes'' beteiligten sich regelmäßig, ebenso die Kapuziner vom Jahre 1619 ab [...].“<ref>{{Internetquelle|url=https://www.projekt-gutenberg.org/creutz/stmichel/chap003.html|titel=Der St. Michaelsberg in der Eifel|autor=Rudolf Creutz|zugriff=2021-10-014}}</ref>\", \"''im engeren Sinne zu [2]:'' Kollegium der Stiftsherren einer Kollegiatkirche, eines Bistums (Domkapitel), Erzbistums\")\n",
      "('Stift', 'Stift', \"Der Kanoniker hatte ein gutes ''Stift'' und konnte davon gemächlich leben.\", \"''im engeren Sinne zu [2]:'' die Pfründe eines Stifts, besonders der Kanoniker\")\n",
      "('Stift', 'Stifts', \"„Jedoch die seit Kriegsende mehr und mehr geschrumpften Mittel des ''Stifts'' ließen nicht zu, daß [die Damen] unter seinem alten, schön geschweiften Dach verblieben.“<ref>{{Internetquelle|url=https://www.projekt-gutenberg.org/forbesmo/fernehs/chap001.html|titel=Ferne Häuser|autor=Irene Forbes-Mosse|zugriff=2021-10-14}}</ref>\", \"''im engeren Sinne zu [2]:'' Kanonissinnenstift, freie adlige Damenstift\")\n",
      "('Stift', 'Stift', \"Der Bund Gottes mit den älteren Juden wird in der deutschen Bibel ''Stift'' genannt.\", \"''alttestamentliche Bibelsprache:'' Bund, Vertrag zwischen zwei Parteien\")\n"
     ]
    }
   ],
   "execution_count": 45
  },
  {
   "metadata": {
    "ExecuteTime": {
     "end_time": "2024-07-24T08:19:52.217770Z",
     "start_time": "2024-07-24T08:19:52.215245Z"
    }
   },
   "cell_type": "code",
   "source": "length",
   "id": "27a9e08091e095da",
   "outputs": [
    {
     "data": {
      "text/plain": [
       "288148"
      ]
     },
     "execution_count": 46,
     "metadata": {},
     "output_type": "execute_result"
    }
   ],
   "execution_count": 46
  },
  {
   "metadata": {},
   "cell_type": "markdown",
   "source": "",
   "id": "bc506b798d56ca67"
  },
  {
   "cell_type": "code",
   "id": "9dd19c9a-3420-4179-bf58-d1ebff6ce00a",
   "metadata": {
    "ExecuteTime": {
     "end_time": "2024-07-24T08:20:03.082103Z",
     "start_time": "2024-07-24T08:20:03.080255Z"
    }
   },
   "source": "base_path = \"../dataset/v5/\"",
   "outputs": [],
   "execution_count": 47
  },
  {
   "cell_type": "code",
   "id": "b894c0a408a3fd67",
   "metadata": {
    "collapsed": false,
    "jupyter": {
     "outputs_hidden": false
    },
    "ExecuteTime": {
     "end_time": "2024-07-24T08:20:10.362573Z",
     "start_time": "2024-07-24T08:20:10.358889Z"
    }
   },
   "source": [
    "split = \"train\"\n",
    "\n",
    "def write_split(col, split, base_path=base_path, overwrite=False):\n",
    "    if not os.path.exists(base_path):\n",
    "        os.mkdir(base_path)\n",
    "    path = os.path.join(base_path, f\"{split}.parquet\")\n",
    "    if os.path.exists(path):\n",
    "        if overwrite:\n",
    "            os.remove(path)\n",
    "        else:\n",
    "            raise Exception(\"Already existing!\")\n",
    "    \n",
    "    data = []\n",
    "    for value in generator(col, split):\n",
    "        data.append(value)\n",
    "    df = pd.DataFrame(data=data, columns=[\"title\", \"context_word\", \"context_sentence\", \"gt\"])\n",
    "    table = pa.Table.from_pandas(df)\n",
    "    pq.write_table(table, path)"
   ],
   "outputs": [],
   "execution_count": 48
  },
  {
   "cell_type": "code",
   "id": "6c4b8658-c365-489f-b9ae-4ee520beed8e",
   "metadata": {
    "ExecuteTime": {
     "end_time": "2024-07-24T08:20:23.188200Z",
     "start_time": "2024-07-24T08:20:13.983204Z"
    }
   },
   "source": [
    "write_split(collection_de, \"train\", overwrite=True)\n",
    "write_split(collection_de, \"test\", overwrite=True)\n",
    "write_split(collection_de, \"val\", overwrite=True)"
   ],
   "outputs": [],
   "execution_count": 49
  },
  {
   "cell_type": "code",
   "execution_count": 203,
   "id": "8261386a5fd74a8c",
   "metadata": {
    "ExecuteTime": {
     "end_time": "2024-05-24T12:16:44.056539Z",
     "start_time": "2024-05-24T12:16:44.032117Z"
    }
   },
   "outputs": [],
   "source": [
    "train = generator(collection_de, split=\"train\")"
   ]
  },
  {
   "cell_type": "code",
   "execution_count": 239,
   "id": "3189780f3867742b",
   "metadata": {
    "ExecuteTime": {
     "end_time": "2024-05-24T12:18:43.095477Z",
     "start_time": "2024-05-24T12:18:43.068987Z"
    }
   },
   "outputs": [
    {
     "name": "stdout",
     "output_type": "stream",
     "text": [
      "('Januar', 'Januar,', \"„Es war in der kalten Jahreszeit, genauer gesagt im ''Januar,'' als ich meinen Asylantrag in Deutschland stellte.“\", 'erster, 31-tägiger Monat im Kalenderjahr')\n",
      "\n",
      "Es war in der kalten Jahreszeit, genauer gesagt im Januar, als ich meinen Asylantrag in Deutschland stellte.\n",
      "\n",
      "Was ist die Definition von \"Januar,\"?\n"
     ]
    }
   ],
   "source": [
    "ex = next(train)\n",
    "cl = lambda x, y, a, b: f\"{sanitize_context(a)}\\n\\nWas ist die Definition von \\\"{y}\\\"?\"\n",
    "print(ex)\n",
    "print()\n",
    "print(cl(*ex))"
   ]
  },
  {
   "cell_type": "code",
   "id": "9f6326da6f6607b6",
   "metadata": {
    "ExecuteTime": {
     "end_time": "2024-07-24T09:47:54.271808Z",
     "start_time": "2024-07-24T09:47:52.307378Z"
    }
   },
   "source": [
    "all_data = list(get_all_entries(collection_de))"
   ],
   "outputs": [],
   "execution_count": 4
  },
  {
   "cell_type": "code",
   "id": "1b4e4142ae06eb06",
   "metadata": {
    "ExecuteTime": {
     "end_time": "2024-07-24T09:47:56.135022Z",
     "start_time": "2024-07-24T09:47:56.132764Z"
    }
   },
   "source": [
    "def count_set(data):\n",
    "    sets = []\n",
    "    for el in data:\n",
    "        sets += create_set(el)\n",
    "    return len(sets)"
   ],
   "outputs": [],
   "execution_count": 5
  },
  {
   "cell_type": "code",
   "id": "5e3d0d53cd2a241e",
   "metadata": {
    "ExecuteTime": {
     "end_time": "2024-07-24T09:48:00.106414Z",
     "start_time": "2024-07-24T09:47:56.934115Z"
    }
   },
   "source": [
    "all_sets = []\n",
    "for el in all_data:\n",
    "    all_sets += create_set(el)"
   ],
   "outputs": [],
   "execution_count": 6
  },
  {
   "cell_type": "code",
   "id": "eec6e3fea8131e24",
   "metadata": {
    "ExecuteTime": {
     "end_time": "2024-07-24T09:48:00.926874Z",
     "start_time": "2024-07-24T09:48:00.921820Z"
    }
   },
   "source": [
    "len(all_data)"
   ],
   "outputs": [
    {
     "data": {
      "text/plain": [
       "129674"
      ]
     },
     "execution_count": 7,
     "metadata": {},
     "output_type": "execute_result"
    }
   ],
   "execution_count": 7
  },
  {
   "cell_type": "code",
   "id": "ffbfcd36-86ca-47a2-96e2-94f59c2972f9",
   "metadata": {
    "ExecuteTime": {
     "end_time": "2024-07-24T09:48:02.589412Z",
     "start_time": "2024-07-24T09:48:02.586907Z"
    }
   },
   "source": [
    "len(all_sets)"
   ],
   "outputs": [
    {
     "data": {
      "text/plain": [
       "359550"
      ]
     },
     "execution_count": 8,
     "metadata": {},
     "output_type": "execute_result"
    }
   ],
   "execution_count": 8
  },
  {
   "cell_type": "code",
   "id": "f5f9ba0259127f47",
   "metadata": {
    "ExecuteTime": {
     "end_time": "2024-07-24T09:48:04.044532Z",
     "start_time": "2024-07-24T09:48:04.041696Z"
    }
   },
   "source": [
    "len(all_sets)"
   ],
   "outputs": [
    {
     "data": {
      "text/plain": [
       "359550"
      ]
     },
     "execution_count": 9,
     "metadata": {},
     "output_type": "execute_result"
    }
   ],
   "execution_count": 9
  },
  {
   "cell_type": "code",
   "id": "13fc2b340b127464",
   "metadata": {
    "ExecuteTime": {
     "end_time": "2024-07-24T09:48:05.735876Z",
     "start_time": "2024-07-24T09:48:05.346237Z"
    }
   },
   "source": [
    "from sklearn.model_selection import train_test_split\n",
    "\n",
    "train_val, test = train_test_split(all_data, test_size=0.1, random_state=42)\n",
    "train, val = train_test_split(train_val, test_size=0.11, random_state=42)"
   ],
   "outputs": [],
   "execution_count": 10
  },
  {
   "cell_type": "code",
   "id": "cdbd84a88e451dd1",
   "metadata": {
    "ExecuteTime": {
     "end_time": "2024-07-24T09:48:12.407517Z",
     "start_time": "2024-07-24T09:48:06.307657Z"
    }
   },
   "source": [
    "test_count = count_set(test)\n",
    "train_val_count = count_set(train_val)\n",
    "train_count = count_set(train)\n",
    "val_count = train_val_count - train_count\n",
    "print(f\"Test: {len(test)}, Train: {len(train)}, Val: {len(val)}, Train+Val: {len(train_val)}\")\n",
    "print(f\"Test: {test_count}, Train: {train_count}, Val: {val_count}, Train+Val: {train_val_count}\")"
   ],
   "outputs": [
    {
     "name": "stdout",
     "output_type": "stream",
     "text": [
      "Test: 12968, Train: 103868, Val: 12838, Train+Val: 116706\n",
      "Test: 35738, Train: 288148, Val: 35664, Train+Val: 323812\n"
     ]
    }
   ],
   "execution_count": 11
  },
  {
   "cell_type": "code",
   "execution_count": 9,
   "id": "e4bfcc93adfcd54e",
   "metadata": {
    "ExecuteTime": {
     "end_time": "2024-05-24T09:50:15.394598Z",
     "start_time": "2024-05-24T09:50:15.369592Z"
    }
   },
   "outputs": [
    {
     "name": "stdout",
     "output_type": "stream",
     "text": [
      "0.09939223676341738\n",
      "0.09919753000570213\n",
      "0.8014102332308805\n"
     ]
    }
   ],
   "source": [
    "print(test_count / (test_count+train_val_count))\n",
    "print(val_count / (test_count+train_val_count))\n",
    "print(train_count / (test_count+train_val_count))"
   ]
  },
  {
   "cell_type": "code",
   "execution_count": 10,
   "id": "fa2190e7b34ea6f8",
   "metadata": {
    "ExecuteTime": {
     "end_time": "2024-05-24T09:50:15.421146Z",
     "start_time": "2024-05-24T09:50:15.395974Z"
    }
   },
   "outputs": [
    {
     "name": "stdout",
     "output_type": "stream",
     "text": [
      "0.10000462698767679\n",
      "0.09900211299103907\n",
      "0.8009932600212841\n"
     ]
    }
   ],
   "source": [
    "print(len(test) / (len(test)+len(train_val)))\n",
    "print(len(val) / (len(test)+len(train_val)))\n",
    "print(len(train) / (len(test)+len(train_val)))"
   ]
  },
  {
   "cell_type": "code",
   "execution_count": 11,
   "id": "b5d04df2630c5f68",
   "metadata": {},
   "outputs": [],
   "source": [
    "set_datasplit(collection_de, test, 'test')\n",
    "set_datasplit(collection_de, train, 'train')\n",
    "set_datasplit(collection_de, val, 'val')"
   ]
  },
  {
   "cell_type": "code",
   "execution_count": 12,
   "id": "82cb7f7906baef9c",
   "metadata": {
    "ExecuteTime": {
     "end_time": "2024-05-24T09:56:52.738978Z",
     "start_time": "2024-05-24T09:56:52.712031Z"
    }
   },
   "outputs": [
    {
     "data": {
      "text/html": [
       "<div>\n",
       "<style scoped>\n",
       "    .dataframe tbody tr th:only-of-type {\n",
       "        vertical-align: middle;\n",
       "    }\n",
       "\n",
       "    .dataframe tbody tr th {\n",
       "        vertical-align: top;\n",
       "    }\n",
       "\n",
       "    .dataframe thead th {\n",
       "        text-align: right;\n",
       "    }\n",
       "</style>\n",
       "<table border=\"1\" class=\"dataframe\">\n",
       "  <thead>\n",
       "    <tr style=\"text-align: right;\">\n",
       "      <th></th>\n",
       "      <th>title</th>\n",
       "    </tr>\n",
       "  </thead>\n",
       "  <tbody>\n",
       "    <tr>\n",
       "      <th>0</th>\n",
       "      <td>Vollform</td>\n",
       "    </tr>\n",
       "    <tr>\n",
       "      <th>1</th>\n",
       "      <td>Neugeborener</td>\n",
       "    </tr>\n",
       "    <tr>\n",
       "      <th>2</th>\n",
       "      <td>Neun</td>\n",
       "    </tr>\n",
       "    <tr>\n",
       "      <th>3</th>\n",
       "      <td>Springerbauer</td>\n",
       "    </tr>\n",
       "    <tr>\n",
       "      <th>4</th>\n",
       "      <td>Achievementtest</td>\n",
       "    </tr>\n",
       "    <tr>\n",
       "      <th>...</th>\n",
       "      <td>...</td>\n",
       "    </tr>\n",
       "    <tr>\n",
       "      <th>12963</th>\n",
       "      <td>gegenstandslos</td>\n",
       "    </tr>\n",
       "    <tr>\n",
       "      <th>12964</th>\n",
       "      <td>Namenwort</td>\n",
       "    </tr>\n",
       "    <tr>\n",
       "      <th>12965</th>\n",
       "      <td>Fürstentum</td>\n",
       "    </tr>\n",
       "    <tr>\n",
       "      <th>12966</th>\n",
       "      <td>korrektiv</td>\n",
       "    </tr>\n",
       "    <tr>\n",
       "      <th>12967</th>\n",
       "      <td>Adressbuch</td>\n",
       "    </tr>\n",
       "  </tbody>\n",
       "</table>\n",
       "<p>12968 rows × 1 columns</p>\n",
       "</div>"
      ],
      "text/plain": [
       "                 title\n",
       "0             Vollform\n",
       "1         Neugeborener\n",
       "2                 Neun\n",
       "3        Springerbauer\n",
       "4      Achievementtest\n",
       "...                ...\n",
       "12963   gegenstandslos\n",
       "12964        Namenwort\n",
       "12965       Fürstentum\n",
       "12966        korrektiv\n",
       "12967       Adressbuch\n",
       "\n",
       "[12968 rows x 1 columns]"
      ]
     },
     "execution_count": 12,
     "metadata": {},
     "output_type": "execute_result"
    }
   ],
   "source": [
    "import pandas as pd\n",
    "\n",
    "test_ = pd.DataFrame(test, columns=[\"title\"])\n",
    "test_"
   ]
  },
  {
   "cell_type": "code",
   "execution_count": 13,
   "id": "c655fa960bb0083a",
   "metadata": {
    "ExecuteTime": {
     "end_time": "2024-05-24T10:21:32.080184Z",
     "start_time": "2024-05-24T10:21:32.054218Z"
    }
   },
   "outputs": [
    {
     "data": {
      "text/plain": [
       "ObjectId('6687babe9a5a7acaf44cfca0')"
      ]
     },
     "execution_count": 13,
     "metadata": {},
     "output_type": "execute_result"
    }
   ],
   "source": [
    "test[0]['_id']"
   ]
  },
  {
   "cell_type": "code",
   "execution_count": 36,
   "id": "92fcbf480107cac8",
   "metadata": {
    "ExecuteTime": {
     "end_time": "2024-05-24T10:25:15.561186Z",
     "start_time": "2024-05-24T10:25:15.535616Z"
    }
   },
   "outputs": [],
   "source": [
    "from src.mongo_utils import collection, db"
   ]
  },
  {
   "cell_type": "code",
   "execution_count": 37,
   "id": "b32d25246c450de3",
   "metadata": {
    "ExecuteTime": {
     "end_time": "2024-05-24T10:25:16.146756Z",
     "start_time": "2024-05-24T10:25:16.118993Z"
    }
   },
   "outputs": [
    {
     "data": {
      "text/plain": [
       "Collection(Database(MongoClient(host=['localhost:27017'], document_class=dict, tz_aware=False, connect=True), 'wikipedia_dump'), 'articles_2')"
      ]
     },
     "execution_count": 37,
     "metadata": {},
     "output_type": "execute_result"
    }
   ],
   "source": [
    "collection"
   ]
  },
  {
   "cell_type": "code",
   "execution_count": 20,
   "id": "c17ab62f346e1184",
   "metadata": {
    "ExecuteTime": {
     "end_time": "2024-05-24T10:07:57.881901Z",
     "start_time": "2024-05-24T10:07:57.856050Z"
    }
   },
   "outputs": [
    {
     "data": {
      "text/plain": [
       "ObjectId('6613c7782cfcd7a854112d94')"
      ]
     },
     "execution_count": 20,
     "metadata": {},
     "output_type": "execute_result"
    }
   ],
   "source": [
    "test[0][\"_id\"]"
   ]
  },
  {
   "cell_type": "code",
   "execution_count": 33,
   "id": "2de5e8d62bf13177",
   "metadata": {
    "ExecuteTime": {
     "end_time": "2024-05-24T10:24:25.386026Z",
     "start_time": "2024-05-24T10:24:25.356009Z"
    }
   },
   "outputs": [],
   "source": [
    "from pymongo import UpdateOne\n",
    "\n",
    "def set_datasplit(col, dataset, split):\n",
    "    updates = []\n",
    "    for d in dataset:\n",
    "        updates.append(UpdateOne({'_id': d['_id']}, {\"$set\": {\"split\": split}}))\n",
    "    col.bulk_write(updates)\n",
    "    \n",
    "def unset_datasplit(col, dataset):\n",
    "    updates = []\n",
    "    for d in dataset:\n",
    "        updates.append(UpdateOne({'_id': d['_id']}, {\"$unset\": {\"split\": 1}}))\n",
    "    col.bulk_write(updates)"
   ]
  },
  {
   "cell_type": "code",
   "execution_count": 40,
   "id": "2ba1eacbad190ea1",
   "metadata": {
    "ExecuteTime": {
     "end_time": "2024-05-24T10:26:15.683056Z",
     "start_time": "2024-05-24T10:26:14.396212Z"
    }
   },
   "outputs": [],
   "source": [
    "set_datasplit(val, 'val')"
   ]
  },
  {
   "cell_type": "code",
   "execution_count": 41,
   "id": "8225f173fdc977f3",
   "metadata": {
    "ExecuteTime": {
     "end_time": "2024-05-24T10:27:37.844616Z",
     "start_time": "2024-05-24T10:27:36.904531Z"
    }
   },
   "outputs": [
    {
     "data": {
      "text/plain": [
       "15588"
      ]
     },
     "execution_count": 41,
     "metadata": {},
     "output_type": "execute_result"
    }
   ],
   "source": [
    "test_data = list(get_all_entries(split=\"test\"))\n",
    "len(test_data)"
   ]
  }
 ],
 "metadata": {
  "kernelspec": {
   "display_name": "Python 3 (ipykernel)",
   "language": "python",
   "name": "python3"
  },
  "language_info": {
   "codemirror_mode": {
    "name": "ipython",
    "version": 3
   },
   "file_extension": ".py",
   "mimetype": "text/x-python",
   "name": "python",
   "nbconvert_exporter": "python",
   "pygments_lexer": "ipython3",
   "version": "3.10.12"
  }
 },
 "nbformat": 4,
 "nbformat_minor": 5
}
