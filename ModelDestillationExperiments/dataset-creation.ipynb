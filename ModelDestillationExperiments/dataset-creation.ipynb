{
 "cells": [
  {
   "cell_type": "code",
   "execution_count": 1,
   "id": "13807d43f0229a48",
   "metadata": {
    "ExecuteTime": {
     "end_time": "2024-05-24T09:49:44.824053Z",
     "start_time": "2024-05-24T09:49:44.806527Z"
    },
    "collapsed": true,
    "jupyter": {
     "outputs_hidden": true
    }
   },
   "outputs": [],
   "source": [
    "%load_ext autoreload\n",
    "%autoreload 2"
   ]
  },
  {
   "cell_type": "code",
   "execution_count": 1,
   "id": "initial_id",
   "metadata": {
    "ExecuteTime": {
     "end_time": "2024-06-02T21:24:26.405632230Z",
     "start_time": "2024-06-02T21:24:26.402275990Z"
    }
   },
   "outputs": [],
   "source": [
    "import sys\n",
    "import pyarrow as pa\n",
    "import pyarrow.parquet as pq\n",
    "import os\n",
    "import pandas as pd\n",
    "\n",
    "sys.path.insert(0, '../')\n",
    "from src.mongo_utils import collection, create_set, get_all_entries, set_datasplit\n",
    "from src.utils import sanitize_context"
   ]
  },
  {
   "cell_type": "code",
   "execution_count": 2,
   "id": "4fd9714daa9daf4a",
   "metadata": {
    "ExecuteTime": {
     "end_time": "2024-05-24T12:07:50.882651Z",
     "start_time": "2024-05-24T12:07:50.856152Z"
    }
   },
   "outputs": [],
   "source": [
    "def generator(split, postprocess=lambda x, y, a, b: (x, y, a, b)):\n",
    "    pointer = get_all_entries(split=split)\n",
    "    buffer = []\n",
    "\n",
    "    for data in pointer:\n",
    "        if not buffer:\n",
    "            buffer += create_set(data, replace_none=True)\n",
    "        if len(buffer) == 0:\n",
    "            continue\n",
    "        yield postprocess(*buffer.pop(0))"
   ]
  },
  {
   "cell_type": "code",
   "execution_count": 3,
   "id": "f49340a067db8114",
   "metadata": {
    "ExecuteTime": {
     "end_time": "2024-06-02T21:24:16.872573857Z",
     "start_time": "2024-06-02T21:24:16.843776081Z"
    }
   },
   "outputs": [],
   "source": [
    "test = generator(split=\"test\")\n",
    "train = generator(split=\"train\")\n",
    "val = generator(split=\"val\")"
   ]
  },
  {
   "cell_type": "code",
   "execution_count": 4,
   "id": "9dd19c9a-3420-4179-bf58-d1ebff6ce00a",
   "metadata": {},
   "outputs": [],
   "source": [
    "base_path = \"../dataset/v1/\""
   ]
  },
  {
   "cell_type": "code",
   "execution_count": 9,
   "id": "b894c0a408a3fd67",
   "metadata": {
    "collapsed": false,
    "jupyter": {
     "outputs_hidden": false
    }
   },
   "outputs": [],
   "source": [
    "split = \"train\"\n",
    "\n",
    "def write_split(split, base_path=\"../dataset/v1/\", overwrite=False):\n",
    "    path = os.path.join(base_path, f\"{split}.parquet\")\n",
    "    if os.path.exists(path):\n",
    "        if overwrite:\n",
    "            os.remove(path)\n",
    "        else:\n",
    "            raise Exception(\"Already existing!\")\n",
    "    \n",
    "    data = []\n",
    "    for value in generator(split):\n",
    "        data.append(value)\n",
    "    df = pd.DataFrame(data=data, columns=[\"title\", \"context_word\", \"context_title\", \"gt\"])\n",
    "    table = pa.Table.from_pandas(df)\n",
    "    pq.write_table(table, path)"
   ]
  },
  {
   "cell_type": "code",
   "execution_count": 12,
   "id": "6c4b8658-c365-489f-b9ae-4ee520beed8e",
   "metadata": {},
   "outputs": [],
   "source": [
    "write_split(\"test\")"
   ]
  },
  {
   "cell_type": "code",
   "execution_count": 203,
   "id": "8261386a5fd74a8c",
   "metadata": {
    "ExecuteTime": {
     "end_time": "2024-05-24T12:16:44.056539Z",
     "start_time": "2024-05-24T12:16:44.032117Z"
    }
   },
   "outputs": [],
   "source": [
    "train = generator(split=\"train\")"
   ]
  },
  {
   "cell_type": "code",
   "execution_count": 239,
   "id": "3189780f3867742b",
   "metadata": {
    "ExecuteTime": {
     "end_time": "2024-05-24T12:18:43.095477Z",
     "start_time": "2024-05-24T12:18:43.068987Z"
    }
   },
   "outputs": [
    {
     "name": "stdout",
     "output_type": "stream",
     "text": [
      "('Januar', 'Januar,', \"„Es war in der kalten Jahreszeit, genauer gesagt im ''Januar,'' als ich meinen Asylantrag in Deutschland stellte.“\", 'erster, 31-tägiger Monat im Kalenderjahr')\n",
      "\n",
      "Es war in der kalten Jahreszeit, genauer gesagt im Januar, als ich meinen Asylantrag in Deutschland stellte.\n",
      "\n",
      "Was ist die Definition von \"Januar,\"?\n"
     ]
    }
   ],
   "source": [
    "ex = next(train)\n",
    "cl = lambda x, y, a, b: f\"{sanitize_context(a)}\\n\\nWas ist die Definition von \\\"{y}\\\"?\"\n",
    "print(ex)\n",
    "print()\n",
    "print(cl(*ex))"
   ]
  },
  {
   "cell_type": "code",
   "execution_count": 4,
   "id": "9f6326da6f6607b6",
   "metadata": {
    "ExecuteTime": {
     "end_time": "2024-05-24T09:49:52.538049Z",
     "start_time": "2024-05-24T09:49:48.556878Z"
    }
   },
   "outputs": [],
   "source": [
    "all_data = list(get_all_entries())"
   ]
  },
  {
   "cell_type": "code",
   "execution_count": 5,
   "id": "1b4e4142ae06eb06",
   "metadata": {
    "ExecuteTime": {
     "end_time": "2024-05-24T09:49:52.560143Z",
     "start_time": "2024-05-24T09:49:52.539457Z"
    }
   },
   "outputs": [],
   "source": [
    "def count_set(data):\n",
    "    sets = []\n",
    "    for el in data:\n",
    "        sets += create_set(el)\n",
    "    return len(sets)"
   ]
  },
  {
   "cell_type": "code",
   "execution_count": 79,
   "id": "5e3d0d53cd2a241e",
   "metadata": {
    "ExecuteTime": {
     "end_time": "2024-05-24T09:34:37.645993Z",
     "start_time": "2024-05-24T09:34:25.763156Z"
    }
   },
   "outputs": [],
   "source": [
    "all_sets = []\n",
    "for el in all_data:\n",
    "    all_sets += create_set(el)"
   ]
  },
  {
   "cell_type": "code",
   "execution_count": 78,
   "id": "eec6e3fea8131e24",
   "metadata": {
    "ExecuteTime": {
     "end_time": "2024-05-24T09:33:40.967741Z",
     "start_time": "2024-05-24T09:33:40.935572Z"
    }
   },
   "outputs": [
    {
     "data": {
      "text/plain": [
       "155878"
      ]
     },
     "execution_count": 78,
     "metadata": {},
     "output_type": "execute_result"
    }
   ],
   "source": [
    "len(all_data)"
   ]
  },
  {
   "cell_type": "code",
   "execution_count": 80,
   "id": "f5f9ba0259127f47",
   "metadata": {
    "ExecuteTime": {
     "end_time": "2024-05-24T09:34:37.669617Z",
     "start_time": "2024-05-24T09:34:37.647451Z"
    }
   },
   "outputs": [
    {
     "data": {
      "text/plain": [
       "413169"
      ]
     },
     "execution_count": 80,
     "metadata": {},
     "output_type": "execute_result"
    }
   ],
   "source": [
    "len(all_sets)"
   ]
  },
  {
   "cell_type": "code",
   "execution_count": 19,
   "id": "13fc2b340b127464",
   "metadata": {
    "ExecuteTime": {
     "end_time": "2024-05-24T10:07:44.794914Z",
     "start_time": "2024-05-24T10:07:44.696720Z"
    }
   },
   "outputs": [],
   "source": [
    "from sklearn.model_selection import train_test_split\n",
    "\n",
    "train_val, test = train_test_split(all_data, test_size=0.1, random_state=42)\n",
    "train, val = train_test_split(train_val, test_size=0.11, random_state=42)"
   ]
  },
  {
   "cell_type": "code",
   "execution_count": 7,
   "id": "cdbd84a88e451dd1",
   "metadata": {
    "ExecuteTime": {
     "end_time": "2024-05-24T09:50:15.368051Z",
     "start_time": "2024-05-24T09:49:53.661206Z"
    }
   },
   "outputs": [
    {
     "name": "stdout",
     "output_type": "stream",
     "text": [
      "Test: 15588, Train: 124858, Val: 15432, Train+Val: 140290\n",
      "Test: 41265, Train: 331032, Val: 40872, Train+Val: 371904\n"
     ]
    }
   ],
   "source": [
    "test_count = count_set(test)\n",
    "train_val_count = count_set(train_val)\n",
    "train_count = count_set(train)\n",
    "val_count = train_val_count - train_count\n",
    "print(f\"Test: {len(test)}, Train: {len(train)}, Val: {len(val)}, Train+Val: {len(train_val)}\")\n",
    "print(f\"Test: {test_count}, Train: {train_count}, Val: {val_count}, Train+Val: {train_val_count}\")"
   ]
  },
  {
   "cell_type": "code",
   "execution_count": 8,
   "id": "e4bfcc93adfcd54e",
   "metadata": {
    "ExecuteTime": {
     "end_time": "2024-05-24T09:50:15.394598Z",
     "start_time": "2024-05-24T09:50:15.369592Z"
    }
   },
   "outputs": [
    {
     "name": "stdout",
     "output_type": "stream",
     "text": [
      "0.09987438554199371\n",
      "0.09892320091778425\n",
      "0.801202413540222\n"
     ]
    }
   ],
   "source": [
    "print(test_count / (test_count+train_val_count))\n",
    "print(val_count / (test_count+train_val_count))\n",
    "print(train_count / (test_count+train_val_count))"
   ]
  },
  {
   "cell_type": "code",
   "execution_count": 9,
   "id": "fa2190e7b34ea6f8",
   "metadata": {
    "ExecuteTime": {
     "end_time": "2024-05-24T09:50:15.421146Z",
     "start_time": "2024-05-24T09:50:15.395974Z"
    }
   },
   "outputs": [
    {
     "name": "stdout",
     "output_type": "stream",
     "text": [
      "0.10000128305469662\n",
      "0.09900050039133168\n",
      "0.8009982165539717\n"
     ]
    }
   ],
   "source": [
    "print(len(test) / (len(test)+len(train_val)))\n",
    "print(len(val) / (len(test)+len(train_val)))\n",
    "print(len(train) / (len(test)+len(train_val)))"
   ]
  },
  {
   "cell_type": "code",
   "execution_count": null,
   "id": "b5d04df2630c5f68",
   "metadata": {},
   "outputs": [],
   "source": [
    "set_datasplit(test, 'test')\n",
    "set_datasplit(train, 'train')\n",
    "set_datasplit(val, 'val')"
   ]
  },
  {
   "cell_type": "code",
   "execution_count": 15,
   "id": "82cb7f7906baef9c",
   "metadata": {
    "ExecuteTime": {
     "end_time": "2024-05-24T09:56:52.738978Z",
     "start_time": "2024-05-24T09:56:52.712031Z"
    }
   },
   "outputs": [],
   "source": [
    "import pandas as pd\n",
    "\n",
    "test_ = pd.DataFrame(test, columns=[\"title\"])\n",
    "test_"
   ]
  },
  {
   "cell_type": "code",
   "execution_count": 30,
   "id": "c655fa960bb0083a",
   "metadata": {
    "ExecuteTime": {
     "end_time": "2024-05-24T10:21:32.080184Z",
     "start_time": "2024-05-24T10:21:32.054218Z"
    }
   },
   "outputs": [
    {
     "data": {
      "text/plain": [
       "ObjectId('6613c7782cfcd7a854112d94')"
      ]
     },
     "execution_count": 30,
     "metadata": {},
     "output_type": "execute_result"
    }
   ],
   "source": [
    "test[0]['_id']"
   ]
  },
  {
   "cell_type": "code",
   "execution_count": 36,
   "id": "92fcbf480107cac8",
   "metadata": {
    "ExecuteTime": {
     "end_time": "2024-05-24T10:25:15.561186Z",
     "start_time": "2024-05-24T10:25:15.535616Z"
    }
   },
   "outputs": [],
   "source": [
    "from src.mongo_utils import collection, db"
   ]
  },
  {
   "cell_type": "code",
   "execution_count": 37,
   "id": "b32d25246c450de3",
   "metadata": {
    "ExecuteTime": {
     "end_time": "2024-05-24T10:25:16.146756Z",
     "start_time": "2024-05-24T10:25:16.118993Z"
    }
   },
   "outputs": [
    {
     "data": {
      "text/plain": [
       "Collection(Database(MongoClient(host=['localhost:27017'], document_class=dict, tz_aware=False, connect=True), 'wikipedia_dump'), 'articles_2')"
      ]
     },
     "execution_count": 37,
     "metadata": {},
     "output_type": "execute_result"
    }
   ],
   "source": [
    "collection"
   ]
  },
  {
   "cell_type": "code",
   "execution_count": 20,
   "id": "c17ab62f346e1184",
   "metadata": {
    "ExecuteTime": {
     "end_time": "2024-05-24T10:07:57.881901Z",
     "start_time": "2024-05-24T10:07:57.856050Z"
    }
   },
   "outputs": [
    {
     "data": {
      "text/plain": [
       "ObjectId('6613c7782cfcd7a854112d94')"
      ]
     },
     "execution_count": 20,
     "metadata": {},
     "output_type": "execute_result"
    }
   ],
   "source": [
    "test[0][\"_id\"]"
   ]
  },
  {
   "cell_type": "code",
   "execution_count": 33,
   "id": "2de5e8d62bf13177",
   "metadata": {
    "ExecuteTime": {
     "end_time": "2024-05-24T10:24:25.386026Z",
     "start_time": "2024-05-24T10:24:25.356009Z"
    }
   },
   "outputs": [],
   "source": [
    "from pymongo import UpdateOne\n",
    "\n",
    "def set_datasplit(dataset, split):\n",
    "    updates = []\n",
    "    for d in dataset:\n",
    "        updates.append(UpdateOne({'_id': d['_id']}, {\"$set\": {\"split\": split}}))\n",
    "    collection.bulk_write(updates)\n",
    "    \n",
    "def unset_datasplit(dataset):\n",
    "    updates = []\n",
    "    for d in dataset:\n",
    "        updates.append(UpdateOne({'_id': d['_id']}, {\"$unset\": {\"split\": 1}}))\n",
    "    collection.bulk_write(updates)"
   ]
  },
  {
   "cell_type": "code",
   "execution_count": 40,
   "id": "2ba1eacbad190ea1",
   "metadata": {
    "ExecuteTime": {
     "end_time": "2024-05-24T10:26:15.683056Z",
     "start_time": "2024-05-24T10:26:14.396212Z"
    }
   },
   "outputs": [],
   "source": [
    "set_datasplit(val, 'val')"
   ]
  },
  {
   "cell_type": "code",
   "execution_count": 41,
   "id": "8225f173fdc977f3",
   "metadata": {
    "ExecuteTime": {
     "end_time": "2024-05-24T10:27:37.844616Z",
     "start_time": "2024-05-24T10:27:36.904531Z"
    }
   },
   "outputs": [
    {
     "data": {
      "text/plain": [
       "15588"
      ]
     },
     "execution_count": 41,
     "metadata": {},
     "output_type": "execute_result"
    }
   ],
   "source": [
    "test_data = list(get_all_entries(split=\"test\"))\n",
    "len(test_data)"
   ]
  }
 ],
 "metadata": {
  "kernelspec": {
   "display_name": "Python 3 (ipykernel)",
   "language": "python",
   "name": "python3"
  },
  "language_info": {
   "codemirror_mode": {
    "name": "ipython",
    "version": 3
   },
   "file_extension": ".py",
   "mimetype": "text/x-python",
   "name": "python",
   "nbconvert_exporter": "python",
   "pygments_lexer": "ipython3",
   "version": "3.10.12"
  }
 },
 "nbformat": 4,
 "nbformat_minor": 5
}
