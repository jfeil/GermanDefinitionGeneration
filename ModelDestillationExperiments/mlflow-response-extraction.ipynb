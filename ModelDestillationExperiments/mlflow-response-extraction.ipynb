{
 "cells": [
  {
   "cell_type": "code",
   "id": "initial_id",
   "metadata": {
    "collapsed": true,
    "ExecuteTime": {
     "end_time": "2024-05-16T22:09:04.465322Z",
     "start_time": "2024-05-16T22:09:04.461155Z"
    }
   },
   "source": [
    "import json\n",
    "import sys\n",
    "\n",
    "sys.path.insert(0, '../')\n",
    "from src.mlflow_utils import mlflow, get_run_list, download_run_data\n",
    "from src.utils import sanitize_prediction, ResponseDataset\n",
    "from tqdm.notebook import tqdm\n",
    "\n",
    "from typing import List, Dict, Tuple"
   ],
   "outputs": [],
   "execution_count": 5
  },
  {
   "metadata": {
    "ExecuteTime": {
     "end_time": "2024-05-16T22:09:08.256124Z",
     "start_time": "2024-05-16T22:09:05.628344Z"
    }
   },
   "cell_type": "code",
   "source": "test = ResponseDataset(experiments=[0, 1])",
   "id": "1be6f35c6f5f8962",
   "outputs": [
    {
     "data": {
      "text/plain": [
       "  0%|          | 0/21 [00:00<?, ?it/s]"
      ],
      "application/vnd.jupyter.widget-view+json": {
       "version_major": 2,
       "version_minor": 0,
       "model_id": "c5c89d3142c44d36ab27d5b886f3e1d0"
      }
     },
     "metadata": {},
     "output_type": "display_data"
    }
   ],
   "execution_count": 6
  },
  {
   "metadata": {
    "ExecuteTime": {
     "end_time": "2024-05-16T15:15:57.075355Z",
     "start_time": "2024-05-16T15:15:56.344348Z"
    }
   },
   "cell_type": "code",
   "source": [
    "test = ResponseDataset(runs=[\"14ae3307f7df4c26b249b847ef24c26a\", \"71254e7e5ced4ce2a27c5de31f7fb7ab\", \"6bf2254afdc2439ebd8f566ab84b5b82\", \"986ee36c268d424ebc061d646c5eadc7\"])\n",
    "with open(\"label_studio_2long2short.json\", 'w+') as f:\n",
    "    json.dump(test.export_label_studio(), f)"
   ],
   "id": "1ff4bf1e47f37cbd",
   "outputs": [
    {
     "data": {
      "text/plain": [
       "  0%|          | 0/4 [00:00<?, ?it/s]"
      ],
      "application/vnd.jupyter.widget-view+json": {
       "version_major": 2,
       "version_minor": 0,
       "model_id": "0997f85dba294ce98c454146ae753bc7"
      }
     },
     "metadata": {},
     "output_type": "display_data"
    }
   ],
   "execution_count": 4
  },
  {
   "metadata": {
    "ExecuteTime": {
     "end_time": "2024-05-14T20:00:03.253438Z",
     "start_time": "2024-05-14T20:00:02.209189Z"
    }
   },
   "cell_type": "code",
   "source": [
    "with open(\"label_studio_data.json\", 'w+') as f:\n",
    "    json.dump(test.export_label_studio(), f)"
   ],
   "id": "75b5f0d6e14a68ae",
   "outputs": [],
   "execution_count": 155
  },
  {
   "metadata": {
    "ExecuteTime": {
     "end_time": "2024-05-14T09:07:41.582076Z",
     "start_time": "2024-05-14T09:07:41.578770Z"
    }
   },
   "cell_type": "code",
   "source": [
    "with open(\"nudossi_example.json\", 'w+') as f:\n",
    "    json.dump(test.search_title(\"Nudossi\")[0], f)"
   ],
   "id": "7a17abe7c7de24db",
   "outputs": [],
   "execution_count": 142
  },
  {
   "metadata": {
    "ExecuteTime": {
     "end_time": "2024-05-13T11:43:02.144530Z",
     "start_time": "2024-05-13T11:43:02.141613Z"
    }
   },
   "cell_type": "code",
   "source": "selected_experiments = [0, 1]",
   "id": "8c6fc31a2b11d415",
   "outputs": [],
   "execution_count": 2
  },
  {
   "metadata": {
    "ExecuteTime": {
     "end_time": "2024-05-13T11:43:02.986481Z",
     "start_time": "2024-05-13T11:43:02.877941Z"
    }
   },
   "cell_type": "code",
   "source": "runs = get_run_list(selected_experiments)",
   "id": "aca9f18cb9a9b924",
   "outputs": [],
   "execution_count": 3
  },
  {
   "metadata": {
    "ExecuteTime": {
     "end_time": "2024-05-13T15:14:05.974740Z",
     "start_time": "2024-05-13T15:14:03.965619Z"
    }
   },
   "cell_type": "code",
   "source": [
    "overview = {}\n",
    "\n",
    "for run in tqdm(runs):\n",
    "    preds = download_run_data(run)\n",
    "    for entry in preds['data']:\n",
    "        x = GT(*entry[1:3])\n",
    "        if x not in overview:\n",
    "            overview[x] = {}\n",
    "        overview[x][run] = sanitize_prediction(entry[3])"
   ],
   "id": "2a0d3b9774ee382e",
   "outputs": [
    {
     "data": {
      "text/plain": [
       "  0%|          | 0/21 [00:00<?, ?it/s]"
      ],
      "application/vnd.jupyter.widget-view+json": {
       "version_major": 2,
       "version_minor": 0,
       "model_id": "8f1f5f55d0ff49138558bed164cfcdb0"
      }
     },
     "metadata": {},
     "output_type": "display_data"
    }
   ],
   "execution_count": 47
  },
  {
   "metadata": {
    "ExecuteTime": {
     "end_time": "2024-05-16T22:10:32.532054Z",
     "start_time": "2024-05-16T22:10:32.526279Z"
    }
   },
   "cell_type": "code",
   "source": "test.search_title(\"Nudossi\")",
   "id": "2e4a9adf252d48f1",
   "outputs": [
    {
     "data": {
      "text/plain": [
       "[({'title': 'Nudossi',\n",
       "   'context_word': 'Nudossi',\n",
       "   'context_sentence': '„Kann ich bitte die (das, den) Nudossi haben?\"',\n",
       "   'ground_truth': 'eine herstellerspezifische Bezeichnung für dessen Variante von Nuss-Nugat-Creme'},\n",
       "  {'a71e5cfb0a954f63b17c3c7b3c626e64': 'nicht-existierendes Wort (trinkt man wahrscheinlich Kakao)',\n",
       "   '71254e7e5ced4ce2a27c5de31f7fb7ab': 'Nudossi ist eine Marke von Milchmädcheneis.\\n\\n(Anmerkung: Nudossi ist ein historisches deutsches Eisprodukt, das nicht mehr hergestellt wird. Im Beispielsatz ist es eine Marke von Milchmädcheneis.)',\n",
       "   'e1d3f1f8aace43caa693e9836834504e': 'Nudossi ist eine Marke von Kaugummi in Deutschland.\\n\\n(Anmerkung: Nudossi ist ein historischer Bezug, da es in den 1980er-Jahren in der DDR sehr beliebt war. Heutzutage ist die Marke nicht mehr weit verbreitet.)',\n",
       "   'cb8135f768dd4a8285257deb0bc3d912': 'Nudossi ist eine Marke von Schokocreme aus der DDR.\\nDie Antwort wäre also: \"Nudossi ist eine Marke von Schokocreme\" oder einfach \"DDR-Schokocreme\".',\n",
       "   '5565790ff7c74ef69997fc0af6a3cd06': 'fiktive, magische Substanz, ohne Bedeutung außerhalb des Beispiels',\n",
       "   '41ef3452981a4b208aa35c8f8b7197df': 'Es gibt keine bekannte Verwendung des Begriffs „Nudossi“. Möglicherweise ist dies ein Tippfehler oder ein nicht allgemein bekanntes Wort.',\n",
       "   '14ae3307f7df4c26b249b847ef24c26a': 'Im Satz \"Kann ich bitte die (das, den) Nudossi haben?\" bezieht sich das Wort \"Nudossi\" auf ein noch zu bestimmtes Objekt, da es in dieser Form im Deutschen nicht existiert. Wenn wir jedoch annehmen, dass es hier um eine Kaffeemarke gehen könnte, dann könnte \"Nudossi\" ein Markenname für Kaffeeprodukte sein. In diesem Fall wäre \"Nudossi\" ein sächlich konnotiertes, also mit dem bestimmten Artikel \"das\" zu verwendendes, Nomen, das für Kaffee steht.',\n",
       "   'ebee22c9aef14c8baaca0ec3192e8833': 'Im Kontext des Beispielsatzes ist \"Nudossi\" ein fiktives, nicht existierendes Nudel-Getränk. Die Definition wäre also: Nudossi (fiktives Nudel-Getränk).',\n",
       "   '9eaf7a3028bd4b2cb773d0105f165add': 'Marke für Instant-Kaffeeprodukt, nicht mehr im Handel erhältlich.\\n\\n(Quelle: Häufig gestellte Fragen in einem Forum für Kaffee)',\n",
       "   '7e5d6c8cba4d49a8853e5e4c06072da7': 'fiktives Getränk mit Kultstatus in einer bestimmten Gemeinschaft (SCNR)',\n",
       "   '2bd01c54631c41c48ece315af304a7c0': 'Kleidungsstück für den Oberkörper, vornehmlich in Afrika getragen',\n",
       "   '6819089ff044491b97e144e4e1c111ff': 'traditionelle, ursprüngliche Kultur der Insel Papua-Neuguinea',\n",
       "   'e24c349c5d314b4c935bf351e256f480': 'Eine traditionelle italienische Kaffee- und Kuchenbar.',\n",
       "   '6bf2254afdc2439ebd8f566ab84b5b82': 'Nudossi: ein italienischer Kaffee, der in einer kleinen Kanne serviert wird, typischerweise in den Bergen Südtirols.',\n",
       "   '6e16e2ab19f240188837143a053cb2f7': 'einen traditionellen, aus Holz gefertigten Stuhl der Quechua-Indianer in Südamerika',\n",
       "   '986ee36c268d424ebc061d646c5eadc7': 'traditionelle indigene Kulturkleidung',\n",
       "   '48737ef3d19c485a987fd787235224d8': 'Kleidungsstück, das um die Hüfte getragen wird',\n",
       "   '26af50738e76460b8ab94850c35af235': 'Sitzmöbel mit Armlehnen und Rückenlehne',\n",
       "   '7c576b147ef94c578629c8ae942470d5': 'Kleidungsstück',\n",
       "   '9e0e9faebec6420db8b0ddb70309cb69': 'Gepäckstück',\n",
       "   'e23bb6ec28ef48d0b92d039472aab389': 'Gepäckstück eines Reisenden'}),\n",
       " ({'title': 'Nudossi',\n",
       "   'context_word': 'Nudossis',\n",
       "   'context_sentence': '„Dank der offiziellen Zuteilung Nudossis als ein Produkt, das nicht als Grundnahrungsmittel in den ‚normalen‘ Kaufhallen zu erwerben war, sondern nur über die Delikat-Läden, weckte der Brotaufstrich Interesse.“',\n",
       "   'ground_truth': 'eine herstellerspezifische Bezeichnung für dessen Variante von Nuss-Nugat-Creme'},\n",
       "  {'a71e5cfb0a954f63b17c3c7b3c626e64': 'Brotaufstrich mit eingeschränkter Verfügbarkeit',\n",
       "   '71254e7e5ced4ce2a27c5de31f7fb7ab': 'Brotaufstrichmarke aus den 80er Jahren',\n",
       "   'e1d3f1f8aace43caa693e9836834504e': 'seltene Brotaufstrichsorte mit interesseerregender Verfügbarkeit',\n",
       "   'cb8135f768dd4a8285257deb0bc3d912': 'seltene und gesuchte Brotaufstrich-Marke',\n",
       "   '5565790ff7c74ef69997fc0af6a3cd06': 'Brotaufstrich einer bestimmten Marke oder Sorte',\n",
       "   '41ef3452981a4b208aa35c8f8b7197df': 'Nudossi ist eine Marke für einen Brotaufstrich (Brotaufstrich bedeutet eine ähnliche Creme oder Paste, die man auf Brot verbreitet), der nur in Delikat-Läden (Speziellgeschäfte) und nicht in herkömmlichen Supermärkten gekauft werden konnte. Die Bezeichnung „Nudossi“ bezieht sich auf kein anderes Lebensmittel oder Konzept.',\n",
       "   '14ae3307f7df4c26b249b847ef24c26a': 'Nudossis ist ein Markenname für einen Brotaufstrich, der als ein spezielles oder ausgewähltes Lebensmittelprodukt vermarktet wurde, da er nicht in herkömmlichen Supermärkten eingelistet war, sondern nur in Delikatessen-Läden erhältlich war, was ihn exklusiv und begehrt erscheinen ließ.',\n",
       "   'ebee22c9aef14c8baaca0ec3192e8833': 'Nudossi ist ein Brotaufstrich-Produkt, das eine Seltenheit im Handel darstellt.',\n",
       "   '9eaf7a3028bd4b2cb773d0105f165add': 'Brotaufstrich, der nur in speziellen Geschäften erhältlich war',\n",
       "   '7e5d6c8cba4d49a8853e5e4c06072da7': 'Nudossi ist eine Art Brotaufstrich/Nuss-Brotaufstrich.',\n",
       "   '2bd01c54631c41c48ece315af304a7c0': 'Geschmackskombination aus Brotaufstrich und verschiedenen Zutaten',\n",
       "   '6819089ff044491b97e144e4e1c111ff': 'italienischer Brotaufstrich aus Nüssen und Öl',\n",
       "   'e24c349c5d314b4c935bf351e256f480': 'Nudossis: ein Produkt, das nicht allgemein verfügbar ist.',\n",
       "   '6bf2254afdc2439ebd8f566ab84b5b82': 'Nudossis: ein Produkt, das nicht in den normalen Kaufhallen, sondern nur in speziellen Delikat-Läden erhältlich ist.',\n",
       "   '6e16e2ab19f240188837143a053cb2f7': 'eine Marke von Brotaufstrich, der nicht in normalen Supermärkten erhältlich war, sondern nur in speziellen Delikat-Läden',\n",
       "   '986ee36c268d424ebc061d646c5eadc7': 'Handelsname für ein Brotaufstrichprodukt',\n",
       "   '48737ef3d19c485a987fd787235224d8': 'unbekannte oder exotische Speise oder Getränk',\n",
       "   '26af50738e76460b8ab94850c35af235': 'typischer Brotaufstrich aus Italien',\n",
       "   '7c576b147ef94c578629c8ae942470d5': 'Fiktionale Stadt',\n",
       "   '9e0e9faebec6420db8b0ddb70309cb69': 'Produkt mit besonderer Zulassung',\n",
       "   'e23bb6ec28ef48d0b92d039472aab389': 'typischer Name für ein Luxusprodukt'})]"
      ]
     },
     "execution_count": 7,
     "metadata": {},
     "output_type": "execute_result"
    }
   ],
   "execution_count": 7
  },
  {
   "metadata": {
    "ExecuteTime": {
     "end_time": "2024-05-13T15:16:27.733484Z",
     "start_time": "2024-05-13T15:16:27.729601Z"
    }
   },
   "cell_type": "code",
   "source": [
    "for i in overview.keys():\n",
    "    if \"Nudossi\" != i.title:\n",
    "        continue\n",
    "    print(i)\n",
    "    print(list(overview[i].values()))\n",
    "    print()"
   ],
   "id": "bb4800536bd1db5a",
   "outputs": [
    {
     "name": "stdout",
     "output_type": "stream",
     "text": [
      "Nudossi [Nudossi] --- „Kann ich bitte die (das, den) Nudossi haben?\" ===> eine herstellerspezifische Bezeichnung für dessen Variante von Nuss-Nugat-Creme\n",
      "['nicht-existierendes Wort (trinkt man wahrscheinlich Kakao)', 'Nudossi ist eine Marke von Milchmädcheneis.\\n\\n(Anmerkung: Nudossi ist ein historisches deutsches Eisprodukt, das nicht mehr hergestellt wird. Im Beispielsatz ist es eine Marke von Milchmädcheneis.)', 'Nudossi ist eine Marke von Kaugummi in Deutschland.\\n\\n(Anmerkung: Nudossi ist ein historischer Bezug, da es in den 1980er-Jahren in der DDR sehr beliebt war. Heutzutage ist die Marke nicht mehr weit verbreitet.)', 'Nudossi ist eine Marke von Schokocreme aus der DDR.\\nDie Antwort wäre also: \"Nudossi ist eine Marke von Schokocreme\" oder einfach \"DDR-Schokocreme\".', 'fiktive, magische Substanz, ohne Bedeutung außerhalb des Beispiels', 'Es gibt keine bekannte Verwendung des Begriffs „Nudossi“. Möglicherweise ist dies ein Tippfehler oder ein nicht allgemein bekanntes Wort.', 'Im Satz \"Kann ich bitte die (das, den) Nudossi haben?\" bezieht sich das Wort \"Nudossi\" auf ein noch zu bestimmtes Objekt, da es in dieser Form im Deutschen nicht existiert. Wenn wir jedoch annehmen, dass es hier um eine Kaffeemarke gehen könnte, dann könnte \"Nudossi\" ein Markenname für Kaffeeprodukte sein. In diesem Fall wäre \"Nudossi\" ein sächlich konnotiertes, also mit dem bestimmten Artikel \"das\" zu verwendendes, Nomen, das für Kaffee steht.', 'Im Kontext des Beispielsatzes ist \"Nudossi\" ein fiktives, nicht existierendes Nudel-Getränk. Die Definition wäre also: Nudossi (fiktives Nudel-Getränk).', 'Marke für Instant-Kaffeeprodukt, nicht mehr im Handel erhältlich.\\n\\n(Quelle: Häufig gestellte Fragen in einem Forum für Kaffee)', 'fiktives Getränk mit Kultstatus in einer bestimmten Gemeinschaft (SCNR)', 'Kleidungsstück für den Oberkörper, vornehmlich in Afrika getragen', 'traditionelle, ursprüngliche Kultur der Insel Papua-Neuguinea', 'Eine traditionelle italienische Kaffee- und Kuchenbar.', 'Nudossi: ein italienischer Kaffee, der in einer kleinen Kanne serviert wird, typischerweise in den Bergen Südtirols.', 'einen traditionellen, aus Holz gefertigten Stuhl der Quechua-Indianer in Südamerika', 'traditionelle indigene Kulturkleidung', 'Kleidungsstück, das um die Hüfte getragen wird', 'Sitzmöbel mit Armlehnen und Rückenlehne', 'Kleidungsstück', 'Gepäckstück', 'Gepäckstück eines Reisenden']\n",
      "\n",
      "Nudossis [Nudossi] --- „Dank der offiziellen Zuteilung Nudossis als ein Produkt, das nicht als Grundnahrungsmittel in den ‚normalen‘ Kaufhallen zu erwerben war, sondern nur über die Delikat-Läden, weckte der Brotaufstrich Interesse.“ ===> eine herstellerspezifische Bezeichnung für dessen Variante von Nuss-Nugat-Creme\n",
      "['Brotaufstrich mit eingeschränkter Verfügbarkeit', 'Brotaufstrichmarke aus den 80er Jahren', 'seltene Brotaufstrichsorte mit interesseerregender Verfügbarkeit', 'seltene und gesuchte Brotaufstrich-Marke', 'Brotaufstrich einer bestimmten Marke oder Sorte', 'Nudossi ist eine Marke für einen Brotaufstrich (Brotaufstrich bedeutet eine ähnliche Creme oder Paste, die man auf Brot verbreitet), der nur in Delikat-Läden (Speziellgeschäfte) und nicht in herkömmlichen Supermärkten gekauft werden konnte. Die Bezeichnung „Nudossi“ bezieht sich auf kein anderes Lebensmittel oder Konzept.', 'Nudossis ist ein Markenname für einen Brotaufstrich, der als ein spezielles oder ausgewähltes Lebensmittelprodukt vermarktet wurde, da er nicht in herkömmlichen Supermärkten eingelistet war, sondern nur in Delikatessen-Läden erhältlich war, was ihn exklusiv und begehrt erscheinen ließ.', 'Nudossi ist ein Brotaufstrich-Produkt, das eine Seltenheit im Handel darstellt.', 'Brotaufstrich, der nur in speziellen Geschäften erhältlich war', 'Nudossi ist eine Art Brotaufstrich/Nuss-Brotaufstrich.', 'Geschmackskombination aus Brotaufstrich und verschiedenen Zutaten', 'italienischer Brotaufstrich aus Nüssen und Öl', 'Nudossis: ein Produkt, das nicht allgemein verfügbar ist.', 'Nudossis: ein Produkt, das nicht in den normalen Kaufhallen, sondern nur in speziellen Delikat-Läden erhältlich ist.', 'eine Marke von Brotaufstrich, der nicht in normalen Supermärkten erhältlich war, sondern nur in speziellen Delikat-Läden', 'Handelsname für ein Brotaufstrichprodukt', 'unbekannte oder exotische Speise oder Getränk', 'typischer Brotaufstrich aus Italien', 'Fiktionale Stadt', 'Produkt mit besonderer Zulassung', 'typischer Name für ein Luxusprodukt']\n",
      "\n"
     ]
    }
   ],
   "execution_count": 52
  }
 ],
 "metadata": {
  "kernelspec": {
   "display_name": "Python 3",
   "language": "python",
   "name": "python3"
  },
  "language_info": {
   "codemirror_mode": {
    "name": "ipython",
    "version": 2
   },
   "file_extension": ".py",
   "mimetype": "text/x-python",
   "name": "python",
   "nbconvert_exporter": "python",
   "pygments_lexer": "ipython2",
   "version": "2.7.6"
  }
 },
 "nbformat": 4,
 "nbformat_minor": 5
}
