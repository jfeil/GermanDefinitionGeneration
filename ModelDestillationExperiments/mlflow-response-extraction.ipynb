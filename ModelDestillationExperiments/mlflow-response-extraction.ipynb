{
 "cells": [
  {
   "cell_type": "code",
   "execution_count": 5,
   "id": "initial_id",
   "metadata": {
    "ExecuteTime": {
     "end_time": "2024-05-16T22:09:04.465322Z",
     "start_time": "2024-05-16T22:09:04.461155Z"
    },
    "collapsed": true,
    "jupyter": {
     "outputs_hidden": true
    }
   },
   "outputs": [],
   "source": [
    "import json\n",
    "import sys\n",
    "\n",
    "sys.path.insert(0, '../')\n",
    "from src.mlflow_utils import mlflow, get_run_list, download_run_data\n",
    "from src.utils import sanitize_prediction, ResponseDataset\n",
    "from tqdm.notebook import tqdm\n",
    "\n",
    "from typing import List, Dict, Tuple"
   ]
  },
  {
   "cell_type": "code",
   "execution_count": 6,
   "id": "1be6f35c6f5f8962",
   "metadata": {
    "ExecuteTime": {
     "end_time": "2024-05-16T22:09:08.256124Z",
     "start_time": "2024-05-16T22:09:05.628344Z"
    }
   },
   "outputs": [],
   "source": [
    "test = ResponseDataset(experiments=[0, 1])"
   ]
  },
  {
   "cell_type": "code",
   "execution_count": 4,
   "id": "1ff4bf1e47f37cbd",
   "metadata": {
    "ExecuteTime": {
     "end_time": "2024-05-16T15:15:57.075355Z",
     "start_time": "2024-05-16T15:15:56.344348Z"
    }
   },
   "outputs": [],
   "source": [
    "test = ResponseDataset(runs=[\"14ae3307f7df4c26b249b847ef24c26a\", \"71254e7e5ced4ce2a27c5de31f7fb7ab\", \"6bf2254afdc2439ebd8f566ab84b5b82\", \"986ee36c268d424ebc061d646c5eadc7\"])\n",
    "with open(\"label_studio_2long2short.json\", 'w+') as f:\n",
    "    json.dump(test.export_label_studio(), f)"
   ]
  },
  {
   "cell_type": "code",
   "execution_count": 155,
   "id": "75b5f0d6e14a68ae",
   "metadata": {
    "ExecuteTime": {
     "end_time": "2024-05-14T20:00:03.253438Z",
     "start_time": "2024-05-14T20:00:02.209189Z"
    }
   },
   "outputs": [],
   "source": [
    "with open(\"label_studio_data.json\", 'w+') as f:\n",
    "    json.dump(test.export_label_studio(), f)"
   ]
  },
  {
   "cell_type": "code",
   "execution_count": 142,
   "id": "7a17abe7c7de24db",
   "metadata": {
    "ExecuteTime": {
     "end_time": "2024-05-14T09:07:41.582076Z",
     "start_time": "2024-05-14T09:07:41.578770Z"
    }
   },
   "outputs": [],
   "source": [
    "with open(\"nudossi_example.json\", 'w+') as f:\n",
    "    json.dump(test.search_title(\"Nudossi\")[0], f)"
   ]
  },
  {
   "cell_type": "code",
   "execution_count": 2,
   "id": "8c6fc31a2b11d415",
   "metadata": {
    "ExecuteTime": {
     "end_time": "2024-05-13T11:43:02.144530Z",
     "start_time": "2024-05-13T11:43:02.141613Z"
    }
   },
   "outputs": [],
   "source": [
    "selected_experiments = [0, 1]"
   ]
  },
  {
   "cell_type": "code",
   "execution_count": 3,
   "id": "aca9f18cb9a9b924",
   "metadata": {
    "ExecuteTime": {
     "end_time": "2024-05-13T11:43:02.986481Z",
     "start_time": "2024-05-13T11:43:02.877941Z"
    }
   },
   "outputs": [],
   "source": [
    "runs = get_run_list(selected_experiments)"
   ]
  },
  {
   "cell_type": "code",
   "execution_count": 47,
   "id": "2a0d3b9774ee382e",
   "metadata": {
    "ExecuteTime": {
     "end_time": "2024-05-13T15:14:05.974740Z",
     "start_time": "2024-05-13T15:14:03.965619Z"
    }
   },
   "outputs": [],
   "source": [
    "overview = {}\n",
    "\n",
    "for run in tqdm(runs):\n",
    "    preds = download_run_data(run)\n",
    "    for entry in preds['data']:\n",
    "        x = GT(*entry[1:3])\n",
    "        if x not in overview:\n",
    "            overview[x] = {}\n",
    "        overview[x][run] = sanitize_prediction(entry[3])"
   ]
  },
  {
   "cell_type": "code",
   "execution_count": 7,
   "id": "2e4a9adf252d48f1",
   "metadata": {
    "ExecuteTime": {
     "end_time": "2024-05-16T22:10:32.532054Z",
     "start_time": "2024-05-16T22:10:32.526279Z"
    }
   },
   "outputs": [],
   "source": [
    "test.search_title(\"Nudossi\")"
   ]
  },
  {
   "cell_type": "code",
   "execution_count": 52,
   "id": "bb4800536bd1db5a",
   "metadata": {
    "ExecuteTime": {
     "end_time": "2024-05-13T15:16:27.733484Z",
     "start_time": "2024-05-13T15:16:27.729601Z"
    }
   },
   "outputs": [],
   "source": [
    "for i in overview.keys():\n",
    "    if \"Nudossi\" != i.title:\n",
    "        continue\n",
    "    print(i)\n",
    "    print(list(overview[i].values()))\n",
    "    print()"
   ]
  }
 ],
 "metadata": {
  "kernelspec": {
   "display_name": "Python 3 (ipykernel)",
   "language": "python",
   "name": "python3"
  },
  "language_info": {
   "codemirror_mode": {
    "name": "ipython",
    "version": 3
   },
   "file_extension": ".py",
   "mimetype": "text/x-python",
   "name": "python",
   "nbconvert_exporter": "python",
   "pygments_lexer": "ipython3",
   "version": "3.10.12"
  }
 },
 "nbformat": 4,
 "nbformat_minor": 5
}
