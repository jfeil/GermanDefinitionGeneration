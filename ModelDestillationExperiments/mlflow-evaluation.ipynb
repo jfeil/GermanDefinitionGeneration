{
 "cells": [
  {
   "cell_type": "code",
   "execution_count": 1,
   "id": "ff37aca4-ba48-4c8b-8ec6-47a14ecea6b0",
   "metadata": {},
   "outputs": [],
   "source": [
    "%load_ext autoreload\n",
    "%autoreload 2"
   ]
  },
  {
   "cell_type": "code",
   "execution_count": 1,
   "id": "initial_id",
   "metadata": {},
   "outputs": [],
   "source": [
    "import sys\n",
    "import os\n",
    "sys.path.insert(0,'../')"
   ]
  },
  {
   "cell_type": "code",
   "execution_count": 2,
   "id": "84c92043-21da-40e5-879c-fb715732f19d",
   "metadata": {},
   "outputs": [
    {
     "name": "stderr",
     "output_type": "stream",
     "text": [
      "/home/jfeil/.pyenv/versions/3.10.12/envs/MasterThesis-NLP/lib/python3.10/site-packages/transformers/utils/generic.py:441: UserWarning: torch.utils._pytree._register_pytree_node is deprecated. Please use torch.utils._pytree.register_pytree_node instead.\n",
      "  _torch_pytree._register_pytree_node(\n",
      "/home/jfeil/.pyenv/versions/3.10.12/envs/MasterThesis-NLP/lib/python3.10/site-packages/transformers/utils/generic.py:309: UserWarning: torch.utils._pytree._register_pytree_node is deprecated. Please use torch.utils._pytree.register_pytree_node instead.\n",
      "  _torch_pytree._register_pytree_node(\n",
      "/home/jfeil/.pyenv/versions/3.10.12/envs/MasterThesis-NLP/lib/python3.10/site-packages/transformers/utils/generic.py:309: UserWarning: torch.utils._pytree._register_pytree_node is deprecated. Please use torch.utils._pytree.register_pytree_node instead.\n",
      "  _torch_pytree._register_pytree_node(\n"
     ]
    }
   ],
   "source": [
    "from src.mlflow_setup import mlflow\n",
    "from evaluate import load\n",
    "import tempfile\n"
   ]
  },
  {
   "cell_type": "markdown",
   "id": "12a0eb9c-4ee6-4f67-b973-39b1ada0af01",
   "metadata": {},
   "source": [
    "# Data Loading"
   ]
  },
  {
   "cell_type": "code",
   "execution_count": 3,
   "id": "1adee1bc-a3a0-4782-8320-47269be6ac69",
   "metadata": {},
   "outputs": [
    {
     "data": {
      "text/plain": [
       "['cb8135f768dd4a8285257deb0bc3d912',\n",
       " '5565790ff7c74ef69997fc0af6a3cd06',\n",
       " '41ef3452981a4b208aa35c8f8b7197df',\n",
       " '14ae3307f7df4c26b249b847ef24c26a',\n",
       " 'ebee22c9aef14c8baaca0ec3192e8833',\n",
       " '9eaf7a3028bd4b2cb773d0105f165add',\n",
       " '7e5d6c8cba4d49a8853e5e4c06072da7']"
      ]
     },
     "execution_count": 3,
     "metadata": {},
     "output_type": "execute_result"
    }
   ],
   "source": [
    "experiment_ids = [0]\n",
    "runs = []\n",
    "for experiment_id in experiment_ids:\n",
    "    runs += mlflow.search_runs(experiment_ids=str(experiment_id))['run_id'].values.tolist()\n",
    "runs"
   ]
  },
  {
   "cell_type": "code",
   "execution_count": 5,
   "id": "86517f8f-b445-4470-b0d6-0a1d4c625444",
   "metadata": {},
   "outputs": [
    {
     "data": {
      "application/vnd.jupyter.widget-view+json": {
       "model_id": "fe0f63ea9ed244e983c7eb3aba707cd5",
       "version_major": 2,
       "version_minor": 0
      },
      "text/plain": [
       "Downloading artifacts:   0%|          | 0/1 [00:00<?, ?it/s]"
      ]
     },
     "metadata": {},
     "output_type": "display_data"
    }
   ],
   "source": [
    "import json\n",
    "\n",
    "with tempfile.TemporaryDirectory() as temp_path:\n",
    "    mlflow.artifacts.download_artifacts(run_id='cb8135f768dd4a8285257deb0bc3d912', dst_path=temp_path)\n",
    "    with open(os.path.join(temp_path, 'eval_results_table.json')) as file:\n",
    "        eval_data = json.load(file)\n",
    "    "
   ]
  },
  {
   "cell_type": "markdown",
   "id": "d43c519c-1b61-4ab3-a5a7-5b21a1da310c",
   "metadata": {},
   "source": [
    "# Scores"
   ]
  },
  {
   "cell_type": "code",
   "execution_count": 9,
   "id": "0c40e34b-2159-40d7-ad42-9104be2b9ea6",
   "metadata": {},
   "outputs": [
    {
     "name": "stdout",
     "output_type": "stream",
     "text": [
      "[\"Chaos --- „Es war da ein Gefühl oder, richtiger gesagt, ein ganzes ''Chaos'' von Gefühlen, in dem ich mich naturgemäß verirren mußte.“\", {'title': 'Chaos', 'context_word': 'Chaos', 'context_sentence': '„Es war da ein Gefühl oder, richtiger gesagt, ein ganzes Chaos von Gefühlen, in dem ich mich naturgemäß verirren mußte.“'}, 'Zustand der Unordnung', 'Zustand großer Unordnung und Verwirrung.</s>', 17, 0.0012143633, 10.0, 18.8, 0.4]\n",
      "X: Zustand großer Unordnung und Verwirrung.\n",
      "Y: Zustand der Unordnung\n"
     ]
    }
   ],
   "source": [
    "index = 412\n",
    "index = 42\n",
    "\n",
    "predictions = eval_data['data'][index][3].replace('</s>', '')\n",
    "targets = eval_data['data'][index][2]\n",
    "print(eval_data['data'][index])\n",
    "\n",
    "print(\"X: \" + str(predictions))\n",
    "print(\"Y: \" + str(targets))"
   ]
  },
  {
   "cell_type": "markdown",
   "id": "dc363860-c524-499b-aee5-c79e8d2044ca",
   "metadata": {},
   "source": [
    "## MoverScore"
   ]
  },
  {
   "cell_type": "code",
   "execution_count": 71,
   "id": "45601c49-1380-45a7-899b-8d39b6bee2e8",
   "metadata": {
    "scrolled": true
   },
   "outputs": [],
   "source": [
    "# pip install git+https://github.com/jfeil/emnlp19-moverscore.git --force"
   ]
  },
  {
   "cell_type": "code",
   "execution_count": 7,
   "id": "77293261-9b9f-4c3b-ac36-880aa405694e",
   "metadata": {
    "scrolled": true
   },
   "outputs": [],
   "source": [
    "os.environ['MOVERSCORE_MODEL'] = \"distilbert-base-german-cased\"\n",
    "\n",
    "os.environ['MOVERSCORE_MODEL'] = \"distilbert-base-multilingual-cased\"\n",
    "# os.environ['MOVERSCORE_MODEL'] = \"albert-base-v2\"\n",
    "\n",
    "\n",
    "from moverscore_v2 import get_idf_dict, word_mover_score \n",
    "from collections import defaultdict\n",
    "\n",
    "def calc_sentence_score(prediction, target):\n",
    "    idf_dict_hyp = defaultdict(lambda: 1.)\n",
    "    idf_dict_ref = defaultdict(lambda: 1.)\n",
    "    \n",
    "    \n",
    "    return word_mover_score([target], [prediction], idf_dict_ref, idf_dict_hyp, \\\n",
    "                              stop_words=[], n_gram=1, remove_subwords=True)"
   ]
  },
  {
   "cell_type": "code",
   "execution_count": 8,
   "id": "ae8e693b-7063-4bfa-bb66-fdf54cd7cb9a",
   "metadata": {},
   "outputs": [
    {
     "data": {
      "application/vnd.jupyter.widget-view+json": {
       "model_id": "609fc27a9c0f4b2a90893d535813af9f",
       "version_major": 2,
       "version_minor": 0
      },
      "text/plain": [
       "  0%|          | 0/1107 [00:00<?, ?it/s]"
      ]
     },
     "metadata": {},
     "output_type": "display_data"
    },
    {
     "data": {
      "text/plain": [
       "(0.6345617059763319, 42, 0.43803306599011094, 897)"
      ]
     },
     "execution_count": 8,
     "metadata": {},
     "output_type": "execute_result"
    }
   ],
   "source": [
    "from tqdm.notebook import tqdm\n",
    "\n",
    "scores = 0\n",
    "max_score = -1\n",
    "max_index = -1\n",
    "min_score = 2\n",
    "min_index = -1\n",
    "\n",
    "for i in tqdm(range(len(eval_data['data']))):\n",
    "    new_score = calc_sentence_score(eval_data['data'][i][3].replace('</s>', ''), eval_data['data'][i][2])[0]\n",
    "\n",
    "    if new_score > max_score:\n",
    "        max_score = new_score\n",
    "        max_index = i\n",
    "    if new_score < min_score:\n",
    "        min_score = new_score\n",
    "        min_index = i\n",
    "        \n",
    "    scores += new_score\n",
    "\n",
    "max_score, max_index, min_score, min_index"
   ]
  },
  {
   "cell_type": "code",
   "execution_count": 52,
   "id": "4ca6a417-5856-4408-894b-970a96742679",
   "metadata": {},
   "outputs": [
    {
     "data": {
      "text/plain": [
       "0.5239859657285223"
      ]
     },
     "execution_count": 52,
     "metadata": {},
     "output_type": "execute_result"
    }
   ],
   "source": [
    "# cb8135f768dd4a8285257deb0bc3d912 --> 0.5240697396879908\n",
    "# 5565790ff7c74ef69997fc0af6a3cd06 --> 0.5254168598952033\n",
    "# 41ef3452981a4b208aa35c8f8b7197df --> 0.5104922168193816\n",
    "# 14ae3307f7df4c26b249b847ef24c26a --> 0.5018933512907802\n",
    "# ebee22c9aef14c8baaca0ec3192e8833 --> 0.5103564892456643\n",
    "# 9eaf7a3028bd4b2cb773d0105f165add --> 0.5231842858875173\n",
    "# 7e5d6c8cba4d49a8853e5e4c06072da7 --> 0.5239859657285223\n",
    "\n",
    "scores / len(eval_data['data'])"
   ]
  },
  {
   "cell_type": "markdown",
   "id": "49b6dae2-60ed-469b-a8d7-4286974bb0e0",
   "metadata": {},
   "source": [
    "## BERTscore"
   ]
  },
  {
   "cell_type": "code",
   "execution_count": 31,
   "id": "2141de98-a660-49a3-83d5-c221077aa6b9",
   "metadata": {},
   "outputs": [],
   "source": [
    "bertscore = load(\"bertscore\")"
   ]
  },
  {
   "cell_type": "code",
   "execution_count": 51,
   "id": "210dac1f-1ea8-43ac-ab3f-426393776307",
   "metadata": {},
   "outputs": [
    {
     "data": {
      "text/plain": [
       "{'precision': [0.7915669083595276],\n",
       " 'recall': [0.7916980385780334],\n",
       " 'f1': [0.7916324734687805],\n",
       " 'hashcode': 'bert-base-multilingual-cased_L9_no-idf_version=0.3.12(hug_trans=4.36.1)'}"
      ]
     },
     "execution_count": 51,
     "metadata": {},
     "output_type": "execute_result"
    }
   ],
   "source": [
    "scores = bertscore.compute(predictions=predictions, references=targets, lang=\"de\")\n",
    "scores"
   ]
  },
  {
   "cell_type": "code",
   "execution_count": 9,
   "id": "4a923a00-7c62-4398-aadb-df30915605f9",
   "metadata": {},
   "outputs": [],
   "source": [
    "## ROUGE-L1"
   ]
  },
  {
   "cell_type": "code",
   "execution_count": 10,
   "id": "7f36c196-3398-48ba-a6fa-8956e9bcb2f9",
   "metadata": {},
   "outputs": [],
   "source": [
    "## Token Analysis"
   ]
  },
  {
   "cell_type": "code",
   "execution_count": null,
   "id": "c189bca4-807b-4e2c-a468-e2dbc299782f",
   "metadata": {},
   "outputs": [],
   "source": []
  }
 ],
 "metadata": {
  "kernelspec": {
   "display_name": "Python 3 (ipykernel)",
   "language": "python",
   "name": "python3"
  },
  "language_info": {
   "codemirror_mode": {
    "name": "ipython",
    "version": 3
   },
   "file_extension": ".py",
   "mimetype": "text/x-python",
   "name": "python",
   "nbconvert_exporter": "python",
   "pygments_lexer": "ipython3",
   "version": "3.10.12"
  }
 },
 "nbformat": 4,
 "nbformat_minor": 5
}
