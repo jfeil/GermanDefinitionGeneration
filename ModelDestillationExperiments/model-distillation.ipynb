{
 "cells": [
  {
   "cell_type": "code",
   "id": "initial_id",
   "metadata": {
    "collapsed": true,
    "ExecuteTime": {
     "end_time": "2024-07-24T09:07:44.998888Z",
     "start_time": "2024-07-24T09:07:43.919314Z"
    }
   },
   "source": [
    "import sys\n",
    "sys.path.insert(0,'../')\n",
    "\n",
    "from src.model_training.datasets.experiments_sanitize.complete_sanitization import DefinitionDataset, DefinitionTestSet"
   ],
   "outputs": [],
   "execution_count": 1
  },
  {
   "metadata": {
    "ExecuteTime": {
     "end_time": "2024-07-24T09:18:45.753658Z",
     "start_time": "2024-07-24T09:07:45.490873Z"
    }
   },
   "cell_type": "code",
   "source": "train_set, val_set = DefinitionDataset.create_dataset(None, shuffle=True, seed=42)",
   "id": "4264be337388f15a",
   "outputs": [
    {
     "name": "stderr",
     "output_type": "stream",
     "text": [
      "WARNING:root:Tokenizer not available, using no tokenizer\n"
     ]
    },
    {
     "data": {
      "text/plain": [
       "Map:   0%|          | 0/288148 [00:00<?, ? examples/s]"
      ],
      "application/vnd.jupyter.widget-view+json": {
       "version_major": 2,
       "version_minor": 0,
       "model_id": "1fa9c7bfc74d44f7afd48b2dd7b1d9b8"
      }
     },
     "metadata": {},
     "output_type": "display_data"
    },
    {
     "data": {
      "text/plain": [
       "Filter:   0%|          | 0/288022 [00:00<?, ? examples/s]"
      ],
      "application/vnd.jupyter.widget-view+json": {
       "version_major": 2,
       "version_minor": 0,
       "model_id": "1e2d883b9268405ea88dc66cc578d732"
      }
     },
     "metadata": {},
     "output_type": "display_data"
    },
    {
     "data": {
      "text/plain": [
       "0it [00:00, ?it/s]"
      ],
      "application/vnd.jupyter.widget-view+json": {
       "version_major": 2,
       "version_minor": 0,
       "model_id": "53dfa851c657428e8a90c458e8ddf87c"
      }
     },
     "metadata": {},
     "output_type": "display_data"
    },
    {
     "data": {
      "text/plain": [
       "Filter:   0%|          | 0/288013 [00:00<?, ? examples/s]"
      ],
      "application/vnd.jupyter.widget-view+json": {
       "version_major": 2,
       "version_minor": 0,
       "model_id": "bee408c9ee754393a9d9df43c3d20704"
      }
     },
     "metadata": {},
     "output_type": "display_data"
    },
    {
     "name": "stderr",
     "output_type": "stream",
     "text": [
      "WARNING:root:Tokenizer not available, using no tokenizer\n"
     ]
    },
    {
     "data": {
      "text/plain": [
       "Map:   0%|          | 0/35664 [00:00<?, ? examples/s]"
      ],
      "application/vnd.jupyter.widget-view+json": {
       "version_major": 2,
       "version_minor": 0,
       "model_id": "3eecc5aa5526421da4f9b8bc314744fa"
      }
     },
     "metadata": {},
     "output_type": "display_data"
    },
    {
     "data": {
      "text/plain": [
       "Filter:   0%|          | 0/35652 [00:00<?, ? examples/s]"
      ],
      "application/vnd.jupyter.widget-view+json": {
       "version_major": 2,
       "version_minor": 0,
       "model_id": "fa68c47444ab4cea92894075fcb096d0"
      }
     },
     "metadata": {},
     "output_type": "display_data"
    },
    {
     "data": {
      "text/plain": [
       "0it [00:00, ?it/s]"
      ],
      "application/vnd.jupyter.widget-view+json": {
       "version_major": 2,
       "version_minor": 0,
       "model_id": "2f8fb9f9322a44a8b948dd78cc54faea"
      }
     },
     "metadata": {},
     "output_type": "display_data"
    },
    {
     "data": {
      "text/plain": [
       "Filter:   0%|          | 0/35652 [00:00<?, ? examples/s]"
      ],
      "application/vnd.jupyter.widget-view+json": {
       "version_major": 2,
       "version_minor": 0,
       "model_id": "a302898c6c7543e4a8bfd66915698359"
      }
     },
     "metadata": {},
     "output_type": "display_data"
    }
   ],
   "execution_count": 2
  },
  {
   "metadata": {
    "ExecuteTime": {
     "end_time": "2024-07-24T09:19:27.380737Z",
     "start_time": "2024-07-24T09:18:45.754526Z"
    }
   },
   "cell_type": "code",
   "source": "test_set = DefinitionTestSet.create_dataset(None, shuffle=True, seed=42)",
   "id": "fafaeb03175397f3",
   "outputs": [
    {
     "name": "stderr",
     "output_type": "stream",
     "text": [
      "WARNING:root:Tokenizer not available, using no tokenizer\n"
     ]
    },
    {
     "data": {
      "text/plain": [
       "0it [00:00, ?it/s]"
      ],
      "application/vnd.jupyter.widget-view+json": {
       "version_major": 2,
       "version_minor": 0,
       "model_id": "d04f149649b747aebe5f16069eda1991"
      }
     },
     "metadata": {},
     "output_type": "display_data"
    }
   ],
   "execution_count": 3
  },
  {
   "metadata": {
    "ExecuteTime": {
     "end_time": "2024-07-24T09:19:27.384031Z",
     "start_time": "2024-07-24T09:19:27.381432Z"
    }
   },
   "cell_type": "code",
   "source": "train_set[0]",
   "id": "52fe6b2faf23ff99",
   "outputs": [
    {
     "data": {
      "text/plain": [
       "{'title': 'Harmoniumklang',\n",
       " 'context_word': 'Harmoniumklang',\n",
       " 'context_sentence': '\"Bei entspannter Atmosphäre mit Gesang, Harmoniumklang und zu Herzen gehenden Geschichten und Gedichten können sich die Gäste den eigentlichen Sinn der Advents- und Weihnachtszeit wieder einmal vergegenwärtigen.\"',\n",
       " 'gt': 'Musik: Klang oder Klänge eines Harmoniums',\n",
       " 'prompt': '\"Bei entspannter Atmosphäre mit Gesang, Harmoniumklang und zu Herzen gehenden Geschichten und Gedichten können sich die Gäste den eigentlichen Sinn der Advents- und Weihnachtszeit wieder einmal vergegenwärtigen.\" Was ist die Definition von Harmoniumklang? '}"
      ]
     },
     "execution_count": 4,
     "metadata": {},
     "output_type": "execute_result"
    }
   ],
   "execution_count": 4
  },
  {
   "metadata": {
    "ExecuteTime": {
     "end_time": "2024-07-24T09:19:27.402939Z",
     "start_time": "2024-07-24T09:19:27.384813Z"
    }
   },
   "cell_type": "code",
   "source": "from src.prompting import default_experiments",
   "id": "2464be0a980e6d30",
   "outputs": [],
   "execution_count": 5
  },
  {
   "metadata": {
    "ExecuteTime": {
     "end_time": "2024-07-24T09:19:27.643722Z",
     "start_time": "2024-07-24T09:19:27.403511Z"
    }
   },
   "cell_type": "code",
   "source": [
    "from tqdm.auto import tqdm\n",
    "import os\n",
    "import asyncio\n",
    "from openai import AsyncOpenAI, OpenAI\n",
    "\n",
    "async_client = AsyncOpenAI(\n",
    "    base_url=\"http://localhost:8080/v1\",\n",
    "    api_key=\"-\"\n",
    ")\n",
    "client = OpenAI(\n",
    "    base_url=\"http://localhost:8080/v1\",\n",
    "    api_key=\"-\"\n",
    ")\n",
    "\n",
    "\n",
    "def create_messages(data, experiment):\n",
    "    return [\n",
    "            {\n",
    "                \"role\": \"system\",\n",
    "                \"content\": \" \".join(experiment.system_prompt)\n",
    "            },\n",
    "            *experiment.create_examples(),\n",
    "            {\n",
    "                \"role\": \"user\",\n",
    "                \"content\": experiment.question_prompt % (data['context_sentence'], data['context_word']),\n",
    "            }\n",
    "        ]\n",
    "\n",
    "\n",
    "async def async_prompt(row, experiment) -> None:\n",
    "    return (await async_client.chat.completions.create(\n",
    "        messages=create_messages(row, experiment),\n",
    "        model=\"tgi\",\n",
    "        stream=False,\n",
    "        max_tokens=512, \n",
    "        frequency_penalty=1, \n",
    "        logprobs=False, \n",
    "        seed=42, \n",
    "        temperature=0.2,\n",
    "\n",
    "    )).choices[0].message.content\n",
    "\n",
    "def sync_prompt(row, experiment):\n",
    "    return client.chat.completions.create(\n",
    "            model=\"tgi\",\n",
    "            messages=create_messages(row, experiment),\n",
    "        ).choices[0].message.content\n",
    "\n",
    "\n",
    "async def prompt_dataset(dataset, experiment, batch_size=512, warm_up=32):\n",
    "    responses = []\n",
    "    tasks = []\n",
    "    for i in tqdm(dataset):\n",
    "        tasks.append(async_prompt(i, experiment))\n",
    "    responses.append(await asyncio.gather(*tasks[0:warm_up]))\n",
    "    \n",
    "    for i in tqdm(range(warm_up, len(dataset), batch_size)):\n",
    "        responses.append(await asyncio.gather(*tasks[i:i + batch_size]))\n",
    "    return responses\n",
    "\n",
    "# asyncio.run(main())"
   ],
   "id": "da797b0e375f768d",
   "outputs": [],
   "execution_count": 6
  },
  {
   "metadata": {
    "ExecuteTime": {
     "end_time": "2024-07-24T09:19:27.646849Z",
     "start_time": "2024-07-24T09:19:27.644462Z"
    }
   },
   "cell_type": "code",
   "source": [
    "\n",
    "# resp = []\n",
    "# for i in test_set.select(range(100)):\n",
    "#     resp += (sync_prompt(i, default_experiments[0]), )\n",
    "# print(resp)\n",
    "\n",
    "# 20.66s\n",
    "\n",
    "async def create_output(dataset, experiment, split):\n",
    "    resp = await prompt_dataset(dataset, experiment)\n",
    "    resp = [x for xs in resp for x in xs]\n",
    "    \n",
    "    import json\n",
    "    \n",
    "    with open(f'../ModelDestillationExperiments_{split}_Llama3-1-80B.json', 'w+') as outfile:\n",
    "        json.dump([(f\"{b['prompt']}\", a) for a, b in zip(resp, dataset)], outfile)"
   ],
   "id": "99b36b042f00bf3e",
   "outputs": [],
   "execution_count": 7
  },
  {
   "metadata": {
    "ExecuteTime": {
     "end_time": "2024-07-24T13:49:37.533134Z",
     "start_time": "2024-07-24T13:49:37.530545Z"
    }
   },
   "cell_type": "code",
   "source": "default_experiments[0].question_prompt",
   "id": "14062958861925b8",
   "outputs": [
    {
     "data": {
      "text/plain": [
       "'%s: Was ist in diesem Kontext die Definition von %s?'"
      ]
     },
     "execution_count": 12,
     "metadata": {},
     "output_type": "execute_result"
    }
   ],
   "execution_count": 12
  },
  {
   "metadata": {
    "ExecuteTime": {
     "end_time": "2024-07-24T13:28:51.546490Z",
     "start_time": "2024-07-24T09:27:52.023049Z"
    }
   },
   "cell_type": "code",
   "source": [
    "await create_output(test_set, default_experiments[0], \"test\")\n",
    "await create_output(val_set, default_experiments[0], \"val\")\n",
    "await create_output(train_set, default_experiments[0], \"train\")"
   ],
   "id": "3a22da2e43e3949d",
   "outputs": [
    {
     "data": {
      "text/plain": [
       "  0%|          | 0/34189 [00:00<?, ?it/s]"
      ],
      "application/vnd.jupyter.widget-view+json": {
       "version_major": 2,
       "version_minor": 0,
       "model_id": "de82ed074b484e31b3f2f80cb0f0b44e"
      }
     },
     "metadata": {},
     "output_type": "display_data"
    },
    {
     "data": {
      "text/plain": [
       "  0%|          | 0/67 [00:00<?, ?it/s]"
      ],
      "application/vnd.jupyter.widget-view+json": {
       "version_major": 2,
       "version_minor": 0,
       "model_id": "2aa5906a20f74828b257c1d9c7956ff9"
      }
     },
     "metadata": {},
     "output_type": "display_data"
    },
    {
     "data": {
      "text/plain": [
       "  0%|          | 0/34146 [00:00<?, ?it/s]"
      ],
      "application/vnd.jupyter.widget-view+json": {
       "version_major": 2,
       "version_minor": 0,
       "model_id": "309d3c0178b24ca79fcadf52f5703eaf"
      }
     },
     "metadata": {},
     "output_type": "display_data"
    },
    {
     "data": {
      "text/plain": [
       "  0%|          | 0/67 [00:00<?, ?it/s]"
      ],
      "application/vnd.jupyter.widget-view+json": {
       "version_major": 2,
       "version_minor": 0,
       "model_id": "a75d6d39f3d8411a8957845ae1e3ae20"
      }
     },
     "metadata": {},
     "output_type": "display_data"
    },
    {
     "data": {
      "text/plain": [
       "  0%|          | 0/274875 [00:00<?, ?it/s]"
      ],
      "application/vnd.jupyter.widget-view+json": {
       "version_major": 2,
       "version_minor": 0,
       "model_id": "f8420092e9cf46a5bc25394b67259dec"
      }
     },
     "metadata": {},
     "output_type": "display_data"
    },
    {
     "data": {
      "text/plain": [
       "  0%|          | 0/537 [00:00<?, ?it/s]"
      ],
      "application/vnd.jupyter.widget-view+json": {
       "version_major": 2,
       "version_minor": 0,
       "model_id": "89710c919a6144b799f0fd20ba77ecfa"
      }
     },
     "metadata": {},
     "output_type": "display_data"
    }
   ],
   "execution_count": 8
  },
  {
   "metadata": {
    "ExecuteTime": {
     "end_time": "2024-07-23T23:38:24.638404Z",
     "start_time": "2024-07-23T22:29:05.313016Z"
    }
   },
   "cell_type": "code",
   "source": [
    "# test_set\n",
    "# # batch_size 64 -> 25min\n",
    "# # batch_size 512 -> 21min 30s\n",
    "# # batch_size 512 + 32 warm_up -> 11min 49s\n",
    "# # batch_size 512 + 32 warm_up -> 9min 1s\n",
    "\n",
    "train_set_responses = await prompt_dataset(train_set, default_experiments[0])\n",
    "train_set_responses = [x for xs in train_set_responses for x in xs]\n",
    "\n",
    "import json\n",
    "\n",
    "with open('../ModelDestillationExperiments_TRAIN_Llama3-1-80B.json', 'w+') as outfile:\n",
    "    json.dump([(f\"{b['prompt']}\", a) for a, b in zip(train_set_responses, train_set)], outfile)"
   ],
   "id": "998dead6d37d5104",
   "outputs": [
    {
     "data": {
      "text/plain": [
       "  0%|          | 0/99207 [00:00<?, ?it/s]"
      ],
      "application/vnd.jupyter.widget-view+json": {
       "version_major": 2,
       "version_minor": 0,
       "model_id": "6412e3e939584128bab6ddbcf9f46c74"
      }
     },
     "metadata": {},
     "output_type": "display_data"
    },
    {
     "data": {
      "text/plain": [
       "  0%|          | 0/194 [00:00<?, ?it/s]"
      ],
      "application/vnd.jupyter.widget-view+json": {
       "version_major": 2,
       "version_minor": 0,
       "model_id": "34761213580546df9d2c5e59fc225e0c"
      }
     },
     "metadata": {},
     "output_type": "display_data"
    }
   ],
   "execution_count": 6
  },
  {
   "metadata": {
    "ExecuteTime": {
     "end_time": "2024-07-23T23:38:28.034116Z",
     "start_time": "2024-07-23T23:38:24.639086Z"
    }
   },
   "cell_type": "code",
   "source": [
    "import json\n",
    "\n",
    "with open('../ModelDestillationExperiments_TRAIN_Llama3-1-80B.json', 'w+') as outfile:\n",
    "    json.dump([(f\"{b['prompt']}\", a) for a, b in zip(train_set_responses, train_set)], outfile)"
   ],
   "id": "75b4eef7ae8f6e82",
   "outputs": [],
   "execution_count": 7
  },
  {
   "metadata": {
    "ExecuteTime": {
     "end_time": "2024-07-23T23:47:04.546945Z",
     "start_time": "2024-07-23T23:38:28.034851Z"
    }
   },
   "cell_type": "code",
   "source": [
    "val_set_responses = await prompt_dataset(val_set, default_experiments[0])\n",
    "val_set_responses = [x for xs in val_set_responses for x in xs]\n",
    "\n",
    "import json\n",
    "\n",
    "with open('../ModelDestillationExperiments_VAL_Llama3-1-80B.json', 'w+') as outfile:\n",
    "    json.dump([(f\"{b['prompt']}\", a) for a, b in zip(val_set_responses, val_set)], outfile)"
   ],
   "id": "803e32c727d5aafb",
   "outputs": [
    {
     "data": {
      "text/plain": [
       "  0%|          | 0/12360 [00:00<?, ?it/s]"
      ],
      "application/vnd.jupyter.widget-view+json": {
       "version_major": 2,
       "version_minor": 0,
       "model_id": "eccd396d668140c79c9195cb0f45334b"
      }
     },
     "metadata": {},
     "output_type": "display_data"
    },
    {
     "data": {
      "text/plain": [
       "  0%|          | 0/25 [00:00<?, ?it/s]"
      ],
      "application/vnd.jupyter.widget-view+json": {
       "version_major": 2,
       "version_minor": 0,
       "model_id": "a87a36cb0d36451e81cbe4b16bb19f95"
      }
     },
     "metadata": {},
     "output_type": "display_data"
    }
   ],
   "execution_count": 8
  },
  {
   "metadata": {
    "ExecuteTime": {
     "end_time": "2024-07-23T14:50:23.380753Z",
     "start_time": "2024-07-23T14:50:23.378244Z"
    }
   },
   "cell_type": "code",
   "source": "len(responses)",
   "id": "33c95538153ebb0f",
   "outputs": [
    {
     "data": {
      "text/plain": [
       "195"
      ]
     },
     "execution_count": 11,
     "metadata": {},
     "output_type": "execute_result"
    }
   ],
   "execution_count": 11
  },
  {
   "metadata": {
    "ExecuteTime": {
     "end_time": "2024-07-23T22:11:35.243757Z",
     "start_time": "2024-07-23T22:11:35.240817Z"
    }
   },
   "cell_type": "code",
   "source": "responses = [x for xs in responses for x in xs]",
   "id": "7ae3de725a49d5e6",
   "outputs": [],
   "execution_count": 7
  },
  {
   "metadata": {
    "ExecuteTime": {
     "end_time": "2024-07-23T22:11:37.332938Z",
     "start_time": "2024-07-23T22:11:36.747390Z"
    }
   },
   "cell_type": "code",
   "source": [
    "import pandasgui\n",
    "\n",
    "\n",
    "\n",
    "pandasgui.show([(f\"{b['prompt']}\", a) for a, b in zip(responses, test_set)])"
   ],
   "id": "642171afc055454c",
   "outputs": [
    {
     "name": "stderr",
     "output_type": "stream",
     "text": [
      "PandasGUI INFO — pandasgui.gui — Opening PandasGUI\n",
      "INFO:pandasgui.gui:Opening PandasGUI\n"
     ]
    },
    {
     "data": {
      "text/plain": [
       "<pandasgui.gui.PandasGui at 0x70a25db72c20>"
      ]
     },
     "execution_count": 8,
     "metadata": {},
     "output_type": "execute_result"
    }
   ],
   "execution_count": 8
  },
  {
   "metadata": {
    "ExecuteTime": {
     "end_time": "2024-07-23T22:13:20.430374Z",
     "start_time": "2024-07-23T22:13:19.917805Z"
    }
   },
   "cell_type": "code",
   "source": [
    "import json\n",
    "\n",
    "with open('../ModelDestillationExperiments_Llama3-1-80B.json', 'w+') as outfile:\n",
    "    json.dump([(f\"{b['prompt']}\", a) for a, b in zip(responses, test_set)], outfile)"
   ],
   "id": "5203d181b8b541e8",
   "outputs": [],
   "execution_count": 9
  },
  {
   "metadata": {
    "ExecuteTime": {
     "end_time": "2024-07-24T08:07:17.412414Z",
     "start_time": "2024-07-24T08:07:17.409690Z"
    }
   },
   "cell_type": "code",
   "source": "default_experiments[1].create_examples()",
   "id": "9b7bcc070e507589",
   "outputs": [
    {
     "data": {
      "text/plain": [
       "[{'role': 'user',\n",
       "  'content': '\"Die Liebe überwindet alle Grenzen\": Was ist in diesem Kontext die Definition von Liebe? '},\n",
       " {'role': 'assistant',\n",
       "  'content': 'inniges Gefühl der Zuneigung für jemanden oder für etwas'},\n",
       " {'role': 'user',\n",
       "  'content': '\"Natürlich sind diese Stifte stabil und robust genug, um den täglichen Rettungseinsatz absolvieren zu können.\": Was ist in diesem Kontext die Definition von Stifte? '},\n",
       " {'role': 'assistant', 'content': 'Rekrut'}]"
      ]
     },
     "execution_count": 11,
     "metadata": {},
     "output_type": "execute_result"
    }
   ],
   "execution_count": 11
  },
  {
   "metadata": {
    "ExecuteTime": {
     "end_time": "2024-07-24T13:31:53.879647Z",
     "start_time": "2024-07-24T13:31:52.461913Z"
    }
   },
   "cell_type": "code",
   "source": [
    "import json\n",
    "\n",
    "with open(\"/home/jfeil/MasterThesis/ModelDestillationExperiments_train_Llama3-1-80B.json\") as file:\n",
    "    data = json.load(file)\n",
    "    \n",
    "with open(\"/home/jfeil/MasterThesis/ModelDestillationExperiments_train_PRETTY_Llama3-1-80B.json\", \"w+\") as file:\n",
    "    json.dump(data, file, indent=4)"
   ],
   "id": "86b9aac992a312c8",
   "outputs": [],
   "execution_count": 11
  },
  {
   "metadata": {
    "ExecuteTime": {
     "end_time": "2024-07-24T14:07:36.992112Z",
     "start_time": "2024-07-24T14:07:35.231401Z"
    }
   },
   "cell_type": "code",
   "source": [
    "# train_set, val_set, test_set\n",
    "\n",
    "base_path = \"../dataset_distillation/v0\"\n",
    "\n",
    "def write_split(data_set, split, base_path=base_path, overwrite=False):\n",
    "    if not os.path.exists(base_path):\n",
    "        os.mkdir(base_path)\n",
    "    path = os.path.join(base_path, f\"{split}.parquet\")\n",
    "    if os.path.exists(path):\n",
    "        if overwrite:\n",
    "            os.remove(path)\n",
    "        else:\n",
    "            raise Exception(\"Already existing!\")\n",
    "    \n",
    "    with open(f\"/home/jfeil/MasterThesis/ModelDestillationExperiments_{split}_Llama3-1-80B.json\") as file:\n",
    "        data = json.load(file)\n",
    "    \n",
    "    data_set = data_set.rename_column(\"gt\", \"wiktionary_gt\")\n",
    "    data_set = data_set.add_column(\"gt\", [d[1] for d in data])\n",
    "    data_set.to_parquet(path)\n",
    "\n",
    "write_split(train_set, \"train\")\n",
    "write_split(test_set, \"test\")\n",
    "write_split(val_set, \"val\")\n"
   ],
   "id": "2ec4b6f92118ab46",
   "outputs": [
    {
     "data": {
      "text/plain": [
       "Creating parquet from Arrow format:   0%|          | 0/275 [00:00<?, ?ba/s]"
      ],
      "application/vnd.jupyter.widget-view+json": {
       "version_major": 2,
       "version_minor": 0,
       "model_id": "81215060e5ba44929d0ab6bede003c6e"
      }
     },
     "metadata": {},
     "output_type": "display_data"
    },
    {
     "data": {
      "text/plain": [
       "Creating parquet from Arrow format:   0%|          | 0/35 [00:00<?, ?ba/s]"
      ],
      "application/vnd.jupyter.widget-view+json": {
       "version_major": 2,
       "version_minor": 0,
       "model_id": "0aa61b51ab5a4cf1a6f523309969a286"
      }
     },
     "metadata": {},
     "output_type": "display_data"
    },
    {
     "data": {
      "text/plain": [
       "Creating parquet from Arrow format:   0%|          | 0/35 [00:00<?, ?ba/s]"
      ],
      "application/vnd.jupyter.widget-view+json": {
       "version_major": 2,
       "version_minor": 0,
       "model_id": "d0ae31efe4cd4d9680d2f8eec2871c08"
      }
     },
     "metadata": {},
     "output_type": "display_data"
    }
   ],
   "execution_count": 31
  },
  {
   "metadata": {
    "ExecuteTime": {
     "end_time": "2024-07-24T14:06:45.966216Z",
     "start_time": "2024-07-24T14:06:45.800041Z"
    }
   },
   "cell_type": "code",
   "source": "write_split(val_set, \"val\")",
   "id": "f71a4d5182f8d9ad",
   "outputs": [
    {
     "data": {
      "text/plain": [
       "Creating parquet from Arrow format:   0%|          | 0/35 [00:00<?, ?ba/s]"
      ],
      "application/vnd.jupyter.widget-view+json": {
       "version_major": 2,
       "version_minor": 0,
       "model_id": "1409c9b2c1bf41ddab18df2432055120"
      }
     },
     "metadata": {},
     "output_type": "display_data"
    }
   ],
   "execution_count": 28
  },
  {
   "metadata": {
    "ExecuteTime": {
     "end_time": "2024-07-24T14:06:58.809310Z",
     "start_time": "2024-07-24T14:06:57.764477Z"
    }
   },
   "cell_type": "code",
   "source": "write_split(test_set, \"test\")",
   "id": "7f9a5027343c86ca",
   "outputs": [
    {
     "data": {
      "text/plain": [
       "Flattening the indices:   0%|          | 0/34189 [00:00<?, ? examples/s]"
      ],
      "application/vnd.jupyter.widget-view+json": {
       "version_major": 2,
       "version_minor": 0,
       "model_id": "fc04f810eb8a42e29953e705323b394e"
      }
     },
     "metadata": {},
     "output_type": "display_data"
    },
    {
     "ename": "ValueError",
     "evalue": "Failed to concatenate on axis=1 because tables don't have the same number of rows",
     "output_type": "error",
     "traceback": [
      "\u001B[0;31m---------------------------------------------------------------------------\u001B[0m",
      "\u001B[0;31mValueError\u001B[0m                                Traceback (most recent call last)",
      "Cell \u001B[0;32mIn[29], line 1\u001B[0m\n\u001B[0;32m----> 1\u001B[0m \u001B[43mwrite_split\u001B[49m\u001B[43m(\u001B[49m\u001B[43mtest_set\u001B[49m\u001B[43m,\u001B[49m\u001B[43m \u001B[49m\u001B[38;5;124;43m\"\u001B[39;49m\u001B[38;5;124;43mtest\u001B[39;49m\u001B[38;5;124;43m\"\u001B[39;49m\u001B[43m)\u001B[49m\n",
      "Cell \u001B[0;32mIn[25], line 19\u001B[0m, in \u001B[0;36mwrite_split\u001B[0;34m(data_set, split, base_path, overwrite)\u001B[0m\n\u001B[1;32m     16\u001B[0m     data \u001B[38;5;241m=\u001B[39m json\u001B[38;5;241m.\u001B[39mload(file)\n\u001B[1;32m     18\u001B[0m data_set \u001B[38;5;241m=\u001B[39m data_set\u001B[38;5;241m.\u001B[39mrename_column(\u001B[38;5;124m\"\u001B[39m\u001B[38;5;124mgt\u001B[39m\u001B[38;5;124m\"\u001B[39m, \u001B[38;5;124m\"\u001B[39m\u001B[38;5;124mwiktionary_gt\u001B[39m\u001B[38;5;124m\"\u001B[39m)\n\u001B[0;32m---> 19\u001B[0m data_set \u001B[38;5;241m=\u001B[39m \u001B[43mdata_set\u001B[49m\u001B[38;5;241;43m.\u001B[39;49m\u001B[43madd_column\u001B[49m\u001B[43m(\u001B[49m\u001B[38;5;124;43m\"\u001B[39;49m\u001B[38;5;124;43mgt\u001B[39;49m\u001B[38;5;124;43m\"\u001B[39;49m\u001B[43m,\u001B[49m\u001B[43m \u001B[49m\u001B[43m[\u001B[49m\u001B[43md\u001B[49m\u001B[43m[\u001B[49m\u001B[38;5;241;43m1\u001B[39;49m\u001B[43m]\u001B[49m\u001B[43m \u001B[49m\u001B[38;5;28;43;01mfor\u001B[39;49;00m\u001B[43m \u001B[49m\u001B[43md\u001B[49m\u001B[43m \u001B[49m\u001B[38;5;129;43;01min\u001B[39;49;00m\u001B[43m \u001B[49m\u001B[43mdata\u001B[49m\u001B[43m]\u001B[49m\u001B[43m)\u001B[49m\n\u001B[1;32m     20\u001B[0m data_set\u001B[38;5;241m.\u001B[39mto_parquet(path)\n",
      "File \u001B[0;32m~/.pyenv/versions/3.10.12/envs/MasterThesis-NLP/lib/python3.10/site-packages/datasets/arrow_dataset.py:558\u001B[0m, in \u001B[0;36mtransmit_format.<locals>.wrapper\u001B[0;34m(*args, **kwargs)\u001B[0m\n\u001B[1;32m    551\u001B[0m self_format \u001B[38;5;241m=\u001B[39m {\n\u001B[1;32m    552\u001B[0m     \u001B[38;5;124m\"\u001B[39m\u001B[38;5;124mtype\u001B[39m\u001B[38;5;124m\"\u001B[39m: \u001B[38;5;28mself\u001B[39m\u001B[38;5;241m.\u001B[39m_format_type,\n\u001B[1;32m    553\u001B[0m     \u001B[38;5;124m\"\u001B[39m\u001B[38;5;124mformat_kwargs\u001B[39m\u001B[38;5;124m\"\u001B[39m: \u001B[38;5;28mself\u001B[39m\u001B[38;5;241m.\u001B[39m_format_kwargs,\n\u001B[1;32m    554\u001B[0m     \u001B[38;5;124m\"\u001B[39m\u001B[38;5;124mcolumns\u001B[39m\u001B[38;5;124m\"\u001B[39m: \u001B[38;5;28mself\u001B[39m\u001B[38;5;241m.\u001B[39m_format_columns,\n\u001B[1;32m    555\u001B[0m     \u001B[38;5;124m\"\u001B[39m\u001B[38;5;124moutput_all_columns\u001B[39m\u001B[38;5;124m\"\u001B[39m: \u001B[38;5;28mself\u001B[39m\u001B[38;5;241m.\u001B[39m_output_all_columns,\n\u001B[1;32m    556\u001B[0m }\n\u001B[1;32m    557\u001B[0m \u001B[38;5;66;03m# apply actual function\u001B[39;00m\n\u001B[0;32m--> 558\u001B[0m out: Union[\u001B[38;5;124m\"\u001B[39m\u001B[38;5;124mDataset\u001B[39m\u001B[38;5;124m\"\u001B[39m, \u001B[38;5;124m\"\u001B[39m\u001B[38;5;124mDatasetDict\u001B[39m\u001B[38;5;124m\"\u001B[39m] \u001B[38;5;241m=\u001B[39m \u001B[43mfunc\u001B[49m\u001B[43m(\u001B[49m\u001B[38;5;28;43mself\u001B[39;49m\u001B[43m,\u001B[49m\u001B[43m \u001B[49m\u001B[38;5;241;43m*\u001B[39;49m\u001B[43margs\u001B[49m\u001B[43m,\u001B[49m\u001B[43m \u001B[49m\u001B[38;5;241;43m*\u001B[39;49m\u001B[38;5;241;43m*\u001B[39;49m\u001B[43mkwargs\u001B[49m\u001B[43m)\u001B[49m\n\u001B[1;32m    559\u001B[0m datasets: List[\u001B[38;5;124m\"\u001B[39m\u001B[38;5;124mDataset\u001B[39m\u001B[38;5;124m\"\u001B[39m] \u001B[38;5;241m=\u001B[39m \u001B[38;5;28mlist\u001B[39m(out\u001B[38;5;241m.\u001B[39mvalues()) \u001B[38;5;28;01mif\u001B[39;00m \u001B[38;5;28misinstance\u001B[39m(out, \u001B[38;5;28mdict\u001B[39m) \u001B[38;5;28;01melse\u001B[39;00m [out]\n\u001B[1;32m    560\u001B[0m \u001B[38;5;66;03m# re-apply format to the output\u001B[39;00m\n",
      "File \u001B[0;32m~/.pyenv/versions/3.10.12/envs/MasterThesis-NLP/lib/python3.10/site-packages/datasets/fingerprint.py:482\u001B[0m, in \u001B[0;36mfingerprint_transform.<locals>._fingerprint.<locals>.wrapper\u001B[0;34m(*args, **kwargs)\u001B[0m\n\u001B[1;32m    478\u001B[0m             validate_fingerprint(kwargs[fingerprint_name])\n\u001B[1;32m    480\u001B[0m \u001B[38;5;66;03m# Call actual function\u001B[39;00m\n\u001B[0;32m--> 482\u001B[0m out \u001B[38;5;241m=\u001B[39m \u001B[43mfunc\u001B[49m\u001B[43m(\u001B[49m\u001B[43mdataset\u001B[49m\u001B[43m,\u001B[49m\u001B[43m \u001B[49m\u001B[38;5;241;43m*\u001B[39;49m\u001B[43margs\u001B[49m\u001B[43m,\u001B[49m\u001B[43m \u001B[49m\u001B[38;5;241;43m*\u001B[39;49m\u001B[38;5;241;43m*\u001B[39;49m\u001B[43mkwargs\u001B[49m\u001B[43m)\u001B[49m\n\u001B[1;32m    484\u001B[0m \u001B[38;5;66;03m# Update fingerprint of in-place transforms + update in-place history of transforms\u001B[39;00m\n\u001B[1;32m    486\u001B[0m \u001B[38;5;28;01mif\u001B[39;00m inplace:  \u001B[38;5;66;03m# update after calling func so that the fingerprint doesn't change if the function fails\u001B[39;00m\n",
      "File \u001B[0;32m~/.pyenv/versions/3.10.12/envs/MasterThesis-NLP/lib/python3.10/site-packages/datasets/arrow_dataset.py:5635\u001B[0m, in \u001B[0;36mDataset.add_column\u001B[0;34m(self, name, column, new_fingerprint)\u001B[0m\n\u001B[1;32m   5633\u001B[0m dataset \u001B[38;5;241m=\u001B[39m \u001B[38;5;28mself\u001B[39m\u001B[38;5;241m.\u001B[39mflatten_indices() \u001B[38;5;28;01mif\u001B[39;00m \u001B[38;5;28mself\u001B[39m\u001B[38;5;241m.\u001B[39m_indices \u001B[38;5;129;01mis\u001B[39;00m \u001B[38;5;129;01mnot\u001B[39;00m \u001B[38;5;28;01mNone\u001B[39;00m \u001B[38;5;28;01melse\u001B[39;00m \u001B[38;5;28mself\u001B[39m\n\u001B[1;32m   5634\u001B[0m \u001B[38;5;66;03m# Concatenate tables horizontally\u001B[39;00m\n\u001B[0;32m-> 5635\u001B[0m table \u001B[38;5;241m=\u001B[39m \u001B[43mconcat_tables\u001B[49m\u001B[43m(\u001B[49m\u001B[43m[\u001B[49m\u001B[43mdataset\u001B[49m\u001B[38;5;241;43m.\u001B[39;49m\u001B[43m_data\u001B[49m\u001B[43m,\u001B[49m\u001B[43m \u001B[49m\u001B[43mcolumn_table\u001B[49m\u001B[43m]\u001B[49m\u001B[43m,\u001B[49m\u001B[43m \u001B[49m\u001B[43maxis\u001B[49m\u001B[38;5;241;43m=\u001B[39;49m\u001B[38;5;241;43m1\u001B[39;49m\u001B[43m)\u001B[49m\n\u001B[1;32m   5636\u001B[0m \u001B[38;5;66;03m# Update features\u001B[39;00m\n\u001B[1;32m   5637\u001B[0m info \u001B[38;5;241m=\u001B[39m dataset\u001B[38;5;241m.\u001B[39minfo\u001B[38;5;241m.\u001B[39mcopy()\n",
      "File \u001B[0;32m~/.pyenv/versions/3.10.12/envs/MasterThesis-NLP/lib/python3.10/site-packages/datasets/table.py:1764\u001B[0m, in \u001B[0;36mconcat_tables\u001B[0;34m(tables, axis)\u001B[0m\n\u001B[1;32m   1762\u001B[0m \u001B[38;5;28;01mif\u001B[39;00m \u001B[38;5;28mlen\u001B[39m(tables) \u001B[38;5;241m==\u001B[39m \u001B[38;5;241m1\u001B[39m:\n\u001B[1;32m   1763\u001B[0m     \u001B[38;5;28;01mreturn\u001B[39;00m tables[\u001B[38;5;241m0\u001B[39m]\n\u001B[0;32m-> 1764\u001B[0m \u001B[38;5;28;01mreturn\u001B[39;00m \u001B[43mConcatenationTable\u001B[49m\u001B[38;5;241;43m.\u001B[39;49m\u001B[43mfrom_tables\u001B[49m\u001B[43m(\u001B[49m\u001B[43mtables\u001B[49m\u001B[43m,\u001B[49m\u001B[43m \u001B[49m\u001B[43maxis\u001B[49m\u001B[38;5;241;43m=\u001B[39;49m\u001B[43maxis\u001B[49m\u001B[43m)\u001B[49m\n",
      "File \u001B[0;32m~/.pyenv/versions/3.10.12/envs/MasterThesis-NLP/lib/python3.10/site-packages/datasets/table.py:1469\u001B[0m, in \u001B[0;36mConcatenationTable.from_tables\u001B[0;34m(cls, tables, axis)\u001B[0m\n\u001B[1;32m   1467\u001B[0m \u001B[38;5;28;01mfor\u001B[39;00m table \u001B[38;5;129;01min\u001B[39;00m tables[\u001B[38;5;241m1\u001B[39m:]:\n\u001B[1;32m   1468\u001B[0m     table_blocks \u001B[38;5;241m=\u001B[39m to_blocks(table)\n\u001B[0;32m-> 1469\u001B[0m     blocks \u001B[38;5;241m=\u001B[39m \u001B[43m_extend_blocks\u001B[49m\u001B[43m(\u001B[49m\u001B[43mblocks\u001B[49m\u001B[43m,\u001B[49m\u001B[43m \u001B[49m\u001B[43mtable_blocks\u001B[49m\u001B[43m,\u001B[49m\u001B[43m \u001B[49m\u001B[43maxis\u001B[49m\u001B[38;5;241;43m=\u001B[39;49m\u001B[43maxis\u001B[49m\u001B[43m)\u001B[49m\n\u001B[1;32m   1470\u001B[0m \u001B[38;5;28;01mreturn\u001B[39;00m \u001B[38;5;28mcls\u001B[39m\u001B[38;5;241m.\u001B[39mfrom_blocks(blocks)\n",
      "File \u001B[0;32m~/.pyenv/versions/3.10.12/envs/MasterThesis-NLP/lib/python3.10/site-packages/datasets/table.py:1461\u001B[0m, in \u001B[0;36mConcatenationTable.from_tables.<locals>._extend_blocks\u001B[0;34m(result, blocks, axis)\u001B[0m\n\u001B[1;32m   1458\u001B[0m     result\u001B[38;5;241m.\u001B[39mextend(blocks)\n\u001B[1;32m   1459\u001B[0m \u001B[38;5;28;01melif\u001B[39;00m axis \u001B[38;5;241m==\u001B[39m \u001B[38;5;241m1\u001B[39m:\n\u001B[1;32m   1460\u001B[0m     \u001B[38;5;66;03m# We make sure each row_block have the same num_rows\u001B[39;00m\n\u001B[0;32m-> 1461\u001B[0m     result, blocks \u001B[38;5;241m=\u001B[39m \u001B[43m_split_both_like\u001B[49m\u001B[43m(\u001B[49m\u001B[43mresult\u001B[49m\u001B[43m,\u001B[49m\u001B[43m \u001B[49m\u001B[43mblocks\u001B[49m\u001B[43m)\u001B[49m\n\u001B[1;32m   1462\u001B[0m     \u001B[38;5;28;01mfor\u001B[39;00m i, row_block \u001B[38;5;129;01min\u001B[39;00m \u001B[38;5;28menumerate\u001B[39m(blocks):\n\u001B[1;32m   1463\u001B[0m         result[i]\u001B[38;5;241m.\u001B[39mextend(row_block)\n",
      "File \u001B[0;32m~/.pyenv/versions/3.10.12/envs/MasterThesis-NLP/lib/python3.10/site-packages/datasets/table.py:1451\u001B[0m, in \u001B[0;36mConcatenationTable.from_tables.<locals>._split_both_like\u001B[0;34m(result, blocks)\u001B[0m\n\u001B[1;32m   1449\u001B[0m         new_blocks\u001B[38;5;241m.\u001B[39mappend(blocks\u001B[38;5;241m.\u001B[39mpop(\u001B[38;5;241m0\u001B[39m))\n\u001B[1;32m   1450\u001B[0m \u001B[38;5;28;01mif\u001B[39;00m result \u001B[38;5;129;01mor\u001B[39;00m blocks:\n\u001B[0;32m-> 1451\u001B[0m     \u001B[38;5;28;01mraise\u001B[39;00m \u001B[38;5;167;01mValueError\u001B[39;00m(\u001B[38;5;124m\"\u001B[39m\u001B[38;5;124mFailed to concatenate on axis=1 because tables don\u001B[39m\u001B[38;5;124m'\u001B[39m\u001B[38;5;124mt have the same number of rows\u001B[39m\u001B[38;5;124m\"\u001B[39m)\n\u001B[1;32m   1452\u001B[0m \u001B[38;5;28;01mreturn\u001B[39;00m new_result, new_blocks\n",
      "\u001B[0;31mValueError\u001B[0m: Failed to concatenate on axis=1 because tables don't have the same number of rows"
     ]
    }
   ],
   "execution_count": 29
  },
  {
   "metadata": {
    "ExecuteTime": {
     "end_time": "2024-07-24T14:08:37.965550Z",
     "start_time": "2024-07-24T14:08:37.523475Z"
    }
   },
   "cell_type": "code",
   "source": [
    "from datasets import Dataset\n",
    "\n",
    "test = Dataset.from_parquet(\"/home/jfeil/MasterThesis/dataset_distillation/v0/train.parquet\")"
   ],
   "id": "1d6179f0a1086230",
   "outputs": [
    {
     "data": {
      "text/plain": [
       "Generating train split: 0 examples [00:00, ? examples/s]"
      ],
      "application/vnd.jupyter.widget-view+json": {
       "version_major": 2,
       "version_minor": 0,
       "model_id": "54df617e3fa04292aa5e023ecb60a50e"
      }
     },
     "metadata": {},
     "output_type": "display_data"
    }
   ],
   "execution_count": 36
  }
 ],
 "metadata": {
  "kernelspec": {
   "display_name": "Python 3",
   "language": "python",
   "name": "python3"
  },
  "language_info": {
   "codemirror_mode": {
    "name": "ipython",
    "version": 2
   },
   "file_extension": ".py",
   "mimetype": "text/x-python",
   "name": "python",
   "nbconvert_exporter": "python",
   "pygments_lexer": "ipython2",
   "version": "2.7.6"
  }
 },
 "nbformat": 4,
 "nbformat_minor": 5
}
