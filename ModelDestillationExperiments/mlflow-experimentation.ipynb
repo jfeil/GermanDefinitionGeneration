{
 "cells": [
  {
   "cell_type": "code",
   "execution_count": 1,
   "id": "b7f70476-c416-452e-a92a-44bcb7810f0d",
   "metadata": {},
   "source": [
    "%load_ext autoreload\n",
    "%autoreload 2"
   ],
   "outputs": []
  },
  {
   "cell_type": "code",
   "execution_count": 2,
   "id": "bdb71589-fbed-42b9-85db-63a79d9c72d0",
   "metadata": {},
   "source": [
    "import sys\n",
    "sys.path.insert(0,'../')\n",
    "\n",
    "import requests\n",
    "from tqdm.notebook import tqdm"
   ],
   "outputs": []
  },
  {
   "cell_type": "code",
   "execution_count": 3,
   "id": "769f69d5-be4c-4dae-a2e4-d3830fb64308",
   "metadata": {},
   "source": [
    "import pymongo\n",
    "import pprint\n",
    "import json\n",
    "from src.mongo_utils import collection\n",
    "from src.mlflow_setup import mlflow\n",
    "from src.ha_utils import set_sensor_state, Input\n",
    "\n",
    "\n",
    "api_endpoint = f\"http://127.0.0.1:8000/mixtral/\""
   ],
   "outputs": []
  },
  {
   "cell_type": "code",
   "execution_count": 6,
   "id": "6f9b57af-0c3c-45f8-879a-ad57271c707e",
   "metadata": {
    "jupyter": {
     "source_hidden": true
    }
   },
   "source": [
    "from src.mongo_utils import get_database_entry, create_set\n",
    "\n",
    "\n",
    "with open('../test_set1.json') as file:\n",
    "    test_set_data = json.load(file)\n",
    "test_set = [a for subl in test_set_data.values() for a in subl]"
   ],
   "outputs": []
  },
  {
   "cell_type": "code",
   "execution_count": 7,
   "id": "2f1fc4bc-3df3-40e2-815f-077234d3a9a8",
   "metadata": {
    "jupyter": {
     "source_hidden": true
    },
    "scrolled": true
   },
   "source": [
    "dataset = []\n",
    "for data in test_set:\n",
    "    dataset += create_set(get_database_entry(data))"
   ],
   "outputs": []
  },
  {
   "cell_type": "code",
   "execution_count": 4,
   "id": "c599f5e7-353e-4951-a41f-a3ff17f1a81a",
   "metadata": {
    "scrolled": true
   },
   "source": [
    "with open('../test_set1_postprocessed.json', 'r') as file:\n",
    "    dataset = json.load(file)"
   ],
   "outputs": []
  },
  {
   "cell_type": "code",
   "execution_count": 7,
   "id": "2621ae44-efa3-4877-8fd9-5b8a2283ae4f",
   "metadata": {
    "jupyter": {
     "source_hidden": true
    },
    "scrolled": true
   },
   "source": [
    "import random\n",
    "random.seed(42)\n",
    "random.shuffle(dataset)"
   ],
   "outputs": []
  },
  {
   "cell_type": "code",
   "execution_count": 5,
   "id": "e400012a-f3dc-48a0-92f6-db8b9abfcc35",
   "metadata": {
    "scrolled": true
   },
   "source": [
    "import pandas as pd\n",
    "\n",
    "eval_data = {\n",
    "    \"inputs\": [],\n",
    "    \"ground_truth\": [],\n",
    "    \"prompt_data\": []\n",
    "}\n",
    "for title, context_word, context_sentence, gt in dataset:\n",
    "    test = {}\n",
    "    test['title'] = title\n",
    "    test['context_word'] = context_word\n",
    "    test['context_sentence'] = context_sentence.replace(\"'\", \"\")\n",
    "    eval_data['inputs'] += [f\"{context_word} --- {context_sentence}\"]\n",
    "    eval_data['prompt_data'] += [test]\n",
    "    eval_data['ground_truth'] += [gt]\n",
    "eval_data = pd.DataFrame(eval_data)\n",
    "eval_data"
   ],
   "outputs": []
  },
  {
   "cell_type": "code",
   "execution_count": 6,
   "id": "7e63f1b7-473b-4645-9189-6770fc3a9f27",
   "metadata": {},
   "source": [
    "import ipywidgets as widgets\n",
    "out = widgets.Output(layout={'border': '1px solid black'})"
   ],
   "outputs": []
  },
  {
   "cell_type": "code",
   "execution_count": 38,
   "id": "d2ce373b-98ac-48dd-ae57-7546348d3506",
   "metadata": {},
   "source": [
    "def eval_network(data, experiment, out=None):\n",
    "    answers = []\n",
    "    pbar = tqdm(data.iterrows(), total=len(data))\n",
    "    set_sensor_state(pbar.n, pbar.total)\n",
    "    for index, row in pbar:\n",
    "        set_sensor_state(pbar.n, pbar.total)\n",
    "        context_sentence = row['prompt_data']['context_sentence']\n",
    "        context_word = row['prompt_data']['context_word']\n",
    "        body = {\n",
    "          \"system_prompts\": experiment.system_prompt,\n",
    "          \"dialog\": [\n",
    "              *experiment.create_examples(),\n",
    "            {\n",
    "              \"role\": \"user\",\n",
    "              \"content\": experiment.question_prompt % (context_sentence, context_word)\n",
    "            }\n",
    "          ]\n",
    "        }\n",
    "        response = \"\"\n",
    "        with requests.post(api_endpoint, json=body, stream=True) as r:\n",
    "            for chunk in r.iter_content(1024):\n",
    "                response += chunk.decode()\n",
    "        answers.append(response)\n",
    "        if out:\n",
    "            with out:\n",
    "                out.clear_output()\n",
    "                print(f\"{context_word}\\n{context_sentence}\\n\\n{response}\")\n",
    "    set_sensor_state(pbar.n, pbar.total)\n",
    "    return answers"
   ],
   "outputs": []
  },
  {
   "cell_type": "code",
   "execution_count": 22,
   "id": "35dc70fd-9341-48f8-983f-2e7708af9a0a",
   "metadata": {},
   "source": [
    "out"
   ],
   "outputs": []
  },
  {
   "cell_type": "code",
   "execution_count": 23,
   "id": "81be4243-27cd-4e1d-a604-ab2ff7b55c95",
   "metadata": {},
   "source": [
    "class Experiment:\n",
    "    def __init__(self, system_prompt=None, question_prompt=\"\\\"%s\\\": Was ist die Definition von %s?\", example_prompts=[(\"Die Liebe überwindet alle Grenzen\", \"Liebe\", \"inniges Gefühl der Zuneigung für jemanden oder für etwas\")]):\n",
    "        if system_prompt:\n",
    "            self.system_prompt = system_prompt\n",
    "        else:\n",
    "            self.system_prompt = [\"Du bist ein Definitionsgenerator. \"\n",
    "                \"Du antwortest in Deutsch. \"\n",
    "                \"Du bekommst einen Beispielsatz und ein Wort aus dem Satz. \"\n",
    "                \"Du antwortest mit der Definition des Wortes im Kontext des Beispiels. \"\n",
    "                \"Du antwortest nur mit der Definition. \"\n",
    "                \"Du zeigst den Bezug auf den Kontext. \"\n",
    "                \"Du antwortest in maximal 5 Worten. \"]\n",
    "        self.question_prompt = question_prompt\n",
    "        self.example_prompts = example_prompts\n",
    "\n",
    "    def create_examples(self):\n",
    "        ret_val = []\n",
    "        for example, word, definition in self.example_prompts:\n",
    "            ret_val += [{\n",
    "              \"role\": \"user\",\n",
    "              \"content\": self.question_prompt % (example, word)\n",
    "            },\n",
    "            {\n",
    "              \"role\": \"assistant\",\n",
    "              \"content\": definition}\n",
    "           ]\n",
    "        return ret_val"
   ],
   "outputs": []
  },
  {
   "cell_type": "code",
   "execution_count": 36,
   "id": "e7e3ff22-9c67-4465-8266-fb64fc1f3669",
   "metadata": {},
   "source": [
    "    Experiment(system_prompt=[\n",
    "        \"Du bist ein Definitionsgenerator. \"\n",
    "        \"Du antwortest in Deutsch. \"\n",
    "        \"Du bekommst einen Beispielsatz und ein Wort aus dem Satz. \"\n",
    "        \"Du antwortest mit der Definition des Wortes im Kontext des Beispiels. \"\n",
    "        \"Du antwortest nur mit der Definition. \"\n",
    "        \"Du zeigst den Bezug auf den Kontext. \"\n",
    "        \"Du antwortest in maximal 5 Worten. \"\n",
    "      ], \n",
    "               question_prompt=\"\\\"%s\\\": Was ist die Definition von %s?\", \n",
    "               example_prompts=[(\"Die Liebe überwindet alle Grenzen\", \"Liebe\", \"inniges Gefühl der Zuneigung für jemanden oder für etwas\")]),\n",
    "\n",
    "\n",
    "experiments = [\n",
    "\n",
    "    Experiment(system_prompt=[\n",
    "        \"Du bist ein Definitionsgenerator. \"\n",
    "        \"Du antwortest in Deutsch. \"\n",
    "        \"Du bekommst einen Beispielsatz und ein Wort aus dem Satz. \"\n",
    "        \"Du antwortest mit der Definition des Wortes im Kontext des Beispiels. \"\n",
    "        \"Du antwortest nur mit der Definition. \"\n",
    "        \"Du zeigst den Bezug auf den Kontext. \"\n",
    "        \"Du antwortest in maximal 5 Worten. \"\n",
    "      ], \n",
    "               question_prompt=\"\\\"%s\\\": Was ist in diesem Kontext die Definition von %s?\", \n",
    "               example_prompts=[\n",
    "                   (\"Die Liebe überwindet alle Grenzen\", \"Liebe\", \"inniges Gefühl der Zuneigung für jemanden oder für etwas\"),\n",
    "                   (\"Natürlich sind diese Stifte stabil und robust genug, um den täglichen Rettungseinsatz absolvieren zu können.\", \"Stifte\", \"Rekrut\"),\n",
    "               ])\n",
    "]"
   ],
   "outputs": []
  },
  {
   "cell_type": "code",
   "execution_count": 39,
   "id": "72d47fb1-b55a-4a07-a43a-0ed442df409d",
   "metadata": {},
   "source": [
    "exp_tqdm = tqdm(experiments)\n",
    "\n",
    "for exp in exp_tqdm:\n",
    "    set_sensor_state(exp_tqdm.n, exp_tqdm.total, Input.TOTAL_INPUT)\n",
    "    with mlflow.start_run():\n",
    "    \n",
    "        mlflow.log_param(\"system_prompt\", exp.system_prompt)\n",
    "        mlflow.log_param(\"question_prompt\", exp.question_prompt)\n",
    "        mlflow.log_param(\"example_prompt\", exp.example_prompts)\n",
    "    \n",
    "        results = mlflow.evaluate(\n",
    "            lambda x: eval_network(x, exp, out),\n",
    "            eval_data,\n",
    "            model_type=\"text\",\n",
    "            targets=\"ground_truth\",\n",
    "            extra_metrics=[mlflow.metrics.rougeL()]#, bert_f1_score_metric]\n",
    "        )\n",
    "set_sensor_state(exp_tqdm.n, exp_tqdm.total, Input.TOTAL_INPUT)\n"
   ],
   "outputs": []
  }
 ],
 "metadata": {
  "kernelspec": {
   "display_name": "Python 3 (ipykernel)",
   "language": "python",
   "name": "python3"
  },
  "language_info": {
   "codemirror_mode": {
    "name": "ipython",
    "version": 3
   },
   "file_extension": ".py",
   "mimetype": "text/x-python",
   "name": "python",
   "nbconvert_exporter": "python",
   "pygments_lexer": "ipython3",
   "version": "3.10.12"
  }
 },
 "nbformat": 4,
 "nbformat_minor": 5
}
