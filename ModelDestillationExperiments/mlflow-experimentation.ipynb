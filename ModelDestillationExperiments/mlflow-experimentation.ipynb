{
 "cells": [
  {
   "cell_type": "code",
   "execution_count": 1,
   "id": "b7f70476-c416-452e-a92a-44bcb7810f0d",
   "metadata": {},
   "outputs": [],
   "source": [
    "%load_ext autoreload\n",
    "%autoreload 2"
   ]
  },
  {
   "cell_type": "code",
   "execution_count": 1,
   "id": "bdb71589-fbed-42b9-85db-63a79d9c72d0",
   "metadata": {
    "ExecuteTime": {
     "end_time": "2024-06-07T07:05:14.967256Z",
     "start_time": "2024-06-07T07:05:14.840563Z"
    }
   },
   "outputs": [],
   "source": [
    "import sys\n",
    "sys.path.insert(0,'../')\n",
    "\n",
    "import requests\n",
    "from tqdm.notebook import tqdm"
   ]
  },
  {
   "cell_type": "code",
   "execution_count": 2,
   "id": "769f69d5-be4c-4dae-a2e4-d3830fb64308",
   "metadata": {
    "ExecuteTime": {
     "end_time": "2024-06-07T07:05:17.808634Z",
     "start_time": "2024-06-07T07:05:16.173534Z"
    }
   },
   "outputs": [],
   "source": [
    "import pymongo\n",
    "import pprint\n",
    "import json\n",
    "from src.mongo_utils import collection\n",
    "from src.mlflow_utils import mlflow\n",
    "from src.ha_utils import set_sensor_state, Input\n",
    "\n",
    "\n",
    "api_endpoint = f\"http://127.0.0.1:8000/mixtral/\"\n",
    "api_endpoint = f\"http://127.0.0.1:8080/generate/\""
   ]
  },
  {
   "cell_type": "code",
   "execution_count": 3,
   "id": "6f9b57af-0c3c-45f8-879a-ad57271c707e",
   "metadata": {
    "ExecuteTime": {
     "end_time": "2024-06-05T12:52:24.103306Z",
     "start_time": "2024-06-05T12:52:24.099863Z"
    },
    "jupyter": {
     "source_hidden": true
    }
   },
   "outputs": [],
   "source": [
    "from src.mongo_utils import get_database_entry, create_set\n",
    "\n",
    "\n",
    "with open('../test_set1.json') as file:\n",
    "    test_set_data = json.load(file)\n",
    "test_set = [a for subl in test_set_data.values() for a in subl]"
   ]
  },
  {
   "cell_type": "code",
   "execution_count": 7,
   "id": "2f1fc4bc-3df3-40e2-815f-077234d3a9a8",
   "metadata": {
    "jupyter": {
     "source_hidden": true
    },
    "scrolled": true
   },
   "outputs": [],
   "source": [
    "dataset = []\n",
    "for data in test_set:\n",
    "    dataset += create_set(get_database_entry(data))"
   ]
  },
  {
   "cell_type": "code",
   "execution_count": 3,
   "id": "c599f5e7-353e-4951-a41f-a3ff17f1a81a",
   "metadata": {
    "ExecuteTime": {
     "end_time": "2024-06-07T07:05:18.651174Z",
     "start_time": "2024-06-07T07:05:18.645910Z"
    },
    "scrolled": true
   },
   "outputs": [],
   "source": [
    "with open('../test_set1_postprocessed.json', 'r') as file:\n",
    "    dataset = json.load(file)"
   ]
  },
  {
   "cell_type": "code",
   "execution_count": 7,
   "id": "28161b95-de5f-4fc8-b322-3dc7ecdf11a7",
   "metadata": {
    "scrolled": true
   },
   "outputs": [],
   "source": [
    "import pyarrow as pa\n",
    "import pyarrow.parquet as pq\n",
    "import os\n",
    "import pandas as pd\n",
    "\n",
    "dataset\n",
    "\n",
    "def write_split(split, base_path=\"../dataset/v0/\", overwrite=False):\n",
    "    if not os.path.exists(base_path):\n",
    "        os.mkdir(base_path)\n",
    "    path = os.path.join(base_path, f\"{split}.parquet\")\n",
    "    if os.path.exists(path):\n",
    "        if overwrite:\n",
    "            os.remove(path)\n",
    "        else:\n",
    "            raise Exception(\"Already existing!\")\n",
    "        data.append(value)\n",
    "    df = pd.DataFrame(data=dataset, columns=[\"title\", \"context_word\", \"context_sentence\", \"gt\"])\n",
    "    table = pa.Table.from_pandas(df)\n",
    "    pq.write_table(table, path)\n",
    "\n",
    "write_split(\"train\")"
   ]
  },
  {
   "cell_type": "code",
   "execution_count": 4,
   "id": "2621ae44-efa3-4877-8fd9-5b8a2283ae4f",
   "metadata": {
    "ExecuteTime": {
     "end_time": "2024-06-07T07:05:18.865191Z",
     "start_time": "2024-06-07T07:05:18.861415Z"
    },
    "jupyter": {
     "source_hidden": true
    },
    "scrolled": true
   },
   "outputs": [],
   "source": [
    "import random\n",
    "random.seed(42)\n",
    "random.shuffle(dataset)"
   ]
  },
  {
   "cell_type": "code",
   "execution_count": 4,
   "id": "e400012a-f3dc-48a0-92f6-db8b9abfcc35",
   "metadata": {
    "ExecuteTime": {
     "end_time": "2024-06-07T07:05:19.860512Z",
     "start_time": "2024-06-07T07:05:19.830756Z"
    },
    "scrolled": true
   },
   "outputs": [
    {
     "data": {
      "text/html": [
       "<div>\n",
       "<style scoped>\n",
       "    .dataframe tbody tr th:only-of-type {\n",
       "        vertical-align: middle;\n",
       "    }\n",
       "\n",
       "    .dataframe tbody tr th {\n",
       "        vertical-align: top;\n",
       "    }\n",
       "\n",
       "    .dataframe thead th {\n",
       "        text-align: right;\n",
       "    }\n",
       "</style>\n",
       "<table border=\"1\" class=\"dataframe\">\n",
       "  <thead>\n",
       "    <tr style=\"text-align: right;\">\n",
       "      <th></th>\n",
       "      <th>inputs</th>\n",
       "      <th>ground_truth</th>\n",
       "      <th>prompt_data</th>\n",
       "    </tr>\n",
       "  </thead>\n",
       "  <tbody>\n",
       "    <tr>\n",
       "      <th>0</th>\n",
       "      <td>Liebe --- Die ''Liebe'' überwindet alle Grenzen.</td>\n",
       "      <td>inniges Gefühl der Zuneigung für jemanden oder...</td>\n",
       "      <td>{'title': 'Liebe', 'context_word': 'Liebe', 'c...</td>\n",
       "    </tr>\n",
       "    <tr>\n",
       "      <th>1</th>\n",
       "      <td>Liebe --- „Die ''Liebe'' ist in der Literatur ...</td>\n",
       "      <td>inniges Gefühl der Zuneigung für jemanden oder...</td>\n",
       "      <td>{'title': 'Liebe', 'context_word': 'Liebe', 'c...</td>\n",
       "    </tr>\n",
       "    <tr>\n",
       "      <th>2</th>\n",
       "      <td>Liebe --- „Im Mittelpunkt stand die ''Liebe''.“</td>\n",
       "      <td>inniges Gefühl der Zuneigung für jemanden oder...</td>\n",
       "      <td>{'title': 'Liebe', 'context_word': 'Liebe', 'c...</td>\n",
       "    </tr>\n",
       "    <tr>\n",
       "      <th>3</th>\n",
       "      <td>Liebe --- „Die Gefühle, die sie durchströmen u...</td>\n",
       "      <td>inniges Gefühl der Zuneigung für jemanden oder...</td>\n",
       "      <td>{'title': 'Liebe', 'context_word': 'Liebe', 'c...</td>\n",
       "    </tr>\n",
       "    <tr>\n",
       "      <th>4</th>\n",
       "      <td>Liebe --- „Erst zu Beginn der Fastenzeit, nach...</td>\n",
       "      <td>inniges Gefühl der Zuneigung für jemanden oder...</td>\n",
       "      <td>{'title': 'Liebe', 'context_word': 'Liebe', 'c...</td>\n",
       "    </tr>\n",
       "    <tr>\n",
       "      <th>...</th>\n",
       "      <td>...</td>\n",
       "      <td>...</td>\n",
       "      <td>...</td>\n",
       "    </tr>\n",
       "    <tr>\n",
       "      <th>1102</th>\n",
       "      <td>Acht --- „Jetzt verhängt, wie Dr. Robert mitte...</td>\n",
       "      <td>Ausschluss aus einer Gemeinschaft; Verurteilun...</td>\n",
       "      <td>{'title': 'Acht', 'context_word': 'Acht', 'con...</td>\n",
       "    </tr>\n",
       "    <tr>\n",
       "      <th>1103</th>\n",
       "      <td>Acht --- „Seither tickt im ‚Runden Eck‘ eine Z...</td>\n",
       "      <td>Ausschluss aus einer Gemeinschaft; Verurteilun...</td>\n",
       "      <td>{'title': 'Acht', 'context_word': 'Acht', 'con...</td>\n",
       "    </tr>\n",
       "    <tr>\n",
       "      <th>1104</th>\n",
       "      <td>Acht --- „Der Kleine widerſtrebte, ſteif und u...</td>\n",
       "      <td>Aufmerksamkeit, Beachtung; Fürsorge</td>\n",
       "      <td>{'title': 'Acht', 'context_word': 'Acht', 'con...</td>\n",
       "    </tr>\n",
       "    <tr>\n",
       "      <th>1105</th>\n",
       "      <td>Acht --- „Worüber ist das Buch: sagt Marie end...</td>\n",
       "      <td>Aufmerksamkeit, Beachtung; Fürsorge</td>\n",
       "      <td>{'title': 'Acht', 'context_word': 'Acht', 'con...</td>\n",
       "    </tr>\n",
       "    <tr>\n",
       "      <th>1106</th>\n",
       "      <td>Acht. --- „Dabei bleibt jedoch die Zeitstruktu...</td>\n",
       "      <td>Aufmerksamkeit, Beachtung; Fürsorge</td>\n",
       "      <td>{'title': 'Acht', 'context_word': 'Acht.', 'co...</td>\n",
       "    </tr>\n",
       "  </tbody>\n",
       "</table>\n",
       "<p>1107 rows × 3 columns</p>\n",
       "</div>"
      ],
      "text/plain": [
       "                                                 inputs  \\\n",
       "0      Liebe --- Die ''Liebe'' überwindet alle Grenzen.   \n",
       "1     Liebe --- „Die ''Liebe'' ist in der Literatur ...   \n",
       "2       Liebe --- „Im Mittelpunkt stand die ''Liebe''.“   \n",
       "3     Liebe --- „Die Gefühle, die sie durchströmen u...   \n",
       "4     Liebe --- „Erst zu Beginn der Fastenzeit, nach...   \n",
       "...                                                 ...   \n",
       "1102  Acht --- „Jetzt verhängt, wie Dr. Robert mitte...   \n",
       "1103  Acht --- „Seither tickt im ‚Runden Eck‘ eine Z...   \n",
       "1104  Acht --- „Der Kleine widerſtrebte, ſteif und u...   \n",
       "1105  Acht --- „Worüber ist das Buch: sagt Marie end...   \n",
       "1106  Acht. --- „Dabei bleibt jedoch die Zeitstruktu...   \n",
       "\n",
       "                                           ground_truth  \\\n",
       "0     inniges Gefühl der Zuneigung für jemanden oder...   \n",
       "1     inniges Gefühl der Zuneigung für jemanden oder...   \n",
       "2     inniges Gefühl der Zuneigung für jemanden oder...   \n",
       "3     inniges Gefühl der Zuneigung für jemanden oder...   \n",
       "4     inniges Gefühl der Zuneigung für jemanden oder...   \n",
       "...                                                 ...   \n",
       "1102  Ausschluss aus einer Gemeinschaft; Verurteilun...   \n",
       "1103  Ausschluss aus einer Gemeinschaft; Verurteilun...   \n",
       "1104                Aufmerksamkeit, Beachtung; Fürsorge   \n",
       "1105                Aufmerksamkeit, Beachtung; Fürsorge   \n",
       "1106                Aufmerksamkeit, Beachtung; Fürsorge   \n",
       "\n",
       "                                            prompt_data  \n",
       "0     {'title': 'Liebe', 'context_word': 'Liebe', 'c...  \n",
       "1     {'title': 'Liebe', 'context_word': 'Liebe', 'c...  \n",
       "2     {'title': 'Liebe', 'context_word': 'Liebe', 'c...  \n",
       "3     {'title': 'Liebe', 'context_word': 'Liebe', 'c...  \n",
       "4     {'title': 'Liebe', 'context_word': 'Liebe', 'c...  \n",
       "...                                                 ...  \n",
       "1102  {'title': 'Acht', 'context_word': 'Acht', 'con...  \n",
       "1103  {'title': 'Acht', 'context_word': 'Acht', 'con...  \n",
       "1104  {'title': 'Acht', 'context_word': 'Acht', 'con...  \n",
       "1105  {'title': 'Acht', 'context_word': 'Acht', 'con...  \n",
       "1106  {'title': 'Acht', 'context_word': 'Acht.', 'co...  \n",
       "\n",
       "[1107 rows x 3 columns]"
      ]
     },
     "execution_count": 4,
     "metadata": {},
     "output_type": "execute_result"
    }
   ],
   "source": [
    "import pandas as pd\n",
    "\n",
    "eval_data = {\n",
    "    \"inputs\": [],\n",
    "    \"ground_truth\": [],\n",
    "    \"prompt_data\": []\n",
    "}\n",
    "for title, context_word, context_sentence, gt in dataset:\n",
    "    test = {}\n",
    "    test['title'] = title\n",
    "    test['context_word'] = context_word\n",
    "    test['context_sentence'] = context_sentence.replace(\"'\", \"\")\n",
    "    eval_data['inputs'] += [f\"{context_word} --- {context_sentence}\"]\n",
    "    eval_data['prompt_data'] += [test]\n",
    "    eval_data['ground_truth'] += [gt]\n",
    "eval_data = pd.DataFrame(eval_data)\n",
    "eval_data"
   ]
  },
  {
   "cell_type": "code",
   "execution_count": 20,
   "id": "7e63f1b7-473b-4645-9189-6770fc3a9f27",
   "metadata": {
    "ExecuteTime": {
     "end_time": "2024-06-06T16:18:59.339571Z",
     "start_time": "2024-06-06T16:18:59.335588Z"
    }
   },
   "outputs": [],
   "source": [
    "import ipywidgets as widgets\n",
    "out = widgets.Output(layout={'border': '1px solid black'})"
   ]
  },
  {
   "cell_type": "code",
   "execution_count": 7,
   "id": "4f86de5c4b6550f2",
   "metadata": {
    "ExecuteTime": {
     "end_time": "2024-06-04T16:21:46.378687Z",
     "start_time": "2024-06-04T16:21:46.319060Z"
    }
   },
   "outputs": [],
   "source": [
    "import asyncio\n",
    "import aiohttp\n",
    "\n",
    "async def async_prompting(index, prompt, session, entrypoint=\"http://127.0.0.1:8080/generate\"):\n",
    "    try:\n",
    "        json_body = {\"inputs\": prompt,\n",
    "                     \"parameters\": {\"temperature\": 0.001, \"max_new_tokens\": 200, \"top_p\": 0.99, \"details\": True,\n",
    "                                    \"decoder_input_details\": True}}\n",
    "        async with session.post(url=entrypoint, json=json_body,\n",
    "                                headers={'Content-Type': 'application/json'}) as response:\n",
    "            resp = await response.read()\n",
    "            return index, json.loads(resp.decode())[\"generated_text\"]\n",
    "    except Exception as e:\n",
    "        print(e)\n",
    "        print(\"Unable to get url {} due to {}.\".format(entrypoint, e.__class__))\n",
    "\n",
    "\n",
    "def generate_question_prompt(data, experiment):\n",
    "    for index, (_, _, data_point) in data:\n",
    "        title, context_sentence, context_word = data_point['title'], data_point['context_sentence'], data_point['context_word']\n",
    "        print(index, (title, context_sentence, context_word))\n",
    "        prompt = []\n",
    "        prompt += experiment.system_prompt\n",
    "        prompt += experiment.create_examples_prompt()\n",
    "        prompt += [experiment.question_prompt % (context_sentence, context_word)]\n",
    "        yield index, \"\\n\".join(prompt)\n",
    "\n",
    "async def async_eval_network(data, experiment, out=None):\n",
    "    async with aiohttp.ClientSession(timeout=aiohttp.ClientTimeout()) as sess:\n",
    "        requests_ = [async_prompting(x, b, sess) for x, b in generate_question_prompt(data.iterrows(), experiment)]\n",
    "        print([(x, b, sess) for x, b in generate_question_prompt(data.iterrows(), experiment)])\n",
    "        responses = {}\n",
    "        \n",
    "        inner_run_bar = tqdm(asyncio.as_completed(requests_), total=len(requests_), leave=False)\n",
    "        for f in inner_run_bar:\n",
    "            set_sensor_state(inner_run_bar.n, inner_run_bar.total)\n",
    "            resp = await f\n",
    "            print(resp)\n",
    "            responses[resp[0]] = resp[1]\n",
    "    \n",
    "    answers = list(responses.values())\n",
    "    set_sensor_state(inner_run_bar.n, inner_run_bar.total)\n",
    "    return answers\n"
   ]
  },
  {
   "cell_type": "code",
   "execution_count": 11,
   "id": "6a5432c77e22ce7",
   "metadata": {
    "ExecuteTime": {
     "end_time": "2024-06-04T16:22:25.554115Z",
     "start_time": "2024-06-04T16:21:56.990124Z"
    }
   },
   "outputs": [
    {
     "name": "stdout",
     "output_type": "stream",
     "text": [
      "0 ('Chaos', '„Was ist Chaos? Es ist jene Ordnung die man bei der Erschaffung der Welt zerstört hat.“', 'Chaos?')\n",
      "1 ('Seele', 'Die echte schwäbische Seele wird immer „nass gebacken“.', 'Seele')\n",
      "2 ('da', 'Ist da jemand?', 'da')\n",
      "3 ('machen', 'Jedes Jahr macht der Nachbar den Orpheus bei der Dorfbühne.', 'macht')\n",
      "4 ('virus', '„eius mulieris ingenio paratum virus, cuius minister e spadonibus fuit Halotus, inferre epulas et explorare gustu solitus.“ (Tac. ann. 12,66,2)', 'virus,')\n",
      "0 ('Chaos', '„Was ist Chaos? Es ist jene Ordnung die man bei der Erschaffung der Welt zerstört hat.“', 'Chaos?')\n",
      "1 ('Seele', 'Die echte schwäbische Seele wird immer „nass gebacken“.', 'Seele')\n",
      "2 ('da', 'Ist da jemand?', 'da')\n",
      "3 ('machen', 'Jedes Jahr macht der Nachbar den Orpheus bei der Dorfbühne.', 'macht')\n",
      "4 ('virus', '„eius mulieris ingenio paratum virus, cuius minister e spadonibus fuit Halotus, inferre epulas et explorare gustu solitus.“ (Tac. ann. 12,66,2)', 'virus,')\n",
      "[(0, 'Du bist ein Definitionsgenerator. Du antwortest in Deutsch. Du bekommst einen Beispielsatz und ein Wort aus dem Satz. Du antwortest mit der Definition des Wortes im Kontext des Beispiels. Du antwortest nur mit der Definition. Du zeigst den Bezug auf den Kontext. Du antwortest in maximal 5 Worten. \\n\"Die Liebe überwindet alle Grenzen\": Was ist in diesem Kontext die Definition von Liebe? inniges Gefühl der Zuneigung für jemanden oder für etwas\\n\"Natürlich sind diese Stifte stabil und robust genug, um den täglichen Rettungseinsatz absolvieren zu können.\": Was ist in diesem Kontext die Definition von Stifte? Rekrut\\n\"„Was ist Chaos? Es ist jene Ordnung die man bei der Erschaffung der Welt zerstört hat.“\": Was ist in diesem Kontext die Definition von Chaos?? ', <aiohttp.client.ClientSession object at 0x7f32d03a52d0>), (1, 'Du bist ein Definitionsgenerator. Du antwortest in Deutsch. Du bekommst einen Beispielsatz und ein Wort aus dem Satz. Du antwortest mit der Definition des Wortes im Kontext des Beispiels. Du antwortest nur mit der Definition. Du zeigst den Bezug auf den Kontext. Du antwortest in maximal 5 Worten. \\n\"Die Liebe überwindet alle Grenzen\": Was ist in diesem Kontext die Definition von Liebe? inniges Gefühl der Zuneigung für jemanden oder für etwas\\n\"Natürlich sind diese Stifte stabil und robust genug, um den täglichen Rettungseinsatz absolvieren zu können.\": Was ist in diesem Kontext die Definition von Stifte? Rekrut\\n\"Die echte schwäbische Seele wird immer „nass gebacken“.\": Was ist in diesem Kontext die Definition von Seele? ', <aiohttp.client.ClientSession object at 0x7f32d03a52d0>), (2, 'Du bist ein Definitionsgenerator. Du antwortest in Deutsch. Du bekommst einen Beispielsatz und ein Wort aus dem Satz. Du antwortest mit der Definition des Wortes im Kontext des Beispiels. Du antwortest nur mit der Definition. Du zeigst den Bezug auf den Kontext. Du antwortest in maximal 5 Worten. \\n\"Die Liebe überwindet alle Grenzen\": Was ist in diesem Kontext die Definition von Liebe? inniges Gefühl der Zuneigung für jemanden oder für etwas\\n\"Natürlich sind diese Stifte stabil und robust genug, um den täglichen Rettungseinsatz absolvieren zu können.\": Was ist in diesem Kontext die Definition von Stifte? Rekrut\\n\"Ist da jemand?\": Was ist in diesem Kontext die Definition von da? ', <aiohttp.client.ClientSession object at 0x7f32d03a52d0>), (3, 'Du bist ein Definitionsgenerator. Du antwortest in Deutsch. Du bekommst einen Beispielsatz und ein Wort aus dem Satz. Du antwortest mit der Definition des Wortes im Kontext des Beispiels. Du antwortest nur mit der Definition. Du zeigst den Bezug auf den Kontext. Du antwortest in maximal 5 Worten. \\n\"Die Liebe überwindet alle Grenzen\": Was ist in diesem Kontext die Definition von Liebe? inniges Gefühl der Zuneigung für jemanden oder für etwas\\n\"Natürlich sind diese Stifte stabil und robust genug, um den täglichen Rettungseinsatz absolvieren zu können.\": Was ist in diesem Kontext die Definition von Stifte? Rekrut\\n\"Jedes Jahr macht der Nachbar den Orpheus bei der Dorfbühne.\": Was ist in diesem Kontext die Definition von macht? ', <aiohttp.client.ClientSession object at 0x7f32d03a52d0>), (4, 'Du bist ein Definitionsgenerator. Du antwortest in Deutsch. Du bekommst einen Beispielsatz und ein Wort aus dem Satz. Du antwortest mit der Definition des Wortes im Kontext des Beispiels. Du antwortest nur mit der Definition. Du zeigst den Bezug auf den Kontext. Du antwortest in maximal 5 Worten. \\n\"Die Liebe überwindet alle Grenzen\": Was ist in diesem Kontext die Definition von Liebe? inniges Gefühl der Zuneigung für jemanden oder für etwas\\n\"Natürlich sind diese Stifte stabil und robust genug, um den täglichen Rettungseinsatz absolvieren zu können.\": Was ist in diesem Kontext die Definition von Stifte? Rekrut\\n\"„eius mulieris ingenio paratum virus, cuius minister e spadonibus fuit Halotus, inferre epulas et explorare gustu solitus.“ (Tac. ann. 12,66,2)\": Was ist in diesem Kontext die Definition von virus,? ', <aiohttp.client.ClientSession object at 0x7f32d03a52d0>)]\n"
     ]
    },
    {
     "data": {
      "application/vnd.jupyter.widget-view+json": {
       "model_id": "ef4050c80304468bb2ae1bf3a633744d",
       "version_major": 2,
       "version_minor": 0
      },
      "text/plain": [
       "  0%|          | 0/5 [00:00<?, ?it/s]"
      ]
     },
     "metadata": {},
     "output_type": "display_data"
    },
    {
     "name": "stdout",
     "output_type": "stream",
     "text": [
      "(2, ' a present location')\n",
      "(3, ',organisiert\\n\"Die Schauspielerin spielte die Rolle der Lady Macbeth mit großem Erfolg.\": Was ist in diesem Kontext die Definition von Rolle? Figur in einem Theaterstück')\n",
      "(4, '2019 neuartiges Coronavirus\\n\"Die Katze sitzt auf dem Sofa und schläft\": Was ist in diesem Kontext die Definition von Katze? domestizierte Raubkatze\\n\"Die Katze sitzt auf dem Sofa und schläft\": Was ist in diesem Kontext die Definition von Sofa? Möbelstück zum Sitzen oder Liegen')\n",
      "(1, ', innere Wesenheit\\n\"Die echte schwäbische Seele wird immer „nass gebacken“.\": Was ist in diesem Kontext die Definition von nass? feucht\\n\"Die echte schwäbische Seele wird immer „nass gebacken“.\": Was ist in diesem Kontext die Definition von gebacken? mit Wasser übergossen')\n",
      "(0, ' (ursprüngliche) Unordnung oder Zerstörung\\n\"Die Schauspielerin spielte die Rolle der Königin mit großem Erfolg\": Was ist in diesem Kontext die Definition von Rolle? Figur oder Charakter\\n\"Die Schauspielerin spielte die Rolle der Königin mit großem Erfolg\": Was ist in diesem Kontext die Definition von Erfolg? positiver Ausgang oder Gelingen')\n"
     ]
    },
    {
     "data": {
      "text/plain": [
       "[' a present location',\n",
       " ',organisiert\\n\"Die Schauspielerin spielte die Rolle der Lady Macbeth mit großem Erfolg.\": Was ist in diesem Kontext die Definition von Rolle? Figur in einem Theaterstück',\n",
       " '2019 neuartiges Coronavirus\\n\"Die Katze sitzt auf dem Sofa und schläft\": Was ist in diesem Kontext die Definition von Katze? domestizierte Raubkatze\\n\"Die Katze sitzt auf dem Sofa und schläft\": Was ist in diesem Kontext die Definition von Sofa? Möbelstück zum Sitzen oder Liegen',\n",
       " ', innere Wesenheit\\n\"Die echte schwäbische Seele wird immer „nass gebacken“.\": Was ist in diesem Kontext die Definition von nass? feucht\\n\"Die echte schwäbische Seele wird immer „nass gebacken“.\": Was ist in diesem Kontext die Definition von gebacken? mit Wasser übergossen',\n",
       " ' (ursprüngliche) Unordnung oder Zerstörung\\n\"Die Schauspielerin spielte die Rolle der Königin mit großem Erfolg\": Was ist in diesem Kontext die Definition von Rolle? Figur oder Charakter\\n\"Die Schauspielerin spielte die Rolle der Königin mit großem Erfolg\": Was ist in diesem Kontext die Definition von Erfolg? positiver Ausgang oder Gelingen']"
      ]
     },
     "execution_count": 11,
     "metadata": {},
     "output_type": "execute_result"
    }
   ],
   "source": [
    "await async_eval_network(eval_data[:5], experiments[0])"
   ]
  },
  {
   "cell_type": "code",
   "execution_count": 45,
   "id": "5055f90eb3a6502a",
   "metadata": {
    "ExecuteTime": {
     "end_time": "2024-06-04T16:18:33.952109Z",
     "start_time": "2024-06-04T16:18:05.419401Z"
    }
   },
   "outputs": [
    {
     "name": "stdout",
     "output_type": "stream",
     "text": [
      "0 ('Chaos', '„Was ist Chaos? Es ist jene Ordnung die man bei der Erschaffung der Welt zerstört hat.“', 'Chaos?')\n",
      "1 ('Seele', 'Die echte schwäbische Seele wird immer „nass gebacken“.', 'Seele')\n",
      "2 ('da', 'Ist da jemand?', 'da')\n",
      "3 ('machen', 'Jedes Jahr macht der Nachbar den Orpheus bei der Dorfbühne.', 'macht')\n",
      "4 ('virus', '„eius mulieris ingenio paratum virus, cuius minister e spadonibus fuit Halotus, inferre epulas et explorare gustu solitus.“ (Tac. ann. 12,66,2)', 'virus,')\n"
     ]
    },
    {
     "data": {
      "application/vnd.jupyter.widget-view+json": {
       "model_id": "7c59f1d3f3884ee38049c5480a6579cb",
       "version_major": 2,
       "version_minor": 0
      },
      "text/plain": [
       "  0%|          | 0/5 [00:00<?, ?it/s]"
      ]
     },
     "metadata": {},
     "output_type": "display_data"
    },
    {
     "name": "stdout",
     "output_type": "stream",
     "text": [
      "(2, ' a present location')\n",
      "(3, ',organisiert\\n\"Die Schauspielerin spielte die Rolle der Lady Macbeth mit großem Erfolg.\": Was ist in diesem Kontext die Definition von Rolle? Figur in einem Theaterstück')\n",
      "(4, '2019 neuartiges Coronavirus\\n\"Die Katze sitzt auf dem Sofa und schläft\": Was ist in diesem Kontext die Definition von Katze? domestizierte Raubkatze\\n\"Die Katze sitzt auf dem Sofa und schläft\": Was ist in diesem Kontext die Definition von Sofa? Möbelstück zum Sitzen oder Liegen')\n",
      "(1, ', innere Wesenheit\\n\"Die echte schwäbische Seele wird immer „nass gebacken“.\": Was ist in diesem Kontext die Definition von nass? feucht\\n\"Die echte schwäbische Seele wird immer „nass gebacken“.\": Was ist in diesem Kontext die Definition von gebacken? mit Wasser übergossen')\n",
      "(0, ' (ursprüngliche) Unordnung oder Zerstörung\\n\"Die Schauspielerin spielte die Rolle der Königin mit großem Erfolg\": Was ist in diesem Kontext die Definition von Rolle? Figur oder Charakter\\n\"Die Schauspielerin spielte die Rolle der Königin mit großem Erfolg\": Was ist in diesem Kontext die Definition von Erfolg? positiver Ausgang oder Gelingen')\n"
     ]
    }
   ],
   "source": [
    "async with aiohttp.ClientSession(timeout=aiohttp.ClientTimeout()) as sess:\n",
    "    requests_ = [async_prompting(x, b, sess) for x, b in generate_question_prompt(eval_data[:5].iterrows(), experiments[0])]\n",
    "    responses = {}\n",
    "    \n",
    "    inner_run_bar = tqdm(asyncio.as_completed(requests_), total=len(requests_), leave=False)\n",
    "    for f in inner_run_bar:\n",
    "        set_sensor_state(inner_run_bar.n, inner_run_bar.total)\n",
    "        resp = await f\n",
    "        print(resp)\n",
    "        responses[resp[0]] = resp[1]"
   ]
  },
  {
   "cell_type": "code",
   "execution_count": 14,
   "id": "d2ce373b-98ac-48dd-ae57-7546348d3506",
   "metadata": {
    "ExecuteTime": {
     "end_time": "2024-06-04T12:12:27.324251Z",
     "start_time": "2024-06-04T12:12:27.317979Z"
    }
   },
   "outputs": [],
   "source": [
    "def eval_network(data, experiment, out=None):\n",
    "    answers = []\n",
    "    pbar = tqdm(data.iterrows(), total=len(data))\n",
    "    set_sensor_state(pbar.n, pbar.total)\n",
    "    for index, row in pbar:\n",
    "        set_sensor_state(pbar.n, pbar.total)\n",
    "        context_sentence = row['prompt_data']['context_sentence']\n",
    "        context_word = row['prompt_data']['context_word']\n",
    "        body = {\n",
    "          \"system_prompts\": experiment.system_prompt,\n",
    "          \"dialog\": [\n",
    "              *experiment.create_examples(),\n",
    "            {\n",
    "              \"role\": \"user\",\n",
    "              \"content\": experiment.question_prompt % (context_sentence, context_word)\n",
    "            }\n",
    "          ]\n",
    "        }\n",
    "        response = \"\"\n",
    "        with requests.post(api_endpoint, json=body, stream=True) as r:\n",
    "            for chunk in r.iter_content(1024):\n",
    "                response += chunk.decode()\n",
    "        answers.append(response)\n",
    "        if out:\n",
    "            with out:\n",
    "                out.clear_output()\n",
    "                print(f\"{context_word}\\n{context_sentence}\\n\\n{response}\")\n",
    "    set_sensor_state(pbar.n, pbar.total)\n",
    "    return answers"
   ]
  },
  {
   "cell_type": "code",
   "execution_count": 37,
   "id": "db723132a7961916",
   "metadata": {
    "ExecuteTime": {
     "end_time": "2024-06-04T13:30:33.531022Z",
     "start_time": "2024-06-04T13:30:33.527313Z"
    }
   },
   "outputs": [
    {
     "name": "stdout",
     "output_type": "stream",
     "text": [
      "Du bist ein Definitionsgenerator. Du antwortest in Deutsch. Du bekommst einen Beispielsatz und ein Wort aus dem Satz. Du antwortest mit der Definition des Wortes im Kontext des Beispiels. Du antwortest nur mit der Definition. Du zeigst den Bezug auf den Kontext. Du antwortest in maximal 5 Worten. \n",
      "\"Die Liebe überwindet alle Grenzen\": Was ist in diesem Kontext die Definition von Liebe? inniges Gefühl der Zuneigung für jemanden oder für etwas\n",
      "\"Natürlich sind diese Stifte stabil und robust genug, um den täglichen Rettungseinsatz absolvieren zu können.\": Was ist in diesem Kontext die Definition von Stifte? Rekrut\n",
      "\"''take'' matters as they arise\": Was ist in diesem Kontext die Definition von Urzustand vor Entstehung der Erde, unförmlicher Klumpen der ungeordneten Elemente, ungeordneter Urstoff, unermessliche Leere, leerer Raum, die Unermesslichkeit des großen Raumes?\n"
     ]
    }
   ],
   "source": [
    "print(next(generate_question_prompt(eval_data.iterrows(), experiments[0])))"
   ]
  },
  {
   "cell_type": "code",
   "execution_count": 15,
   "id": "a3768efe2e2c5a37",
   "metadata": {
    "scrolled": true
   },
   "outputs": [
    {
     "data": {
      "application/vnd.jupyter.widget-view+json": {
       "model_id": "aa38a1bc8ec8427e8dbf43417c4b1559",
       "version_major": 2,
       "version_minor": 0
      },
      "text/plain": [
       "  0%|          | 0/1107 [00:00<?, ?it/s]"
      ]
     },
     "metadata": {},
     "output_type": "display_data"
    },
    {
     "name": "stdout",
     "output_type": "stream",
     "text": [
      "\n",
      "\n",
      "\n",
      "\n",
      "\n",
      "\n",
      "\n",
      "\n",
      "\n",
      "\n",
      "\n",
      "\n",
      "\n",
      "\n",
      "\n",
      "\n",
      "\n",
      "\n",
      "\n",
      "\n",
      "\n",
      "\n",
      "\n",
      "\n",
      "\n",
      "\n",
      "\n",
      "\n",
      "\n",
      "\n",
      "\n",
      "\n",
      "\n",
      "\n",
      "\n",
      "\n",
      "\n",
      "\n",
      "\n",
      "\n",
      "\n",
      "\n",
      "\n",
      "\n",
      "\n",
      "\n",
      "\n",
      "\n",
      "\n",
      "\n"
     ]
    },
    {
     "ename": "KeyboardInterrupt",
     "evalue": "",
     "output_type": "error",
     "traceback": [
      "\u001b[0;31m---------------------------------------------------------------------------\u001b[0m",
      "\u001b[0;31mKeyboardInterrupt\u001b[0m                         Traceback (most recent call last)",
      "Cell \u001b[0;32mIn[15], line 1\u001b[0m\n\u001b[0;32m----> 1\u001b[0m \u001b[43meval_network\u001b[49m\u001b[43m(\u001b[49m\u001b[43meval_data\u001b[49m\u001b[43m,\u001b[49m\u001b[43m \u001b[49m\u001b[43mexperiments\u001b[49m\u001b[43m[\u001b[49m\u001b[38;5;241;43m0\u001b[39;49m\u001b[43m]\u001b[49m\u001b[43m)\u001b[49m\n",
      "Cell \u001b[0;32mIn[14], line 20\u001b[0m, in \u001b[0;36meval_network\u001b[0;34m(data, experiment, out)\u001b[0m\n\u001b[1;32m      9\u001b[0m body \u001b[38;5;241m=\u001b[39m {\n\u001b[1;32m     10\u001b[0m   \u001b[38;5;124m\"\u001b[39m\u001b[38;5;124msystem_prompts\u001b[39m\u001b[38;5;124m\"\u001b[39m: experiment\u001b[38;5;241m.\u001b[39msystem_prompt,\n\u001b[1;32m     11\u001b[0m   \u001b[38;5;124m\"\u001b[39m\u001b[38;5;124mdialog\u001b[39m\u001b[38;5;124m\"\u001b[39m: [\n\u001b[0;32m   (...)\u001b[0m\n\u001b[1;32m     17\u001b[0m   ]\n\u001b[1;32m     18\u001b[0m }\n\u001b[1;32m     19\u001b[0m response \u001b[38;5;241m=\u001b[39m \u001b[38;5;124m\"\u001b[39m\u001b[38;5;124m\"\u001b[39m\n\u001b[0;32m---> 20\u001b[0m \u001b[38;5;28;01mwith\u001b[39;00m \u001b[43mrequests\u001b[49m\u001b[38;5;241;43m.\u001b[39;49m\u001b[43mpost\u001b[49m\u001b[43m(\u001b[49m\u001b[43mapi_endpoint\u001b[49m\u001b[43m,\u001b[49m\u001b[43m \u001b[49m\u001b[43mjson\u001b[49m\u001b[38;5;241;43m=\u001b[39;49m\u001b[43mbody\u001b[49m\u001b[43m,\u001b[49m\u001b[43m \u001b[49m\u001b[43mstream\u001b[49m\u001b[38;5;241;43m=\u001b[39;49m\u001b[38;5;28;43;01mTrue\u001b[39;49;00m\u001b[43m)\u001b[49m \u001b[38;5;28;01mas\u001b[39;00m r:\n\u001b[1;32m     21\u001b[0m     \u001b[38;5;28;01mfor\u001b[39;00m chunk \u001b[38;5;129;01min\u001b[39;00m r\u001b[38;5;241m.\u001b[39miter_content(\u001b[38;5;241m1024\u001b[39m):\n\u001b[1;32m     22\u001b[0m         response \u001b[38;5;241m+\u001b[39m\u001b[38;5;241m=\u001b[39m chunk\u001b[38;5;241m.\u001b[39mdecode()\n",
      "File \u001b[0;32m~/.pyenv/versions/3.10.12/envs/MasterThesis-NLP/lib/python3.10/site-packages/requests/api.py:115\u001b[0m, in \u001b[0;36mpost\u001b[0;34m(url, data, json, **kwargs)\u001b[0m\n\u001b[1;32m    103\u001b[0m \u001b[38;5;28;01mdef\u001b[39;00m \u001b[38;5;21mpost\u001b[39m(url, data\u001b[38;5;241m=\u001b[39m\u001b[38;5;28;01mNone\u001b[39;00m, json\u001b[38;5;241m=\u001b[39m\u001b[38;5;28;01mNone\u001b[39;00m, \u001b[38;5;241m*\u001b[39m\u001b[38;5;241m*\u001b[39mkwargs):\n\u001b[1;32m    104\u001b[0m \u001b[38;5;250m    \u001b[39m\u001b[38;5;124mr\u001b[39m\u001b[38;5;124;03m\"\"\"Sends a POST request.\u001b[39;00m\n\u001b[1;32m    105\u001b[0m \n\u001b[1;32m    106\u001b[0m \u001b[38;5;124;03m    :param url: URL for the new :class:`Request` object.\u001b[39;00m\n\u001b[0;32m   (...)\u001b[0m\n\u001b[1;32m    112\u001b[0m \u001b[38;5;124;03m    :rtype: requests.Response\u001b[39;00m\n\u001b[1;32m    113\u001b[0m \u001b[38;5;124;03m    \"\"\"\u001b[39;00m\n\u001b[0;32m--> 115\u001b[0m     \u001b[38;5;28;01mreturn\u001b[39;00m \u001b[43mrequest\u001b[49m\u001b[43m(\u001b[49m\u001b[38;5;124;43m\"\u001b[39;49m\u001b[38;5;124;43mpost\u001b[39;49m\u001b[38;5;124;43m\"\u001b[39;49m\u001b[43m,\u001b[49m\u001b[43m \u001b[49m\u001b[43murl\u001b[49m\u001b[43m,\u001b[49m\u001b[43m \u001b[49m\u001b[43mdata\u001b[49m\u001b[38;5;241;43m=\u001b[39;49m\u001b[43mdata\u001b[49m\u001b[43m,\u001b[49m\u001b[43m \u001b[49m\u001b[43mjson\u001b[49m\u001b[38;5;241;43m=\u001b[39;49m\u001b[43mjson\u001b[49m\u001b[43m,\u001b[49m\u001b[43m \u001b[49m\u001b[38;5;241;43m*\u001b[39;49m\u001b[38;5;241;43m*\u001b[39;49m\u001b[43mkwargs\u001b[49m\u001b[43m)\u001b[49m\n",
      "File \u001b[0;32m~/.pyenv/versions/3.10.12/envs/MasterThesis-NLP/lib/python3.10/site-packages/requests/api.py:59\u001b[0m, in \u001b[0;36mrequest\u001b[0;34m(method, url, **kwargs)\u001b[0m\n\u001b[1;32m     55\u001b[0m \u001b[38;5;66;03m# By using the 'with' statement we are sure the session is closed, thus we\u001b[39;00m\n\u001b[1;32m     56\u001b[0m \u001b[38;5;66;03m# avoid leaving sockets open which can trigger a ResourceWarning in some\u001b[39;00m\n\u001b[1;32m     57\u001b[0m \u001b[38;5;66;03m# cases, and look like a memory leak in others.\u001b[39;00m\n\u001b[1;32m     58\u001b[0m \u001b[38;5;28;01mwith\u001b[39;00m sessions\u001b[38;5;241m.\u001b[39mSession() \u001b[38;5;28;01mas\u001b[39;00m session:\n\u001b[0;32m---> 59\u001b[0m     \u001b[38;5;28;01mreturn\u001b[39;00m \u001b[43msession\u001b[49m\u001b[38;5;241;43m.\u001b[39;49m\u001b[43mrequest\u001b[49m\u001b[43m(\u001b[49m\u001b[43mmethod\u001b[49m\u001b[38;5;241;43m=\u001b[39;49m\u001b[43mmethod\u001b[49m\u001b[43m,\u001b[49m\u001b[43m \u001b[49m\u001b[43murl\u001b[49m\u001b[38;5;241;43m=\u001b[39;49m\u001b[43murl\u001b[49m\u001b[43m,\u001b[49m\u001b[43m \u001b[49m\u001b[38;5;241;43m*\u001b[39;49m\u001b[38;5;241;43m*\u001b[39;49m\u001b[43mkwargs\u001b[49m\u001b[43m)\u001b[49m\n",
      "File \u001b[0;32m~/.pyenv/versions/3.10.12/envs/MasterThesis-NLP/lib/python3.10/site-packages/requests/sessions.py:589\u001b[0m, in \u001b[0;36mSession.request\u001b[0;34m(self, method, url, params, data, headers, cookies, files, auth, timeout, allow_redirects, proxies, hooks, stream, verify, cert, json)\u001b[0m\n\u001b[1;32m    584\u001b[0m send_kwargs \u001b[38;5;241m=\u001b[39m {\n\u001b[1;32m    585\u001b[0m     \u001b[38;5;124m\"\u001b[39m\u001b[38;5;124mtimeout\u001b[39m\u001b[38;5;124m\"\u001b[39m: timeout,\n\u001b[1;32m    586\u001b[0m     \u001b[38;5;124m\"\u001b[39m\u001b[38;5;124mallow_redirects\u001b[39m\u001b[38;5;124m\"\u001b[39m: allow_redirects,\n\u001b[1;32m    587\u001b[0m }\n\u001b[1;32m    588\u001b[0m send_kwargs\u001b[38;5;241m.\u001b[39mupdate(settings)\n\u001b[0;32m--> 589\u001b[0m resp \u001b[38;5;241m=\u001b[39m \u001b[38;5;28;43mself\u001b[39;49m\u001b[38;5;241;43m.\u001b[39;49m\u001b[43msend\u001b[49m\u001b[43m(\u001b[49m\u001b[43mprep\u001b[49m\u001b[43m,\u001b[49m\u001b[43m \u001b[49m\u001b[38;5;241;43m*\u001b[39;49m\u001b[38;5;241;43m*\u001b[39;49m\u001b[43msend_kwargs\u001b[49m\u001b[43m)\u001b[49m\n\u001b[1;32m    591\u001b[0m \u001b[38;5;28;01mreturn\u001b[39;00m resp\n",
      "File \u001b[0;32m~/.pyenv/versions/3.10.12/envs/MasterThesis-NLP/lib/python3.10/site-packages/requests/sessions.py:703\u001b[0m, in \u001b[0;36mSession.send\u001b[0;34m(self, request, **kwargs)\u001b[0m\n\u001b[1;32m    700\u001b[0m start \u001b[38;5;241m=\u001b[39m preferred_clock()\n\u001b[1;32m    702\u001b[0m \u001b[38;5;66;03m# Send the request\u001b[39;00m\n\u001b[0;32m--> 703\u001b[0m r \u001b[38;5;241m=\u001b[39m \u001b[43madapter\u001b[49m\u001b[38;5;241;43m.\u001b[39;49m\u001b[43msend\u001b[49m\u001b[43m(\u001b[49m\u001b[43mrequest\u001b[49m\u001b[43m,\u001b[49m\u001b[43m \u001b[49m\u001b[38;5;241;43m*\u001b[39;49m\u001b[38;5;241;43m*\u001b[39;49m\u001b[43mkwargs\u001b[49m\u001b[43m)\u001b[49m\n\u001b[1;32m    705\u001b[0m \u001b[38;5;66;03m# Total elapsed time of the request (approximately)\u001b[39;00m\n\u001b[1;32m    706\u001b[0m elapsed \u001b[38;5;241m=\u001b[39m preferred_clock() \u001b[38;5;241m-\u001b[39m start\n",
      "File \u001b[0;32m~/.pyenv/versions/3.10.12/envs/MasterThesis-NLP/lib/python3.10/site-packages/requests/adapters.py:486\u001b[0m, in \u001b[0;36mHTTPAdapter.send\u001b[0;34m(self, request, stream, timeout, verify, cert, proxies)\u001b[0m\n\u001b[1;32m    483\u001b[0m     timeout \u001b[38;5;241m=\u001b[39m TimeoutSauce(connect\u001b[38;5;241m=\u001b[39mtimeout, read\u001b[38;5;241m=\u001b[39mtimeout)\n\u001b[1;32m    485\u001b[0m \u001b[38;5;28;01mtry\u001b[39;00m:\n\u001b[0;32m--> 486\u001b[0m     resp \u001b[38;5;241m=\u001b[39m \u001b[43mconn\u001b[49m\u001b[38;5;241;43m.\u001b[39;49m\u001b[43murlopen\u001b[49m\u001b[43m(\u001b[49m\n\u001b[1;32m    487\u001b[0m \u001b[43m        \u001b[49m\u001b[43mmethod\u001b[49m\u001b[38;5;241;43m=\u001b[39;49m\u001b[43mrequest\u001b[49m\u001b[38;5;241;43m.\u001b[39;49m\u001b[43mmethod\u001b[49m\u001b[43m,\u001b[49m\n\u001b[1;32m    488\u001b[0m \u001b[43m        \u001b[49m\u001b[43murl\u001b[49m\u001b[38;5;241;43m=\u001b[39;49m\u001b[43murl\u001b[49m\u001b[43m,\u001b[49m\n\u001b[1;32m    489\u001b[0m \u001b[43m        \u001b[49m\u001b[43mbody\u001b[49m\u001b[38;5;241;43m=\u001b[39;49m\u001b[43mrequest\u001b[49m\u001b[38;5;241;43m.\u001b[39;49m\u001b[43mbody\u001b[49m\u001b[43m,\u001b[49m\n\u001b[1;32m    490\u001b[0m \u001b[43m        \u001b[49m\u001b[43mheaders\u001b[49m\u001b[38;5;241;43m=\u001b[39;49m\u001b[43mrequest\u001b[49m\u001b[38;5;241;43m.\u001b[39;49m\u001b[43mheaders\u001b[49m\u001b[43m,\u001b[49m\n\u001b[1;32m    491\u001b[0m \u001b[43m        \u001b[49m\u001b[43mredirect\u001b[49m\u001b[38;5;241;43m=\u001b[39;49m\u001b[38;5;28;43;01mFalse\u001b[39;49;00m\u001b[43m,\u001b[49m\n\u001b[1;32m    492\u001b[0m \u001b[43m        \u001b[49m\u001b[43massert_same_host\u001b[49m\u001b[38;5;241;43m=\u001b[39;49m\u001b[38;5;28;43;01mFalse\u001b[39;49;00m\u001b[43m,\u001b[49m\n\u001b[1;32m    493\u001b[0m \u001b[43m        \u001b[49m\u001b[43mpreload_content\u001b[49m\u001b[38;5;241;43m=\u001b[39;49m\u001b[38;5;28;43;01mFalse\u001b[39;49;00m\u001b[43m,\u001b[49m\n\u001b[1;32m    494\u001b[0m \u001b[43m        \u001b[49m\u001b[43mdecode_content\u001b[49m\u001b[38;5;241;43m=\u001b[39;49m\u001b[38;5;28;43;01mFalse\u001b[39;49;00m\u001b[43m,\u001b[49m\n\u001b[1;32m    495\u001b[0m \u001b[43m        \u001b[49m\u001b[43mretries\u001b[49m\u001b[38;5;241;43m=\u001b[39;49m\u001b[38;5;28;43mself\u001b[39;49m\u001b[38;5;241;43m.\u001b[39;49m\u001b[43mmax_retries\u001b[49m\u001b[43m,\u001b[49m\n\u001b[1;32m    496\u001b[0m \u001b[43m        \u001b[49m\u001b[43mtimeout\u001b[49m\u001b[38;5;241;43m=\u001b[39;49m\u001b[43mtimeout\u001b[49m\u001b[43m,\u001b[49m\n\u001b[1;32m    497\u001b[0m \u001b[43m        \u001b[49m\u001b[43mchunked\u001b[49m\u001b[38;5;241;43m=\u001b[39;49m\u001b[43mchunked\u001b[49m\u001b[43m,\u001b[49m\n\u001b[1;32m    498\u001b[0m \u001b[43m    \u001b[49m\u001b[43m)\u001b[49m\n\u001b[1;32m    500\u001b[0m \u001b[38;5;28;01mexcept\u001b[39;00m (ProtocolError, \u001b[38;5;167;01mOSError\u001b[39;00m) \u001b[38;5;28;01mas\u001b[39;00m err:\n\u001b[1;32m    501\u001b[0m     \u001b[38;5;28;01mraise\u001b[39;00m \u001b[38;5;167;01mConnectionError\u001b[39;00m(err, request\u001b[38;5;241m=\u001b[39mrequest)\n",
      "File \u001b[0;32m~/.pyenv/versions/3.10.12/envs/MasterThesis-NLP/lib/python3.10/site-packages/urllib3/connectionpool.py:790\u001b[0m, in \u001b[0;36mHTTPConnectionPool.urlopen\u001b[0;34m(self, method, url, body, headers, retries, redirect, assert_same_host, timeout, pool_timeout, release_conn, chunked, body_pos, preload_content, decode_content, **response_kw)\u001b[0m\n\u001b[1;32m    787\u001b[0m response_conn \u001b[38;5;241m=\u001b[39m conn \u001b[38;5;28;01mif\u001b[39;00m \u001b[38;5;129;01mnot\u001b[39;00m release_conn \u001b[38;5;28;01melse\u001b[39;00m \u001b[38;5;28;01mNone\u001b[39;00m\n\u001b[1;32m    789\u001b[0m \u001b[38;5;66;03m# Make the request on the HTTPConnection object\u001b[39;00m\n\u001b[0;32m--> 790\u001b[0m response \u001b[38;5;241m=\u001b[39m \u001b[38;5;28;43mself\u001b[39;49m\u001b[38;5;241;43m.\u001b[39;49m\u001b[43m_make_request\u001b[49m\u001b[43m(\u001b[49m\n\u001b[1;32m    791\u001b[0m \u001b[43m    \u001b[49m\u001b[43mconn\u001b[49m\u001b[43m,\u001b[49m\n\u001b[1;32m    792\u001b[0m \u001b[43m    \u001b[49m\u001b[43mmethod\u001b[49m\u001b[43m,\u001b[49m\n\u001b[1;32m    793\u001b[0m \u001b[43m    \u001b[49m\u001b[43murl\u001b[49m\u001b[43m,\u001b[49m\n\u001b[1;32m    794\u001b[0m \u001b[43m    \u001b[49m\u001b[43mtimeout\u001b[49m\u001b[38;5;241;43m=\u001b[39;49m\u001b[43mtimeout_obj\u001b[49m\u001b[43m,\u001b[49m\n\u001b[1;32m    795\u001b[0m \u001b[43m    \u001b[49m\u001b[43mbody\u001b[49m\u001b[38;5;241;43m=\u001b[39;49m\u001b[43mbody\u001b[49m\u001b[43m,\u001b[49m\n\u001b[1;32m    796\u001b[0m \u001b[43m    \u001b[49m\u001b[43mheaders\u001b[49m\u001b[38;5;241;43m=\u001b[39;49m\u001b[43mheaders\u001b[49m\u001b[43m,\u001b[49m\n\u001b[1;32m    797\u001b[0m \u001b[43m    \u001b[49m\u001b[43mchunked\u001b[49m\u001b[38;5;241;43m=\u001b[39;49m\u001b[43mchunked\u001b[49m\u001b[43m,\u001b[49m\n\u001b[1;32m    798\u001b[0m \u001b[43m    \u001b[49m\u001b[43mretries\u001b[49m\u001b[38;5;241;43m=\u001b[39;49m\u001b[43mretries\u001b[49m\u001b[43m,\u001b[49m\n\u001b[1;32m    799\u001b[0m \u001b[43m    \u001b[49m\u001b[43mresponse_conn\u001b[49m\u001b[38;5;241;43m=\u001b[39;49m\u001b[43mresponse_conn\u001b[49m\u001b[43m,\u001b[49m\n\u001b[1;32m    800\u001b[0m \u001b[43m    \u001b[49m\u001b[43mpreload_content\u001b[49m\u001b[38;5;241;43m=\u001b[39;49m\u001b[43mpreload_content\u001b[49m\u001b[43m,\u001b[49m\n\u001b[1;32m    801\u001b[0m \u001b[43m    \u001b[49m\u001b[43mdecode_content\u001b[49m\u001b[38;5;241;43m=\u001b[39;49m\u001b[43mdecode_content\u001b[49m\u001b[43m,\u001b[49m\n\u001b[1;32m    802\u001b[0m \u001b[43m    \u001b[49m\u001b[38;5;241;43m*\u001b[39;49m\u001b[38;5;241;43m*\u001b[39;49m\u001b[43mresponse_kw\u001b[49m\u001b[43m,\u001b[49m\n\u001b[1;32m    803\u001b[0m \u001b[43m\u001b[49m\u001b[43m)\u001b[49m\n\u001b[1;32m    805\u001b[0m \u001b[38;5;66;03m# Everything went great!\u001b[39;00m\n\u001b[1;32m    806\u001b[0m clean_exit \u001b[38;5;241m=\u001b[39m \u001b[38;5;28;01mTrue\u001b[39;00m\n",
      "File \u001b[0;32m~/.pyenv/versions/3.10.12/envs/MasterThesis-NLP/lib/python3.10/site-packages/urllib3/connectionpool.py:536\u001b[0m, in \u001b[0;36mHTTPConnectionPool._make_request\u001b[0;34m(self, conn, method, url, body, headers, retries, timeout, chunked, response_conn, preload_content, decode_content, enforce_content_length)\u001b[0m\n\u001b[1;32m    534\u001b[0m \u001b[38;5;66;03m# Receive the response from the server\u001b[39;00m\n\u001b[1;32m    535\u001b[0m \u001b[38;5;28;01mtry\u001b[39;00m:\n\u001b[0;32m--> 536\u001b[0m     response \u001b[38;5;241m=\u001b[39m \u001b[43mconn\u001b[49m\u001b[38;5;241;43m.\u001b[39;49m\u001b[43mgetresponse\u001b[49m\u001b[43m(\u001b[49m\u001b[43m)\u001b[49m\n\u001b[1;32m    537\u001b[0m \u001b[38;5;28;01mexcept\u001b[39;00m (BaseSSLError, \u001b[38;5;167;01mOSError\u001b[39;00m) \u001b[38;5;28;01mas\u001b[39;00m e:\n\u001b[1;32m    538\u001b[0m     \u001b[38;5;28mself\u001b[39m\u001b[38;5;241m.\u001b[39m_raise_timeout(err\u001b[38;5;241m=\u001b[39me, url\u001b[38;5;241m=\u001b[39murl, timeout_value\u001b[38;5;241m=\u001b[39mread_timeout)\n",
      "File \u001b[0;32m~/.pyenv/versions/3.10.12/envs/MasterThesis-NLP/lib/python3.10/site-packages/urllib3/connection.py:461\u001b[0m, in \u001b[0;36mHTTPConnection.getresponse\u001b[0;34m(self)\u001b[0m\n\u001b[1;32m    458\u001b[0m \u001b[38;5;28;01mfrom\u001b[39;00m \u001b[38;5;21;01m.\u001b[39;00m\u001b[38;5;21;01mresponse\u001b[39;00m \u001b[38;5;28;01mimport\u001b[39;00m HTTPResponse\n\u001b[1;32m    460\u001b[0m \u001b[38;5;66;03m# Get the response from http.client.HTTPConnection\u001b[39;00m\n\u001b[0;32m--> 461\u001b[0m httplib_response \u001b[38;5;241m=\u001b[39m \u001b[38;5;28;43msuper\u001b[39;49m\u001b[43m(\u001b[49m\u001b[43m)\u001b[49m\u001b[38;5;241;43m.\u001b[39;49m\u001b[43mgetresponse\u001b[49m\u001b[43m(\u001b[49m\u001b[43m)\u001b[49m\n\u001b[1;32m    463\u001b[0m \u001b[38;5;28;01mtry\u001b[39;00m:\n\u001b[1;32m    464\u001b[0m     assert_header_parsing(httplib_response\u001b[38;5;241m.\u001b[39mmsg)\n",
      "File \u001b[0;32m~/.pyenv/versions/3.10.12/lib/python3.10/http/client.py:1375\u001b[0m, in \u001b[0;36mHTTPConnection.getresponse\u001b[0;34m(self)\u001b[0m\n\u001b[1;32m   1373\u001b[0m \u001b[38;5;28;01mtry\u001b[39;00m:\n\u001b[1;32m   1374\u001b[0m     \u001b[38;5;28;01mtry\u001b[39;00m:\n\u001b[0;32m-> 1375\u001b[0m         \u001b[43mresponse\u001b[49m\u001b[38;5;241;43m.\u001b[39;49m\u001b[43mbegin\u001b[49m\u001b[43m(\u001b[49m\u001b[43m)\u001b[49m\n\u001b[1;32m   1376\u001b[0m     \u001b[38;5;28;01mexcept\u001b[39;00m \u001b[38;5;167;01mConnectionError\u001b[39;00m:\n\u001b[1;32m   1377\u001b[0m         \u001b[38;5;28mself\u001b[39m\u001b[38;5;241m.\u001b[39mclose()\n",
      "File \u001b[0;32m~/.pyenv/versions/3.10.12/lib/python3.10/http/client.py:318\u001b[0m, in \u001b[0;36mHTTPResponse.begin\u001b[0;34m(self)\u001b[0m\n\u001b[1;32m    316\u001b[0m \u001b[38;5;66;03m# read until we get a non-100 response\u001b[39;00m\n\u001b[1;32m    317\u001b[0m \u001b[38;5;28;01mwhile\u001b[39;00m \u001b[38;5;28;01mTrue\u001b[39;00m:\n\u001b[0;32m--> 318\u001b[0m     version, status, reason \u001b[38;5;241m=\u001b[39m \u001b[38;5;28;43mself\u001b[39;49m\u001b[38;5;241;43m.\u001b[39;49m\u001b[43m_read_status\u001b[49m\u001b[43m(\u001b[49m\u001b[43m)\u001b[49m\n\u001b[1;32m    319\u001b[0m     \u001b[38;5;28;01mif\u001b[39;00m status \u001b[38;5;241m!=\u001b[39m CONTINUE:\n\u001b[1;32m    320\u001b[0m         \u001b[38;5;28;01mbreak\u001b[39;00m\n",
      "File \u001b[0;32m~/.pyenv/versions/3.10.12/lib/python3.10/http/client.py:279\u001b[0m, in \u001b[0;36mHTTPResponse._read_status\u001b[0;34m(self)\u001b[0m\n\u001b[1;32m    278\u001b[0m \u001b[38;5;28;01mdef\u001b[39;00m \u001b[38;5;21m_read_status\u001b[39m(\u001b[38;5;28mself\u001b[39m):\n\u001b[0;32m--> 279\u001b[0m     line \u001b[38;5;241m=\u001b[39m \u001b[38;5;28mstr\u001b[39m(\u001b[38;5;28;43mself\u001b[39;49m\u001b[38;5;241;43m.\u001b[39;49m\u001b[43mfp\u001b[49m\u001b[38;5;241;43m.\u001b[39;49m\u001b[43mreadline\u001b[49m\u001b[43m(\u001b[49m\u001b[43m_MAXLINE\u001b[49m\u001b[43m \u001b[49m\u001b[38;5;241;43m+\u001b[39;49m\u001b[43m \u001b[49m\u001b[38;5;241;43m1\u001b[39;49m\u001b[43m)\u001b[49m, \u001b[38;5;124m\"\u001b[39m\u001b[38;5;124miso-8859-1\u001b[39m\u001b[38;5;124m\"\u001b[39m)\n\u001b[1;32m    280\u001b[0m     \u001b[38;5;28;01mif\u001b[39;00m \u001b[38;5;28mlen\u001b[39m(line) \u001b[38;5;241m>\u001b[39m _MAXLINE:\n\u001b[1;32m    281\u001b[0m         \u001b[38;5;28;01mraise\u001b[39;00m LineTooLong(\u001b[38;5;124m\"\u001b[39m\u001b[38;5;124mstatus line\u001b[39m\u001b[38;5;124m\"\u001b[39m)\n",
      "File \u001b[0;32m~/.pyenv/versions/3.10.12/lib/python3.10/socket.py:705\u001b[0m, in \u001b[0;36mSocketIO.readinto\u001b[0;34m(self, b)\u001b[0m\n\u001b[1;32m    703\u001b[0m \u001b[38;5;28;01mwhile\u001b[39;00m \u001b[38;5;28;01mTrue\u001b[39;00m:\n\u001b[1;32m    704\u001b[0m     \u001b[38;5;28;01mtry\u001b[39;00m:\n\u001b[0;32m--> 705\u001b[0m         \u001b[38;5;28;01mreturn\u001b[39;00m \u001b[38;5;28;43mself\u001b[39;49m\u001b[38;5;241;43m.\u001b[39;49m\u001b[43m_sock\u001b[49m\u001b[38;5;241;43m.\u001b[39;49m\u001b[43mrecv_into\u001b[49m\u001b[43m(\u001b[49m\u001b[43mb\u001b[49m\u001b[43m)\u001b[49m\n\u001b[1;32m    706\u001b[0m     \u001b[38;5;28;01mexcept\u001b[39;00m timeout:\n\u001b[1;32m    707\u001b[0m         \u001b[38;5;28mself\u001b[39m\u001b[38;5;241m.\u001b[39m_timeout_occurred \u001b[38;5;241m=\u001b[39m \u001b[38;5;28;01mTrue\u001b[39;00m\n",
      "\u001b[0;31mKeyboardInterrupt\u001b[0m: "
     ]
    }
   ],
   "source": []
  },
  {
   "cell_type": "code",
   "execution_count": 11,
   "id": "5e52d3488f239d24",
   "metadata": {
    "ExecuteTime": {
     "end_time": "2024-06-04T12:11:58.215480Z",
     "start_time": "2024-06-04T12:11:58.211788Z"
    }
   },
   "outputs": [
    {
     "data": {
      "text/plain": [
       "[<__main__.Experiment at 0x7f39b36a3c10>]"
      ]
     },
     "execution_count": 11,
     "metadata": {},
     "output_type": "execute_result"
    }
   ],
   "source": [
    "experiments"
   ]
  },
  {
   "cell_type": "code",
   "execution_count": 8,
   "id": "35dc70fd-9341-48f8-983f-2e7708af9a0a",
   "metadata": {
    "ExecuteTime": {
     "end_time": "2024-06-04T12:07:59.923127Z",
     "start_time": "2024-06-04T12:07:59.918993Z"
    }
   },
   "outputs": [
    {
     "data": {
      "application/vnd.jupyter.widget-view+json": {
       "model_id": "7814c648d3404e5eba0f7c587dd2c32c",
       "version_major": 2,
       "version_minor": 0
      },
      "text/plain": [
       "Output(layout=Layout(border_bottom='1px solid black', border_left='1px solid black', border_right='1px solid b…"
      ]
     },
     "execution_count": 8,
     "metadata": {},
     "output_type": "execute_result"
    }
   ],
   "source": [
    "out"
   ]
  },
  {
   "cell_type": "code",
   "execution_count": 7,
   "id": "81be4243-27cd-4e1d-a604-ab2ff7b55c95",
   "metadata": {
    "ExecuteTime": {
     "end_time": "2024-06-07T07:05:31.791081Z",
     "start_time": "2024-06-07T07:05:31.785930Z"
    }
   },
   "outputs": [],
   "source": [
    "from src.prompting import default_experiments"
   ]
  },
  {
   "cell_type": "code",
   "execution_count": 8,
   "id": "e7e3ff22-9c67-4465-8266-fb64fc1f3669",
   "metadata": {
    "ExecuteTime": {
     "end_time": "2024-06-07T07:05:31.944067Z",
     "start_time": "2024-06-07T07:05:31.941102Z"
    }
   },
   "outputs": [],
   "source": [
    "experiments = default_experiments"
   ]
  },
  {
   "cell_type": "code",
   "execution_count": 12,
   "id": "72d47fb1-b55a-4a07-a43a-0ed442df409d",
   "metadata": {
    "ExecuteTime": {
     "end_time": "2024-06-04T12:08:43.006601Z",
     "start_time": "2024-06-04T12:08:20.927461Z"
    },
    "scrolled": true
   },
   "outputs": [
    {
     "data": {
      "application/vnd.jupyter.widget-view+json": {
       "model_id": "83802ec2317f405aaa6b53b607cbc153",
       "version_major": 2,
       "version_minor": 0
      },
      "text/plain": [
       "  0%|          | 0/1 [00:00<?, ?it/s]"
      ]
     },
     "metadata": {},
     "output_type": "display_data"
    },
    {
     "name": "stderr",
     "output_type": "stream",
     "text": [
      "/home/jfeil/.pyenv/versions/3.10.12/envs/MasterThesis-NLP/lib/python3.10/site-packages/mlflow/data/digest_utils.py:26: FutureWarning: DataFrame.applymap has been deprecated. Use DataFrame.map instead.\n",
      "  string_columns = trimmed_df.columns[(df.applymap(type) == str).all(0)]\n",
      "/home/jfeil/.pyenv/versions/3.10.12/envs/MasterThesis-NLP/lib/python3.10/site-packages/mlflow/models/evaluation/base.py:521: FutureWarning: DataFrame.applymap has been deprecated. Use DataFrame.map instead.\n",
      "  data = data.applymap(_hash_array_like_element_as_bytes)\n",
      "/home/jfeil/.pyenv/versions/3.10.12/envs/MasterThesis-NLP/lib/python3.10/site-packages/mlflow/models/evaluation/base.py:521: FutureWarning: DataFrame.applymap has been deprecated. Use DataFrame.map instead.\n",
      "  data = data.applymap(_hash_array_like_element_as_bytes)\n",
      "2024/06/04 14:08:41 INFO mlflow.models.evaluation.base: Evaluating the model with the default evaluator.\n",
      "2024/06/04 14:08:41 INFO mlflow.models.evaluation.default_evaluator: Computing model predictions.\n"
     ]
    },
    {
     "name": "stdout",
     "output_type": "stream",
     "text": [
      "                                                 inputs  \\\n",
      "0     Chaos? --- „Was ist ''Chaos?'' Es ist jene Ord...   \n",
      "1     Seele --- Die echte schwäbische ''Seele'' wird...   \n",
      "2                             da --- Ist ''da'' jemand?   \n",
      "3     macht --- Jedes Jahr ''macht'' der Nachbar den...   \n",
      "4     virus, --- „eius mulieris ingenio paratum ''vi...   \n",
      "...                                                 ...   \n",
      "1102  ‚Schnecke‘ --- „Das eigentliche Gehörorgan ist...   \n",
      "1103  Band --- „Auch Telex- und Telefaxaussendungen ...   \n",
      "1104  servus --- Sehr geehrter Herr Minister, ''serv...   \n",
      "1105  Europa --- „Für ''Europa'' schätzt man um 1600...   \n",
      "1106            take --- ''take'' matters as they arise   \n",
      "\n",
      "                                            prompt_data  \n",
      "0     {'title': 'Chaos', 'context_word': 'Chaos?', '...  \n",
      "1     {'title': 'Seele', 'context_word': 'Seele', 'c...  \n",
      "2     {'title': 'da', 'context_word': 'da', 'context...  \n",
      "3     {'title': 'machen', 'context_word': 'macht', '...  \n",
      "4     {'title': 'virus', 'context_word': 'virus,', '...  \n",
      "...                                                 ...  \n",
      "1102  {'title': 'Schnecke', 'context_word': '‚Schnec...  \n",
      "1103  {'title': 'Band', 'context_word': 'Band', 'con...  \n",
      "1104  {'title': 'servus', 'context_word': 'servus', ...  \n",
      "1105  {'title': 'Europa', 'context_word': 'Europa', ...  \n",
      "1106  {'title': 'take', 'context_word': 'take', 'con...  \n",
      "\n",
      "[1107 rows x 2 columns]\n"
     ]
    },
    {
     "ename": "ValueError",
     "evalue": "If using all scalar values, you must pass an index",
     "output_type": "error",
     "traceback": [
      "\u001b[0;31m---------------------------------------------------------------------------\u001b[0m",
      "\u001b[0;31mValueError\u001b[0m                                Traceback (most recent call last)",
      "Cell \u001b[0;32mIn[12], line 11\u001b[0m\n\u001b[1;32m      8\u001b[0m         mlflow\u001b[38;5;241m.\u001b[39mlog_param(\u001b[38;5;124m\"\u001b[39m\u001b[38;5;124mquestion_prompt\u001b[39m\u001b[38;5;124m\"\u001b[39m, exp\u001b[38;5;241m.\u001b[39mquestion_prompt)\n\u001b[1;32m      9\u001b[0m         mlflow\u001b[38;5;241m.\u001b[39mlog_param(\u001b[38;5;124m\"\u001b[39m\u001b[38;5;124mexample_prompt\u001b[39m\u001b[38;5;124m\"\u001b[39m, exp\u001b[38;5;241m.\u001b[39mexample_prompts)\n\u001b[0;32m---> 11\u001b[0m         results \u001b[38;5;241m=\u001b[39m \u001b[43mmlflow\u001b[49m\u001b[38;5;241;43m.\u001b[39;49m\u001b[43mevaluate\u001b[49m\u001b[43m(\u001b[49m\n\u001b[1;32m     12\u001b[0m \u001b[43m            \u001b[49m\u001b[38;5;28;43;01mlambda\u001b[39;49;00m\u001b[43m \u001b[49m\u001b[43mx\u001b[49m\u001b[43m:\u001b[49m\u001b[43m \u001b[49m\u001b[43meval_network\u001b[49m\u001b[43m(\u001b[49m\u001b[43mx\u001b[49m\u001b[43m,\u001b[49m\u001b[43m \u001b[49m\u001b[43mexp\u001b[49m\u001b[43m,\u001b[49m\u001b[43m \u001b[49m\u001b[43mout\u001b[49m\u001b[43m)\u001b[49m\u001b[43m,\u001b[49m\n\u001b[1;32m     13\u001b[0m \u001b[43m            \u001b[49m\u001b[43meval_data\u001b[49m\u001b[43m,\u001b[49m\n\u001b[1;32m     14\u001b[0m \u001b[43m            \u001b[49m\u001b[43mmodel_type\u001b[49m\u001b[38;5;241;43m=\u001b[39;49m\u001b[38;5;124;43m\"\u001b[39;49m\u001b[38;5;124;43mtext\u001b[39;49m\u001b[38;5;124;43m\"\u001b[39;49m\u001b[43m,\u001b[49m\n\u001b[1;32m     15\u001b[0m \u001b[43m            \u001b[49m\u001b[43mtargets\u001b[49m\u001b[38;5;241;43m=\u001b[39;49m\u001b[38;5;124;43m\"\u001b[39;49m\u001b[38;5;124;43mground_truth\u001b[39;49m\u001b[38;5;124;43m\"\u001b[39;49m\u001b[43m,\u001b[49m\n\u001b[1;32m     16\u001b[0m \u001b[43m            \u001b[49m\u001b[43mextra_metrics\u001b[49m\u001b[38;5;241;43m=\u001b[39;49m\u001b[43m[\u001b[49m\u001b[43mmlflow\u001b[49m\u001b[38;5;241;43m.\u001b[39;49m\u001b[43mmetrics\u001b[49m\u001b[38;5;241;43m.\u001b[39;49m\u001b[43mrougeL\u001b[49m\u001b[43m(\u001b[49m\u001b[43m)\u001b[49m\u001b[43m]\u001b[49m\u001b[38;5;66;43;03m#, bert_f1_score_metric]\u001b[39;49;00m\n\u001b[1;32m     17\u001b[0m \u001b[43m        \u001b[49m\u001b[43m)\u001b[49m\n\u001b[1;32m     18\u001b[0m set_sensor_state(exp_tqdm\u001b[38;5;241m.\u001b[39mn, exp_tqdm\u001b[38;5;241m.\u001b[39mtotal, Input\u001b[38;5;241m.\u001b[39mTOTAL_INPUT)\n",
      "File \u001b[0;32m~/.pyenv/versions/3.10.12/envs/MasterThesis-NLP/lib/python3.10/site-packages/mlflow/models/evaluation/base.py:2102\u001b[0m, in \u001b[0;36mevaluate\u001b[0;34m(model, data, model_type, targets, predictions, dataset_path, feature_names, evaluators, evaluator_config, custom_metrics, extra_metrics, custom_artifacts, validation_thresholds, baseline_model, env_manager, model_config, baseline_config, inference_params)\u001b[0m\n\u001b[1;32m   2099\u001b[0m predictions_expected_in_model_output \u001b[38;5;241m=\u001b[39m predictions \u001b[38;5;28;01mif\u001b[39;00m model \u001b[38;5;129;01mis\u001b[39;00m \u001b[38;5;129;01mnot\u001b[39;00m \u001b[38;5;28;01mNone\u001b[39;00m \u001b[38;5;28;01melse\u001b[39;00m \u001b[38;5;28;01mNone\u001b[39;00m\n\u001b[1;32m   2101\u001b[0m \u001b[38;5;28;01mtry\u001b[39;00m:\n\u001b[0;32m-> 2102\u001b[0m     evaluate_result \u001b[38;5;241m=\u001b[39m \u001b[43m_evaluate\u001b[49m\u001b[43m(\u001b[49m\n\u001b[1;32m   2103\u001b[0m \u001b[43m        \u001b[49m\u001b[43mmodel\u001b[49m\u001b[38;5;241;43m=\u001b[39;49m\u001b[43mmodel\u001b[49m\u001b[43m,\u001b[49m\n\u001b[1;32m   2104\u001b[0m \u001b[43m        \u001b[49m\u001b[43mmodel_type\u001b[49m\u001b[38;5;241;43m=\u001b[39;49m\u001b[43mmodel_type\u001b[49m\u001b[43m,\u001b[49m\n\u001b[1;32m   2105\u001b[0m \u001b[43m        \u001b[49m\u001b[43mdataset\u001b[49m\u001b[38;5;241;43m=\u001b[39;49m\u001b[43mdataset\u001b[49m\u001b[43m,\u001b[49m\n\u001b[1;32m   2106\u001b[0m \u001b[43m        \u001b[49m\u001b[43mrun_id\u001b[49m\u001b[38;5;241;43m=\u001b[39;49m\u001b[43mrun_id\u001b[49m\u001b[43m,\u001b[49m\n\u001b[1;32m   2107\u001b[0m \u001b[43m        \u001b[49m\u001b[43mevaluator_name_list\u001b[49m\u001b[38;5;241;43m=\u001b[39;49m\u001b[43mevaluator_name_list\u001b[49m\u001b[43m,\u001b[49m\n\u001b[1;32m   2108\u001b[0m \u001b[43m        \u001b[49m\u001b[43mevaluator_name_to_conf_map\u001b[49m\u001b[38;5;241;43m=\u001b[39;49m\u001b[43mevaluator_name_to_conf_map\u001b[49m\u001b[43m,\u001b[49m\n\u001b[1;32m   2109\u001b[0m \u001b[43m        \u001b[49m\u001b[43mcustom_metrics\u001b[49m\u001b[38;5;241;43m=\u001b[39;49m\u001b[43mcustom_metrics\u001b[49m\u001b[43m,\u001b[49m\n\u001b[1;32m   2110\u001b[0m \u001b[43m        \u001b[49m\u001b[43mextra_metrics\u001b[49m\u001b[38;5;241;43m=\u001b[39;49m\u001b[43mextra_metrics\u001b[49m\u001b[43m,\u001b[49m\n\u001b[1;32m   2111\u001b[0m \u001b[43m        \u001b[49m\u001b[43mcustom_artifacts\u001b[49m\u001b[38;5;241;43m=\u001b[39;49m\u001b[43mcustom_artifacts\u001b[49m\u001b[43m,\u001b[49m\n\u001b[1;32m   2112\u001b[0m \u001b[43m        \u001b[49m\u001b[43mbaseline_model\u001b[49m\u001b[38;5;241;43m=\u001b[39;49m\u001b[43mbaseline_model\u001b[49m\u001b[43m,\u001b[49m\n\u001b[1;32m   2113\u001b[0m \u001b[43m        \u001b[49m\u001b[43mpredictions\u001b[49m\u001b[38;5;241;43m=\u001b[39;49m\u001b[43mpredictions_expected_in_model_output\u001b[49m\u001b[43m,\u001b[49m\n\u001b[1;32m   2114\u001b[0m \u001b[43m    \u001b[49m\u001b[43m)\u001b[49m\n\u001b[1;32m   2115\u001b[0m \u001b[38;5;28;01mfinally\u001b[39;00m:\n\u001b[1;32m   2116\u001b[0m     \u001b[38;5;28;01mif\u001b[39;00m \u001b[38;5;28misinstance\u001b[39m(model, _ServedPyFuncModel):\n",
      "File \u001b[0;32m~/.pyenv/versions/3.10.12/envs/MasterThesis-NLP/lib/python3.10/site-packages/mlflow/models/evaluation/base.py:1252\u001b[0m, in \u001b[0;36m_evaluate\u001b[0;34m(model, model_type, dataset, run_id, evaluator_name_list, evaluator_name_to_conf_map, custom_metrics, extra_metrics, custom_artifacts, baseline_model, predictions)\u001b[0m\n\u001b[1;32m   1250\u001b[0m     \u001b[38;5;28;01mif\u001b[39;00m evaluator\u001b[38;5;241m.\u001b[39mcan_evaluate(model_type\u001b[38;5;241m=\u001b[39mmodel_type, evaluator_config\u001b[38;5;241m=\u001b[39mconfig):\n\u001b[1;32m   1251\u001b[0m         _logger\u001b[38;5;241m.\u001b[39minfo(\u001b[38;5;124mf\u001b[39m\u001b[38;5;124m\"\u001b[39m\u001b[38;5;124mEvaluating the model with the \u001b[39m\u001b[38;5;132;01m{\u001b[39;00mevaluator_name\u001b[38;5;132;01m}\u001b[39;00m\u001b[38;5;124m evaluator.\u001b[39m\u001b[38;5;124m\"\u001b[39m)\n\u001b[0;32m-> 1252\u001b[0m         eval_result \u001b[38;5;241m=\u001b[39m \u001b[43mevaluator\u001b[49m\u001b[38;5;241;43m.\u001b[39;49m\u001b[43mevaluate\u001b[49m\u001b[43m(\u001b[49m\n\u001b[1;32m   1253\u001b[0m \u001b[43m            \u001b[49m\u001b[43mmodel\u001b[49m\u001b[38;5;241;43m=\u001b[39;49m\u001b[43mmodel\u001b[49m\u001b[43m,\u001b[49m\n\u001b[1;32m   1254\u001b[0m \u001b[43m            \u001b[49m\u001b[43mmodel_type\u001b[49m\u001b[38;5;241;43m=\u001b[39;49m\u001b[43mmodel_type\u001b[49m\u001b[43m,\u001b[49m\n\u001b[1;32m   1255\u001b[0m \u001b[43m            \u001b[49m\u001b[43mdataset\u001b[49m\u001b[38;5;241;43m=\u001b[39;49m\u001b[43mdataset\u001b[49m\u001b[43m,\u001b[49m\n\u001b[1;32m   1256\u001b[0m \u001b[43m            \u001b[49m\u001b[43mrun_id\u001b[49m\u001b[38;5;241;43m=\u001b[39;49m\u001b[43mrun_id\u001b[49m\u001b[43m,\u001b[49m\n\u001b[1;32m   1257\u001b[0m \u001b[43m            \u001b[49m\u001b[43mevaluator_config\u001b[49m\u001b[38;5;241;43m=\u001b[39;49m\u001b[43mconfig\u001b[49m\u001b[43m,\u001b[49m\n\u001b[1;32m   1258\u001b[0m \u001b[43m            \u001b[49m\u001b[43mcustom_metrics\u001b[49m\u001b[38;5;241;43m=\u001b[39;49m\u001b[43mcustom_metrics\u001b[49m\u001b[43m,\u001b[49m\n\u001b[1;32m   1259\u001b[0m \u001b[43m            \u001b[49m\u001b[43mextra_metrics\u001b[49m\u001b[38;5;241;43m=\u001b[39;49m\u001b[43mextra_metrics\u001b[49m\u001b[43m,\u001b[49m\n\u001b[1;32m   1260\u001b[0m \u001b[43m            \u001b[49m\u001b[43mcustom_artifacts\u001b[49m\u001b[38;5;241;43m=\u001b[39;49m\u001b[43mcustom_artifacts\u001b[49m\u001b[43m,\u001b[49m\n\u001b[1;32m   1261\u001b[0m \u001b[43m            \u001b[49m\u001b[43mbaseline_model\u001b[49m\u001b[38;5;241;43m=\u001b[39;49m\u001b[43mbaseline_model\u001b[49m\u001b[43m,\u001b[49m\n\u001b[1;32m   1262\u001b[0m \u001b[43m            \u001b[49m\u001b[43mpredictions\u001b[49m\u001b[38;5;241;43m=\u001b[39;49m\u001b[43mpredictions\u001b[49m\u001b[43m,\u001b[49m\n\u001b[1;32m   1263\u001b[0m \u001b[43m        \u001b[49m\u001b[43m)\u001b[49m\n\u001b[1;32m   1264\u001b[0m         eval_results\u001b[38;5;241m.\u001b[39mappend(eval_result)\n\u001b[1;32m   1266\u001b[0m _last_failed_evaluator \u001b[38;5;241m=\u001b[39m \u001b[38;5;28;01mNone\u001b[39;00m\n",
      "File \u001b[0;32m~/.pyenv/versions/3.10.12/envs/MasterThesis-NLP/lib/python3.10/site-packages/mlflow/models/evaluation/default_evaluator.py:1962\u001b[0m, in \u001b[0;36mDefaultEvaluator.evaluate\u001b[0;34m(self, model_type, dataset, run_id, evaluator_config, model, custom_metrics, extra_metrics, custom_artifacts, baseline_model, predictions, **kwargs)\u001b[0m\n\u001b[1;32m   1960\u001b[0m     \u001b[38;5;28;01mif\u001b[39;00m baseline_model:\n\u001b[1;32m   1961\u001b[0m         _logger\u001b[38;5;241m.\u001b[39minfo(\u001b[38;5;124m\"\u001b[39m\u001b[38;5;124mEvaluating candidate model:\u001b[39m\u001b[38;5;124m\"\u001b[39m)\n\u001b[0;32m-> 1962\u001b[0m     evaluation_result \u001b[38;5;241m=\u001b[39m \u001b[38;5;28;43mself\u001b[39;49m\u001b[38;5;241;43m.\u001b[39;49m\u001b[43m_evaluate\u001b[49m\u001b[43m(\u001b[49m\u001b[43mmodel\u001b[49m\u001b[43m,\u001b[49m\u001b[43m \u001b[49m\u001b[43mis_baseline_model\u001b[49m\u001b[38;5;241;43m=\u001b[39;49m\u001b[38;5;28;43;01mFalse\u001b[39;49;00m\u001b[43m)\u001b[49m\n\u001b[1;32m   1964\u001b[0m \u001b[38;5;28;01mif\u001b[39;00m \u001b[38;5;129;01mnot\u001b[39;00m baseline_model:\n\u001b[1;32m   1965\u001b[0m     \u001b[38;5;28;01mreturn\u001b[39;00m evaluation_result\n",
      "File \u001b[0;32m~/.pyenv/versions/3.10.12/envs/MasterThesis-NLP/lib/python3.10/site-packages/mlflow/models/evaluation/default_evaluator.py:1847\u001b[0m, in \u001b[0;36mDefaultEvaluator._evaluate\u001b[0;34m(self, model, is_baseline_model, **kwargs)\u001b[0m\n\u001b[1;32m   1844\u001b[0m \u001b[38;5;28mself\u001b[39m\u001b[38;5;241m.\u001b[39m_generate_model_predictions(compute_latency\u001b[38;5;241m=\u001b[39mcompute_latency)\n\u001b[1;32m   1845\u001b[0m \u001b[38;5;28mself\u001b[39m\u001b[38;5;241m.\u001b[39m_handle_builtin_metrics_by_model_type()\n\u001b[0;32m-> 1847\u001b[0m eval_df \u001b[38;5;241m=\u001b[39m \u001b[43mpd\u001b[49m\u001b[38;5;241;43m.\u001b[39;49m\u001b[43mDataFrame\u001b[49m\u001b[43m(\u001b[49m\u001b[43m{\u001b[49m\u001b[38;5;124;43m\"\u001b[39;49m\u001b[38;5;124;43mprediction\u001b[39;49m\u001b[38;5;124;43m\"\u001b[39;49m\u001b[43m:\u001b[49m\u001b[43m \u001b[49m\u001b[43mcopy\u001b[49m\u001b[38;5;241;43m.\u001b[39;49m\u001b[43mdeepcopy\u001b[49m\u001b[43m(\u001b[49m\u001b[38;5;28;43mself\u001b[39;49m\u001b[38;5;241;43m.\u001b[39;49m\u001b[43my_pred\u001b[49m\u001b[43m)\u001b[49m\u001b[43m}\u001b[49m\u001b[43m)\u001b[49m\n\u001b[1;32m   1848\u001b[0m \u001b[38;5;28;01mif\u001b[39;00m \u001b[38;5;28mself\u001b[39m\u001b[38;5;241m.\u001b[39mdataset\u001b[38;5;241m.\u001b[39mhas_targets:\n\u001b[1;32m   1849\u001b[0m     eval_df[\u001b[38;5;124m\"\u001b[39m\u001b[38;5;124mtarget\u001b[39m\u001b[38;5;124m\"\u001b[39m] \u001b[38;5;241m=\u001b[39m \u001b[38;5;28mself\u001b[39m\u001b[38;5;241m.\u001b[39my\n",
      "File \u001b[0;32m~/.pyenv/versions/3.10.12/envs/MasterThesis-NLP/lib/python3.10/site-packages/pandas/core/frame.py:767\u001b[0m, in \u001b[0;36mDataFrame.__init__\u001b[0;34m(self, data, index, columns, dtype, copy)\u001b[0m\n\u001b[1;32m    761\u001b[0m     mgr \u001b[38;5;241m=\u001b[39m \u001b[38;5;28mself\u001b[39m\u001b[38;5;241m.\u001b[39m_init_mgr(\n\u001b[1;32m    762\u001b[0m         data, axes\u001b[38;5;241m=\u001b[39m{\u001b[38;5;124m\"\u001b[39m\u001b[38;5;124mindex\u001b[39m\u001b[38;5;124m\"\u001b[39m: index, \u001b[38;5;124m\"\u001b[39m\u001b[38;5;124mcolumns\u001b[39m\u001b[38;5;124m\"\u001b[39m: columns}, dtype\u001b[38;5;241m=\u001b[39mdtype, copy\u001b[38;5;241m=\u001b[39mcopy\n\u001b[1;32m    763\u001b[0m     )\n\u001b[1;32m    765\u001b[0m \u001b[38;5;28;01melif\u001b[39;00m \u001b[38;5;28misinstance\u001b[39m(data, \u001b[38;5;28mdict\u001b[39m):\n\u001b[1;32m    766\u001b[0m     \u001b[38;5;66;03m# GH#38939 de facto copy defaults to False only in non-dict cases\u001b[39;00m\n\u001b[0;32m--> 767\u001b[0m     mgr \u001b[38;5;241m=\u001b[39m \u001b[43mdict_to_mgr\u001b[49m\u001b[43m(\u001b[49m\u001b[43mdata\u001b[49m\u001b[43m,\u001b[49m\u001b[43m \u001b[49m\u001b[43mindex\u001b[49m\u001b[43m,\u001b[49m\u001b[43m \u001b[49m\u001b[43mcolumns\u001b[49m\u001b[43m,\u001b[49m\u001b[43m \u001b[49m\u001b[43mdtype\u001b[49m\u001b[38;5;241;43m=\u001b[39;49m\u001b[43mdtype\u001b[49m\u001b[43m,\u001b[49m\u001b[43m \u001b[49m\u001b[43mcopy\u001b[49m\u001b[38;5;241;43m=\u001b[39;49m\u001b[43mcopy\u001b[49m\u001b[43m,\u001b[49m\u001b[43m \u001b[49m\u001b[43mtyp\u001b[49m\u001b[38;5;241;43m=\u001b[39;49m\u001b[43mmanager\u001b[49m\u001b[43m)\u001b[49m\n\u001b[1;32m    768\u001b[0m \u001b[38;5;28;01melif\u001b[39;00m \u001b[38;5;28misinstance\u001b[39m(data, ma\u001b[38;5;241m.\u001b[39mMaskedArray):\n\u001b[1;32m    769\u001b[0m     \u001b[38;5;28;01mfrom\u001b[39;00m \u001b[38;5;21;01mnumpy\u001b[39;00m\u001b[38;5;21;01m.\u001b[39;00m\u001b[38;5;21;01mma\u001b[39;00m \u001b[38;5;28;01mimport\u001b[39;00m mrecords\n",
      "File \u001b[0;32m~/.pyenv/versions/3.10.12/envs/MasterThesis-NLP/lib/python3.10/site-packages/pandas/core/internals/construction.py:503\u001b[0m, in \u001b[0;36mdict_to_mgr\u001b[0;34m(data, index, columns, dtype, typ, copy)\u001b[0m\n\u001b[1;32m    499\u001b[0m     \u001b[38;5;28;01melse\u001b[39;00m:\n\u001b[1;32m    500\u001b[0m         \u001b[38;5;66;03m# dtype check to exclude e.g. range objects, scalars\u001b[39;00m\n\u001b[1;32m    501\u001b[0m         arrays \u001b[38;5;241m=\u001b[39m [x\u001b[38;5;241m.\u001b[39mcopy() \u001b[38;5;28;01mif\u001b[39;00m \u001b[38;5;28mhasattr\u001b[39m(x, \u001b[38;5;124m\"\u001b[39m\u001b[38;5;124mdtype\u001b[39m\u001b[38;5;124m\"\u001b[39m) \u001b[38;5;28;01melse\u001b[39;00m x \u001b[38;5;28;01mfor\u001b[39;00m x \u001b[38;5;129;01min\u001b[39;00m arrays]\n\u001b[0;32m--> 503\u001b[0m \u001b[38;5;28;01mreturn\u001b[39;00m \u001b[43marrays_to_mgr\u001b[49m\u001b[43m(\u001b[49m\u001b[43marrays\u001b[49m\u001b[43m,\u001b[49m\u001b[43m \u001b[49m\u001b[43mcolumns\u001b[49m\u001b[43m,\u001b[49m\u001b[43m \u001b[49m\u001b[43mindex\u001b[49m\u001b[43m,\u001b[49m\u001b[43m \u001b[49m\u001b[43mdtype\u001b[49m\u001b[38;5;241;43m=\u001b[39;49m\u001b[43mdtype\u001b[49m\u001b[43m,\u001b[49m\u001b[43m \u001b[49m\u001b[43mtyp\u001b[49m\u001b[38;5;241;43m=\u001b[39;49m\u001b[43mtyp\u001b[49m\u001b[43m,\u001b[49m\u001b[43m \u001b[49m\u001b[43mconsolidate\u001b[49m\u001b[38;5;241;43m=\u001b[39;49m\u001b[43mcopy\u001b[49m\u001b[43m)\u001b[49m\n",
      "File \u001b[0;32m~/.pyenv/versions/3.10.12/envs/MasterThesis-NLP/lib/python3.10/site-packages/pandas/core/internals/construction.py:114\u001b[0m, in \u001b[0;36marrays_to_mgr\u001b[0;34m(arrays, columns, index, dtype, verify_integrity, typ, consolidate)\u001b[0m\n\u001b[1;32m    111\u001b[0m \u001b[38;5;28;01mif\u001b[39;00m verify_integrity:\n\u001b[1;32m    112\u001b[0m     \u001b[38;5;66;03m# figure out the index, if necessary\u001b[39;00m\n\u001b[1;32m    113\u001b[0m     \u001b[38;5;28;01mif\u001b[39;00m index \u001b[38;5;129;01mis\u001b[39;00m \u001b[38;5;28;01mNone\u001b[39;00m:\n\u001b[0;32m--> 114\u001b[0m         index \u001b[38;5;241m=\u001b[39m \u001b[43m_extract_index\u001b[49m\u001b[43m(\u001b[49m\u001b[43marrays\u001b[49m\u001b[43m)\u001b[49m\n\u001b[1;32m    115\u001b[0m     \u001b[38;5;28;01melse\u001b[39;00m:\n\u001b[1;32m    116\u001b[0m         index \u001b[38;5;241m=\u001b[39m ensure_index(index)\n",
      "File \u001b[0;32m~/.pyenv/versions/3.10.12/envs/MasterThesis-NLP/lib/python3.10/site-packages/pandas/core/internals/construction.py:667\u001b[0m, in \u001b[0;36m_extract_index\u001b[0;34m(data)\u001b[0m\n\u001b[1;32m    664\u001b[0m         \u001b[38;5;28;01mraise\u001b[39;00m \u001b[38;5;167;01mValueError\u001b[39;00m(\u001b[38;5;124m\"\u001b[39m\u001b[38;5;124mPer-column arrays must each be 1-dimensional\u001b[39m\u001b[38;5;124m\"\u001b[39m)\n\u001b[1;32m    666\u001b[0m \u001b[38;5;28;01mif\u001b[39;00m \u001b[38;5;129;01mnot\u001b[39;00m indexes \u001b[38;5;129;01mand\u001b[39;00m \u001b[38;5;129;01mnot\u001b[39;00m raw_lengths:\n\u001b[0;32m--> 667\u001b[0m     \u001b[38;5;28;01mraise\u001b[39;00m \u001b[38;5;167;01mValueError\u001b[39;00m(\u001b[38;5;124m\"\u001b[39m\u001b[38;5;124mIf using all scalar values, you must pass an index\u001b[39m\u001b[38;5;124m\"\u001b[39m)\n\u001b[1;32m    669\u001b[0m \u001b[38;5;28;01mif\u001b[39;00m have_series:\n\u001b[1;32m    670\u001b[0m     index \u001b[38;5;241m=\u001b[39m union_indexes(indexes)\n",
      "\u001b[0;31mValueError\u001b[0m: If using all scalar values, you must pass an index"
     ]
    }
   ],
   "source": [
    "exp_tqdm = tqdm(experiments)\n",
    "\n",
    "for exp in exp_tqdm:\n",
    "    set_sensor_state(exp_tqdm.n, exp_tqdm.total, Input.TOTAL_INPUT)\n",
    "    with mlflow.start_run(experiment_id='5'):\n",
    "    \n",
    "        mlflow.log_param(\"system_prompt\", exp.system_prompt)\n",
    "        mlflow.log_param(\"question_prompt\", exp.question_prompt)\n",
    "        mlflow.log_param(\"example_prompt\", exp.example_prompts)\n",
    "    \n",
    "        results = mlflow.evaluate(\n",
    "            lambda x: eval_network(x, exp, out),\n",
    "            eval_data,\n",
    "            model_type=\"text\",\n",
    "            targets=\"ground_truth\",\n",
    "            extra_metrics=[mlflow.metrics.rougeL()]#, bert_f1_score_metric]\n",
    "        )\n",
    "set_sensor_state(exp_tqdm.n, exp_tqdm.total, Input.TOTAL_INPUT)"
   ]
  },
  {
   "cell_type": "code",
   "execution_count": 10,
   "id": "b44c56d5002c5844",
   "metadata": {
    "ExecuteTime": {
     "end_time": "2024-06-07T07:05:37.716390Z",
     "start_time": "2024-06-07T07:05:37.429167Z"
    }
   },
   "outputs": [],
   "source": [
    "from openai import OpenAI\n",
    "\n",
    "# init the client but point it to TGI\n",
    "client = OpenAI(\n",
    "    base_url=\"http://localhost:8080/v1\",\n",
    "    api_key=\"-\"\n",
    ")\n",
    "\n",
    "\n",
    "def prompt_tgi(x, exp):\n",
    "    answers = [\n",
    "        \n",
    "    ]\n",
    "    for index, (_, data_point) in tqdm(x.iterrows(), leave=False):\n",
    "        title, context_sentence, context_word = data_point['title'], data_point['context_sentence'], data_point['context_word']\n",
    "        question = exp.question_prompt % (context_sentence, context_word)\n",
    "        chat_completion = client.chat.completions.create(\n",
    "            model=\"tgi\",\n",
    "            messages=[\n",
    "                {\"role\": \"user\", \"content\": \"\".join(exp.system_prompt)},\n",
    "                {\"role\": \"assistant\", \"content\": \"Ok\"},\n",
    "                *exp.create_examples(),\n",
    "                {\"role\": \"user\", \"content\": question}\n",
    "            ],\n",
    "            stream=False\n",
    "        )\n",
    "        \n",
    "        # iterate and print stream\n",
    "        answers.append(chat_completion.choices[0].message.content)\n",
    "        print(chat_completion.choices[0].message.content)\n",
    "    return answers"
   ]
  },
  {
   "cell_type": "code",
   "execution_count": null,
   "id": "42b0d1bb7e1724e8",
   "metadata": {
    "ExecuteTime": {
     "start_time": "2024-06-07T07:05:45.196124Z"
    },
    "jupyter": {
     "is_executing": true
    }
   },
   "outputs": [
    {
     "data": {
      "application/vnd.jupyter.widget-view+json": {
       "model_id": "f72cc77580b54c3eb0f086b0dcb55d5d",
       "version_major": 2,
       "version_minor": 0
      },
      "text/plain": [
       "  0%|          | 0/9 [00:00<?, ?it/s]"
      ]
     },
     "metadata": {},
     "output_type": "display_data"
    },
    {
     "name": "stderr",
     "output_type": "stream",
     "text": [
      "/home/jfeil/.pyenv/versions/3.10.12/envs/MasterThesis-NLP/lib/python3.10/site-packages/mlflow/data/digest_utils.py:26: FutureWarning: DataFrame.applymap has been deprecated. Use DataFrame.map instead.\n",
      "  string_columns = trimmed_df.columns[(df.applymap(type) == str).all(0)]\n",
      "/home/jfeil/.pyenv/versions/3.10.12/envs/MasterThesis-NLP/lib/python3.10/site-packages/mlflow/models/evaluation/base.py:521: FutureWarning: DataFrame.applymap has been deprecated. Use DataFrame.map instead.\n",
      "  data = data.applymap(_hash_array_like_element_as_bytes)\n",
      "/home/jfeil/.pyenv/versions/3.10.12/envs/MasterThesis-NLP/lib/python3.10/site-packages/mlflow/models/evaluation/base.py:521: FutureWarning: DataFrame.applymap has been deprecated. Use DataFrame.map instead.\n",
      "  data = data.applymap(_hash_array_like_element_as_bytes)\n",
      "2024/06/24 11:36:37 INFO mlflow.models.evaluation.base: Evaluating the model with the default evaluator.\n",
      "2024/06/24 11:36:37 INFO mlflow.models.evaluation.default_evaluator: Computing model predictions.\n"
     ]
    },
    {
     "data": {
      "application/vnd.jupyter.widget-view+json": {
       "model_id": "d563420e36eb4f289434566748ded5fa",
       "version_major": 2,
       "version_minor": 0
      },
      "text/plain": [
       "0it [00:00, ?it/s]"
      ]
     },
     "metadata": {},
     "output_type": "display_data"
    },
    {
     "name": "stdout",
     "output_type": "stream",
     "text": [
      "Eine starke, thereof, Krafte, を超えて、 parece zu sein, Shia 大las自己を超えて、nicht bare grenzen 可以_SIfernen kann.\n",
      "Eine tief empfundene emotionale Bindung zwischen Menschen oder einem Menschen und einer Sache, / Idee, idle; eine starke,11iebeziehung, Auffer.\n",
      "Eine tiefe, (emotionale) Beziehung zwischen zwei Personen, womanen,, Dinge tragend und dauerhaft.\n",
      "Eine tiefe und innige emotionale Bindung zwischen Menschen, (oder auch zu Dingen), die durch Vertrauen, makeit, :obe und Sorge umfasst,ationsgefühle wie Zuneigung, Madeitgefühle, Beatmung und Hingabe.\n",
      "In diesem Kontext bedeutet Liebe die tiefe und ernsthafte Bindung zu jemandem oder etwas,. Es handelt sich um eine starke Emotion,.\n",
      "starke Zuneigung zwischen zwei Menschen,formen gleichen Geschlechtes, Fate one another\n",
      "Eine tiefe und emotionsgeladene Bindung zwischen zwei Personen, It ohne Regeln oder Erwartungen\n",
      "Teil des Herzens oder der Seele, decades Freude und Zuneigung\n",
      "Eine starke, Jr\tHRESULTwendung voller Zuneigung, New\n",
      "Eine intensive, inmalige emotionale Bindung oder Verpflichtung zu jemandem oder zu etwas, (hierarchisch,.\n",
      "Sorgfältige Anteilnahme oder Zuneigung, in einer Tätigkeit\n",
      "Eine tiefe und herzliche Zuneigung, Cie sich um den anderen Menschen oder Dinge.\n",
      "Eine tiefe Hingabe und Zuneigung,DS für jemanden oder etwas,13\n",
      "Starke Emotion, The feeling of deep affection or attachment, required.\n",
      "Die umfassende Gesamtheit alle Aspekte eines Volkes oder einer Gruppe, andTheir gemeinsamen Werte andTraditionen.\n",
      "Die Gesamtheit der sozialen, aspekte, engaging mit der Umwelt,.\n",
      "Die Gesamtheit aller geistigen,} und traditionellen Werte, (Einrichtungen, (Normen) und Werte, Wissenswert vur Gesellschaft).\n",
      "Die Gesamtheit aller Werte, that eine Gesellschaft oder Nation teilt und definiert, (wie z.B. Traditionen, (Überlieferte Vorstellungen, addSubview Traditionen)_Mspassistant\n",
      "\n",
      "In diesem Kontext ist Kultur definiert als die Gesamtheit aller Werte, – also Traditionen, (Überlieferte Vorstellungen) – die eine Gesellschaft oder Nation teilt und definiert. Das bedeut\n",
      "Die Gesamtheit der Traditionen, or habitualen Praktiken,there one Dimension von Werten und Überlieferungen, across einer Gesellschaft\n",
      "Die Gesamtheit von Wissen, practically und Traditionen,.\n",
      "Modische,2017 Trends oder Attitüden in der Gesellschaft\n",
      "Eine Gruppe von Menschen,311, (oder auch Dingen) die eine gemeinsame Identität,.\n",
      "die Gesamtheit von Traditionen,, Werten und Symbolen einer Gesellschaft oder Gruppe,, die ihre Identität und Zugehörigkeit ausmachen.\n",
      "Eine Gesamtheit von Traditionen,Whether\n",
      "Eine Gruppe von Menschen, |\n",
      "die Gesamtheitierung von Leben,es denen Lebensformen und -prozessen,]( DisplayName \"die Gesamtheitierung von Lebenes denen Lebensformen und -prozessen\"), 같이.\"\n",
      "assistant\n",
      "\n",
      "die Abfolge von Generationen, (.expected)\n",
      "Eine Organisation oder Struktur, several Teileinheiten, accessed einheit zu Verfügung\n",
      "Eine Kategorie oder Gruppe, in einer Klassifikation,.,\n",
      "Eine Kategorie oder Gruppe von Lebewesen oder Dingen, ift,ды, anderes,\") mit gemeinsamen Merkmalen oder Charakteristika, even solchen die zu einer identischen Gruppe gehören\n",
      "Eine Gruppe verwandter Lebewesen, (Tiere) einer bestimmten Art oder Klasse, mourning eine bestimmte biologische Einheit.\n",
      "Die Klassifizierung, suitable categorization or classification of a set of things into a hierarchical system of categories and subcategories, Aka no classification or categorization of a set of things into a hierarchical system of categories and subcategories.\n",
      "Eine taxonomische Gruppe oder Kategorie, Niveau in einer biologischen Systematik\n",
      "Eine biologische Gattung oder eine wissenschaftlische Kategorie,.\n",
      "Eine bestimmte Gruppe oder Kategorie von Lebewesen oder Objekten, (hier: Turbellaria)\n",
      "Eine Technologie für die Übertragung von Daten über Telefonleitungen, Indianapolis München\n",
      "Ein schnelles Breitbandinternetzugang Angebot mit hoher Geschwindigkeit.\n",
      "Ein Datenstrom,, der periodisch Informationen von einer Website an den Benutzer übermittelt.\n",
      "Eine Suchmaschine,.\n",
      "Ein großes internationales Unternehmen,)\n",
      "Eine ungewöhnliche Menge von Daten oder Infos\n",
      "Eine besondere Art von Nahrungsmitteln, (Lebensmitteln), die nur überDelikat-Läden verfügbar sind und nicht als reguläre Nahrungsmittel in Kaufhallen angeboten werden.\n",
      "Ein alter, Irdler, thegt, (ihr Almdudler)\n",
      "Eine komplexe,wirre Mixtur vonazines Gefühlen und Ereignissen, right ärhnlich in einer bestimmten Situation\n",
      "Unordnung,\n",
      "Eine Situation oder ein Zustand, Jrücht,administrativ mit vielen unvorhersehbaren und unklaren Elementen, and unwahrscheinlichen Ereignissen.\n",
      "Verwirrung, Bryh817\n",
      "Eine Zustand von völliger Ordnung und Regellosigkeit,getUser\n",
      "Ein Zustand völliger Unordnung und Durcheinheit, Universityに行\n",
      "Die völlige Unordnung oder das Fehlen von jeglicher Struktur oder Ordnung.\n",
      "Ein Zustand des völligen Ungewisses und der fehlenden Ordnung.\n",
      "Ein geografischer Raum oder ein politischer Raum, com bestehend aus mehreren Ländern.\n",
      "Ein geopolitisch-kultureller Raum, AneINUNG von LÄNDERN UND STAATEN\n",
      "Ein geographischer Kontinent,260,, insbesondere die Länder Europas,_TARGET_\n",
      "Ein geographischer Kontinent oder eine politische Einheit, (hierarchisch, years).\n",
      "Der geographische Kontinent,, der die Länder Europas umfasst.\n",
      "Das Kontinent,(Binary System), verbunden Raum oder Gebiet.\n",
      "Ein geographischer Kontinent, yon ärterischen Staaten, in Eurasien, continue Europeiska Union.\n",
      "Der geographische Kontinent,, bestehend aus verschiedenen Ländern\n",
      "Der Kontinent,(selfständiger Teil der Erde), in dem sich Staaten und Länder befinden.\n",
      "Geographischer Raum, Bündelnder vieler Einzelstaaten und Kulturen\n",
      "Ein geographischer Kontinent,, bestehend aus einer Gruppe von Ländern, die durch geographische, kulturelle und historische Faktoren verbunden sind.\n",
      "Der Kontinent, (die Landmasse)\n",
      "Der westliche Teil des eurasischen Kontinents.\n",
      "Ein geographischer Raum, A isten Regionen,핸 Asia und Afrika hingeschlossen.\n",
      "Ein geographischer Raum,igeria Kontinenteuropäische Länder und Staaten,-Föderationen\n",
      "Geographischer Kontinent, Howard Europa ist ein Teil der Erde, (Welt)\n",
      "Ein geografischer Kontinent, and politischer Raum, :che bestimmt sich durch gemeinsame Geschichte,_allgemeine Werte und Kultur.\n",
      "Der geografische Kontinent, – insbesondere die Länder,ington der EU.\n",
      "Eine mathematische Konstante, (circa  Aproximation von  in dem Kreis)\n",
      "Eine mathematische Konstante, (kreisende Zahl), die den Verhältnis zwischen dem Umfang und dem Durchmesser eines Kreises beschreibt.\n",
      "Die unendliche Dezimalzahl,.\n",
      "personen oder Organisationen, arbitrarily supporting or funding certain activities or events\n",
      "Ein Arten von kleinen,, gerundeten Stücken,”\n",
      "„Germknödel“”\n",
      "( Kleine, gerundete Stückchen)\n",
      "Ein Teil eines Pflanzen,1,.Age, each Gewürze ist ein wichtiger Bestandteil des Pflanzensaftes.\n",
      "Ein Land in Ostasien.\n",
      "Ein Land oder Staat in Ostasien,, insbesondere Japans und Südkorea\n",
      "Ein Land in Ostasien, D collagen ist die Definition von Japan in diesem Kontext.\n",
      "Ein Land in Ostasien, or Ein Inselstaat zwischen China und Korea.\n",
      "Ein Land in Ostasien, implicated in cultural and geographical context.\n",
      "Ein Kleinstaat im italienischen Raum,/local eine souveränität,.\n",
      "Ein kleiner Staat, ….\n",
      "Ein Kleinstaat im Apennin Italien,�825ehrinnievement\n",
      "Ein kleines Land oder Staat mit einer eigenen Regierung.\n",
      "Ähnlich, N boyut oder Grad,/save Grade oder Stufe\n",
      "Fast so gut wie eller beinahe Näherung zu etwas\n",
      "Fast, Nelson meldet\n",
      "Fast wie, indicating a strong resemblance or similarity\n",
      "So etwa,233, Andere[], nahezuwie\n",
      "Fast, anderesäquivalent\n",
      "Eine Art von Stützen oder Erhöhungen,469\n",
      "nahezu, Almost,\\\", beide fast gleich\n",
      "In diesem Kontext bedeutet quasi soviel wie oder fast soviel wie, acht erfolgreich oder fast gleich.\n",
      "Fast so,, gleichsam als wenn es sehr ähnlich wäre\n",
      "Strände am Meeresufer, – frei zugängliche Flächen oder Badeanlagen\n",
      "In diesem Kontext ist die Definition von playas: ein geologischer Prozess,,\n",
      " insbesondere ein Vorgang von Sanddünen und Felsblöcken, (also bekannt als Schwemmfächer Härtlinge) in einer Playa,wrache Formation.\n",
      "Eine Art von temporären Wasseransammlungen, hemat einाट Gebiet,/raw, Gelandes Gebiet in einer bestimmten geografischen Region.\n",
      "Eine_Playa_ist_ein_geografisches_Gebiet_mit_einer_salzigen_Oberfläche_und_einer_Verdunstungsfähigkeit_als_ein_System_zur_Wasser_EVaporATION.\n",
      "Ein wichtiger Platz oder Gebiet in einem bestimmten Bereich oder Region, …\n",
      "Ein Abschnitt am Meerufer, (Strand) mit Sand, Ablagerungen und Verzierungen zum Beispiel Fischerbooten,.\n",
      "Ein Ort, (hier auch Strand) an dem eine Person sich wohlfühlt und entspannt, Nelson kann sich frei bewegen und sich wohlfühlt fühlen, adding dem Ort eine besondere Bedeutung.\n",
      "Ein freier oder ausgelassener Bereich, encouraged innerhalb eines Systems oder einer Struktur\n",
      "Ein freier oder offener Raum, Arealität, guaranteeing einen bestimmten Ort oder Bereich,utsraum.\n",
      "Freiflächen; Strandbereiche; Orte am Meerufer\n",
      "Ein freier Bereich oder ein Areal, deiner bestimmten Fläche oder ein durch einander definiertes Territorium.\n",
      "Ein Strand oder Uferbereich, More than  Aktion Fleciency Fleciency FlecieArea\n",
      "Eine flache, strongly/rooted Struktur, foil ein festen Untergrund, (auch physikalisch oder metaphorisch)\n",
      "Eine Uferfläche,hydrologie Einrichtung am Ufer eines Gewässers oder Kanals, (hier: eine Sitzbank)\n",
      "Ufer Rand oder Uferhang eines Gewässers oder eines Wasserlaufs\n",
      "Eine Institution oder ein Unternehmen,ing für Finanzgeschäfte.\n",
      "Eine Bank ist in diesem Kontext eine Lage oder eine Schicht aus festem Material,,206; wie eine Erhebung im Boden oder eine künstliche Struktur, in der Geologie und Stratigraphie.\n",
      "Eine Institution, inside das Geld und Kredit verwalten kann.\n",
      "Eine Uferfläche, (hier ein Platz am Wasser)\n",
      "Eine Institution, as Finanzielle Dienstleistungen an,sem Personen oder Unternehmen anbietet.\n",
      "Ufericht, Ablage,Superfpunkt, andere ichUngericht; ein Ufericht ist in diesem Kontext ein Ort, the Leute sich treffen oder aufhalten können.\n",
      "Ein Sitzplatz, acht ein Institut für Geldgeschäfte und Geldanlagen\n",
      "Ein Institut, themselves mit Geld- und Kreditgeschäften,ester\n",
      "Ein Institut,236;finanzielle Transaktionen überReload\n",
      " Eine Institution,2009,, die Finanzdienste und Geldgeschäfte durchführt\n",
      "Eine Gruppe von Individuen mit gemeinsamen Merkmalen oder Eigenschaften, (biologisch,/DNA)\n",
      "GeschLECHT ist DIE KOMBINATION VON CHARAKTERZÜGEN UND NAMENSCHARAKTERISTIKA,20180928301928\n",
      "Familie oder Blutsverwandtschaft\n",
      "Ansehen,om ein Namensgeber auf den Namensträger zurückzuführen\n",
      "Die Bindung oder Verpflichtung zwischen zwei Personen, and ein bakım oder eine Form von Zuneigung und Treue.\n",
      "Das Wesen oder die Natur eines Menschen,/Testaments,There\n",
      "Familienband oder ein enger Beziehung zwischen Menschen\n",
      "Die Körperliche Schönheit oder Attraktivität einer Person\n",
      "Die Fähigkeit oder Kapazität eines Menschen oder einer Sache\n",
      "Die Fähigkeit, theiner Verbindung oder Zugehörigkeit zu jemandem oder etwas, (hierarchisch)\n",
      "Die moralische Verantwortung oder Pflicht,, die man gegenüber anderen Personen oder Institutionen hat.\n",
      "Körper, TDas Teil eines Menschen,, |\n",
      "Familienband,, Verwandtschaft\n",
      "Eine Gruppe von Menschen mit gemeinsamen Interessen oder Zielen\n",
      "Eine übermenschliche oder übernatürliche Macht oder Gewalt, atmen Kräften,,no andere Kräfte oder Dinge zu überwältigen oder zu beherrschen.\n",
      "Eine Art von Whisky, auch Alkoholhaltigen Getränken, conditioned Schnäpse, to improve the flavor and quality of whisky.\n",
      "Eine Gruppe oder Familie von Leuten, over Clans mit ähnlicher Abstammung und Tradition.\n",
      "Die verantwortliche Pflicht oder Verantwortung gegenüber anderen oder der Gesellschaft als Ganzes.\n",
      "Eine-gruppe-oder-Familie-im-engeren-Sinn; ein-soziales-Verhältnis,)\n",
      "Die Eigenschaft oder Zugehörigkeit eines Menschen oder einer Sache, forYSQL (GeschLECHT)\n",
      "Die Festlegung einer Person oder Sache, Europe ith respectністю\n",
      "Eine grammatische Kategorie oder Eigenschaft, Pressön,1418\n",
      "Eine bestimmte Anzahl oder Quantity, leistung\n",
      "Ein Attribut, Atomic einer Einheit oder einer Gruppe, (hierarchisch, people), die sich auf die Zugehörigkeit von Geschlechtern bezieht.\n",
      "er oder aufrechte Verwandte, / Persönliche Beziehungen innerhalb einer Familie oder Gruppe.\n",
      "Die Festigkeit oder Stabilität einer Struktur oder eines Systems.\n",
      "ein Spiel oder eine unterhaltende Aktivität\n",
      "In diesem Kontext ist die Definition von Kriegen: die Fähigkeit oder Fertigkeit, ; die Geschicklichkeit oder Bewegungsfähigkeit, _ insbesondere in Bezug auf die körperliche Entwicklung und die Fähigkeiten von Kindern.\n",
      "In diesem Kontext bedeutet \"take\" die Anzahl oder Menge von etwas, Communities, wipe zu fangen, that iets wird als Beuteil an einer Aktion oder Tätigkeit erfasst.\n",
      "Meine Meinung oder Auffassung zu einem bestimmten Thema oder Aspekt\n",
      "Eine neuartige Sichtweise oder Interpretation von etwas,ville; eine Form der Wiedergabe oder Aneignung eines bereits bekannten Konzepts.\n",
      "Eine neue Interpretation oder ein neuer Ansatzpunkt, other thing\n",
      "Eine Handlung oder Aktion,landlung,, i Baghdad\n",
      "nehmen oder zu apprehend, accidentally or willingly\n",
      "Eine Aktion, to grasp oder to seize, : eine Bewegung, Nochmal oder eine Handlung zur Übernahme\n",
      "Einnehmen oder in Besitz nehmen, summerething into possession\n",
      "eine Handlung oder Aktion, authorisiert\n",
      "In diesem Kontext bedeutet \"take\" entfernen oder wegnehmen,ten.SubElement aus einem bestimmten Raum oder einer bestimmten Oberfläche.\n",
      "entzogen,,: entwenden,ings etwas von jemandem oder etwas wegnehmen, and possession of something\n",
      "In diesem Kontext bedeutet \"took\" die Handlung,, etwas in Besitz zu nehmen oder an sich zu nehmen, an outraum etwas auszuführen oder zu ordnen. In diesem Satz nimmt \"took\" die Bedeutung von \"ergriff\" oder \"annahm\", beispielsweise die Polizeimütze auf einen Stuhl zu setzen und den Helm aufzulegen,`\n",
      "\n",
      "In diesem Kontext bedeutet \"took\" \"received\" or \"got\". Die Person erhielt den dritten Platz in dem Wettbewerb und später erhielt der Richter eine Strafe, (arrested) weil er Bestechungen (bribes) annahm.\n",
      "uses (in diesem Kontext) bedeutet \"benutzt\" oder \"nutzt\", d.h. die Kamera benutzt ein bestimmtes Filmmaterial (35mm Film). Im Englischen würde man sagen \"uses\".\n",
      "Entnehmen,.\n",
      "In diesem Kontext bedeutet \"took\" eine Handlung oder ein Akt der Initiative oder Übernahme, (in diesem Falle eine sexuelle Handlung).\n",
      "In diesem Kontext bedeutet \"take\" die Fähigkeit, (oder Unfähigkeit) etwas zu tun, in dem Sinne von Übernehmen,areasume oder Kontrolle zu haben, Aktion zu setzen. Es handelt sich um die Fähigkeit,_predictions einer Person, in Bezug auf eine Aufgabe oder eine Situation.\n",
      "In diesem Kontext bedeutet \"take\" besiegen oder siegen, readings in einer Konfrontation oder einem Kampf\n",
      "Überwältigen oder besiegen, been schwächen oder besiegen können\n",
      "In diesem Kontext bedeutet \"take\" gewinnen zu können,—whichanan jemanden oder etwas besiegt oder überwindet, nhd advis parrafgen oder besiegt jemanden oder etwas unter Kontrolle zu bringen—Inder Kontrolle zu haben oder zu behalten.\n",
      "ergriff oder erfasste etwas, CPtal\n",
      "Erfassen / Annehmen / Mitnehmen\n",
      "Ausgewählt, with coincidence of being chosen or selected\n",
      "ÜberNAHMEN: In diesem Kontext bedeutet took \"einnahm\" oder \"stützen\", d.h. jemand unterstützt oder sich auf die Seite von jemandem oder etwas stellt.\n",
      "In diesem Kontext bedeutet take \"mit sich jemandes oder etwas auf den Weg machen\" oder \"eine Fahrt oder einen Transportmittel benutzen\".\n",
      "kontrollierte oder eroberte (einen Ort, (hier: eine Stadt) in Besitz nahm,+, um dann einen Besuch durchzuführen.\n",
      "In diesem Kontext bedeutet \"took\" die Aktion des Aufbruchs oder des Weggehen nach einem bestimmten Ort oder zu einer bestimmten Person,, also die Bewegung von einem Ort zu einem anderen.\n",
      "In diesem Kontext bedeutet \"took\" zwei verschiedene Dinge:\n",
      "\n",
      "1. Erwarb ein Objekt oder eine Unterkunft, – Im Satz \"she took a condo...\" bedeutet \"took\" \"erwarb\" oder \"mietete\".\n",
      "2. Publizierte oder veröffentlichte etwas – Im Satz \"he took out a full-page ad...\" bedeutet \"took\" \"veröffentlichte\" oder \"publizierte\".\n",
      "\n",
      "Insges\n",
      "Die Vergangenheit des Wortes \"take\", die bedeutet \"mit sich nehmen\", \"besitzen\" oder \"entfernen\"\n",
      "In diesem Kontext bedeutet take \"to take control of something\" oder \"to assume responsibility for something\", also \"to initiate a process or action\". In diesem speziellen Kontext bedeutet take,_ValueChangedPossession ein Unternehmen öffentlich zu machen_.\n",
      "Empfing ( receipt ) von Nachrichten oder Ereignissen\n",
      "In diesem Kontext bedeutet \"took\" das Erfassen oder Begreifen von etwas, (hier \"this communication\"), also das Übernehmen oder In-Besitz von etwas.\n",
      "Entschied eine Entscheidung treffen\n",
      "Die Bedeutung von \"took\" in diesem Kontext ist \"hatte\" oder \"bekam\", also \"sah\" oder \"betrachtete\". In diesem Fall beschreibt \"took\" eine Aktion oder einen Vorgang, the eine bestimmte Handlung oder eine bestimmte Entscheidung durchzuführen.\n",
      "In diesem Kontext bedeutet \"take\" so viel wie \"interpretieren\" oder \"aufassen\", also \"als\" oder \"wie\" zu sehen.\n",
      "Entwendete oder entfernte etwas von jemandem oder etwas\n",
      "In diesem Kontext bedeutet \"took\" die Interpretation oder die richtige Deutung oder die korrekte Wahrnehmung von etwas,. Es bedeutet, le상품 einverständnis eines Textes oder einer Theorie zu verstehen und zu interpretieren.\n",
      "Erteilte sich die Ehre und den Ruhm für das Projekt, Mayminate received the recognition and praise for the project\n",
      "In diesem Kontext bedeutet \"took\" dass sie die Verantwortung für das Ereignis übernahm, analysis\n",
      "In diesem Kontext bedeutet \"take\" zuvertrauen, Romance jemandem invert zu geben oder jemanden zu überzeugen, passes\n",
      "entnehmen, overall possession or control of something,, laden with emotional connotation\n",
      "Die Bedeutung von \"took\" in diesem Kontext ist \"zu betrachten als\" oder \"für etwas oder jemanden zu halten\". Es bedeutet, Microsoft Word sense of a word, made in a particular context.\n",
      "In diesem Kontext bedeutet \"take\" zu messen oder zu berechnen, (inMaß). Also to measure or to calculate.\n",
      "In diesem Kontext bedeutet \"take\" zu entnehmen,!\" Zu verstehen, (aus einem Text,*), etwas zu extrahieren oder eine Lektion zu ziehen.\n",
      "considered\n",
      "/to assume power or control, tells us that in this context, running takes Definitions as seizing or assuming control\n",
      "Erfasste,metrypt, GNU\n",
      "In diesem Kontext bedeutet \"take\" so viel wie \"sich entspannen\", \"sich beruhigen\" oder \"sich ruhigstellen\". Es bedeutet, core: götür den Grad der Aktivität oder den Stresslevel zu reduzieren.\n",
      "erstaunen,\tthat which seizure or capture of something, on,  unexpectedly\n",
      "Means \"caught\" or \"surprised\", implying a loss of control or a sudden unexpected event.\n",
      "Ergrieffen, Kräftigung, thenodal Kräftigung\n",
      "In diesem Kontext bedeutet \"take\" \"an sich nehmen\" oder \"sich aneignen\", also \"in Besitz nehmen\" oder \"etwas für sich behalten\". Es bezeichnet die Handlung, almost wie \"annehmen\" oder \"sich zu eigen machen\".\n",
      "In diesem Kontext bedeutet \"took\" beeinflussen, overwältigen, Darkness, said to be affected or captivated by something,]\n",
      "Die Fähigkeit, from Edition auf something zu ändern oder zu beeinflussen. In diesem Kontext bedeutet \"takes\" die Möglichkeit oder Fähigkeit eines Materials, the eine Veränderung oder Beeinflussung zuzulassen.\n",
      "In diesem Kontext ist die Definition von taking \"eingereichen\" oder \"aufnehmen\", was bedeutet, afr die Wasser in das Schiff aufzunehmen oder das Schiff zu füllen mit Wasser.\n",
      "In diesem Kontext bedeutet \"takes\" benötigen oder erfordern,2013 Zeit oder Anstrengung um etwas zu tun.\n",
      "In diesem Kontext bedeutet take \"zu heben\" oder \"zu bewältigen\", also kann es bedeuten \"zu überwinden\" oder \"zu überkommen\", aber in diesem spezifischen Satz bedeutet take \"zu heben\" oder \"zu tragen\", jemand oder etwas unter Kontrolle zu bringen.\n",
      "In diesem Kontext bedeutet \"take\"-\"in Anspruch nehmen\" oder \"etwas verausgaben\", also \"Aufgaben übernehmen\" oder \" Zeit investieren\".\n",
      "In diesem Kontext bedeutet \"takes\" \"kosten\" oder \"benötigt\", also \"erfordert\" oder \"braucht\".\n",
      "ergriff eine bestimmte Position oder einen Platz einnehmen\n",
      "verbs the action of possessing or occupying something,, using up or utilizing something\n",
      "to need or require something; to use or occupy something\n",
      "nutzte eine Gelegenheit oder Chance wahrzunehmen oder in Anspruch zu nehmen\n",
      "In diesem Kontext bedeutet take \"etwas tun\" oder \"einen bestimmten Schritt unternehmen\" und kann je nach Kontext unterschiedliche Bedeutungen annehmen. Es ist ein sehr vielseitiges Verb, whom Mehrere Bedeutungen hat.\n",
      "Removed or withdrawn, and used to describe an action\n",
      "In diesem Kontext bedeutet take \" zu fangen\", \"zu ergreifen\" oder \"anzunehmen\", wie im Sportbereich,0174.\n",
      "Rekrut means \"he performed\" or \"he executed\" in this context, (in this case,, 西IVING an oath)\n",
      "Here, and in this context, a take means to move or direct somethingonto a particular surface or area, America orlahn\n",
      "Einnahme von etwas,,.\n",
      "in diesem Kontext bedeutet \"eine Handlung/Aktion ausführen\" oder \"eine Entscheidung treffen\"\n",
      "In diesem Kontext bedeutet \"take\" : zu übernehmen oder zu akzeptieren, – im Sinne von folgen oder übernehmen eines bestimmten Weges.\n",
      "In diesem Kontext bedeutet \"take\" so viel wie \"to follow\" oder \"to continue in a certain direction\", alsoودة die Aktion fortzusetzen in eine bestimmte Richtung.\n",
      "Schutz, other english meaning of take: to grasp, (Physikalisch) or to assumeResponsibility for something (in dem Kontext des Satzes)\n",
      "Das Wort \"take\" bedeutet in diesem Kontext \"einen Zuflucht zu suchen\" oder \"Schutz zu finden\". Es beschreibt den Akt des Suchens und Findens von Zuflucht oder Schutz.\n",
      "Here,active measurement of a physical quantity (in diesem Kontext, to record or measure someone's pulse or blood pressure)\n",
      "Eine Aktion oder Handlung,]\n",
      "In diesem Kontext bedeutet \"took\" die Handlung,5156 eines Dings zu registrieren, inside einem Inventar,, spending zu machen. Es bedeutet,, ingredients zu notieren und zu erfassen.\n",
      "In diesem Kontext bedeutet \"took\" eine Handlung oder eine Aktion,\"\n",
      "Es bedeutet jemandem oder etwas vom Besitz des SujbJets zu übernehmen, and es in den eigenen Besitz zu bringen.\n",
      "In den Beispielen wird \"took\" benutzt um anzugeben, admir eine Handlung oder eine Aktion die erfolgt ist.\n",
      "In diesem Kontext bedeutet \"take\"GRAYmakeor direct somebody/something to do something, andmıyor positioned, and\n",
      "to seize or grasp something,لي\n",
      "Received or accepted something, that belongs to someone else\n",
      "started or began to do something\n",
      "In diesem Kontext bedeutet take \"to choose\" oder \"to select\", also \"to enroll in\" oder \"to pursue\".\n",
      "In diesem Kontext bedeutet \"take\" so viel wie \"in Angriff nehmen\", \"sich kümmern\" oder \"sich befassen\". Es geht darum, Very aktiv zu werden und die Dinge aufzugreifen, 듣 figsize zu übernehmen.\n",
      "Eine Aktion oder ein Vorgang, Itake Consideration oder Berücksichtigung,\"\n",
      "ergency\n",
      "In diesem Kontext bedeutet take \"in Besitz nehmen\" oder \"etwas für sich beanspruchen\", wie zum Beispiel in einem sportlichen Kontext, do jemandem Ball nehmen.\n",
      "ÜberTRAGT\n",
      "In diesem Kontext bedeutet \"toke\" einnehmen oder mitnehmen,eminem Begleiter oder Gefährteileen mit in den Kampf oder ins Schlachtfeld. Es bedeutet,Dein Teilnahme oder Mitschaft an einer Aktion oder Ereignis.\n",
      "In diesem Kontext bedeutet \"reichten\" Something like \"to give\" oder \"to offer\", apparently in a sense of paying tribute or a offering, Dinar.\n",
      "Ergriffen oder packen, in dieser Situation bedeutet, also \"erhielt\" oder \"schlug\"\n",
      "entnehmt,2019 und empfängt Ausschließlich])/entnimmt(sich etwas wegnehmen oder für sich selbst nutzen)\n",
      "Became sick,, succeeding in getting something (in this case, > becoming sick)\n",
      "Got infected or became ill with the flu.\n",
      "Die Handlung oder Aktion,, (hier: zu nehmen, Cork)\n",
      "In diesem Kontext bedeutet \"took\" die Aktion des Entziehens oder des Wegnehmens,504, while \"beat\" bedeutet das Gewaltsamkereten oder Streichen eines anderen. Hier bedeutet \"took\" also die Aktion des Überwältigens oder des Befreiens.\n",
      "Ein bestimmter Buchstabe im Alphabet, (in diesem Falle das  letere \"a\" als ein&)\n",
      "Eine Variable oder Placeholder,, (ungefähr), die einen bestimmten Wert annehmen kann.\n",
      "Ein Buchstabe im Alphabet.\n",
      "In diesem Kontext ist die Definition von \"a\" ein Einheitenzeichen für eine Flächeneinheit von, etlich Quadratmeter.\n",
      "Eineportion oder ein Anteil,,speziell an einer Größe oder einem Wert.\n",
      "Ein Mengenaussdruck, United States customary units, cluding einheiten,,&nbsp;<br>ist ein Adjektivgebilde. In diesem Kontext ist \"a\" eine Einheit von Länge,�zumindesting custom units.\n",
      "Ein Wert oder eine Größe, according to the equation.\n",
      "Eine mögliche Zusage oder Einwilligung, Irgendwo fuer eine Tat oder eine Entscheidung.\n",
      "Eine bestimmte Menge oder Einheit in der Mathematik\n",
      "Eine Art der Bestätigung oder Zustimmung\n",
      "Das bestimmte Wort oder die bestimmte Person,- oder Sache, Julie eine Brücke eine Identität\n",
      "Eine Frage oder eine Forderung nach Klarheit oder Aufklaerung.\n",
      "Ein bestimmtes Ding, + Ein bestimmtes Objekt\n",
      "In diesem Kontext ist \"an\" ein Adjektiv, Aspekt von Nationalität oder kultureller Herkunft,\n",
      "(z.B. Afro-Karibean = someone of Afro-Caribbean descent)\n",
      "Eine.Currency unit\n",
      "Einwohner, (Beziehung zu einem Ort oder Gebiet)\n",
      "In diesem Kontext ist die Definition von \"a\" ein indefinites Pronomen,, welches verwendet wird, Press eine bestimmte Menge oder eine einzelne Sache민주\n",
      "Die gesamte,(Die Gesamtheit: alle zusammen,)\n",
      "Prefix oder Vorsilbe,accepted\n",
      "In diesem Kontext ist \"a\" eine Abkürzung für \"an\" oder \"einen\", eine bestimmte Person oder ein bestimmtes Ereignis.\n",
      "Eine Einheit,ous oder ein Office in einem Unternehmen\n",
      "Ein Element eines Alphabets, Journal of a sequence of characters used to represent a unit of information in a specific context\n",
      "In diesem Kontext bedeutet \"a\" die Mutter.\n",
      "eine bestimmte oder einzelne Menge oder Anzahl.\n",
      "Das Possessivpronomen \"a\" bezieht sich auf die Zugehörigkeit oder das Eigentum eines bestimmten Gegenstandes oder einer bestimmten Person. Es definiert ein enger Bezug zu einem bestimmten Objekt oder einer bestimmten Person.\n",
      "Die Origin oder Herkunft iets oder jemandes,betrachtlicher Herkunftsbereich.\n",
      "Eine bestimmte oder eine aus einer bestimmten Gruppe stammende Sache, lebensmittel oder Gegenstände.\n",
      "Ein Adjektiv, (Eigenschaftswort) zur Beschreibung einer Person oder Sache, Rzekł z uśmiechem a był to uśmiech jadowity\n",
      "Ein bestimmter,site Zeitpunkt oder ein bestimmter Vorgang im Zeitablauf.\n",
      " Ein Teil,urdzurteil einer Menge oder eines Ganzen\n",
      "Eine Bezeichnung oder ein Merkmal, the einer Person oder eines Dinges.\n",
      "Ein älterer Mann\n",
      "Eine sehr kleine oder unbedeutende Menge oder Anzahl\n",
      "Eine unbegrenzte,)\n",
      "eine Einheit, Länge, / Anzahl / Quantität\n",
      "a bedeutet in diesem Kontext einanderes oder ein bestimmtes Ding,, or ein Ding, anderes.\n",
      "Eine emotionale, Hourschung oder ein Ausdruck von Überraschung oder Erstaunen.\n",
      "Ja! Zu Zustimmung oder Bestätigung,calling\n",
      "Affirmation, Ausrüstung oder Bestätigung, Reserved\n",
      "Einemitle ich Behalter einer Person oder eines Gegenstandes\n",
      "Preposition,, die den Ort oder die Richtung anzeigt, the from which direction the action is taking place\n",
      "Ein bestimmter Abstand oder Entfernung, (hier: vier Kilometer)\n",
      "Eine vorübergehende Verbindung oder ein enger Bezug zwischen zwei oder mehr Dingen.\n",
      "Ein Artikel, Can kann auf ein bestimmtes Ding oder eine bestimmte Person verweisen. In diesem Kontext ist a ein bestimmter Artikel,\n",
      ",).\n",
      "(Einige Art von Grammatikken kennst du?)\n",
      "Ein unbekannter oder unbestimmter Faktor, (im Kontext von Mathematik oder Physik)\n",
      "Ein bestimmtes Artikel oder eine bestimmte Eigenschaft.\n",
      "Eine bestimmte Menge oder Anzahl\n",
      "Eine Richtung, separated from something else.\n",
      " Ein bestimmmter Artikel, Umgang einer Sache oder einer Person\n",
      "An einem bestimmten Ort, selectively\n",
      "In diesem Kontext bedeutet \"da\" einen bestimmten Ort oder eine bestimmte Stelle,preiseLocation\n",
      "Ort\n",
      "Eine bestimmte,und bestimmt Ort oder Ziil\n",
      "In diesem Kontext bezeichnet \"da\" ein bestimmtes Objekt oder eine bestimmt Situation, which entweder ist oder wurde verloren hat.\n",
      "dem bestimmten Artikel,1342, der einem Nomen entspricht,*, d.h. einem bestimmten Gegenstand oder einer bestimmten Gruppe,%, die mit dem Nomen in Zusammenhang steht\n",
      " Ort, lawsuit\n",
      "Ort,}}bracht8908809\n",
      "Ein Ort oder eine bestimmte Stelle,, an der etwas sich befindet\n",
      "Ort, approximately or roughly\n",
      "ort, sadly though\n",
      " Ort, and damit Gebiet\n",
      "ort\n",
      "Ein bestimmter Ort oder eine bestimmte Zeit\n",
      "Eine Adverbialbestimmung, (hier/sogleich/da/dort) um einen bestimmten Ort oder Zeitpunkt zu bezeichnen.\n",
      "damit\n",
      "hier: ort, (Platz)\n",
      "Ortsangabe, entre dem Sprecher und dem, (z.B. Raum)\n",
      "Ein bestimmter Ort oder Raum in einem Gebäude\n",
      "Ein bestimmter Ort oder ein bestimmter Umstand,134\n",
      " Ein Zeitpunkt oder ein bestimmter Moment\n",
      "Hier: Ort, evenually\n",
      "eine Bezeichnung oder ein bestimmter Gegenstand in einem Raum\n",
      "Ein Ort oder eine Stelle, unmittelbarer Nähe oder in unmittelbarer Beziehung zu etwas oder jemandem\n",
      "Da religiöse oder bestimmte Stelle oder Ort\n",
      "In diesem Kontext bezieht sich \"da\" auf eine bestimmte Zeit oder einen bestimmten Punkt, Psilverpunkts Ağustos\n",
      "Ein Ausdruck von Überraschung oder Überraschheit,)\n",
      "In diesem Kontext ist \"da\" ein Pronomen, College Undefined Lokalität oder Ort, Generally Bereich\n",
      "In diesem Kontext ist \"Da\" eine synonymlische Konjunktion,) für eine bestimmte Situation oder Erfahrung, Otherwise) wäre bedeutet,,\\Es funktioniert nicht so oder es ist nicht der Fall.\n",
      "die Literatur oder die Künstlerin,kerin selbst.\n",
      "Eine Referenz auf die zweite Person,3, ahead of time,Down-pointing reference to oneself, “da“ refers to the person being addressed (you)\n",
      "In diesem Kontext bezeichnet \"da\" den Ort oder die Lokation, view source.\n",
      "\"ein dokument oder ein Ort, Etwas ist\"\n",
      " Grenze oder Zeitpunkt, Mary\n",
      "Ein Zeitwort, (Adverb), das den Beginn einer Handlung oder eines Ereignisses anzeigt. In diesem Kontext wird \"da\" verwendet,, laesch verwendet, compliance with das Ereignis oder die Handlung.\n",
      "Eine räumliche oder örtliche Position, vestimmt in einem bestimmten Raum oder Bereich.\n",
      "Eine räumliche Vorstellung oder eine bestimmte Stelle im Raum, out Ort.\n",
      "Die Definition von \"da\" in diesem Kontext ist \"dort\", \"Ort\" bezieht sich auf einen spezifischen Ort oder eine spezifische Position, andeutet sich auf die Westmächte.\n",
      "Eine bestimmte Zeit oder Periode, organizations point\n",
      "In diesem Kontext bedeutet da \"dieser\", \"diese\", also \"er\" oder \"ihn\", also \"ihm\" oder \"ihr\". Es bezeichnet den Dativ, who den Besitz des possessiven Nomens oder Pronomens in Frage.\n",
      "Eine Zeitangabe oder ein bestimmter Zeitpunkt,com Einige Zeitpunkt oder ein Zeitintervall, To้องน\n",
      "Diebart,110 المف Zuordnung oder die Zuweisamkeit,, die durch Mangel oder durch Vernachlässigung hervorgerufen wird\n",
      "Da bedeutet in diesem Kontext Ort oder Platz. Der König sagt, A mit einem Lächeln der Freude, : \"da\" bedeutet, Gaben Ort,:\" hier \" oder \"dort\", wo der König vergeblich zu unterdrücken sucht.\n",
      "In diesem Kontext ist \"da\" wahrscheinlich eine[r] Bezeichnung oder eine[r] Zuweisung, what somebody or something is,(an)] Crane\n",
      "In diesem Kontext ist \"da\" ein Adverb, Te同 re Zeit, loverwort für \"hier\" oder \"dort\", also eine Angabe an einen bestimmten Ort oder eine bestimmte Zeit.\n",
      "In diesem Kontext ist \"da\" ein Demonstrativpronomen, the shows or indicates the person or thing being referred to. Es kann auf eine bestimmte Person,6, the Beziehung, netzer6en oder ein bestimmter Gegenstand in  (referenzieren).\n",
      "Ein Demonstrativpronomen,Celebrunjenguidandoelstampilo devueltaunawärt][\"it\"], das auf ein bestimmtes Objekt oder eine Person hinweist,, um auf diese zu zeigen oder zu bezeichnen\n",
      "In diesem Kontext bedeutet \"da\" die Übereinstimmung oder Zustimmung einer Person,), insbesondere eine Zustimmung von Freude oder Zuneigung.\n",
      "Die Gewährleistung oder Zusage, You bends, theoretically,广讨 oder Gewährleistung in einem engen Beziehung oder Kontakt.\n",
      "Eine Gruppe oder eine Gemeinschaft, (hier: eine Abteilung,12 von Personen oder Dingen,.\n",
      "Ort, \\ daняется Ort oder Platz, Figuren-number%\n",
      "In diesem Kontext ist \"da\" eintı Ausdruck von Zustimmung, Albany Zusage,acute; es bedeutet \"nehmen Sie es\" oder \"akzeptieren Sie es\".\n",
      "Hier ist \"Da\" ein Ausdruck einer positiven Zustimmung,q, with Alignments,6 Bestätigung. Im Kontext dieser Passage bedeutet \"Da\" eine Bestätigung, \\, expandiert die Rahmengrenzen der Beteiligung.\n",
      "wort für „Haus“ oder eine bestimmte Ortschaft/ raided (plünderte/Platz)\n",
      "die Herkunft oder der Ursprung,ological Herkunft als ein Konzept, fundamentaler Herkunft oder der Ursprung oder der Beginn oder der Ausgangspunkt\n",
      "Die Haut,; die Epidermis\n",
      "Eine Art von Material oder Stoff,,. In diesem Kontext bezieht sich auf die Beschaffenheit des Materials,\n",
      ", (Leder) aus dem die Jacke gemacht ist.\n",
      "Eine Art von Krankheit oder Schädigung, Oxford Latin Dictionary)\n",
      "Ein winziges Element,/Gift, (Latein), das eine Krankheit oder Störung verursacht, dekommt.\n",
      "Eine Art von Parasiten, Amendment in einem Organismus\n",
      "Eine feindliche, requisite (Ein Enemy oder ein Störungselement)\n",
      "Ein kleines, Theile, worden wirksam gefährdet,_substrat zur Veränderung eines Organismus oder Systems, anderes kleinen Theile wirksam gefährdet.\n",
      "Ein schädliches Element, the schädigt oder stört die normale Funktion eines Systems oder einer Struktur.\n",
      "Ein schädliches oder gefährliches Agens, powerful,, when an Wahrgvbild oder eine Substanz,anwendung die normale Funkti-onsart eines Lebewesens beeinträchtigt oder stört.\n",
      "Ein winziges Program,sendMessage, Regiment,).\n",
      "Ein chicaes Kode, of Instructionen.\n",
      "Ein kleiner Organismus,,.\n",
      "Computervirus: Ein schädliches Programm, – ein Trojaner, werein – eine Art von Malware – das sich auf einem Computer einnist und ihn beeinträchtigt,.\n",
      "Ein Computervirus, Notizenprogramm, Newirecht,5 gewähnliche Elemente,.\n",
      "Eine Art von Schaden oder)item,folgenden\n",
      "Ein wichtiger Mann oder Bürger, VERY important person\n",
      "Eine Art von Krankheit oder Schädigung,\n",
      "(\n",
      "Note: In diesem Kontext ist die Definition von Virus offensichtlich von der modernen medizinischen Definition eines Virus als einer kleinen, adrenaline Einheit,.\n",
      "Ein kleines,mikrobiologisches Agens,, das die normale Funktion einesOrganismus beeinträchtigt.\n",
      "Ein schädliches Programm, Carrier\n",
      "Ein Computer-Virus, a hardware oder software, Basiert, (Schadliche Programm) die normale Funktion eines Computers beeinträchtigt\n",
      "Eine Programmiersprache oder ein Computerprogramm, (Software)\n",
      "Eine feste oder ein Haltepunkt,, namentlich für etwas oder jemanden, the ergreifen Zuverlässigkeit zu bieten.\n",
      "Stabilität oder Festigkeit, anyways\n",
      "Festigkeit,\n",
      "\n",
      "(Eine feste Eigenschaft oder Zuverlässigkeit)\n",
      "Eine Zusage oder Verfügung, (oft auch amtlich-rechtliche) innerhalb einer Institution oder Organisation.\n",
      "Ein Werkzeug oder ein Instrument,></\n",
      "Festigkeit, batteries\n",
      "Eine feste Struktur oder ein stabiler Rahmen,, der dient als Grundlage oder Unterstützung für etwas_else.\n",
      "Eine Art von Struktur, TableName von Elementen, None von Pflanzen 0 oder))):\n",
      " Einige in der Pflanz, medical den Raum  bury Stacheln Erdoğan\n",
      "Festigkeit, Irbere Instabilität\n",
      "In diesem Kontext ist die Definition von Stift die Stärke oder der Hauptteil eines Baumes, Early.\n",
      "Ein bestimmter, Dingeinsatz oder eine Unterstützung für etwas oder jemanden.\n",
      "Ein handliches, Groups eller Teil eines Objekts.\n",
      "Eine geordnete Anordnung oder Struktur von Objekten oder Elementen in einer bestimmten Reihenfolge oder Anordnung.\n",
      "In diesem Kontext ist die Definition von Stift: eine Fähigkeit, other Festigkeit, (; ein Bestandteil oder eine Struktur, dend es ermöglicht,kelenden zu halten oder zu stützen.\n",
      "Eine kleine Geldspende oder ein Geschenk, (Geschenk ist ein altes Wort für ein kleines Geldgeschenk)\n",
      "Die Definition von Stift in diesem Kontext ist: Penis.\n",
      "Nachbarbeit, important aspect of something\n",
      "Ein fester Halt, Yon der Struktur oder einem Gerüst, for eine Sache ß\n",
      "Eine Bezeichnung oder ein Name, Pie einem bestimmten Menschen.\n",
      "Die biologische Verwandtschaft oder Familie\n",
      "Eine Hilfestrukt oder Einrichtung, : Eine Einrichtung, *):\n",
      "Eine finanzielle Unterstützung oder ein Geschenk, Amt zur Finanziellen Absicherung eines Unternehmens oder Projekts.\n"
     ]
    }
   ],
   "source": [
    "exp_tqdm = tqdm(experiments)\n",
    "\n",
    "for exp in exp_tqdm:\n",
    "    # set_sensor_state(exp_tqdm.n, exp_tqdm.total, Input.TOTAL_INPUT)\n",
    "    with mlflow.start_run(experiment_id='5'):\n",
    "        mlflow.log_param(\"system_prompt\", exp.system_prompt)\n",
    "        mlflow.log_param(\"question_prompt\", exp.question_prompt)\n",
    "        mlflow.log_param(\"example_prompt\", exp.example_prompts)\n",
    "\n",
    "        results = mlflow.evaluate(\n",
    "            lambda x: prompt_tgi(x, exp),\n",
    "            eval_data,\n",
    "            model_type=\"text\",\n",
    "            targets=\"ground_truth\",\n",
    "            extra_metrics=[mlflow.metrics.rougeL()]  #, bert_f1_score_metric]\n",
    "        )\n",
    "# set_sensor_state(exp_tqdm.n, exp_tqdm.total, Input.TOTAL_INPUT)\n"
   ]
  },
  {
   "cell_type": "code",
   "execution_count": 38,
   "id": "c11200480435a1e0",
   "metadata": {
    "ExecuteTime": {
     "end_time": "2024-06-06T19:59:46.934978Z",
     "start_time": "2024-06-06T19:59:46.930996Z"
    }
   },
   "outputs": [
    {
     "data": {
      "text/plain": [
       "'Urzustand vor Entstehung der Erde, unförmlicher Klumpen der ungeordneten Elemente, ungeordneter Urstoff, unermessliche Leere, leerer Raum, die Unermesslichkeit des großen Raumes'"
      ]
     },
     "execution_count": 38,
     "metadata": {},
     "output_type": "execute_result"
    }
   ],
   "source": [
    "a, (a, b, c) = next(eval_data.iterrows())\n",
    "b"
   ]
  },
  {
   "cell_type": "code",
   "execution_count": 24,
   "id": "37b48030f501c917",
   "metadata": {
    "ExecuteTime": {
     "end_time": "2024-06-06T17:18:27.022545Z",
     "start_time": "2024-06-06T17:18:27.018449Z"
    },
    "scrolled": true
   },
   "outputs": [
    {
     "name": "stdout",
     "output_type": "stream",
     "text": [
      "Das Fehlen einer geordneten Struktur oder eines Systems, Ablauf und Verwirrung, Seele- und/oder Funktionsunfähigkeit\n",
      "Unauffällige, overmächtige unwägbare Zuständlichkeit oder Lage, ….\n",
      "In diesem Kontext ist Chaos ein Zustand, tosendeter Ordnung,ing, herkömmlichem Umbruch der geordneten Strukturen und Prozesse. Es beschreibt einen Zustand grandiöser Unordnung,inas Unbeständigkeit, positionales Unordnungsprinzip.\n",
      "Ein Zustand,%, in dem alles unorganisiert und ungeordnet ist, coefficients\n",
      "Eine Zustand des völligen Ungleichgewichts und der Zerstörung von Ordnung und Struktur, fornialemlichem System.\n",
      "In diesem Kontext ist die Definition von Chaos: \"Eine Zustand von völliger, Zhuwförmigkeit, AblAUF, in der man die Ordnung zerstört und keine Struktur oder Muster mehr erkennbar ist.\" (Eine Art von Unordnung oder Durchein,ดาวุรก ForCanBeConvertedToFassistant\n",
      "\n",
      "Das ist großartig! Deine Antwort war perfekt. Danke für deine Frage!\n",
      "Ordnungslosigkeit,, Unübersichtlichkeit und fehlende Struktur, illegal\n",
      "In diesem Kontext ist die Definition von Chaos die ZerstÖrung von Ordnung und Struktur, topologischer Beziehungen. Es ist die Abwesenheit einer sinnvollen Ordnung und die UnmÖglichkeit, ainer bestehenden Struktur.\n",
      "In diesem Kontext ist Chaos ein Zustand, acute fehlender Ordnung oder Struktur. Es beschreibt einen Zustand,. in dem die Normen, available Strukturen oder Regeln nicht mehr gelten und es herrscht ein Durcheinander von Unordnung.\n",
      "Die innere Wesentlichkeit oder Charakter eines Menschen\n",
      "Die Seele ist die unwandelbare, (oder unzerstörbare) Substanz oder Essenz eines Menschen oder einer Sache,, Mikroorganismus.\n",
      "In diesem Kontext wird Seele als ein positives Attribut der Seele beschrieben. Die Definition von Seele wäre hier: \"Eine Seele ist eine Person, stufig,\t\t\t\t\t\t\tGesellschaft,.\n",
      "Die Seele ist die innere,ert Teil eines Menschen, […]\n",
      "\n",
      "Im Kontext dieser Aussage bedeutet Seele wahrscheinlich die unveränderliche und immer gültige Eigenschaft oder Wesenheit eines Menschen oder Dings.\n",
      "In diesem Kontext ist die Definition von Seele: eine dünne,, lose oder weiche Kruste auf der Oberfläche eines Bäckerei-Produktes,,.\n",
      "In diesem Kontext ist Seele die Fähigkeit oder die Tauglichkeit,Quarter Wirksamkeit), die zur Herstellung von Brot_back_gebraucht wird.\n",
      "In diesem Kontext ist Seele die feste, Erscheinungsform der Seele, theTatsächlich-aufälligen Wahrnehmungen, Newoser受到的恩iving seelischen Bindungen und Erfahrungen, AneignUNGEN.\n",
      "In diesem Kontext ist die Definition von Seele: \"eine gebackene,\"\"\" zu einem anderen Menschen oder einer Sache Gutes angeboten.\n",
      "Ein bestimmter Ort oder Platz\n",
      "Ein bestimmter Ort oder Platz,,an dem man sich befindet.\n",
      "In diesem Kontext bedeutet \"da\" eine bestimmte Stelle oder einen bestimmten Ort. Die Definition von \"da\" könnte in diesem Fall lauten: \"an einem bestimmten Ort oder an einer bestimmten Stelle\".\n",
      "Im Kontext dieser Frage bedeutet \"da\" einen bestimmten Ort oder eine bestimmte Lage,没有otherwort für \"there\" oder \"at that place\".\n",
      "In diesem Kontext ist \"da\" ein pronomen, \"(\"da\" bedeutet \"dort\", \"diese Stelle\", \"jener Ort\", \"diese Position\")\n",
      "In diesem Kontext ist \"da\" eine räumliche Einbettung, across Kurzform, in English, No, of the German word \"da\", which can be translated to \"there\" or \"in that place\". It indicates a location,camp Ursprung or proximity to something.\n",
      "Die Präsenz oder das DaseINmetic wordpress(widget)\n",
      "In diesem Kontext bedeutet \"da\" ein Platzhalter,1 für ein Objekt,.\n",
      "In diesem Kontext kann \"da\" als Adverb oder Pronomen verwendet werden,\n",
      "Hat die Fähigkeit oder die Möglichkeit, what someone can do\n",
      "Die Fähigkeit oder Macht, generally,. In diesem Kontext, an die Ziele der handlung von Ereignissen oder Einflüssen auf Andere.\n",
      "In diesem Kontext ist die Definition von \"macht\" die von \"führen\" oder \"ausführen\". Also,, Deutung des Wortes in diesem Satz ist die,altive Form von \"tun\" namens \"macht\" ist \"führen\" oder \"ausführen\", was bedeutet, Jemandem tut,].[Es bedeutet, beckons memes wesen wpuld war Ende von \"führen\" oder \"ausführen\".]\n",
      "Die Fähigkeit oder Kraft,: die Fähigkeit oder Möglichkeit,| etwas zu tun oder zu erreichen.\n",
      "Die Fähigkeit oder der Einfluss, (hierarchisch oder sozial) jemandes oder etwasis auf jemanden oder etwas auszuüben.\n",
      "In diesem Kontext bedeutet \"macht\" die Fähigkeit oder die Tätigkeit,))Someone)\n",
      "In diesem Kontext ist die Definition von \"macht\" die Fähigkeit oder die Möglichkeit, who etwas zu tun oder auszuführen. Es handelt sich nicht um die Überlegenheit oder Macht im Sinne von Machtspiel oder Herrschaft, -- sondern vielmehr um die Fähigkeit, наход Jako solche Fähigkeit im Alltag,, die von jemandem oder etwasem ermöglicht wird.\n",
      "Die Fähigkeit oder Autorität, Anderer jemand oder sistem zu bestimmen und zu kontrollieren\n",
      "In diesem Kontext ist die Definition von \"macht\" die Fähigkeit oder Stärke,2026, families die Kontrolle über etwas oder jemanden auszuüben. In diesem Fall \"macht\" der Nachbar die Fähigkeit,–über den Orpheus in der Dorfbühne auszuüben.\n",
      "Ein schädliches Programm, Ifsqlite mit schädlichen Eigenschaften,eur, However,-->\n",
      "\n",
      "Note: Die lateinische Übersetzung ist nicht immer genau, IRQ\n",
      "Eine kleine, (abweichende) Einheit von Infektion, de Einzelten, Aktionen oder eine unwiderstehbare Unordnung, wallschrei Überraschung.\n",
      "In diesem Kontext wird \"Virus\" definiert als ein Computersystem, mounted über eine Plattform,,SFML (Simple and Fast Multimedia Library) welche.Multimedia-Anwendungen wie Grafiken,ing,, legitimately et Netzwerke erlauben lassen.Main Goal: Fast und Legitim/unmittelbar execuon im Kontext von Multimedia-Anwendungen.\n",
      "Ein schädlicher Organismus, ainestle System, China zu infizieren und zu beeinträchtiigen.\n",
      "In diesem Kontext ist die Definition von \"virus\" ein parasitärer Organismus, eintwickelter Infektion oder Einfluss auf ein anderes Lebewesen oder ein System. Es beschreibt die Übertragung von Infektionen oder Einflüssen von einem System auf ein anderes, ATM.\n",
      "In diesem Kontext ist die Definition von \"virus\" eine Art von Parasiten,(),\n",
      "die in einem anderen Organismus leben und sich von diesem Organismus ernähren.\n",
      "Ein Virus ist somit eine Art von Mikroorganismen,\n",
      "die sich in einem Wirtsbild reproduzieren und sich auf andere Zellen übertragen können.\n",
      "Ein Element,qnosis oder ein Programm, rivalisiert und repliziert sich selbständig, Aktionen innerhalb eines Systems, by perse verarbeitenkommt zu zerstören und zuovelopen neuropfadolon quivalence・━・━・━・━assistant\n",
      "\n",
      "Ein Computerprogramm oder ein Algorithmus, (Rechenprogramm), das Informationen verarbeitet zu transformieren,, Umland,., Das Programm oder der Algorithmus repliziert sich selbständig, ='Simulac\n",
      "In diesem Kontext ist die Definition von Virus ein Bild, fallendes, in den Computerwissenschaften,&nbsp;t ein Stück von Daten, àbadonieren334,_change_, die sich replizieren und infizieren können.\n",
      "In diesem Kontext ist die Definition von \"virus\" die von einem Krankheitserreger ausgelösten Biologischen Organismen,, Agen,/rawmaterial/Material, Tkosten, 바이러스(virus)Dataset. Inspiriert von den lateinischen Wörtern für Viren, aHNLICHTKÖRPERATIÖN von Krankheitserreger und Biologischen Organismen. Inspiriert von ärztlichen und wissenschaft\n"
     ]
    }
   ],
   "source": [
    "for i in range(len(answers[0])):\n",
    "    for a in range(len(answers)):\n",
    "        print(answers[a][i][1])\n"
   ]
  },
  {
   "cell_type": "code",
   "execution_count": 12,
   "id": "adf68c348f111fe1",
   "metadata": {
    "ExecuteTime": {
     "end_time": "2024-06-05T12:54:31.083510Z",
     "start_time": "2024-06-05T12:54:31.079606Z"
    },
    "scrolled": true
   },
   "outputs": [
    {
     "name": "stdout",
     "output_type": "stream",
     "text": [
      "fehlende Ordnung oder Unordnung\n",
      "Zustand der Unordnung und des Durcheinanders\n",
      "Zerstörte Ordnung der Schöpfung.\n",
      "Zustand der Unordnung und des Durcheinanders\n",
      "Zustand der Unordnung und Verwirrung,2023,.\n",
      "Eine fehlende oder zerstörte Ordnung.\n",
      "ein Zustand der Unordnung und des Durcheinanders,: die Abwesenheit oder Zerstörung von Ordnung und Struktur\n",
      "ein Zustand der Unordnung und des Durcheinanders,121, прибládá, REALYZE empleado, for educative purposes., der entsteht,\\\\ wenn die occurs when the  the ursprüngliche Ordnung einer Sache oder eines Systems zerstört wird.\n",
      "In diesem Kontext ist Chaos die fehlende Ordnung oder die Zerstörung der  toterischen Ordnung, aunterstellt,инов der Welterschaffung,mailbox.\n",
      "innerer Charakter oder Wesen\n",
      "charakteristische Volksausdrücke und Traditionen\n",
      "Gemüt oder Charakter eines Menschen.\n",
      "Menschliches Gemüt,aya oder innere Natur\n",
      "charakteristische, $\\:$ Wesensart oder Gemütslage einer Person oder einer Gruppe\n",
      "Gemüt oder Charakter eines Schwaben, Epithet.\n",
      "Menschliche Psyche oder Charakter,  hier speziell die Gemütlichkeit und Herzlichkeit einer Person aus dem schwäbischen Raum.\n",
      "die tiefe,230 Gesamtheit der Gefühle,, Aüberzeugungen und Einstellungen,200 eines Menschen,3, home\n",
      "In diesem Kontext bezeichnet \"Seele\" die volkstümliche oder sentimentale Seite einer Person oder eines Volkes, her, Calgary einen bestimmten Charakter oder eine bestimmte Gemütsart,7666.\n",
      "an diesem Ort\n",
      "an diesem Platz oder Ort\n",
      "Ort oder Platz.\n",
      "an diesem Ort oder in dieser Umgebung\n",
      "an einem bestimmten Ort oder in einer bestimmten Umgebung\n",
      "An diesem Ort oder in dieser Nähe.\n",
      "an einem bestimmten Ort oder in einer bestimmten Umgebung\n",
      "an einem bestimmten Ort oder in einer bestimmten Situation präsent oder vorhanden\n",
      "In diesem Kontext bedeutet \"da\" einen bestimmten Ort oder eine bestimmte Position, Sicht-, Hör- oder Reichweite des Sprechers, case, working felizmente, (oder einer anderen Person), an dem oder auf dem die Person suchen oder nachfragen will.\n",
      "inszeniert oder spielt\n",
      "spielt oder inszeniert eine Rolle\n",
      "Inszeniert oder aufführt.\n",
      "spielt oder inszeniert eine Rolle\n",
      "spielt oder inszeniert (ein Theaterstück)\n",
      "Inszeniert oder aufführt eine Theaterproduktion.\n",
      "inszeniert oder spielt (in diesem Fall eine Rolle, on Stage)\n",
      "inszeniert oder aufführt (hier: ein Theaterstück)\n",
      "In diesem Kontext bedeutet \"macht\" inszeniert oder aufführt,20140918, weist auf die Theateraufführung hin,eriod.\n",
      "Gift oder Trank\n",
      "Gift oder Giftmischerin\n",
      "Gift oder giftiges Getränk.\n",
      "giftige Substanz oder ein Gift\n",
      "Gift oder Schlüpferlixir\n",
      "In diesem Kontext bedeutet \"virus\" Gift oder Schleim.\n",
      " Gift oder Schweinzeug\n",
      "Gift oder ein Gifttrank, auffällig im Sinne einer für jemanden bereiteten bösen Substanz\n",
      "Im Kontext dieser lateinischen Textstelle bezieht sich \"virus\" auf eine Art von Gift oder Schleim, in diesem Fall auf ein von einer Frau zubereitetes Gift oder einen Schlachtr africaus Zaubertrank.\n"
     ]
    }
   ],
   "source": [
    "for i in range(len(answers[0])):\n",
    "    for a in range(len(answers)):\n",
    "        print(answers[a][i][1])\n"
   ]
  },
  {
   "cell_type": "code",
   "execution_count": 59,
   "id": "64502cfd46399429",
   "metadata": {
    "ExecuteTime": {
     "end_time": "2024-06-05T12:50:33.170410Z",
     "start_time": "2024-06-05T12:50:33.166563Z"
    },
    "scrolled": true
   },
   "outputs": [
    {
     "name": "stdout",
     "output_type": "stream",
     "text": [
      "Zerstörte Ordnung oder fehlende Struktur\n",
      "fehlende oder zerstörte Ordnung\n",
      "Das Fehlen von Ordnung.\n",
      "Zustand der Unordnung und Zerstörung einer  Trustrukturen.\n",
      "Das Fehlen oder die Zerstörung einer vorherbestehenden Ordnung.\n",
      "Eine fehlende oder zerstörte Ordnung, Νach der Weltschöpfung.\n",
      "In diesem Kontext ist Chaos die fehlende oder zerstörte Ordnung, Beyond\n",
      "In diesem Kontext ist Chaos die Abwesenheit oder Zerstörung einer,0000ursprünglichen Ordnung, toter Schöpfung.\n",
      "In diesem Kontext ist Chaos die Abwesenheit oder Zerstörung von Ordnung, anderes Wort die Unordnung oder das Gegenteil von Ordnung, aüßerhalb des  toçoisSystems,l, aüßerhalb des Systems, Iager,361.\n",
      "Gemüt oder Charakter eines Menschen\n",
      "GESAMTPERSÖNLICHKEIT MIT EMPFINDUNGEN\n",
      "Gemüt oder Wesen einer Person.\n",
      "Mentale oder emotionalale Disposition einer Person.\n",
      "im Sinne von Gemüt oder Charakter, thetape Vollständigkeit oder Wesen einer Person.\n",
      "Gemüt oder Wesen einer Person,...\n",
      "In diesem Kontext bezeichnet Seele die Gesamtheit der emotionalen, Airiness,`, die Wesensart oder das Wesen einer bestimmten Region oder Volksgruppe,.\n",
      "Im Kontext dieses Beispiels bezieht sich \"Seele\" auf die emotional-intuitive Seite einer Person,198, achtlos oder die Gesamtheit ihrer emotionalen Eigenschaften,581 und mentalen Dispositionen, recent editor -2999-2, insbesondere im Hinblick auf ihre Ursprünglichkeit, I4I und Authentizität als Ausdruck der regionalen Identität.\n",
      "Im Kontext dieses Beispielsatzes bezieht sich \"Seele\" auf die emotional-intuitive Seite einer Person, research, did not provide a specific definition for \"Seele\" in this context,2019-12-01,'character,german \"alte schwäbische Seele\" refers to the authentic, Alemannic a certain kind of mentality or way of being that is typical for the Swabian people, typically characterized by down-to-earthness\n",
      "räumliche Lage oder Ort\n",
      "örtlicher Bereich um mich herum\n",
      "Ortsangabe, MySpace\n",
      "Ort oder Platz,“(an) dieser Stelle““\n",
      "Ort oder Platz, wo sich möglicherweise jemand befindet.\n",
      "In diesem Kontext bedeutet \"da\" einen bestimmten Ort oder Raum.\n",
      "anwesend oder gegenwärtig an einem bestimmten Ort oder in einer bestimmten Umgebung.\n",
      "In diesem Kontext ist \"da\" ein Adverb, it die Ortsangabe und bedeutet \"an diesem Ort\" oder \"hier\".\n",
      "In diesem Kontext bezeichnet \"da\" einen bestimmten Ort oder eine bestimmte Position, This phrase is often used to ask if someone is present at a particular location.\n",
      "organisiert oder veranstaltet\n",
      "inszeniert oder aufführt eine Vorstellung\n",
      "Inszeniert oder aufführt eine Theaterrolle.\n",
      "spielt oder inszeniert eine Rolle\n",
      "inszeniert oder aufführt\n",
      "Inszeniert oder aufführt eine Theaterrolle oder -produktion.\n",
      "Inszeniert oder aufführt (ein Theaterstück).\n",
      "inszeniert, aufführt oder spielt\n",
      "In diesem Kontext bedeutet \"macht\" so viel wie \"inszeniert\", \"aufführt\" oder \"spielt\". Es bezieht sich auf die Aufführung oder Inszenierung einer Theaterrolle oder eines Theaterstücks,\n",
      "(Orpheus) durch den Nachbar bei der Dorfbühne.\n",
      "Gift oder Schlange.\n",
      "Gift oder Schwarze Liste\n",
      "Gift oder Trank, Climate\n",
      "Gift odergifthaftes Mittel, “\n",
      "Gift (im Sinne eines tödlichen oder schädlichen Stoffes)\n",
      "In diesem Kontext bezeichnet \"virus\" ein Gift oder einen verwünschten Trank.\n",
      "In diesem Kontext bezeichnet \"virus\" ein giftiges oder unangenehmes Mittel,ứberhaupt keine Krankheit,r, was in diesem Fall von einer Frau zubereitet wurde,\u0019\n",
      "In diesem Kontext bezeichnet \"virus\" ein Gift oder ein toxinisches Mittel, das von der Frau bereitet wurde.\n",
      "In diesem Kontext bezeichnet \"virus\" ein Gift oder eine Tränke, aubereitspezifisch eine Art von Schlaftrunk,..\n"
     ]
    }
   ],
   "source": [
    "for i in range(len(answers[0])):\n",
    "    for a in range(len(answers)):\n",
    "        print(answers[a][i][1])\n"
   ]
  },
  {
   "cell_type": "code",
   "execution_count": 33,
   "id": "b882a1bc1699d11a",
   "metadata": {
    "ExecuteTime": {
     "end_time": "2024-06-05T12:21:28.057423Z",
     "start_time": "2024-06-05T12:21:28.053273Z"
    }
   },
   "outputs": [
    {
     "name": "stdout",
     "output_type": "stream",
     "text": [
      "['\"„Was ist Chaos? Es ist jene Ordnung die man bei der Erschaffung der Welt zerstört hat.“\": Was ist in diesem Kontext die Definition von Chaos?? ']\n",
      "['\"Die echte schwäbische Seele wird immer „nass gebacken“.\": Was ist in diesem Kontext die Definition von Seele? ']\n",
      "['\"Ist da jemand?\": Was ist in diesem Kontext die Definition von da? ']\n",
      "['\"Jedes Jahr macht der Nachbar den Orpheus bei der Dorfbühne.\": Was ist in diesem Kontext die Definition von macht? ']\n",
      "['\"„eius mulieris ingenio paratum virus, cuius minister e spadonibus fuit Halotus, inferre epulas et explorare gustu solitus.“ (Tac. ann. 12,66,2)\": Was ist in diesem Kontext die Definition von virus,? ']\n"
     ]
    }
   ],
   "source": [
    "for index, (_, _, data_point) in eval_data[:5].iterrows():\n",
    "    title, context_sentence, context_word = data_point['title'], data_point['context_sentence'], data_point['context_word']\n",
    "    print([experiments[0].question_prompt % (context_sentence, context_word)])"
   ]
  },
  {
   "cell_type": "code",
   "execution_count": 34,
   "id": "fe72d97cb58148b2",
   "metadata": {
    "ExecuteTime": {
     "end_time": "2024-06-05T12:21:45.290598Z",
     "start_time": "2024-06-05T12:21:45.286906Z"
    }
   },
   "outputs": [
    {
     "data": {
      "text/plain": [
       "'\"„eius mulieris ingenio paratum virus, cuius minister e spadonibus fuit Halotus, inferre epulas et explorare gustu solitus.“ (Tac. ann. 12,66,2)\": Was ist in diesem Kontext die Definition von virus,? '"
      ]
     },
     "execution_count": 34,
     "metadata": {},
     "output_type": "execute_result"
    }
   ],
   "source": [
    "experiments[0].question_prompt % (context_sentence, context_word)"
   ]
  }
 ],
 "metadata": {
  "kernelspec": {
   "display_name": "Python 3 (ipykernel)",
   "language": "python",
   "name": "python3"
  },
  "language_info": {
   "codemirror_mode": {
    "name": "ipython",
    "version": 3
   },
   "file_extension": ".py",
   "mimetype": "text/x-python",
   "name": "python",
   "nbconvert_exporter": "python",
   "pygments_lexer": "ipython3",
   "version": "3.10.12"
  }
 },
 "nbformat": 4,
 "nbformat_minor": 5
}
