{
 "cells": [
  {
   "cell_type": "code",
   "execution_count": 1,
   "id": "b7f70476-c416-452e-a92a-44bcb7810f0d",
   "metadata": {},
   "outputs": [],
   "source": [
    "%load_ext autoreload\n",
    "%autoreload 2"
   ]
  },
  {
   "cell_type": "code",
   "execution_count": 2,
   "id": "bdb71589-fbed-42b9-85db-63a79d9c72d0",
   "metadata": {},
   "outputs": [],
   "source": [
    "import sys\n",
    "sys.path.insert(0,'../')\n",
    "\n",
    "import requests\n",
    "from tqdm.notebook import tqdm"
   ]
  },
  {
   "cell_type": "code",
   "execution_count": 3,
   "id": "769f69d5-be4c-4dae-a2e4-d3830fb64308",
   "metadata": {},
   "outputs": [],
   "source": [
    "import pymongo\n",
    "import pprint\n",
    "import json\n",
    "from src.mongo_utils import collection\n",
    "from src.mlflow_setup import mlflow\n",
    "\n",
    "\n",
    "api_endpoint = f\"http://127.0.0.1:8000/mixtral/\""
   ]
  },
  {
   "cell_type": "code",
   "execution_count": 6,
   "id": "6f9b57af-0c3c-45f8-879a-ad57271c707e",
   "metadata": {
    "jupyter": {
     "source_hidden": true
    }
   },
   "outputs": [],
   "source": [
    "from src.mongo_utils import get_database_entry, create_set\n",
    "\n",
    "\n",
    "with open('../test_set1.json') as file:\n",
    "    test_set_data = json.load(file)\n",
    "test_set = [a for subl in test_set_data.values() for a in subl]"
   ]
  },
  {
   "cell_type": "code",
   "execution_count": 7,
   "id": "2f1fc4bc-3df3-40e2-815f-077234d3a9a8",
   "metadata": {
    "jupyter": {
     "source_hidden": true
    },
    "scrolled": true
   },
   "outputs": [],
   "source": [
    "dataset = []\n",
    "for data in test_set:\n",
    "    dataset += create_set(get_database_entry(data))"
   ]
  },
  {
   "cell_type": "code",
   "execution_count": 4,
   "id": "c599f5e7-353e-4951-a41f-a3ff17f1a81a",
   "metadata": {
    "scrolled": true
   },
   "outputs": [],
   "source": [
    "with open('../test_set1_postprocessed.json', 'r') as file:\n",
    "    dataset = json.load(file)"
   ]
  },
  {
   "cell_type": "code",
   "execution_count": 7,
   "id": "2621ae44-efa3-4877-8fd9-5b8a2283ae4f",
   "metadata": {
    "scrolled": true
   },
   "outputs": [],
   "source": [
    "import random\n",
    "random.seed(42)\n",
    "random.shuffle(dataset)"
   ]
  },
  {
   "cell_type": "code",
   "execution_count": 5,
   "id": "e400012a-f3dc-48a0-92f6-db8b9abfcc35",
   "metadata": {
    "scrolled": true
   },
   "outputs": [
    {
     "data": {
      "text/html": [
       "<div>\n",
       "<style scoped>\n",
       "    .dataframe tbody tr th:only-of-type {\n",
       "        vertical-align: middle;\n",
       "    }\n",
       "\n",
       "    .dataframe tbody tr th {\n",
       "        vertical-align: top;\n",
       "    }\n",
       "\n",
       "    .dataframe thead th {\n",
       "        text-align: right;\n",
       "    }\n",
       "</style>\n",
       "<table border=\"1\" class=\"dataframe\">\n",
       "  <thead>\n",
       "    <tr style=\"text-align: right;\">\n",
       "      <th></th>\n",
       "      <th>inputs</th>\n",
       "      <th>ground_truth</th>\n",
       "      <th>prompt_data</th>\n",
       "    </tr>\n",
       "  </thead>\n",
       "  <tbody>\n",
       "    <tr>\n",
       "      <th>0</th>\n",
       "      <td>Liebe --- Die ''Liebe'' überwindet alle Grenzen.</td>\n",
       "      <td>inniges Gefühl der Zuneigung für jemanden oder...</td>\n",
       "      <td>{'title': 'Liebe', 'context_word': 'Liebe', 'c...</td>\n",
       "    </tr>\n",
       "    <tr>\n",
       "      <th>1</th>\n",
       "      <td>Liebe --- „Die ''Liebe'' ist in der Literatur ...</td>\n",
       "      <td>inniges Gefühl der Zuneigung für jemanden oder...</td>\n",
       "      <td>{'title': 'Liebe', 'context_word': 'Liebe', 'c...</td>\n",
       "    </tr>\n",
       "    <tr>\n",
       "      <th>2</th>\n",
       "      <td>Liebe --- „Im Mittelpunkt stand die ''Liebe''.“</td>\n",
       "      <td>inniges Gefühl der Zuneigung für jemanden oder...</td>\n",
       "      <td>{'title': 'Liebe', 'context_word': 'Liebe', 'c...</td>\n",
       "    </tr>\n",
       "    <tr>\n",
       "      <th>3</th>\n",
       "      <td>Liebe --- „Die Gefühle, die sie durchströmen u...</td>\n",
       "      <td>inniges Gefühl der Zuneigung für jemanden oder...</td>\n",
       "      <td>{'title': 'Liebe', 'context_word': 'Liebe', 'c...</td>\n",
       "    </tr>\n",
       "    <tr>\n",
       "      <th>4</th>\n",
       "      <td>Liebe --- „Erst zu Beginn der Fastenzeit, nach...</td>\n",
       "      <td>inniges Gefühl der Zuneigung für jemanden oder...</td>\n",
       "      <td>{'title': 'Liebe', 'context_word': 'Liebe', 'c...</td>\n",
       "    </tr>\n",
       "    <tr>\n",
       "      <th>...</th>\n",
       "      <td>...</td>\n",
       "      <td>...</td>\n",
       "      <td>...</td>\n",
       "    </tr>\n",
       "    <tr>\n",
       "      <th>1102</th>\n",
       "      <td>Acht --- „Jetzt verhängt, wie Dr. Robert mitte...</td>\n",
       "      <td>Ausschluss aus einer Gemeinschaft; Verurteilun...</td>\n",
       "      <td>{'title': 'Acht', 'context_word': 'Acht', 'con...</td>\n",
       "    </tr>\n",
       "    <tr>\n",
       "      <th>1103</th>\n",
       "      <td>Acht --- „Seither tickt im ‚Runden Eck‘ eine Z...</td>\n",
       "      <td>Ausschluss aus einer Gemeinschaft; Verurteilun...</td>\n",
       "      <td>{'title': 'Acht', 'context_word': 'Acht', 'con...</td>\n",
       "    </tr>\n",
       "    <tr>\n",
       "      <th>1104</th>\n",
       "      <td>Acht --- „Der Kleine widerſtrebte, ſteif und u...</td>\n",
       "      <td>Aufmerksamkeit, Beachtung; Fürsorge</td>\n",
       "      <td>{'title': 'Acht', 'context_word': 'Acht', 'con...</td>\n",
       "    </tr>\n",
       "    <tr>\n",
       "      <th>1105</th>\n",
       "      <td>Acht --- „Worüber ist das Buch: sagt Marie end...</td>\n",
       "      <td>Aufmerksamkeit, Beachtung; Fürsorge</td>\n",
       "      <td>{'title': 'Acht', 'context_word': 'Acht', 'con...</td>\n",
       "    </tr>\n",
       "    <tr>\n",
       "      <th>1106</th>\n",
       "      <td>Acht. --- „Dabei bleibt jedoch die Zeitstruktu...</td>\n",
       "      <td>Aufmerksamkeit, Beachtung; Fürsorge</td>\n",
       "      <td>{'title': 'Acht', 'context_word': 'Acht.', 'co...</td>\n",
       "    </tr>\n",
       "  </tbody>\n",
       "</table>\n",
       "<p>1107 rows × 3 columns</p>\n",
       "</div>"
      ],
      "text/plain": [
       "                                                 inputs  \\\n",
       "0      Liebe --- Die ''Liebe'' überwindet alle Grenzen.   \n",
       "1     Liebe --- „Die ''Liebe'' ist in der Literatur ...   \n",
       "2       Liebe --- „Im Mittelpunkt stand die ''Liebe''.“   \n",
       "3     Liebe --- „Die Gefühle, die sie durchströmen u...   \n",
       "4     Liebe --- „Erst zu Beginn der Fastenzeit, nach...   \n",
       "...                                                 ...   \n",
       "1102  Acht --- „Jetzt verhängt, wie Dr. Robert mitte...   \n",
       "1103  Acht --- „Seither tickt im ‚Runden Eck‘ eine Z...   \n",
       "1104  Acht --- „Der Kleine widerſtrebte, ſteif und u...   \n",
       "1105  Acht --- „Worüber ist das Buch: sagt Marie end...   \n",
       "1106  Acht. --- „Dabei bleibt jedoch die Zeitstruktu...   \n",
       "\n",
       "                                           ground_truth  \\\n",
       "0     inniges Gefühl der Zuneigung für jemanden oder...   \n",
       "1     inniges Gefühl der Zuneigung für jemanden oder...   \n",
       "2     inniges Gefühl der Zuneigung für jemanden oder...   \n",
       "3     inniges Gefühl der Zuneigung für jemanden oder...   \n",
       "4     inniges Gefühl der Zuneigung für jemanden oder...   \n",
       "...                                                 ...   \n",
       "1102  Ausschluss aus einer Gemeinschaft; Verurteilun...   \n",
       "1103  Ausschluss aus einer Gemeinschaft; Verurteilun...   \n",
       "1104                Aufmerksamkeit, Beachtung; Fürsorge   \n",
       "1105                Aufmerksamkeit, Beachtung; Fürsorge   \n",
       "1106                Aufmerksamkeit, Beachtung; Fürsorge   \n",
       "\n",
       "                                            prompt_data  \n",
       "0     {'title': 'Liebe', 'context_word': 'Liebe', 'c...  \n",
       "1     {'title': 'Liebe', 'context_word': 'Liebe', 'c...  \n",
       "2     {'title': 'Liebe', 'context_word': 'Liebe', 'c...  \n",
       "3     {'title': 'Liebe', 'context_word': 'Liebe', 'c...  \n",
       "4     {'title': 'Liebe', 'context_word': 'Liebe', 'c...  \n",
       "...                                                 ...  \n",
       "1102  {'title': 'Acht', 'context_word': 'Acht', 'con...  \n",
       "1103  {'title': 'Acht', 'context_word': 'Acht', 'con...  \n",
       "1104  {'title': 'Acht', 'context_word': 'Acht', 'con...  \n",
       "1105  {'title': 'Acht', 'context_word': 'Acht', 'con...  \n",
       "1106  {'title': 'Acht', 'context_word': 'Acht.', 'co...  \n",
       "\n",
       "[1107 rows x 3 columns]"
      ]
     },
     "execution_count": 5,
     "metadata": {},
     "output_type": "execute_result"
    }
   ],
   "source": [
    "import pandas as pd\n",
    "\n",
    "eval_data = {\n",
    "    \"inputs\": [],\n",
    "    \"ground_truth\": [],\n",
    "    \"prompt_data\": []\n",
    "}\n",
    "for title, context_word, context_sentence, gt in dataset:\n",
    "    test = {}\n",
    "    test['title'] = title\n",
    "    test['context_word'] = context_word\n",
    "    test['context_sentence'] = context_sentence.replace(\"'\", \"\")\n",
    "    eval_data['inputs'] += [f\"{context_word} --- {context_sentence}\"]\n",
    "    eval_data['prompt_data'] += [test]\n",
    "    eval_data['ground_truth'] += [gt]\n",
    "eval_data = pd.DataFrame(eval_data)\n",
    "eval_data"
   ]
  },
  {
   "cell_type": "code",
   "execution_count": 6,
   "id": "7e63f1b7-473b-4645-9189-6770fc3a9f27",
   "metadata": {},
   "outputs": [],
   "source": [
    "import ipywidgets as widgets\n",
    "out = widgets.Output(layout={'border': '1px solid black'})"
   ]
  },
  {
   "cell_type": "code",
   "execution_count": 7,
   "id": "d2ce373b-98ac-48dd-ae57-7546348d3506",
   "metadata": {},
   "outputs": [],
   "source": [
    "def eval_network(data, system_prompt, question_prompt, example, out=None):\n",
    "    answers = []\n",
    "    for index, row in tqdm(data.iterrows(), total=len(data)):\n",
    "        context_sentence = row['prompt_data']['context_sentence']\n",
    "        context_word = row['prompt_data']['context_word']\n",
    "        body = {\n",
    "          \"system_prompts\": system_prompt,\n",
    "          \"dialog\": [\n",
    "              *example,\n",
    "            {\n",
    "              \"role\": \"user\",\n",
    "              \"content\": question_prompt % (context_sentence, context_word)\n",
    "            }\n",
    "          ]\n",
    "        }\n",
    "        response = \"\"\n",
    "        with requests.post(api_endpoint, json=body, stream=True) as r:\n",
    "            for chunk in r.iter_content(1024):\n",
    "                response += chunk.decode()\n",
    "        answers.append(response)\n",
    "        if out:\n",
    "            with out:\n",
    "                out.clear_output()\n",
    "                print(f\"{context_word}\\n{context_sentence}\\n\\n{response}\")\n",
    "\n",
    "    return answers"
   ]
  },
  {
   "cell_type": "code",
   "execution_count": 8,
   "id": "35dc70fd-9341-48f8-983f-2e7708af9a0a",
   "metadata": {},
   "outputs": [
    {
     "data": {
      "application/vnd.jupyter.widget-view+json": {
       "model_id": "72474eca824b41329509fdbed0be22a7",
       "version_major": 2,
       "version_minor": 0
      },
      "text/plain": [
       "Output(layout=Layout(border_bottom='1px solid black', border_left='1px solid black', border_right='1px solid b…"
      ]
     },
     "execution_count": 8,
     "metadata": {},
     "output_type": "execute_result"
    }
   ],
   "source": [
    "out"
   ]
  },
  {
   "cell_type": "code",
   "execution_count": null,
   "id": "72d47fb1-b55a-4a07-a43a-0ed442df409d",
   "metadata": {},
   "outputs": [],
   "source": [
    "with mlflow.start_run():\n",
    "    system_prompt = [\n",
    "        \"Du bist ein Definitionsgenerator. \"\n",
    "        \"Du antwortest in Deutsch. \"\n",
    "        \"Du bekommst einen Beispielsatz und ein Wort aus dem Satz. \"\n",
    "        \"Du antwortest mit der Definition des Wortes im Kontext des Beispiels. \"\n",
    "        \"Du antwortest nur mit der Definition. \"\n",
    "        \"Du zeigst den Bezug auf den Kontext. \"\n",
    "        \"Du antwortest in maximal 5 Worten. \"\n",
    "      ]\n",
    "    question_prompt = \"%s Was ist die Definition von %s?\"\n",
    "    example_prompt = [{\n",
    "          \"role\": \"user\",\n",
    "          \"content\": question_prompt % (\"Liebe\", \"Die Liebe überwindet alle Grenzen\")\n",
    "        },\n",
    "        {\n",
    "          \"role\": \"assistant\",\n",
    "          \"content\": \"inniges Gefühl der Zuneigung für jemanden oder für etwas\"\n",
    "        }]\n",
    "\n",
    "#    example_prompt = []\n",
    "    mlflow.log_param(\"system_prompt\", system_prompt)\n",
    "    mlflow.log_param(\"question_prompt\", question_prompt)\n",
    "    mlflow.log_param(\"example_prompt\", example_prompt)\n",
    "\n",
    "    results = mlflow.evaluate(\n",
    "        lambda x: eval_network(x, system_prompt, question_prompt, example_prompt, out),\n",
    "        eval_data,\n",
    "        model_type=\"text\",\n",
    "        targets=\"ground_truth\",\n",
    "        extra_metrics=[mlflow.metrics.rougeL()]#, bert_f1_score_metric]\n",
    "    )    "
   ]
  }
 ],
 "metadata": {
  "kernelspec": {
   "display_name": "Python 3 (ipykernel)",
   "language": "python",
   "name": "python3"
  },
  "language_info": {
   "codemirror_mode": {
    "name": "ipython",
    "version": 3
   },
   "file_extension": ".py",
   "mimetype": "text/x-python",
   "name": "python",
   "nbconvert_exporter": "python",
   "pygments_lexer": "ipython3",
   "version": "3.10.12"
  }
 },
 "nbformat": 4,
 "nbformat_minor": 5
}
