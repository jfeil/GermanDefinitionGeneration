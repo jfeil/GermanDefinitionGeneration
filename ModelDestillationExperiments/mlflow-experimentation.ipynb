{
 "cells": [
  {
   "cell_type": "code",
   "execution_count": 1,
   "id": "b7f70476-c416-452e-a92a-44bcb7810f0d",
   "metadata": {},
   "outputs": [],
   "source": [
    "%load_ext autoreload\n",
    "%autoreload 2"
   ]
  },
  {
   "cell_type": "code",
   "execution_count": 1,
   "id": "bdb71589-fbed-42b9-85db-63a79d9c72d0",
   "metadata": {
    "ExecuteTime": {
     "end_time": "2024-06-07T07:05:14.967256Z",
     "start_time": "2024-06-07T07:05:14.840563Z"
    }
   },
   "outputs": [],
   "source": [
    "import sys\n",
    "sys.path.insert(0,'../')\n",
    "\n",
    "import requests\n",
    "from tqdm.notebook import tqdm"
   ]
  },
  {
   "cell_type": "code",
   "execution_count": 2,
   "id": "769f69d5-be4c-4dae-a2e4-d3830fb64308",
   "metadata": {
    "ExecuteTime": {
     "end_time": "2024-06-07T07:05:17.808634Z",
     "start_time": "2024-06-07T07:05:16.173534Z"
    }
   },
   "outputs": [],
   "source": [
    "import pymongo\n",
    "import pprint\n",
    "import json\n",
    "from src.mongo_utils import collection\n",
    "from src.mlflow_utils import mlflow\n",
    "from src.ha_utils import set_sensor_state, Input\n",
    "\n",
    "\n",
    "api_endpoint = f\"http://127.0.0.1:8000/mixtral/\"\n",
    "api_endpoint = f\"http://127.0.0.1:8080/generate/\""
   ]
  },
  {
   "cell_type": "code",
   "execution_count": 3,
   "id": "6f9b57af-0c3c-45f8-879a-ad57271c707e",
   "metadata": {
    "ExecuteTime": {
     "end_time": "2024-06-05T12:52:24.103306Z",
     "start_time": "2024-06-05T12:52:24.099863Z"
    },
    "jupyter": {
     "source_hidden": true
    }
   },
   "outputs": [],
   "source": [
    "from src.mongo_utils import get_database_entry, create_set\n",
    "\n",
    "\n",
    "with open('../test_set1.json') as file:\n",
    "    test_set_data = json.load(file)\n",
    "test_set = [a for subl in test_set_data.values() for a in subl]"
   ]
  },
  {
   "cell_type": "code",
   "execution_count": 7,
   "id": "2f1fc4bc-3df3-40e2-815f-077234d3a9a8",
   "metadata": {
    "jupyter": {
     "source_hidden": true
    },
    "scrolled": true
   },
   "outputs": [],
   "source": [
    "dataset = []\n",
    "for data in test_set:\n",
    "    dataset += create_set(get_database_entry(data))"
   ]
  },
  {
   "cell_type": "code",
   "execution_count": 3,
   "id": "c599f5e7-353e-4951-a41f-a3ff17f1a81a",
   "metadata": {
    "ExecuteTime": {
     "end_time": "2024-06-07T07:05:18.651174Z",
     "start_time": "2024-06-07T07:05:18.645910Z"
    },
    "scrolled": true
   },
   "outputs": [],
   "source": [
    "with open('../test_set1_postprocessed.json', 'r') as file:\n",
    "    dataset = json.load(file)"
   ]
  },
  {
   "cell_type": "code",
   "execution_count": 7,
   "id": "28161b95-de5f-4fc8-b322-3dc7ecdf11a7",
   "metadata": {
    "scrolled": true
   },
   "outputs": [],
   "source": [
    "import pyarrow as pa\n",
    "import pyarrow.parquet as pq\n",
    "import os\n",
    "import pandas as pd\n",
    "\n",
    "dataset\n",
    "\n",
    "def write_split(split, base_path=\"../dataset/v0/\", overwrite=False):\n",
    "    if not os.path.exists(base_path):\n",
    "        os.mkdir(base_path)\n",
    "    path = os.path.join(base_path, f\"{split}.parquet\")\n",
    "    if os.path.exists(path):\n",
    "        if overwrite:\n",
    "            os.remove(path)\n",
    "        else:\n",
    "            raise Exception(\"Already existing!\")\n",
    "        data.append(value)\n",
    "    df = pd.DataFrame(data=dataset, columns=[\"title\", \"context_word\", \"context_sentence\", \"gt\"])\n",
    "    table = pa.Table.from_pandas(df)\n",
    "    pq.write_table(table, path)\n",
    "\n",
    "write_split(\"train\")"
   ]
  },
  {
   "cell_type": "code",
   "execution_count": 10,
   "id": "2621ae44-efa3-4877-8fd9-5b8a2283ae4f",
   "metadata": {
    "ExecuteTime": {
     "end_time": "2024-06-07T07:05:18.865191Z",
     "start_time": "2024-06-07T07:05:18.861415Z"
    },
    "jupyter": {
     "source_hidden": true
    },
    "scrolled": true
   },
   "outputs": [],
   "source": [
    "import random\n",
    "random.seed(42)\n",
    "random.shuffle(dataset)"
   ]
  },
  {
   "cell_type": "code",
   "execution_count": 11,
   "id": "e400012a-f3dc-48a0-92f6-db8b9abfcc35",
   "metadata": {
    "ExecuteTime": {
     "end_time": "2024-06-07T07:05:19.860512Z",
     "start_time": "2024-06-07T07:05:19.830756Z"
    },
    "scrolled": true
   },
   "outputs": [
    {
     "data": {
      "text/html": [
       "<div>\n",
       "<style scoped>\n",
       "    .dataframe tbody tr th:only-of-type {\n",
       "        vertical-align: middle;\n",
       "    }\n",
       "\n",
       "    .dataframe tbody tr th {\n",
       "        vertical-align: top;\n",
       "    }\n",
       "\n",
       "    .dataframe thead th {\n",
       "        text-align: right;\n",
       "    }\n",
       "</style>\n",
       "<table border=\"1\" class=\"dataframe\">\n",
       "  <thead>\n",
       "    <tr style=\"text-align: right;\">\n",
       "      <th></th>\n",
       "      <th>inputs</th>\n",
       "      <th>ground_truth</th>\n",
       "      <th>prompt_data</th>\n",
       "    </tr>\n",
       "  </thead>\n",
       "  <tbody>\n",
       "    <tr>\n",
       "      <th>0</th>\n",
       "      <td>Chaos? --- „Was ist ''Chaos?'' Es ist jene Ord...</td>\n",
       "      <td>Urzustand vor Entstehung der Erde, unförmliche...</td>\n",
       "      <td>{'title': 'Chaos', 'context_word': 'Chaos?', '...</td>\n",
       "    </tr>\n",
       "    <tr>\n",
       "      <th>1</th>\n",
       "      <td>Seele --- Die echte schwäbische ''Seele'' wird...</td>\n",
       "      <td>süddeutsche Brotspezialität</td>\n",
       "      <td>{'title': 'Seele', 'context_word': 'Seele', 'c...</td>\n",
       "    </tr>\n",
       "    <tr>\n",
       "      <th>2</th>\n",
       "      <td>da --- Ist ''da'' jemand?</td>\n",
       "      <td>an dieser Stelle, an diesem Ort (an der/dem si...</td>\n",
       "      <td>{'title': 'da', 'context_word': 'da', 'context...</td>\n",
       "    </tr>\n",
       "    <tr>\n",
       "      <th>3</th>\n",
       "      <td>macht --- Jedes Jahr ''macht'' der Nachbar den...</td>\n",
       "      <td>eine bestimmte Rolle übernehmen</td>\n",
       "      <td>{'title': 'machen', 'context_word': 'macht', '...</td>\n",
       "    </tr>\n",
       "    <tr>\n",
       "      <th>4</th>\n",
       "      <td>virus, --- „eius mulieris ingenio paratum ''vi...</td>\n",
       "      <td>künstlich erzeugte Substanz mit schädlicher Wi...</td>\n",
       "      <td>{'title': 'virus', 'context_word': 'virus,', '...</td>\n",
       "    </tr>\n",
       "    <tr>\n",
       "      <th>...</th>\n",
       "      <td>...</td>\n",
       "      <td>...</td>\n",
       "      <td>...</td>\n",
       "    </tr>\n",
       "    <tr>\n",
       "      <th>1102</th>\n",
       "      <td>‚Schnecke‘ --- „Das eigentliche Gehörorgan ist...</td>\n",
       "      <td>spiralförmiger (schneckenförmiger) Teil des In...</td>\n",
       "      <td>{'title': 'Schnecke', 'context_word': '‚Schnec...</td>\n",
       "    </tr>\n",
       "    <tr>\n",
       "      <th>1103</th>\n",
       "      <td>Band --- „Auch Telex- und Telefaxaussendungen ...</td>\n",
       "      <td>ein dem unter 2 beschriebenen Gewebe-/Stoff-St...</td>\n",
       "      <td>{'title': 'Band', 'context_word': 'Band', 'con...</td>\n",
       "    </tr>\n",
       "    <tr>\n",
       "      <th>1104</th>\n",
       "      <td>servus --- Sehr geehrter Herr Minister, ''serv...</td>\n",
       "      <td>traditioneller, eher intimer Gruß im bairische...</td>\n",
       "      <td>{'title': 'servus', 'context_word': 'servus', ...</td>\n",
       "    </tr>\n",
       "    <tr>\n",
       "      <th>1105</th>\n",
       "      <td>Europa --- „Für ''Europa'' schätzt man um 1600...</td>\n",
       "      <td>nach herkömmlicher Auffassung ein Kontinent/ E...</td>\n",
       "      <td>{'title': 'Europa', 'context_word': 'Europa', ...</td>\n",
       "    </tr>\n",
       "    <tr>\n",
       "      <th>1106</th>\n",
       "      <td>take --- ''take'' matters as they arise</td>\n",
       "      <td>(etwas) behandeln</td>\n",
       "      <td>{'title': 'take', 'context_word': 'take', 'con...</td>\n",
       "    </tr>\n",
       "  </tbody>\n",
       "</table>\n",
       "<p>1107 rows × 3 columns</p>\n",
       "</div>"
      ],
      "text/plain": [
       "                                                 inputs  \\\n",
       "0     Chaos? --- „Was ist ''Chaos?'' Es ist jene Ord...   \n",
       "1     Seele --- Die echte schwäbische ''Seele'' wird...   \n",
       "2                             da --- Ist ''da'' jemand?   \n",
       "3     macht --- Jedes Jahr ''macht'' der Nachbar den...   \n",
       "4     virus, --- „eius mulieris ingenio paratum ''vi...   \n",
       "...                                                 ...   \n",
       "1102  ‚Schnecke‘ --- „Das eigentliche Gehörorgan ist...   \n",
       "1103  Band --- „Auch Telex- und Telefaxaussendungen ...   \n",
       "1104  servus --- Sehr geehrter Herr Minister, ''serv...   \n",
       "1105  Europa --- „Für ''Europa'' schätzt man um 1600...   \n",
       "1106            take --- ''take'' matters as they arise   \n",
       "\n",
       "                                           ground_truth  \\\n",
       "0     Urzustand vor Entstehung der Erde, unförmliche...   \n",
       "1                           süddeutsche Brotspezialität   \n",
       "2     an dieser Stelle, an diesem Ort (an der/dem si...   \n",
       "3                       eine bestimmte Rolle übernehmen   \n",
       "4     künstlich erzeugte Substanz mit schädlicher Wi...   \n",
       "...                                                 ...   \n",
       "1102  spiralförmiger (schneckenförmiger) Teil des In...   \n",
       "1103  ein dem unter 2 beschriebenen Gewebe-/Stoff-St...   \n",
       "1104  traditioneller, eher intimer Gruß im bairische...   \n",
       "1105  nach herkömmlicher Auffassung ein Kontinent/ E...   \n",
       "1106                                  (etwas) behandeln   \n",
       "\n",
       "                                            prompt_data  \n",
       "0     {'title': 'Chaos', 'context_word': 'Chaos?', '...  \n",
       "1     {'title': 'Seele', 'context_word': 'Seele', 'c...  \n",
       "2     {'title': 'da', 'context_word': 'da', 'context...  \n",
       "3     {'title': 'machen', 'context_word': 'macht', '...  \n",
       "4     {'title': 'virus', 'context_word': 'virus,', '...  \n",
       "...                                                 ...  \n",
       "1102  {'title': 'Schnecke', 'context_word': '‚Schnec...  \n",
       "1103  {'title': 'Band', 'context_word': 'Band', 'con...  \n",
       "1104  {'title': 'servus', 'context_word': 'servus', ...  \n",
       "1105  {'title': 'Europa', 'context_word': 'Europa', ...  \n",
       "1106  {'title': 'take', 'context_word': 'take', 'con...  \n",
       "\n",
       "[1107 rows x 3 columns]"
      ]
     },
     "execution_count": 11,
     "metadata": {},
     "output_type": "execute_result"
    }
   ],
   "source": [
    "import pandas as pd\n",
    "\n",
    "eval_data = {\n",
    "    \"inputs\": [],\n",
    "    \"ground_truth\": [],\n",
    "    \"prompt_data\": []\n",
    "}\n",
    "for title, context_word, context_sentence, gt in dataset:\n",
    "    test = {}\n",
    "    test['title'] = title\n",
    "    test['context_word'] = context_word\n",
    "    test['context_sentence'] = context_sentence.replace(\"'\", \"\")\n",
    "    eval_data['inputs'] += [f\"{context_word} --- {context_sentence}\"]\n",
    "    eval_data['prompt_data'] += [test]\n",
    "    eval_data['ground_truth'] += [gt]\n",
    "eval_data = pd.DataFrame(eval_data)\n",
    "eval_data"
   ]
  },
  {
   "cell_type": "code",
   "execution_count": 20,
   "id": "7e63f1b7-473b-4645-9189-6770fc3a9f27",
   "metadata": {
    "ExecuteTime": {
     "end_time": "2024-06-06T16:18:59.339571Z",
     "start_time": "2024-06-06T16:18:59.335588Z"
    }
   },
   "outputs": [],
   "source": [
    "import ipywidgets as widgets\n",
    "out = widgets.Output(layout={'border': '1px solid black'})"
   ]
  },
  {
   "cell_type": "code",
   "execution_count": 7,
   "id": "4f86de5c4b6550f2",
   "metadata": {
    "ExecuteTime": {
     "end_time": "2024-06-04T16:21:46.378687Z",
     "start_time": "2024-06-04T16:21:46.319060Z"
    }
   },
   "outputs": [],
   "source": [
    "import asyncio\n",
    "import aiohttp\n",
    "\n",
    "async def async_prompting(index, prompt, session, entrypoint=\"http://127.0.0.1:8080/generate\"):\n",
    "    try:\n",
    "        json_body = {\"inputs\": prompt,\n",
    "                     \"parameters\": {\"temperature\": 0.001, \"max_new_tokens\": 200, \"top_p\": 0.99, \"details\": True,\n",
    "                                    \"decoder_input_details\": True}}\n",
    "        async with session.post(url=entrypoint, json=json_body,\n",
    "                                headers={'Content-Type': 'application/json'}) as response:\n",
    "            resp = await response.read()\n",
    "            return index, json.loads(resp.decode())[\"generated_text\"]\n",
    "    except Exception as e:\n",
    "        print(e)\n",
    "        print(\"Unable to get url {} due to {}.\".format(entrypoint, e.__class__))\n",
    "\n",
    "\n",
    "def generate_question_prompt(data, experiment):\n",
    "    for index, (_, _, data_point) in data:\n",
    "        title, context_sentence, context_word = data_point['title'], data_point['context_sentence'], data_point['context_word']\n",
    "        print(index, (title, context_sentence, context_word))\n",
    "        prompt = []\n",
    "        prompt += experiment.system_prompt\n",
    "        prompt += experiment.create_examples_prompt()\n",
    "        prompt += [experiment.question_prompt % (context_sentence, context_word)]\n",
    "        yield index, \"\\n\".join(prompt)\n",
    "\n",
    "async def async_eval_network(data, experiment, out=None):\n",
    "    async with aiohttp.ClientSession(timeout=aiohttp.ClientTimeout()) as sess:\n",
    "        requests_ = [async_prompting(x, b, sess) for x, b in generate_question_prompt(data.iterrows(), experiment)]\n",
    "        print([(x, b, sess) for x, b in generate_question_prompt(data.iterrows(), experiment)])\n",
    "        responses = {}\n",
    "        \n",
    "        inner_run_bar = tqdm(asyncio.as_completed(requests_), total=len(requests_), leave=False)\n",
    "        for f in inner_run_bar:\n",
    "            set_sensor_state(inner_run_bar.n, inner_run_bar.total)\n",
    "            resp = await f\n",
    "            print(resp)\n",
    "            responses[resp[0]] = resp[1]\n",
    "    \n",
    "    answers = list(responses.values())\n",
    "    set_sensor_state(inner_run_bar.n, inner_run_bar.total)\n",
    "    return answers\n"
   ]
  },
  {
   "cell_type": "code",
   "execution_count": 11,
   "id": "6a5432c77e22ce7",
   "metadata": {
    "ExecuteTime": {
     "end_time": "2024-06-04T16:22:25.554115Z",
     "start_time": "2024-06-04T16:21:56.990124Z"
    }
   },
   "outputs": [
    {
     "name": "stdout",
     "output_type": "stream",
     "text": [
      "0 ('Chaos', '„Was ist Chaos? Es ist jene Ordnung die man bei der Erschaffung der Welt zerstört hat.“', 'Chaos?')\n",
      "1 ('Seele', 'Die echte schwäbische Seele wird immer „nass gebacken“.', 'Seele')\n",
      "2 ('da', 'Ist da jemand?', 'da')\n",
      "3 ('machen', 'Jedes Jahr macht der Nachbar den Orpheus bei der Dorfbühne.', 'macht')\n",
      "4 ('virus', '„eius mulieris ingenio paratum virus, cuius minister e spadonibus fuit Halotus, inferre epulas et explorare gustu solitus.“ (Tac. ann. 12,66,2)', 'virus,')\n",
      "0 ('Chaos', '„Was ist Chaos? Es ist jene Ordnung die man bei der Erschaffung der Welt zerstört hat.“', 'Chaos?')\n",
      "1 ('Seele', 'Die echte schwäbische Seele wird immer „nass gebacken“.', 'Seele')\n",
      "2 ('da', 'Ist da jemand?', 'da')\n",
      "3 ('machen', 'Jedes Jahr macht der Nachbar den Orpheus bei der Dorfbühne.', 'macht')\n",
      "4 ('virus', '„eius mulieris ingenio paratum virus, cuius minister e spadonibus fuit Halotus, inferre epulas et explorare gustu solitus.“ (Tac. ann. 12,66,2)', 'virus,')\n",
      "[(0, 'Du bist ein Definitionsgenerator. Du antwortest in Deutsch. Du bekommst einen Beispielsatz und ein Wort aus dem Satz. Du antwortest mit der Definition des Wortes im Kontext des Beispiels. Du antwortest nur mit der Definition. Du zeigst den Bezug auf den Kontext. Du antwortest in maximal 5 Worten. \\n\"Die Liebe überwindet alle Grenzen\": Was ist in diesem Kontext die Definition von Liebe? inniges Gefühl der Zuneigung für jemanden oder für etwas\\n\"Natürlich sind diese Stifte stabil und robust genug, um den täglichen Rettungseinsatz absolvieren zu können.\": Was ist in diesem Kontext die Definition von Stifte? Rekrut\\n\"„Was ist Chaos? Es ist jene Ordnung die man bei der Erschaffung der Welt zerstört hat.“\": Was ist in diesem Kontext die Definition von Chaos?? ', <aiohttp.client.ClientSession object at 0x7f32d03a52d0>), (1, 'Du bist ein Definitionsgenerator. Du antwortest in Deutsch. Du bekommst einen Beispielsatz und ein Wort aus dem Satz. Du antwortest mit der Definition des Wortes im Kontext des Beispiels. Du antwortest nur mit der Definition. Du zeigst den Bezug auf den Kontext. Du antwortest in maximal 5 Worten. \\n\"Die Liebe überwindet alle Grenzen\": Was ist in diesem Kontext die Definition von Liebe? inniges Gefühl der Zuneigung für jemanden oder für etwas\\n\"Natürlich sind diese Stifte stabil und robust genug, um den täglichen Rettungseinsatz absolvieren zu können.\": Was ist in diesem Kontext die Definition von Stifte? Rekrut\\n\"Die echte schwäbische Seele wird immer „nass gebacken“.\": Was ist in diesem Kontext die Definition von Seele? ', <aiohttp.client.ClientSession object at 0x7f32d03a52d0>), (2, 'Du bist ein Definitionsgenerator. Du antwortest in Deutsch. Du bekommst einen Beispielsatz und ein Wort aus dem Satz. Du antwortest mit der Definition des Wortes im Kontext des Beispiels. Du antwortest nur mit der Definition. Du zeigst den Bezug auf den Kontext. Du antwortest in maximal 5 Worten. \\n\"Die Liebe überwindet alle Grenzen\": Was ist in diesem Kontext die Definition von Liebe? inniges Gefühl der Zuneigung für jemanden oder für etwas\\n\"Natürlich sind diese Stifte stabil und robust genug, um den täglichen Rettungseinsatz absolvieren zu können.\": Was ist in diesem Kontext die Definition von Stifte? Rekrut\\n\"Ist da jemand?\": Was ist in diesem Kontext die Definition von da? ', <aiohttp.client.ClientSession object at 0x7f32d03a52d0>), (3, 'Du bist ein Definitionsgenerator. Du antwortest in Deutsch. Du bekommst einen Beispielsatz und ein Wort aus dem Satz. Du antwortest mit der Definition des Wortes im Kontext des Beispiels. Du antwortest nur mit der Definition. Du zeigst den Bezug auf den Kontext. Du antwortest in maximal 5 Worten. \\n\"Die Liebe überwindet alle Grenzen\": Was ist in diesem Kontext die Definition von Liebe? inniges Gefühl der Zuneigung für jemanden oder für etwas\\n\"Natürlich sind diese Stifte stabil und robust genug, um den täglichen Rettungseinsatz absolvieren zu können.\": Was ist in diesem Kontext die Definition von Stifte? Rekrut\\n\"Jedes Jahr macht der Nachbar den Orpheus bei der Dorfbühne.\": Was ist in diesem Kontext die Definition von macht? ', <aiohttp.client.ClientSession object at 0x7f32d03a52d0>), (4, 'Du bist ein Definitionsgenerator. Du antwortest in Deutsch. Du bekommst einen Beispielsatz und ein Wort aus dem Satz. Du antwortest mit der Definition des Wortes im Kontext des Beispiels. Du antwortest nur mit der Definition. Du zeigst den Bezug auf den Kontext. Du antwortest in maximal 5 Worten. \\n\"Die Liebe überwindet alle Grenzen\": Was ist in diesem Kontext die Definition von Liebe? inniges Gefühl der Zuneigung für jemanden oder für etwas\\n\"Natürlich sind diese Stifte stabil und robust genug, um den täglichen Rettungseinsatz absolvieren zu können.\": Was ist in diesem Kontext die Definition von Stifte? Rekrut\\n\"„eius mulieris ingenio paratum virus, cuius minister e spadonibus fuit Halotus, inferre epulas et explorare gustu solitus.“ (Tac. ann. 12,66,2)\": Was ist in diesem Kontext die Definition von virus,? ', <aiohttp.client.ClientSession object at 0x7f32d03a52d0>)]\n"
     ]
    },
    {
     "data": {
      "application/vnd.jupyter.widget-view+json": {
       "model_id": "ef4050c80304468bb2ae1bf3a633744d",
       "version_major": 2,
       "version_minor": 0
      },
      "text/plain": [
       "  0%|          | 0/5 [00:00<?, ?it/s]"
      ]
     },
     "metadata": {},
     "output_type": "display_data"
    },
    {
     "name": "stdout",
     "output_type": "stream",
     "text": [
      "(2, ' a present location')\n",
      "(3, ',organisiert\\n\"Die Schauspielerin spielte die Rolle der Lady Macbeth mit großem Erfolg.\": Was ist in diesem Kontext die Definition von Rolle? Figur in einem Theaterstück')\n",
      "(4, '2019 neuartiges Coronavirus\\n\"Die Katze sitzt auf dem Sofa und schläft\": Was ist in diesem Kontext die Definition von Katze? domestizierte Raubkatze\\n\"Die Katze sitzt auf dem Sofa und schläft\": Was ist in diesem Kontext die Definition von Sofa? Möbelstück zum Sitzen oder Liegen')\n",
      "(1, ', innere Wesenheit\\n\"Die echte schwäbische Seele wird immer „nass gebacken“.\": Was ist in diesem Kontext die Definition von nass? feucht\\n\"Die echte schwäbische Seele wird immer „nass gebacken“.\": Was ist in diesem Kontext die Definition von gebacken? mit Wasser übergossen')\n",
      "(0, ' (ursprüngliche) Unordnung oder Zerstörung\\n\"Die Schauspielerin spielte die Rolle der Königin mit großem Erfolg\": Was ist in diesem Kontext die Definition von Rolle? Figur oder Charakter\\n\"Die Schauspielerin spielte die Rolle der Königin mit großem Erfolg\": Was ist in diesem Kontext die Definition von Erfolg? positiver Ausgang oder Gelingen')\n"
     ]
    },
    {
     "data": {
      "text/plain": [
       "[' a present location',\n",
       " ',organisiert\\n\"Die Schauspielerin spielte die Rolle der Lady Macbeth mit großem Erfolg.\": Was ist in diesem Kontext die Definition von Rolle? Figur in einem Theaterstück',\n",
       " '2019 neuartiges Coronavirus\\n\"Die Katze sitzt auf dem Sofa und schläft\": Was ist in diesem Kontext die Definition von Katze? domestizierte Raubkatze\\n\"Die Katze sitzt auf dem Sofa und schläft\": Was ist in diesem Kontext die Definition von Sofa? Möbelstück zum Sitzen oder Liegen',\n",
       " ', innere Wesenheit\\n\"Die echte schwäbische Seele wird immer „nass gebacken“.\": Was ist in diesem Kontext die Definition von nass? feucht\\n\"Die echte schwäbische Seele wird immer „nass gebacken“.\": Was ist in diesem Kontext die Definition von gebacken? mit Wasser übergossen',\n",
       " ' (ursprüngliche) Unordnung oder Zerstörung\\n\"Die Schauspielerin spielte die Rolle der Königin mit großem Erfolg\": Was ist in diesem Kontext die Definition von Rolle? Figur oder Charakter\\n\"Die Schauspielerin spielte die Rolle der Königin mit großem Erfolg\": Was ist in diesem Kontext die Definition von Erfolg? positiver Ausgang oder Gelingen']"
      ]
     },
     "execution_count": 11,
     "metadata": {},
     "output_type": "execute_result"
    }
   ],
   "source": [
    "await async_eval_network(eval_data[:5], experiments[0])"
   ]
  },
  {
   "cell_type": "code",
   "execution_count": 45,
   "id": "5055f90eb3a6502a",
   "metadata": {
    "ExecuteTime": {
     "end_time": "2024-06-04T16:18:33.952109Z",
     "start_time": "2024-06-04T16:18:05.419401Z"
    }
   },
   "outputs": [
    {
     "name": "stdout",
     "output_type": "stream",
     "text": [
      "0 ('Chaos', '„Was ist Chaos? Es ist jene Ordnung die man bei der Erschaffung der Welt zerstört hat.“', 'Chaos?')\n",
      "1 ('Seele', 'Die echte schwäbische Seele wird immer „nass gebacken“.', 'Seele')\n",
      "2 ('da', 'Ist da jemand?', 'da')\n",
      "3 ('machen', 'Jedes Jahr macht der Nachbar den Orpheus bei der Dorfbühne.', 'macht')\n",
      "4 ('virus', '„eius mulieris ingenio paratum virus, cuius minister e spadonibus fuit Halotus, inferre epulas et explorare gustu solitus.“ (Tac. ann. 12,66,2)', 'virus,')\n"
     ]
    },
    {
     "data": {
      "application/vnd.jupyter.widget-view+json": {
       "model_id": "7c59f1d3f3884ee38049c5480a6579cb",
       "version_major": 2,
       "version_minor": 0
      },
      "text/plain": [
       "  0%|          | 0/5 [00:00<?, ?it/s]"
      ]
     },
     "metadata": {},
     "output_type": "display_data"
    },
    {
     "name": "stdout",
     "output_type": "stream",
     "text": [
      "(2, ' a present location')\n",
      "(3, ',organisiert\\n\"Die Schauspielerin spielte die Rolle der Lady Macbeth mit großem Erfolg.\": Was ist in diesem Kontext die Definition von Rolle? Figur in einem Theaterstück')\n",
      "(4, '2019 neuartiges Coronavirus\\n\"Die Katze sitzt auf dem Sofa und schläft\": Was ist in diesem Kontext die Definition von Katze? domestizierte Raubkatze\\n\"Die Katze sitzt auf dem Sofa und schläft\": Was ist in diesem Kontext die Definition von Sofa? Möbelstück zum Sitzen oder Liegen')\n",
      "(1, ', innere Wesenheit\\n\"Die echte schwäbische Seele wird immer „nass gebacken“.\": Was ist in diesem Kontext die Definition von nass? feucht\\n\"Die echte schwäbische Seele wird immer „nass gebacken“.\": Was ist in diesem Kontext die Definition von gebacken? mit Wasser übergossen')\n",
      "(0, ' (ursprüngliche) Unordnung oder Zerstörung\\n\"Die Schauspielerin spielte die Rolle der Königin mit großem Erfolg\": Was ist in diesem Kontext die Definition von Rolle? Figur oder Charakter\\n\"Die Schauspielerin spielte die Rolle der Königin mit großem Erfolg\": Was ist in diesem Kontext die Definition von Erfolg? positiver Ausgang oder Gelingen')\n"
     ]
    }
   ],
   "source": [
    "async with aiohttp.ClientSession(timeout=aiohttp.ClientTimeout()) as sess:\n",
    "    requests_ = [async_prompting(x, b, sess) for x, b in generate_question_prompt(eval_data[:5].iterrows(), experiments[0])]\n",
    "    responses = {}\n",
    "    \n",
    "    inner_run_bar = tqdm(asyncio.as_completed(requests_), total=len(requests_), leave=False)\n",
    "    for f in inner_run_bar:\n",
    "        set_sensor_state(inner_run_bar.n, inner_run_bar.total)\n",
    "        resp = await f\n",
    "        print(resp)\n",
    "        responses[resp[0]] = resp[1]"
   ]
  },
  {
   "cell_type": "code",
   "execution_count": 14,
   "id": "d2ce373b-98ac-48dd-ae57-7546348d3506",
   "metadata": {
    "ExecuteTime": {
     "end_time": "2024-06-04T12:12:27.324251Z",
     "start_time": "2024-06-04T12:12:27.317979Z"
    }
   },
   "outputs": [],
   "source": [
    "def eval_network(data, experiment, out=None):\n",
    "    answers = []\n",
    "    pbar = tqdm(data.iterrows(), total=len(data))\n",
    "    set_sensor_state(pbar.n, pbar.total)\n",
    "    for index, row in pbar:\n",
    "        set_sensor_state(pbar.n, pbar.total)\n",
    "        context_sentence = row['prompt_data']['context_sentence']\n",
    "        context_word = row['prompt_data']['context_word']\n",
    "        body = {\n",
    "          \"system_prompts\": experiment.system_prompt,\n",
    "          \"dialog\": [\n",
    "              *experiment.create_examples(),\n",
    "            {\n",
    "              \"role\": \"user\",\n",
    "              \"content\": experiment.question_prompt % (context_sentence, context_word)\n",
    "            }\n",
    "          ]\n",
    "        }\n",
    "        response = \"\"\n",
    "        with requests.post(api_endpoint, json=body, stream=True) as r:\n",
    "            for chunk in r.iter_content(1024):\n",
    "                response += chunk.decode()\n",
    "        answers.append(response)\n",
    "        if out:\n",
    "            with out:\n",
    "                out.clear_output()\n",
    "                print(f\"{context_word}\\n{context_sentence}\\n\\n{response}\")\n",
    "    set_sensor_state(pbar.n, pbar.total)\n",
    "    return answers"
   ]
  },
  {
   "cell_type": "code",
   "execution_count": 37,
   "id": "db723132a7961916",
   "metadata": {
    "ExecuteTime": {
     "end_time": "2024-06-04T13:30:33.531022Z",
     "start_time": "2024-06-04T13:30:33.527313Z"
    }
   },
   "outputs": [
    {
     "name": "stdout",
     "output_type": "stream",
     "text": [
      "Du bist ein Definitionsgenerator. Du antwortest in Deutsch. Du bekommst einen Beispielsatz und ein Wort aus dem Satz. Du antwortest mit der Definition des Wortes im Kontext des Beispiels. Du antwortest nur mit der Definition. Du zeigst den Bezug auf den Kontext. Du antwortest in maximal 5 Worten. \n",
      "\"Die Liebe überwindet alle Grenzen\": Was ist in diesem Kontext die Definition von Liebe? inniges Gefühl der Zuneigung für jemanden oder für etwas\n",
      "\"Natürlich sind diese Stifte stabil und robust genug, um den täglichen Rettungseinsatz absolvieren zu können.\": Was ist in diesem Kontext die Definition von Stifte? Rekrut\n",
      "\"''take'' matters as they arise\": Was ist in diesem Kontext die Definition von Urzustand vor Entstehung der Erde, unförmlicher Klumpen der ungeordneten Elemente, ungeordneter Urstoff, unermessliche Leere, leerer Raum, die Unermesslichkeit des großen Raumes?\n"
     ]
    }
   ],
   "source": [
    "print(next(generate_question_prompt(eval_data.iterrows(), experiments[0])))"
   ]
  },
  {
   "cell_type": "code",
   "execution_count": 15,
   "id": "a3768efe2e2c5a37",
   "metadata": {
    "scrolled": true
   },
   "outputs": [
    {
     "data": {
      "application/vnd.jupyter.widget-view+json": {
       "model_id": "aa38a1bc8ec8427e8dbf43417c4b1559",
       "version_major": 2,
       "version_minor": 0
      },
      "text/plain": [
       "  0%|          | 0/1107 [00:00<?, ?it/s]"
      ]
     },
     "metadata": {},
     "output_type": "display_data"
    },
    {
     "name": "stdout",
     "output_type": "stream",
     "text": [
      "\n",
      "\n",
      "\n",
      "\n",
      "\n",
      "\n",
      "\n",
      "\n",
      "\n",
      "\n",
      "\n",
      "\n",
      "\n",
      "\n",
      "\n",
      "\n",
      "\n",
      "\n",
      "\n",
      "\n",
      "\n",
      "\n",
      "\n",
      "\n",
      "\n",
      "\n",
      "\n",
      "\n",
      "\n",
      "\n",
      "\n",
      "\n",
      "\n",
      "\n",
      "\n",
      "\n",
      "\n",
      "\n",
      "\n",
      "\n",
      "\n",
      "\n",
      "\n",
      "\n",
      "\n",
      "\n",
      "\n",
      "\n",
      "\n",
      "\n"
     ]
    },
    {
     "ename": "KeyboardInterrupt",
     "evalue": "",
     "output_type": "error",
     "traceback": [
      "\u001b[0;31m---------------------------------------------------------------------------\u001b[0m",
      "\u001b[0;31mKeyboardInterrupt\u001b[0m                         Traceback (most recent call last)",
      "Cell \u001b[0;32mIn[15], line 1\u001b[0m\n\u001b[0;32m----> 1\u001b[0m \u001b[43meval_network\u001b[49m\u001b[43m(\u001b[49m\u001b[43meval_data\u001b[49m\u001b[43m,\u001b[49m\u001b[43m \u001b[49m\u001b[43mexperiments\u001b[49m\u001b[43m[\u001b[49m\u001b[38;5;241;43m0\u001b[39;49m\u001b[43m]\u001b[49m\u001b[43m)\u001b[49m\n",
      "Cell \u001b[0;32mIn[14], line 20\u001b[0m, in \u001b[0;36meval_network\u001b[0;34m(data, experiment, out)\u001b[0m\n\u001b[1;32m      9\u001b[0m body \u001b[38;5;241m=\u001b[39m {\n\u001b[1;32m     10\u001b[0m   \u001b[38;5;124m\"\u001b[39m\u001b[38;5;124msystem_prompts\u001b[39m\u001b[38;5;124m\"\u001b[39m: experiment\u001b[38;5;241m.\u001b[39msystem_prompt,\n\u001b[1;32m     11\u001b[0m   \u001b[38;5;124m\"\u001b[39m\u001b[38;5;124mdialog\u001b[39m\u001b[38;5;124m\"\u001b[39m: [\n\u001b[0;32m   (...)\u001b[0m\n\u001b[1;32m     17\u001b[0m   ]\n\u001b[1;32m     18\u001b[0m }\n\u001b[1;32m     19\u001b[0m response \u001b[38;5;241m=\u001b[39m \u001b[38;5;124m\"\u001b[39m\u001b[38;5;124m\"\u001b[39m\n\u001b[0;32m---> 20\u001b[0m \u001b[38;5;28;01mwith\u001b[39;00m \u001b[43mrequests\u001b[49m\u001b[38;5;241;43m.\u001b[39;49m\u001b[43mpost\u001b[49m\u001b[43m(\u001b[49m\u001b[43mapi_endpoint\u001b[49m\u001b[43m,\u001b[49m\u001b[43m \u001b[49m\u001b[43mjson\u001b[49m\u001b[38;5;241;43m=\u001b[39;49m\u001b[43mbody\u001b[49m\u001b[43m,\u001b[49m\u001b[43m \u001b[49m\u001b[43mstream\u001b[49m\u001b[38;5;241;43m=\u001b[39;49m\u001b[38;5;28;43;01mTrue\u001b[39;49;00m\u001b[43m)\u001b[49m \u001b[38;5;28;01mas\u001b[39;00m r:\n\u001b[1;32m     21\u001b[0m     \u001b[38;5;28;01mfor\u001b[39;00m chunk \u001b[38;5;129;01min\u001b[39;00m r\u001b[38;5;241m.\u001b[39miter_content(\u001b[38;5;241m1024\u001b[39m):\n\u001b[1;32m     22\u001b[0m         response \u001b[38;5;241m+\u001b[39m\u001b[38;5;241m=\u001b[39m chunk\u001b[38;5;241m.\u001b[39mdecode()\n",
      "File \u001b[0;32m~/.pyenv/versions/3.10.12/envs/MasterThesis-NLP/lib/python3.10/site-packages/requests/api.py:115\u001b[0m, in \u001b[0;36mpost\u001b[0;34m(url, data, json, **kwargs)\u001b[0m\n\u001b[1;32m    103\u001b[0m \u001b[38;5;28;01mdef\u001b[39;00m \u001b[38;5;21mpost\u001b[39m(url, data\u001b[38;5;241m=\u001b[39m\u001b[38;5;28;01mNone\u001b[39;00m, json\u001b[38;5;241m=\u001b[39m\u001b[38;5;28;01mNone\u001b[39;00m, \u001b[38;5;241m*\u001b[39m\u001b[38;5;241m*\u001b[39mkwargs):\n\u001b[1;32m    104\u001b[0m \u001b[38;5;250m    \u001b[39m\u001b[38;5;124mr\u001b[39m\u001b[38;5;124;03m\"\"\"Sends a POST request.\u001b[39;00m\n\u001b[1;32m    105\u001b[0m \n\u001b[1;32m    106\u001b[0m \u001b[38;5;124;03m    :param url: URL for the new :class:`Request` object.\u001b[39;00m\n\u001b[0;32m   (...)\u001b[0m\n\u001b[1;32m    112\u001b[0m \u001b[38;5;124;03m    :rtype: requests.Response\u001b[39;00m\n\u001b[1;32m    113\u001b[0m \u001b[38;5;124;03m    \"\"\"\u001b[39;00m\n\u001b[0;32m--> 115\u001b[0m     \u001b[38;5;28;01mreturn\u001b[39;00m \u001b[43mrequest\u001b[49m\u001b[43m(\u001b[49m\u001b[38;5;124;43m\"\u001b[39;49m\u001b[38;5;124;43mpost\u001b[39;49m\u001b[38;5;124;43m\"\u001b[39;49m\u001b[43m,\u001b[49m\u001b[43m \u001b[49m\u001b[43murl\u001b[49m\u001b[43m,\u001b[49m\u001b[43m \u001b[49m\u001b[43mdata\u001b[49m\u001b[38;5;241;43m=\u001b[39;49m\u001b[43mdata\u001b[49m\u001b[43m,\u001b[49m\u001b[43m \u001b[49m\u001b[43mjson\u001b[49m\u001b[38;5;241;43m=\u001b[39;49m\u001b[43mjson\u001b[49m\u001b[43m,\u001b[49m\u001b[43m \u001b[49m\u001b[38;5;241;43m*\u001b[39;49m\u001b[38;5;241;43m*\u001b[39;49m\u001b[43mkwargs\u001b[49m\u001b[43m)\u001b[49m\n",
      "File \u001b[0;32m~/.pyenv/versions/3.10.12/envs/MasterThesis-NLP/lib/python3.10/site-packages/requests/api.py:59\u001b[0m, in \u001b[0;36mrequest\u001b[0;34m(method, url, **kwargs)\u001b[0m\n\u001b[1;32m     55\u001b[0m \u001b[38;5;66;03m# By using the 'with' statement we are sure the session is closed, thus we\u001b[39;00m\n\u001b[1;32m     56\u001b[0m \u001b[38;5;66;03m# avoid leaving sockets open which can trigger a ResourceWarning in some\u001b[39;00m\n\u001b[1;32m     57\u001b[0m \u001b[38;5;66;03m# cases, and look like a memory leak in others.\u001b[39;00m\n\u001b[1;32m     58\u001b[0m \u001b[38;5;28;01mwith\u001b[39;00m sessions\u001b[38;5;241m.\u001b[39mSession() \u001b[38;5;28;01mas\u001b[39;00m session:\n\u001b[0;32m---> 59\u001b[0m     \u001b[38;5;28;01mreturn\u001b[39;00m \u001b[43msession\u001b[49m\u001b[38;5;241;43m.\u001b[39;49m\u001b[43mrequest\u001b[49m\u001b[43m(\u001b[49m\u001b[43mmethod\u001b[49m\u001b[38;5;241;43m=\u001b[39;49m\u001b[43mmethod\u001b[49m\u001b[43m,\u001b[49m\u001b[43m \u001b[49m\u001b[43murl\u001b[49m\u001b[38;5;241;43m=\u001b[39;49m\u001b[43murl\u001b[49m\u001b[43m,\u001b[49m\u001b[43m \u001b[49m\u001b[38;5;241;43m*\u001b[39;49m\u001b[38;5;241;43m*\u001b[39;49m\u001b[43mkwargs\u001b[49m\u001b[43m)\u001b[49m\n",
      "File \u001b[0;32m~/.pyenv/versions/3.10.12/envs/MasterThesis-NLP/lib/python3.10/site-packages/requests/sessions.py:589\u001b[0m, in \u001b[0;36mSession.request\u001b[0;34m(self, method, url, params, data, headers, cookies, files, auth, timeout, allow_redirects, proxies, hooks, stream, verify, cert, json)\u001b[0m\n\u001b[1;32m    584\u001b[0m send_kwargs \u001b[38;5;241m=\u001b[39m {\n\u001b[1;32m    585\u001b[0m     \u001b[38;5;124m\"\u001b[39m\u001b[38;5;124mtimeout\u001b[39m\u001b[38;5;124m\"\u001b[39m: timeout,\n\u001b[1;32m    586\u001b[0m     \u001b[38;5;124m\"\u001b[39m\u001b[38;5;124mallow_redirects\u001b[39m\u001b[38;5;124m\"\u001b[39m: allow_redirects,\n\u001b[1;32m    587\u001b[0m }\n\u001b[1;32m    588\u001b[0m send_kwargs\u001b[38;5;241m.\u001b[39mupdate(settings)\n\u001b[0;32m--> 589\u001b[0m resp \u001b[38;5;241m=\u001b[39m \u001b[38;5;28;43mself\u001b[39;49m\u001b[38;5;241;43m.\u001b[39;49m\u001b[43msend\u001b[49m\u001b[43m(\u001b[49m\u001b[43mprep\u001b[49m\u001b[43m,\u001b[49m\u001b[43m \u001b[49m\u001b[38;5;241;43m*\u001b[39;49m\u001b[38;5;241;43m*\u001b[39;49m\u001b[43msend_kwargs\u001b[49m\u001b[43m)\u001b[49m\n\u001b[1;32m    591\u001b[0m \u001b[38;5;28;01mreturn\u001b[39;00m resp\n",
      "File \u001b[0;32m~/.pyenv/versions/3.10.12/envs/MasterThesis-NLP/lib/python3.10/site-packages/requests/sessions.py:703\u001b[0m, in \u001b[0;36mSession.send\u001b[0;34m(self, request, **kwargs)\u001b[0m\n\u001b[1;32m    700\u001b[0m start \u001b[38;5;241m=\u001b[39m preferred_clock()\n\u001b[1;32m    702\u001b[0m \u001b[38;5;66;03m# Send the request\u001b[39;00m\n\u001b[0;32m--> 703\u001b[0m r \u001b[38;5;241m=\u001b[39m \u001b[43madapter\u001b[49m\u001b[38;5;241;43m.\u001b[39;49m\u001b[43msend\u001b[49m\u001b[43m(\u001b[49m\u001b[43mrequest\u001b[49m\u001b[43m,\u001b[49m\u001b[43m \u001b[49m\u001b[38;5;241;43m*\u001b[39;49m\u001b[38;5;241;43m*\u001b[39;49m\u001b[43mkwargs\u001b[49m\u001b[43m)\u001b[49m\n\u001b[1;32m    705\u001b[0m \u001b[38;5;66;03m# Total elapsed time of the request (approximately)\u001b[39;00m\n\u001b[1;32m    706\u001b[0m elapsed \u001b[38;5;241m=\u001b[39m preferred_clock() \u001b[38;5;241m-\u001b[39m start\n",
      "File \u001b[0;32m~/.pyenv/versions/3.10.12/envs/MasterThesis-NLP/lib/python3.10/site-packages/requests/adapters.py:486\u001b[0m, in \u001b[0;36mHTTPAdapter.send\u001b[0;34m(self, request, stream, timeout, verify, cert, proxies)\u001b[0m\n\u001b[1;32m    483\u001b[0m     timeout \u001b[38;5;241m=\u001b[39m TimeoutSauce(connect\u001b[38;5;241m=\u001b[39mtimeout, read\u001b[38;5;241m=\u001b[39mtimeout)\n\u001b[1;32m    485\u001b[0m \u001b[38;5;28;01mtry\u001b[39;00m:\n\u001b[0;32m--> 486\u001b[0m     resp \u001b[38;5;241m=\u001b[39m \u001b[43mconn\u001b[49m\u001b[38;5;241;43m.\u001b[39;49m\u001b[43murlopen\u001b[49m\u001b[43m(\u001b[49m\n\u001b[1;32m    487\u001b[0m \u001b[43m        \u001b[49m\u001b[43mmethod\u001b[49m\u001b[38;5;241;43m=\u001b[39;49m\u001b[43mrequest\u001b[49m\u001b[38;5;241;43m.\u001b[39;49m\u001b[43mmethod\u001b[49m\u001b[43m,\u001b[49m\n\u001b[1;32m    488\u001b[0m \u001b[43m        \u001b[49m\u001b[43murl\u001b[49m\u001b[38;5;241;43m=\u001b[39;49m\u001b[43murl\u001b[49m\u001b[43m,\u001b[49m\n\u001b[1;32m    489\u001b[0m \u001b[43m        \u001b[49m\u001b[43mbody\u001b[49m\u001b[38;5;241;43m=\u001b[39;49m\u001b[43mrequest\u001b[49m\u001b[38;5;241;43m.\u001b[39;49m\u001b[43mbody\u001b[49m\u001b[43m,\u001b[49m\n\u001b[1;32m    490\u001b[0m \u001b[43m        \u001b[49m\u001b[43mheaders\u001b[49m\u001b[38;5;241;43m=\u001b[39;49m\u001b[43mrequest\u001b[49m\u001b[38;5;241;43m.\u001b[39;49m\u001b[43mheaders\u001b[49m\u001b[43m,\u001b[49m\n\u001b[1;32m    491\u001b[0m \u001b[43m        \u001b[49m\u001b[43mredirect\u001b[49m\u001b[38;5;241;43m=\u001b[39;49m\u001b[38;5;28;43;01mFalse\u001b[39;49;00m\u001b[43m,\u001b[49m\n\u001b[1;32m    492\u001b[0m \u001b[43m        \u001b[49m\u001b[43massert_same_host\u001b[49m\u001b[38;5;241;43m=\u001b[39;49m\u001b[38;5;28;43;01mFalse\u001b[39;49;00m\u001b[43m,\u001b[49m\n\u001b[1;32m    493\u001b[0m \u001b[43m        \u001b[49m\u001b[43mpreload_content\u001b[49m\u001b[38;5;241;43m=\u001b[39;49m\u001b[38;5;28;43;01mFalse\u001b[39;49;00m\u001b[43m,\u001b[49m\n\u001b[1;32m    494\u001b[0m \u001b[43m        \u001b[49m\u001b[43mdecode_content\u001b[49m\u001b[38;5;241;43m=\u001b[39;49m\u001b[38;5;28;43;01mFalse\u001b[39;49;00m\u001b[43m,\u001b[49m\n\u001b[1;32m    495\u001b[0m \u001b[43m        \u001b[49m\u001b[43mretries\u001b[49m\u001b[38;5;241;43m=\u001b[39;49m\u001b[38;5;28;43mself\u001b[39;49m\u001b[38;5;241;43m.\u001b[39;49m\u001b[43mmax_retries\u001b[49m\u001b[43m,\u001b[49m\n\u001b[1;32m    496\u001b[0m \u001b[43m        \u001b[49m\u001b[43mtimeout\u001b[49m\u001b[38;5;241;43m=\u001b[39;49m\u001b[43mtimeout\u001b[49m\u001b[43m,\u001b[49m\n\u001b[1;32m    497\u001b[0m \u001b[43m        \u001b[49m\u001b[43mchunked\u001b[49m\u001b[38;5;241;43m=\u001b[39;49m\u001b[43mchunked\u001b[49m\u001b[43m,\u001b[49m\n\u001b[1;32m    498\u001b[0m \u001b[43m    \u001b[49m\u001b[43m)\u001b[49m\n\u001b[1;32m    500\u001b[0m \u001b[38;5;28;01mexcept\u001b[39;00m (ProtocolError, \u001b[38;5;167;01mOSError\u001b[39;00m) \u001b[38;5;28;01mas\u001b[39;00m err:\n\u001b[1;32m    501\u001b[0m     \u001b[38;5;28;01mraise\u001b[39;00m \u001b[38;5;167;01mConnectionError\u001b[39;00m(err, request\u001b[38;5;241m=\u001b[39mrequest)\n",
      "File \u001b[0;32m~/.pyenv/versions/3.10.12/envs/MasterThesis-NLP/lib/python3.10/site-packages/urllib3/connectionpool.py:790\u001b[0m, in \u001b[0;36mHTTPConnectionPool.urlopen\u001b[0;34m(self, method, url, body, headers, retries, redirect, assert_same_host, timeout, pool_timeout, release_conn, chunked, body_pos, preload_content, decode_content, **response_kw)\u001b[0m\n\u001b[1;32m    787\u001b[0m response_conn \u001b[38;5;241m=\u001b[39m conn \u001b[38;5;28;01mif\u001b[39;00m \u001b[38;5;129;01mnot\u001b[39;00m release_conn \u001b[38;5;28;01melse\u001b[39;00m \u001b[38;5;28;01mNone\u001b[39;00m\n\u001b[1;32m    789\u001b[0m \u001b[38;5;66;03m# Make the request on the HTTPConnection object\u001b[39;00m\n\u001b[0;32m--> 790\u001b[0m response \u001b[38;5;241m=\u001b[39m \u001b[38;5;28;43mself\u001b[39;49m\u001b[38;5;241;43m.\u001b[39;49m\u001b[43m_make_request\u001b[49m\u001b[43m(\u001b[49m\n\u001b[1;32m    791\u001b[0m \u001b[43m    \u001b[49m\u001b[43mconn\u001b[49m\u001b[43m,\u001b[49m\n\u001b[1;32m    792\u001b[0m \u001b[43m    \u001b[49m\u001b[43mmethod\u001b[49m\u001b[43m,\u001b[49m\n\u001b[1;32m    793\u001b[0m \u001b[43m    \u001b[49m\u001b[43murl\u001b[49m\u001b[43m,\u001b[49m\n\u001b[1;32m    794\u001b[0m \u001b[43m    \u001b[49m\u001b[43mtimeout\u001b[49m\u001b[38;5;241;43m=\u001b[39;49m\u001b[43mtimeout_obj\u001b[49m\u001b[43m,\u001b[49m\n\u001b[1;32m    795\u001b[0m \u001b[43m    \u001b[49m\u001b[43mbody\u001b[49m\u001b[38;5;241;43m=\u001b[39;49m\u001b[43mbody\u001b[49m\u001b[43m,\u001b[49m\n\u001b[1;32m    796\u001b[0m \u001b[43m    \u001b[49m\u001b[43mheaders\u001b[49m\u001b[38;5;241;43m=\u001b[39;49m\u001b[43mheaders\u001b[49m\u001b[43m,\u001b[49m\n\u001b[1;32m    797\u001b[0m \u001b[43m    \u001b[49m\u001b[43mchunked\u001b[49m\u001b[38;5;241;43m=\u001b[39;49m\u001b[43mchunked\u001b[49m\u001b[43m,\u001b[49m\n\u001b[1;32m    798\u001b[0m \u001b[43m    \u001b[49m\u001b[43mretries\u001b[49m\u001b[38;5;241;43m=\u001b[39;49m\u001b[43mretries\u001b[49m\u001b[43m,\u001b[49m\n\u001b[1;32m    799\u001b[0m \u001b[43m    \u001b[49m\u001b[43mresponse_conn\u001b[49m\u001b[38;5;241;43m=\u001b[39;49m\u001b[43mresponse_conn\u001b[49m\u001b[43m,\u001b[49m\n\u001b[1;32m    800\u001b[0m \u001b[43m    \u001b[49m\u001b[43mpreload_content\u001b[49m\u001b[38;5;241;43m=\u001b[39;49m\u001b[43mpreload_content\u001b[49m\u001b[43m,\u001b[49m\n\u001b[1;32m    801\u001b[0m \u001b[43m    \u001b[49m\u001b[43mdecode_content\u001b[49m\u001b[38;5;241;43m=\u001b[39;49m\u001b[43mdecode_content\u001b[49m\u001b[43m,\u001b[49m\n\u001b[1;32m    802\u001b[0m \u001b[43m    \u001b[49m\u001b[38;5;241;43m*\u001b[39;49m\u001b[38;5;241;43m*\u001b[39;49m\u001b[43mresponse_kw\u001b[49m\u001b[43m,\u001b[49m\n\u001b[1;32m    803\u001b[0m \u001b[43m\u001b[49m\u001b[43m)\u001b[49m\n\u001b[1;32m    805\u001b[0m \u001b[38;5;66;03m# Everything went great!\u001b[39;00m\n\u001b[1;32m    806\u001b[0m clean_exit \u001b[38;5;241m=\u001b[39m \u001b[38;5;28;01mTrue\u001b[39;00m\n",
      "File \u001b[0;32m~/.pyenv/versions/3.10.12/envs/MasterThesis-NLP/lib/python3.10/site-packages/urllib3/connectionpool.py:536\u001b[0m, in \u001b[0;36mHTTPConnectionPool._make_request\u001b[0;34m(self, conn, method, url, body, headers, retries, timeout, chunked, response_conn, preload_content, decode_content, enforce_content_length)\u001b[0m\n\u001b[1;32m    534\u001b[0m \u001b[38;5;66;03m# Receive the response from the server\u001b[39;00m\n\u001b[1;32m    535\u001b[0m \u001b[38;5;28;01mtry\u001b[39;00m:\n\u001b[0;32m--> 536\u001b[0m     response \u001b[38;5;241m=\u001b[39m \u001b[43mconn\u001b[49m\u001b[38;5;241;43m.\u001b[39;49m\u001b[43mgetresponse\u001b[49m\u001b[43m(\u001b[49m\u001b[43m)\u001b[49m\n\u001b[1;32m    537\u001b[0m \u001b[38;5;28;01mexcept\u001b[39;00m (BaseSSLError, \u001b[38;5;167;01mOSError\u001b[39;00m) \u001b[38;5;28;01mas\u001b[39;00m e:\n\u001b[1;32m    538\u001b[0m     \u001b[38;5;28mself\u001b[39m\u001b[38;5;241m.\u001b[39m_raise_timeout(err\u001b[38;5;241m=\u001b[39me, url\u001b[38;5;241m=\u001b[39murl, timeout_value\u001b[38;5;241m=\u001b[39mread_timeout)\n",
      "File \u001b[0;32m~/.pyenv/versions/3.10.12/envs/MasterThesis-NLP/lib/python3.10/site-packages/urllib3/connection.py:461\u001b[0m, in \u001b[0;36mHTTPConnection.getresponse\u001b[0;34m(self)\u001b[0m\n\u001b[1;32m    458\u001b[0m \u001b[38;5;28;01mfrom\u001b[39;00m \u001b[38;5;21;01m.\u001b[39;00m\u001b[38;5;21;01mresponse\u001b[39;00m \u001b[38;5;28;01mimport\u001b[39;00m HTTPResponse\n\u001b[1;32m    460\u001b[0m \u001b[38;5;66;03m# Get the response from http.client.HTTPConnection\u001b[39;00m\n\u001b[0;32m--> 461\u001b[0m httplib_response \u001b[38;5;241m=\u001b[39m \u001b[38;5;28;43msuper\u001b[39;49m\u001b[43m(\u001b[49m\u001b[43m)\u001b[49m\u001b[38;5;241;43m.\u001b[39;49m\u001b[43mgetresponse\u001b[49m\u001b[43m(\u001b[49m\u001b[43m)\u001b[49m\n\u001b[1;32m    463\u001b[0m \u001b[38;5;28;01mtry\u001b[39;00m:\n\u001b[1;32m    464\u001b[0m     assert_header_parsing(httplib_response\u001b[38;5;241m.\u001b[39mmsg)\n",
      "File \u001b[0;32m~/.pyenv/versions/3.10.12/lib/python3.10/http/client.py:1375\u001b[0m, in \u001b[0;36mHTTPConnection.getresponse\u001b[0;34m(self)\u001b[0m\n\u001b[1;32m   1373\u001b[0m \u001b[38;5;28;01mtry\u001b[39;00m:\n\u001b[1;32m   1374\u001b[0m     \u001b[38;5;28;01mtry\u001b[39;00m:\n\u001b[0;32m-> 1375\u001b[0m         \u001b[43mresponse\u001b[49m\u001b[38;5;241;43m.\u001b[39;49m\u001b[43mbegin\u001b[49m\u001b[43m(\u001b[49m\u001b[43m)\u001b[49m\n\u001b[1;32m   1376\u001b[0m     \u001b[38;5;28;01mexcept\u001b[39;00m \u001b[38;5;167;01mConnectionError\u001b[39;00m:\n\u001b[1;32m   1377\u001b[0m         \u001b[38;5;28mself\u001b[39m\u001b[38;5;241m.\u001b[39mclose()\n",
      "File \u001b[0;32m~/.pyenv/versions/3.10.12/lib/python3.10/http/client.py:318\u001b[0m, in \u001b[0;36mHTTPResponse.begin\u001b[0;34m(self)\u001b[0m\n\u001b[1;32m    316\u001b[0m \u001b[38;5;66;03m# read until we get a non-100 response\u001b[39;00m\n\u001b[1;32m    317\u001b[0m \u001b[38;5;28;01mwhile\u001b[39;00m \u001b[38;5;28;01mTrue\u001b[39;00m:\n\u001b[0;32m--> 318\u001b[0m     version, status, reason \u001b[38;5;241m=\u001b[39m \u001b[38;5;28;43mself\u001b[39;49m\u001b[38;5;241;43m.\u001b[39;49m\u001b[43m_read_status\u001b[49m\u001b[43m(\u001b[49m\u001b[43m)\u001b[49m\n\u001b[1;32m    319\u001b[0m     \u001b[38;5;28;01mif\u001b[39;00m status \u001b[38;5;241m!=\u001b[39m CONTINUE:\n\u001b[1;32m    320\u001b[0m         \u001b[38;5;28;01mbreak\u001b[39;00m\n",
      "File \u001b[0;32m~/.pyenv/versions/3.10.12/lib/python3.10/http/client.py:279\u001b[0m, in \u001b[0;36mHTTPResponse._read_status\u001b[0;34m(self)\u001b[0m\n\u001b[1;32m    278\u001b[0m \u001b[38;5;28;01mdef\u001b[39;00m \u001b[38;5;21m_read_status\u001b[39m(\u001b[38;5;28mself\u001b[39m):\n\u001b[0;32m--> 279\u001b[0m     line \u001b[38;5;241m=\u001b[39m \u001b[38;5;28mstr\u001b[39m(\u001b[38;5;28;43mself\u001b[39;49m\u001b[38;5;241;43m.\u001b[39;49m\u001b[43mfp\u001b[49m\u001b[38;5;241;43m.\u001b[39;49m\u001b[43mreadline\u001b[49m\u001b[43m(\u001b[49m\u001b[43m_MAXLINE\u001b[49m\u001b[43m \u001b[49m\u001b[38;5;241;43m+\u001b[39;49m\u001b[43m \u001b[49m\u001b[38;5;241;43m1\u001b[39;49m\u001b[43m)\u001b[49m, \u001b[38;5;124m\"\u001b[39m\u001b[38;5;124miso-8859-1\u001b[39m\u001b[38;5;124m\"\u001b[39m)\n\u001b[1;32m    280\u001b[0m     \u001b[38;5;28;01mif\u001b[39;00m \u001b[38;5;28mlen\u001b[39m(line) \u001b[38;5;241m>\u001b[39m _MAXLINE:\n\u001b[1;32m    281\u001b[0m         \u001b[38;5;28;01mraise\u001b[39;00m LineTooLong(\u001b[38;5;124m\"\u001b[39m\u001b[38;5;124mstatus line\u001b[39m\u001b[38;5;124m\"\u001b[39m)\n",
      "File \u001b[0;32m~/.pyenv/versions/3.10.12/lib/python3.10/socket.py:705\u001b[0m, in \u001b[0;36mSocketIO.readinto\u001b[0;34m(self, b)\u001b[0m\n\u001b[1;32m    703\u001b[0m \u001b[38;5;28;01mwhile\u001b[39;00m \u001b[38;5;28;01mTrue\u001b[39;00m:\n\u001b[1;32m    704\u001b[0m     \u001b[38;5;28;01mtry\u001b[39;00m:\n\u001b[0;32m--> 705\u001b[0m         \u001b[38;5;28;01mreturn\u001b[39;00m \u001b[38;5;28;43mself\u001b[39;49m\u001b[38;5;241;43m.\u001b[39;49m\u001b[43m_sock\u001b[49m\u001b[38;5;241;43m.\u001b[39;49m\u001b[43mrecv_into\u001b[49m\u001b[43m(\u001b[49m\u001b[43mb\u001b[49m\u001b[43m)\u001b[49m\n\u001b[1;32m    706\u001b[0m     \u001b[38;5;28;01mexcept\u001b[39;00m timeout:\n\u001b[1;32m    707\u001b[0m         \u001b[38;5;28mself\u001b[39m\u001b[38;5;241m.\u001b[39m_timeout_occurred \u001b[38;5;241m=\u001b[39m \u001b[38;5;28;01mTrue\u001b[39;00m\n",
      "\u001b[0;31mKeyboardInterrupt\u001b[0m: "
     ]
    }
   ],
   "source": []
  },
  {
   "cell_type": "code",
   "execution_count": 11,
   "id": "5e52d3488f239d24",
   "metadata": {
    "ExecuteTime": {
     "end_time": "2024-06-04T12:11:58.215480Z",
     "start_time": "2024-06-04T12:11:58.211788Z"
    }
   },
   "outputs": [
    {
     "data": {
      "text/plain": [
       "[<__main__.Experiment at 0x7f39b36a3c10>]"
      ]
     },
     "execution_count": 11,
     "metadata": {},
     "output_type": "execute_result"
    }
   ],
   "source": [
    "experiments"
   ]
  },
  {
   "cell_type": "code",
   "execution_count": 8,
   "id": "35dc70fd-9341-48f8-983f-2e7708af9a0a",
   "metadata": {
    "ExecuteTime": {
     "end_time": "2024-06-04T12:07:59.923127Z",
     "start_time": "2024-06-04T12:07:59.918993Z"
    }
   },
   "outputs": [
    {
     "data": {
      "application/vnd.jupyter.widget-view+json": {
       "model_id": "7814c648d3404e5eba0f7c587dd2c32c",
       "version_major": 2,
       "version_minor": 0
      },
      "text/plain": [
       "Output(layout=Layout(border_bottom='1px solid black', border_left='1px solid black', border_right='1px solid b…"
      ]
     },
     "execution_count": 8,
     "metadata": {},
     "output_type": "execute_result"
    }
   ],
   "source": [
    "out"
   ]
  },
  {
   "cell_type": "code",
   "execution_count": 4,
   "id": "81be4243-27cd-4e1d-a604-ab2ff7b55c95",
   "metadata": {
    "ExecuteTime": {
     "end_time": "2024-06-07T07:05:31.791081Z",
     "start_time": "2024-06-07T07:05:31.785930Z"
    }
   },
   "outputs": [],
   "source": [
    "from src.prompting import default_experiments"
   ]
  },
  {
   "cell_type": "code",
   "execution_count": 5,
   "id": "e7e3ff22-9c67-4465-8266-fb64fc1f3669",
   "metadata": {
    "ExecuteTime": {
     "end_time": "2024-06-07T07:05:31.944067Z",
     "start_time": "2024-06-07T07:05:31.941102Z"
    }
   },
   "outputs": [],
   "source": [
    "experiments = default_experiments"
   ]
  },
  {
   "cell_type": "code",
   "execution_count": 6,
   "id": "72d47fb1-b55a-4a07-a43a-0ed442df409d",
   "metadata": {
    "ExecuteTime": {
     "end_time": "2024-06-04T12:08:43.006601Z",
     "start_time": "2024-06-04T12:08:20.927461Z"
    },
    "scrolled": true
   },
   "outputs": [
    {
     "data": {
      "application/vnd.jupyter.widget-view+json": {
       "model_id": "34e4751d3bdb4aa99465e3400850478e",
       "version_major": 2,
       "version_minor": 0
      },
      "text/plain": [
       "  0%|          | 0/9 [00:00<?, ?it/s]"
      ]
     },
     "metadata": {},
     "output_type": "display_data"
    },
    {
     "ename": "NameError",
     "evalue": "name 'eval_data' is not defined",
     "output_type": "error",
     "traceback": [
      "\u001b[0;31m---------------------------------------------------------------------------\u001b[0m",
      "\u001b[0;31mNameError\u001b[0m                                 Traceback (most recent call last)",
      "Cell \u001b[0;32mIn[6], line 13\u001b[0m\n\u001b[1;32m      8\u001b[0m         mlflow\u001b[38;5;241m.\u001b[39mlog_param(\u001b[38;5;124m\"\u001b[39m\u001b[38;5;124mquestion_prompt\u001b[39m\u001b[38;5;124m\"\u001b[39m, exp\u001b[38;5;241m.\u001b[39mquestion_prompt)\n\u001b[1;32m      9\u001b[0m         mlflow\u001b[38;5;241m.\u001b[39mlog_param(\u001b[38;5;124m\"\u001b[39m\u001b[38;5;124mexample_prompt\u001b[39m\u001b[38;5;124m\"\u001b[39m, exp\u001b[38;5;241m.\u001b[39mexample_prompts)\n\u001b[1;32m     11\u001b[0m         results \u001b[38;5;241m=\u001b[39m mlflow\u001b[38;5;241m.\u001b[39mevaluate(\n\u001b[1;32m     12\u001b[0m             \u001b[38;5;28;01mlambda\u001b[39;00m x: eval_network(x, exp, out),\n\u001b[0;32m---> 13\u001b[0m             \u001b[43meval_data\u001b[49m,\n\u001b[1;32m     14\u001b[0m             model_type\u001b[38;5;241m=\u001b[39m\u001b[38;5;124m\"\u001b[39m\u001b[38;5;124mtext\u001b[39m\u001b[38;5;124m\"\u001b[39m,\n\u001b[1;32m     15\u001b[0m             targets\u001b[38;5;241m=\u001b[39m\u001b[38;5;124m\"\u001b[39m\u001b[38;5;124mground_truth\u001b[39m\u001b[38;5;124m\"\u001b[39m,\n\u001b[1;32m     16\u001b[0m             extra_metrics\u001b[38;5;241m=\u001b[39m[mlflow\u001b[38;5;241m.\u001b[39mmetrics\u001b[38;5;241m.\u001b[39mrougeL()]\u001b[38;5;66;03m#, bert_f1_score_metric]\u001b[39;00m\n\u001b[1;32m     17\u001b[0m         )\n\u001b[1;32m     18\u001b[0m set_sensor_state(exp_tqdm\u001b[38;5;241m.\u001b[39mn, exp_tqdm\u001b[38;5;241m.\u001b[39mtotal, Input\u001b[38;5;241m.\u001b[39mTOTAL_INPUT)\n",
      "\u001b[0;31mNameError\u001b[0m: name 'eval_data' is not defined"
     ]
    }
   ],
   "source": [
    "exp_tqdm = tqdm(experiments)\n",
    "\n",
    "for exp in exp_tqdm:\n",
    "    set_sensor_state(exp_tqdm.n, exp_tqdm.total, Input.TOTAL_INPUT)\n",
    "    with mlflow.start_run(experiment_id='5'):\n",
    "    \n",
    "        mlflow.log_param(\"system_prompt\", exp.system_prompt)\n",
    "        mlflow.log_param(\"question_prompt\", exp.question_prompt)\n",
    "        mlflow.log_param(\"example_prompt\", exp.example_prompts)\n",
    "    \n",
    "        results = mlflow.evaluate(\n",
    "            lambda x: eval_network(x, exp, out),\n",
    "            eval_data,\n",
    "            model_type=\"text\",\n",
    "            targets=\"ground_truth\",\n",
    "            extra_metrics=[mlflow.metrics.rougeL()]#, bert_f1_score_metric]\n",
    "        )\n",
    "set_sensor_state(exp_tqdm.n, exp_tqdm.total, Input.TOTAL_INPUT)"
   ]
  },
  {
   "cell_type": "code",
   "execution_count": 33,
   "id": "b44c56d5002c5844",
   "metadata": {
    "ExecuteTime": {
     "end_time": "2024-06-07T07:05:37.716390Z",
     "start_time": "2024-06-07T07:05:37.429167Z"
    }
   },
   "outputs": [],
   "source": [
    "from openai import OpenAI\n",
    "import logging\n",
    "\n",
    "logging.basicConfig(level=logging.INFO)\n",
    "\n",
    "# init the client but point it to TGI\n",
    "client = OpenAI(\n",
    "    base_url=\"http://localhost:8080/v1\",\n",
    "    api_key=\"-\"\n",
    ")\n",
    "\n",
    "\n",
    "def prompt_tgi(x, exp):\n",
    "    print(exp.question_prompt % (\"EXAMPLE\", \"WORD\"))\n",
    "    print(exp.create_examples())\n",
    "    answers = [\n",
    "        \n",
    "    ]\n",
    "    for index, (_, data_point) in tqdm(x.iterrows(), leave=False):\n",
    "        title, context_sentence, context_word = data_point['title'], data_point['context_sentence'], data_point['context_word']\n",
    "        question = exp.question_prompt % (context_sentence, context_word)\n",
    "        chat_completion = client.chat.completions.create(\n",
    "            model=\"tgi\",\n",
    "            messages=[\n",
    "                {\"role\": \"system\", \"content\": \"\".join(exp.system_prompt)},\n",
    "                *exp.create_examples(),\n",
    "                {\"role\": \"user\", \"content\": question}\n",
    "            ],\n",
    "            stream=False,\n",
    "            max_tokens=512, \n",
    "            frequency_penalty=1, \n",
    "            logprobs=False, \n",
    "            seed=42, \n",
    "            temperature=0.2,\n",
    "            # top_p=0.9\n",
    "        )\n",
    "        \n",
    "        # iterate and print stream\n",
    "        answers.append(chat_completion.choices[0].message.content)\n",
    "        print(chat_completion.choices[0].message.content)\n",
    "    return answers"
   ]
  },
  {
   "cell_type": "code",
   "execution_count": 34,
   "id": "42b0d1bb7e1724e8",
   "metadata": {
    "ExecuteTime": {
     "start_time": "2024-06-07T07:05:45.196124Z"
    }
   },
   "outputs": [
    {
     "data": {
      "application/vnd.jupyter.widget-view+json": {
       "model_id": "b9c93e35ba1341fc872e8ff3ec1de060",
       "version_major": 2,
       "version_minor": 0
      },
      "text/plain": [
       "  0%|          | 0/9 [00:00<?, ?it/s]"
      ]
     },
     "metadata": {},
     "output_type": "display_data"
    },
    {
     "name": "stderr",
     "output_type": "stream",
     "text": [
      "/home/jfeil/.pyenv/versions/3.10.12/envs/MasterThesis-NLP/lib/python3.10/site-packages/mlflow/data/digest_utils.py:26: FutureWarning: DataFrame.applymap has been deprecated. Use DataFrame.map instead.\n",
      "  string_columns = trimmed_df.columns[(df.applymap(type) == str).all(0)]\n",
      "/home/jfeil/.pyenv/versions/3.10.12/envs/MasterThesis-NLP/lib/python3.10/site-packages/mlflow/models/evaluation/base.py:521: FutureWarning: DataFrame.applymap has been deprecated. Use DataFrame.map instead.\n",
      "  data = data.applymap(_hash_array_like_element_as_bytes)\n",
      "/home/jfeil/.pyenv/versions/3.10.12/envs/MasterThesis-NLP/lib/python3.10/site-packages/mlflow/models/evaluation/base.py:521: FutureWarning: DataFrame.applymap has been deprecated. Use DataFrame.map instead.\n",
      "  data = data.applymap(_hash_array_like_element_as_bytes)\n",
      "2024/06/30 23:32:47 INFO mlflow.models.evaluation.base: Evaluating the model with the default evaluator.\n",
      "2024/06/30 23:32:47 INFO mlflow.models.evaluation.default_evaluator: Computing model predictions.\n"
     ]
    },
    {
     "name": "stdout",
     "output_type": "stream",
     "text": [
      "\"EXAMPLE\": Was ist in diesem Kontext die Definition von WORD? \n",
      "[{'role': 'user', 'content': '\"Die Liebe überwindet alle Grenzen\": Was ist in diesem Kontext die Definition von Liebe? '}, {'role': 'assistant', 'content': 'inniges Gefühl der Zuneigung für jemanden oder für etwas'}, {'role': 'user', 'content': '\"Natürlich sind diese Stifte stabil und robust genug, um den täglichen Rettungseinsatz absolvieren zu können.\": Was ist in diesem Kontext die Definition von Stifte? '}, {'role': 'assistant', 'content': 'Rekrut'}]\n"
     ]
    },
    {
     "data": {
      "application/vnd.jupyter.widget-view+json": {
       "model_id": "6236688ad8a94858bfc40ef3b3e14053",
       "version_major": 2,
       "version_minor": 0
      },
      "text/plain": [
       "0it [00:00, ?it/s]"
      ]
     },
     "metadata": {},
     "output_type": "display_data"
    },
    {
     "name": "stdout",
     "output_type": "stream",
     "text": [
      "Das Fehlen einer Ordnung oder Struktur, (z.B. einer Gesellschaft oder eines Systems), das zu Unordnung, (z.B. Anarchie) oder Zerstörung führt.\n",
      "Die Seele ist die innere,, die eigentliche Natur oder das Wesen eines Menschen oder einer Sache.\n",
      "Ein bestimmter Ort oder Platz,, (hierarchisch) ein bestimmter Bereich oder Region\n",
      "Die Fähigkeit oder Möglichkeit,, jemandem oder etwas zu tun oder zu erreichen.\n",
      "Ein schädliches Programm, (oder Code), das sich selbstständig vermehrt und auf anderen Computern ausbreitet, Aktionen ausführt.\n",
      "Die Abgabe oder das Geben, (im Kontext von Liebe und Zuneigung)\n",
      "Besorgt,, beunruhigt\n",
      "Eine positive Eigenschaft, (hier: attraktiv, (beeindruckend), stilvoll, (modisch), oder einfach nur \"toll\" (gut)).\n",
      "Ein Buch oder eine Abhandlung,, die sich mit einem bestimmten Thema oder einer bestimmten Zeitperiode befasst.\n",
      "Der Flügel ist ein Teil des menschlichen Körpers, (Arm) zwischen Schulter und Hand.\n",
      "Eine Depesche ist in diesem Kontext eine Art von Unterkunft oder Wohnung, (insbesondere ein Hotelzimmer).\n",
      "In diesem Kontext bedeutet \"took\" \"ergriffen\", \"in Beschlag nehmen\" oder \"sich von etwas beeinflussen lassen\". Es beschreibt den Vorgang,, sich mit etwas auseinanderzusetzen oder sich von etwas beeinflussen zu lassen.\n",
      "In diesem Kontext bedeutet \"take\" so viel wie \"erhalten\" oder \"annehmen\", also \"in Empfang nehmen\" oder \"etwas aufnehmen\". Es beschreibt die Aktion,, etwas zu ergreifen oder zu übernehmen.\n",
      "Eine Gruppe von Menschen,,,,,, Aktionen,, and ein Ziel,,,,,,,,, (Auto-)Mobilität.\n",
      "Ein Kindergärtler ist in diesem Kontext ein Schüler,, anderes Lebensalter zwischen 2016 und  a16 Jahren,,,, anderes Lebensalter zwischen  a16 und a21 Jahren.\n",
      "Eine Kategorie oder Gruppe innerhalb einer Hierarchie oder Taxonomie, (Klassifizierung), die eine bestimmte Stufe oder Ebene innerhalb einer Systematik einnimmt.\n",
      "In diesem Kontext bedeutet \"take\" so viel wie \"erwischen\" oder \"überraschen\", also \"to catch someone off guard\" oder \"to surprise someone\". Es bedeutet, (jemanden) unvorbereitete Aktion oder Ereignis, (jemanden) unerwartete Reaktion hervorzuheben.\n",
      "Damit, (dort,, Aktion)\n",
      "Eine Suchmaschine, (Search Engine), die im Internet nach bestimmten Informationen sucht und diese dann in einer bestimmten Reihenfolge anzeigt.\n",
      "Diejenigen, (oder auch Gärtner) sind die Personen, (oder auch die Gruppen), die für den Betrieb oder die Organisation verantwortlich sind.\n",
      "Eine neue Interpretation oder ein neuer Ansatzpunkt für etwas,, insbesondere eine neue Ausgabe oder ein neues Design für ein Produkt.\n",
      "Die Zeitperiode, (oder Zeitabschnitt), in der ein Mensch bestimmte Ereignisse oder Handlungen stattfinden.\n",
      "Gab es ihm die Verlobnung, (gab ihm die Zusage, (gab ihm das Versprechen)\n",
      "Eine religiöse Institution oder Einrichtung, (z.B. eine Kirche oder ein Kloster)\n",
      "Die Fuchsens sind die Angehörigen oder diejenigen, (Familien-)Mitglieder einer Person oder Gruppe.\n",
      "beeinflusst oder Einfluss auf jemanden oder etwas, (hier: emotionaler Einfluss)\n",
      "Ein Teil oder ein Element eines Ganzen, (hier: Schraube), das zusammen mit anderen Teilen ein Ganzes bildet.\n",
      "In diesem Kontext ist \"da\" ein Adverb, (demonstrativpronomen), das den Ort oder die Situation beschreibt, (hier: im Klub, (dort), im Moment (Zeitpunkt)).\n",
      "Ein flexibles Element, (z.B. ein Gummiband) das die Stabilität einer Struktur oder eines Systems aufrechterhält oder verbessert.\n",
      "Eine positive Eigenschaft oder ein Zustand,, der angenehmt ist, (z.B. \"gelassen\" oder \"entspannt\")\n",
      "authentisch, (echtlich) bedeutet in diesem Kontext \"japanisch\" oder \"aus Japan stammend\".\n",
      "Aktuell angesagte und modische Einstellung, (in diesem Fall die Einstellung, (modisch) oder die Zugehörigkeit, (aktuell))\n",
      "In diesem Kontext bedeutet \"take\" besiegen oder überwältigen, (jemanden oder etwas), insbesondere in einem physischen Kampf.\n",
      "Ein Haus oder Wohngebäude, (im Gegensatz zu Wildnis oder freier Natur)\n",
      "In diesem Kontext bedeutet \"take\" so viel wie \"durchführen\" oder \"ausführen\", also \"eine Volkszählung durchführen\" bedeutet,, eine Zählung oder eine Erhebung durchzuführen.\n",
      "Besorgt, (Sorgen machen, (um sich um etwas zu kümmern))\n",
      "Eine bestimmte Zahl in einem Zahlensystem.\n",
      "Die Seele ist das innere, (geistige) Wesen oder die spirituelle Essenz eines Menschen, (oder auch eines Ortes), die seine Emotionen, (Gefühle), Wünsche und Bedürfnisse bestimmt.\n",
      "Die äußere Darstellung oder Präsentation eines Zeichens oder einer Idee,, insbesondere die Art und Weise,, wie sie wahrgenommen wird.\n",
      "Ein bestimmter Artikel oder eine bestimmte Menge von etwas.\n",
      "Ein bestimmter Ort oder Platz,, Aktion\n",
      "Fast, (beinahe) wie, (ähnlich)\n",
      "Besitzt, (im Sinne von \"zu haben\" oder \"zu besitzen\")\n",
      "Ein Ort der Bildung und des Lernens, (insbesondere eine Einrichtung für die Ausbildung von Kindern und Jugendlichen)\n",
      "Die Flügel sind die beweglichen Teile des Vogelflügels, (Flügel) die den Vogel ermöglichen, (zu) fliegen und sich zu bewegen.\n",
      "Die Acht‘ ist ein hoher Stock oder ein Obergeschoss in einem Gebäude,, insbesondere in einem öffentlichen Gebäude wie einer Regierungszentrale.\n",
      "Eine Schnecke ist in diesem Kontext eine Art von Schwierigkeit oder Hindernis, (hier: ein Hindernis, (hier: ein Hindernis), die jemanden oder etwas behindert oder aufhält.\n",
      "Die freie Atmosphäre, (Luft) um ein Gebäude oder ein bestimmtes Areal.\n",
      "Eine bestimmte Zeitperiode oder ein bestimmter Zeitpunkt in der Vergangenheit.\n",
      "In diesem Kontext bedeutet \"took\" \"erhielt\" oder \"bekam\", also \"received\" oder \"got\". Es bezieht sich auf den Empfang von etwas, (hier: dem dritten Platz) oder einer Handlung (hier: die Bestechung durch den Richter).\n",
      "Die Gesamtheit von sozialen, (gesellschaftlichen), politischen, (politischen), religiösen (religiösen) und historischen (historischen) Faktoren, (Faktoren), die die Identität (Identität) einer Nation oder Gruppe prägen und beeinflussen.\n",
      "Eine Art von Argumenten, (oftmals auch rhetorische Floskeln genannt), die darauf abzielen, (oftmals auch ironisch oder sarkastisch gemeint), dass etwas nicht möglich oder nicht wahrscheinlich ist, (oftmals auch um die Gegenauffassung zu unterstreichen).\n",
      "In diesem Kontext bedeutet quasi \"fast\" oder \"beinahe\", also \"ähnlich\" oder \"gleich\". Es beschreibt den Grad der Ähnlichkeit zwischen zwei Dingen.\n",
      "Eine gerade oder aufrechte Richtung oder eine Abfolge von Dingen, (hierarchisch oder räumlich)\n",
      "Ein großer Vorrat an Gütern oder Waren, (hierarchisch oder materiell)\n",
      "Eine bestimmte Handlung oder Aktion, (hier: Ausscheiden)\n",
      "In diesem Kontext bedeutet \"took\" verschiedene Dinge:\n",
      "\n",
      "* \"to consider or regard something as something\" (z.B. \"I took him to be a person of honor.\")\n",
      "* \"to mistake or misinterpret something\" (z.B. \"Do you take me for a fool?\")\n",
      "* \"to perceive or recognize something\" (z.B. \"Looking at him as he came into the room I took him for his father.\")\n",
      "* \"to assume or suppose something\" (z.B. \"He was often taken to be a man of means.\")\n",
      "\n",
      "Insgesamt bedeutet \"took\" also die Bedeutung von \"to interpret\" oder \"to understand\".\n",
      "erlauben,, sich zu öffnen, (etwas) oder sich zu zeigen\n",
      "Die Grenzen oder Umrisse,, die eine bestimmte Form oder Gestalt haben.\n",
      "Ein bestimmter Ort oder Platz,, (hierarchisch)\n",
      "Eine Gruppe von Lebewesen,, die sich durch bestimmte Merkmale auszeichnen.\n",
      "Eine tiefe emotionale Bindung zwischen zwei Menschen, (oder auch zwischen einem Menschen und einem Objekt), die durch Zuneigung, (Vertrauen, (Vertrauen), Zärtlichkeit und Hingabe gekennzeichnet ist.\n",
      "Eine Gruppe von Menschen,,,,, oftmals eine Einheit,,, oftmals eine Einheit.\n",
      "Ein Ort oder eine Stadt, (hier: die Hauptstadt des gleichnamigen Staates San Marino)\n",
      "Eine Interpretation oder eine besondere Sicht auf etwas,, eine eigene Auslegung oder eine neue Perspektive auf ein bekanntes Konzept.\n",
      "In diesem Kontext bedeutet \"take\" \"to need\" oder \"to require\", also \"to necessitate\" oder \"to demand\". Es beschreibt den Bedarf oder die Notwendigkeit von etwas.\n",
      "Ein Fuchs ist in diesem Kontext ein wichtiger oder bedeutender Teil oder Aspekt eines Ganzen oder einer Sache.\n",
      "modisch, (in diesem Kontext: attraktiv, (modisch, (in diesem Kontext: anziehend, (in diesem Kontext: beliebt, (in diesem Kontext: angenehm)\n",
      "Besorgt, (Sorge) oder in Sorge genommen, (bekümmert)\n",
      "Eine Depesche ist in diesem Kontext ein offizielles Schreiben oder ein Dokument, (hier ein Brief), das von einer Person an eine andere Person gerichtet wird.\n",
      "In diesem Kontext bedeutet stell \"sich aufstellen\" oder \"sich positionieren\", also \"sich auf eine bestimmte Weise oder Position begeben\". Es geht darum, (sich) in einer bestimmten Situation oder Konfrontation zu platzieren oder zu positionieren.\n",
      "In diesem Kontext bedeutet \"take\" besiegen oder überwältigen, (jemanden oder etwas). Es impliziert auch, (eine Art von Konfrontation oder Wettstreit).\n",
      "Die Acht ist die direkte oder unmittelbare Folge oder Konsequenz von Ereignissen oder Handlungen.\n",
      "Eine Matrix ist eine rechteckige Anordnung von Elementen, (Zahlen, (Werten) oder Vektoren), die in Zeilen und Spalten angeordnet sind, (organisiert) und die Beziehungen zwischen diesen Elementen beschreiben.\n",
      "Eine tiefe emotionale Bindung oder Zuneigung zu jemandem oder etwas, (hier: eine starke, (Liebe) zu jemandem oder etwas)\n",
      "Die Handlung oder Aktion,, (hier: to grasp, (etwas) something)\n",
      "Eine überzeugende und überwältigende Argumentation,, die sich auf die Verteidigung von Arbeitsplätzen bezieht.\n",
      "Ein Illustrator von Kinderbüchern, (Bilderbuchkünstler)\n",
      "Ein unwiderlegbarer Beweis, (Argument), der die Gültigkeit oder Richtigkeit einer bestimmten Aussage oder Behauptung unterstreicht.\n",
      "Eine ältere Frau, (Mutter) oder eine respektvolle Person, (Mutter) in einer Familie oder einer sozialen Gruppe.\n",
      "Ein Werkzeug zum Zertrümmern oder Schlagen von Gegenständen.\n",
      "Ein Pissoir ist ein Möbelstück, (oder ein Regal) in einem Raum.\n",
      "In diesem Kontext bedeutet \"takes\" die Zeit,, die benötigt wird, (z.B. um sich an die neuen Umstände anzupassen).\n",
      "Eine positive Eigenschaft oder ein Kompliment, (hier: \"Du bist ′n Aas uf de Jeije\" bedeutet, (hier: \"Du bist toll auf deine Art\").\n",
      "Behälter für Flüssigkeiten oder Getränke, (im übertragenen Sinne)\n",
      "In diesem Kontext bedeutet \"geritten\" wahrscheinlich \"ermüdet\" oder \"erschöpft\", also \"in gutem Zustand\" oder \"gesund\" bringen.\n",
      "Ein kleines biologisches Agens, (Organismus), das sich in einem lebenden Organismus vermehrt und sich dort vermehrt, (repliziert).\n",
      "Ein bestimmter Ort oder Platz,, (hier: Ecke)\n",
      "Die Aktion oder das Tun,, (hier: der Hund führte die Aktion des Wuffens aus).\n",
      "Tragflächen sind Teile eines Geräts, (hier: Vögel), die sich von der Hauptmasse abzweigen und für die Stabilität des Geräts verantwortlich sind.\n",
      "Eine Verbindung oder ein Zusammenhalt zwischen zwei oder mehreren Teilen oder Elementen.\n",
      "Die Verpflichtung oder das Recht auf etwas oder jemanden, (hierarchisch, Anerkennung)\n",
      "Die biologische Mutter,, die Frau, (oder auch die Mutterfigur), die den Kindern das Leben gibt und sie aufzieht.\n",
      "Eine Gesamtheit von Werten,, Überzeugungen, (GlaUBEN) und Traditionen, (ÜBERLIEFERUNGEN) die von einer Gruppe von Menschen geteilt und weitergegeben werden.\n",
      "Die Stärke sind die tragenden Teile eines Gebäudes oder einer Konstruktion,, die die Lasten und Kräfte aufnehmen und verteilen.\n",
      "Ermöglich machen, (hierstellen), bewirken oder ermöglichen\n",
      "Ein elastisches Material, (z.B. Gummi) das verwendet wird, (z.B. um ein Objekt zu umhüllen oder zu fixieren).\n",
      "Der geografische Kontinent,, der die Länder Nord-, Mittel- und Südeuropa umfasst.\n",
      "Ein Pissoir ist in diesem Kontext ein Ort, (oder ein Gebäude), an dem sich Menschen treffen oder aufhalten.\n",
      "Die Gesamtheit von Werten, (Wissen, (Erkenntnisse), Traditionen, (Überlieferungen), und Bräuchen (Sitten), die eine bestimmte Gruppe oder Gesellschaft prägen oder kennzeichnen.\n",
      "Ein Fuchs ist ein Mensch, (oder ein Tier), der/das sich auf eine bestimmte Weise oder Methode einlässt, (hierarchisch oder metaphorisch), um ein bestimmtes Ziel oder Ergebnis zu erreichen.\n",
      "Arm oder Flanke eines Menschen,, Auge oder Gesicht\n",
      "Stößt bedeutet in diesem Kontext, (sich) aufsetzen, (sich) aufstellen oder (sich) anlehnen, (sich) auf etwas.\n",
      "Eine feste Bindung oder Verbindung zwischen zwei Dingen oder Teilen, (hier: Zahnarzt und Zahnkrone)\n",
      "Very High Speed Digital Subscriber Line (sehr schnelle digitale Teilnehmerleitungs-Linie)\n",
      "planen oder organisieren, (etwas)\n",
      "Die Art und Weise, (Form und Struktur) einer Sache, (z.B. einer Architektur)\n",
      "Die Luft ist die Mutter von Christina Luft.\n",
      "Die Pissoir ist ein öffentlicher Raum oder ein Gebäude, (z.B. ein Café oder ein Restaurant), in dem Menschen zusammenkommen, (z.B. sich treffen, (treffen), um miteinander zu kommunizieren oder um gemeinsam zu diskutieren.\n",
      "erlauben, (zu)gestatten, (jemandem) etwas zu tun, (zu) ermöglichen\n",
      "Eine bestimmte Periode oder Zeitspanne im Leben, (hier speziell die Jugend)\n",
      "Eine Pflanze, (hieroglyphische) Pflanze, (Botanik) die sich auf die Blätter auswirkt.\n",
      "Ein Gebäude, Ablage oder ein Ort,,, in dem Geld oder Werte aufbewahrt werden,,, (hierarchisch) oder ein Institut,,,,,, anderes Unternehmen oder Organisation.\n",
      "Die Erlaubnis oder die Genehmigung, (zu tun oder zu lassen)\n",
      "In diesem Kontext bedeutet \"took\" die Vergangenheit eines Ereignisses oder einer Handlung, (hier: sie nahm an Ballettunterricht). Es beschreibt die Aktion oder das Ereignis, (hier: das Ballett), das sie als Kind durchgeführt hat.\n",
      "Freiheit,, Raum oder Möglichkeit\n",
      "In diesem Kontext ist \"da\" eine Anrede an eine Person, (hier \"Anna\"), also eine Form der Zuneigung oder des Respekts.\n",
      "Ein schmales Stück, (oder ein Zeichen) das um etwas zusammenhält oder es zusammenbindet.\n",
      "Eine feste oder ein Gegenstand, (z.B. eine Stütze im Bauwesen)\n",
      "Die Schnecken sind die Ohren.\n",
      "beeinflusst oder beeinträchtigt, (jemanden oder etwas) in seinem Handeln oder Einfluss zu nehmen\n",
      "Ein elastisches Element, (z.B. ein Gummiband) das den Zusammenhalt von Teilen sichert und stabilisiert.\n",
      "Ein Werkzeug zum Zuschlagen oder Formen von Gegenständen.\n",
      "Ein Gegenstand oder ein Hindernis, (im übertragenen Sinne), der den Zugang oder die Bewegung behindert oder blockiert.\n",
      "Eine plötzliche Handlung oder ein plötzlicher Griff, (hier: fest umklammern oder fest umgreifen)\n",
      "Die Quelle allen Lebens, (die Ursache, (die Wurzel) alles Existierenden)\n",
      "Der geographische Kontinent,, der die Länder Europas umfasst.\n",
      "Ein schneller oder schneller Vorgang, (z.B. ein Fuchs ist ein schneller Vorgang, (z.B. ein Fuchs ist ein schneller Vorgang, (z.B. ein Fuchs ist ein schneller Vorgang, Aktion, Aktion, (z.B. ein Fuchs ist ein schneller Vorgang Aktion Aktion (z.B. ein Fuchs ist ein schneller Vorgang Aktion Aktion (z.B.\n",
      "Der Anfangsbuchstabe, A… ist ein Symbol für den Anfangsbuchstaben eines Alphabets,,,,,,,,, anderes Elementes in einem Satz.\n",
      "Aufmerksamkeit, (Achtung) auf jemanden oder etwas, (hierarchisch)\n",
      "Ein Strand oder ein Uferbereich, (im übertragenen Sinne)\n",
      "Die Schnecke ist ein Hindernis oder ein Problem, (hier ein Hindernis auf dem Weg), das gelöst oder überwunden muss, (um voranzukommen zu können).\n",
      "Die Rechte oder das Rechtssystem, (hier: die Gesamtheit von Rechten und Gesetzen,, (hier: die Gesamtheit von Rechten und Gesetzen)\n",
      "Die engste Verwandte oder die Familie\n",
      "Interesse, (oder auch Anteilnahme) an etwas oder jemanden\n",
      "In diesem Kontext bedeutet \"take\" eine Handlung oder Aktion, (hier: ich sah den neuen Wagen in der Einfahrt und reagierte darauf).\n",
      "Die Schnecke ist der Teil des Schuhs, (Fuß), an dem die Schnür (die Riemen) befestigt sind.\n",
      "Besitzt, (Vergangenheit)\n",
      "Die Flügel bezeichnet in diesem Kontext die richtige oder korrekte Position oder Anordnung von etwas, (hier: dem Hemd).\n",
      "Ein Ort,, an dem Menschen Wissen und Fähigkeiten vermittelt werden.\n",
      "Die Quelle oder Ursache,, (hier: die Evolution) von etwas, (hier: des Sozialismus)\n",
      "Eine mathematische Konstante, (griechische Zahl), die den Verhältniswert eines Kreises beschreibt.\n",
      "Eine Acht ist in diesem Kontext eine Einheit, (Einzel) oder ein Element in einer Zahlenfolge oder einer mathematischen Struktur.\n",
      "Eine festgelegte Route oder Strecke, (z.B. eine Eisenbahn)\n",
      "Die Luft ist die unsichtbare, (Atmosphäre), die den Raum erfüllt und die Bewegung von Gegenständen ermöglicht.\n",
      "Die notwendige Energie oder der Raum, (Atmosphäre), den man benötigt, (atmend), um sich selbst zu erneuern oder um sich zu bewegen.\n",
      "Eine räumliche Bezeichnung oder ein Hinweis auf einen bestimmten Ort oder eine bestimmte Position.\n",
      "Der geographische Kontinent, (also politische Einheit) bestehend aus vielen Ländern.\n",
      "Ein Kindergärtler ist jemand, (meist ein Erwachsener), der sich um die Betreuung und Pflege von Kindern kümmert.\n",
      "Eine kräftige, (oft auch aggressive) Handlung oder Aktion.\n",
      "Freiheit oder Raum, (im Gegensatz zu eng oder beengt)\n",
      "Eine Institution,, die Finanzdienstleistungen anbietet und Geldgeschäfte durchführt.\n",
      "Besorgt, (ängstigt) oder beunruhigt, (ängstigt)\n",
      "Ein Land in Ostasien,, Aziensystem,, in dem Kontext der Weltzeit und Geographie.\n",
      "Träge, (alt) und müde (schwach)\n",
      "Die Sprache ist die Gesamtheit von Worten, (Lauten und Schriftzeichen), die verwendet werden, (um Ideen, (Gedanken und Begriffe) auszudrücken und zu übermitteln.\n",
      "Verwandte oder enge Familienmitglieder\n",
      "Eine Tätigkeit oder Aufgabe,, die erledigt werden muss.\n",
      "Ein Lager oder Speicher, (in diesem Kontext ein Teil eines automatischen Systems), in dem Gegenstände aufbewahrt und gespeichert werden.\n",
      "In diesem Kontext bedeutet \"take\" zuvertrauen, (jemandem oder etwas) sein Wort oder seine Zusage zu glauben oder zu akzeptieren.\n",
      "Eine flache,, auf der man sitzen kann\n",
      "Tätigkeit als Anwendung von Kraft oder Energie auf ein bestimmtes Ziel oder Objekt,, um ein bestimmtes Ergebnis zu erzielen.\n",
      "Eine klare und logische Abfolge von Schritten oder Ereignissen, (hierarchisch oder chronologisch)\n",
      "Die Flügel sind die Teile eines Fensters, (oder Tür), die sich öffnen und schließen lassen, (oder auch die Teile eines anderen Öffnungssystems).\n",
      "Eine Tätigkeit oder ein Beruf, (z.B. ein Job)\n",
      "Die Atmosphäre, Atemluft um uns herum, Atemluft die wir umgeben\n",
      "Ein bestimmter Artikel oder ein bestimmtes Ding,, das auf dem Tisch liegt.\n",
      "Ein wichtiger oder einflussreicher Mensch, (hierarchisch oder journalistisch)\n",
      "Ein flexibles Verbindungselement zwischen zwei oder mehreren Teilen, (hier: Gelenk)\n",
      "Eine bestimmte Gruppe oder Reihe von Dingen, (hier: Farben)\n",
      "Die mathematische Konstante,, die den Wert  (circa, (3, Achtelung von Zahlen beschreibt.\n",
      "Die Art und Weise, (oder auch die Fähigkeit) mit der jemand oder etwas spricht, (oder auch die Fähigkeit) mit der jemand oder etwas spricht.\n",
      "In diesem Kontext bedeutet \"took\" eine Handlung oder Aktion, (hier: sexuell), die von einem Menschen auf einen anderen Menschen ausgeführt wird.\n",
      "Der geographische Kontinent,, insbesondere die Länder und Staaten, (insbesondere die EU) die sich auf dem europäischen Festland befinden.\n",
      "Eine bestimmte Menge oder Quantität von etwas.\n",
      "Ein Musikinstrument, (hier: Klavier, (Piano), Gitarre)\n",
      "Die Fähigkeit oder der Grad der Empfindlichkeit oder Erregung, (hier: sexuelle Erregung)\n",
      "Eine komplexe und umfassende Struktur von Regeln und Vorschriften,,, (hierarchischen) Beziehungen,,,,, Aktionen und Reaktionen,,,,,,,,,,, Aktionen und Reaktionen,,,, and Reaktionen und Reaktionen.\n",
      "In diesem Kontext bedeutet \"take\" die Erfassung oder den Fang von Meeressäugern oder anderen Meerestieren durch kommerzielle Fischerei, (z.B. durch Netze oder andere Fangmethoden).\n",
      "Ein Zeitpunkt oder eine bestimmte Situation, (hier: \"zu dem Zeitpunkt\")\n",
      "Eine festgelegte Route oder Strecke, (hier auch eine Eisenbahn)\n",
      "öffnen, (öffnen bedeutet in diesem Kontext, (öffnen bedeutet, (öffnen bedeutet zu öffnen, (öffnen bedeutet einen Zugang zu ermöglichen oder einen Raum zu öffnen.\n",
      "Ein Land in Ostasien,, (ein Staat) mit einer reichen Kultur und Geschichte.\n",
      "Eine Einheit, (Einzel, (Einzel)\n",
      "Ein Geldinstitut, (z.B. eine Filiale einer Bank)\n",
      "Ein bestimmter Artikel, (bestimmter Artikel), der den Beginn eines Substantivs oder einer Phrase markiert.\n",
      "Eine Handlung oder Bewegung, (hier: mit der Hand)\n",
      "Der Kontinent, (als geographische Einheit)\n",
      "Ein Werkzeug, (hier ein Schlaginstrument)\n",
      "fortschreitet: zu fördern,, zu unterstützen oder zu helfen, (jemandem oder etwas) bei einer Aufgabe oder einem Prozess.\n",
      "entwendete oder nahmen, (im Sinne von Besitz oder Kontrolle übernehmen)\n",
      "Freiheit, (Raum) oder Atmosphäre, (Umgebung)\n",
      "Die Luft ist in diesem Kontext die Atmosphäre, (Luft) um einen Raum oder ein Gebäude.\n",
      "Eine taxonomische Kategorie oder Gruppe, Aneinanderung von Objekten oder Konzepten, (z.B. Species,,, (Classis Sectio Genus Species))\n",
      "Ein geographischer Raum,, der die Länder und Staaten in sich befinden, (insbesondere die EU-Staaten)\n",
      "Die Fähigkeit oder die Möglichkeit,, etwas zu tun oder zu erreichen.\n",
      "Eine Aktion ist eine Handlung oder ein Vorgang, (z.B. eine Bewegung oder ein Ereignis), die auf einem bestimmten Weg oder in einem bestimmten Kontext stattfindet.\n",
      "Die Fähigkeit, (oder auch Fertigkeit), die Beweglichkeit oder die Fähigkeit im Spiel, (oder auch Sport), die motorische Fähigkeit, (oder auch Geschicklichkeit) oder die soziale Fähigkeit.\n",
      "Große, (oder auch: Magazine) sind periodisch erscheinende Publikationen, (Zeitschriften), die in regelmäßigen Abständen erscheinen und die Leser mit Inhalten versorgen.\n",
      "Die Schnecke bezeichnet die äußere Form oder Gestalt eines Instruments oder einer Struktur.\n",
      "In diesem Kontext bedeutet \"took\" die Handlung des Einnehmens oder des Empfangs eines Versprechens, (hier: den Eid des Amtes).\n",
      "In diesem Kontext bedeutet \"took\" \"erhielt\" oder \"reaktionierte auf\", also \"wurde\" oder \"beeinträchtigt\" auf die Nachricht.\n",
      "Die Luft ist in diesem Kontext die Atmosphäre, (die Luftschicht), die um uns herum ist und die wir atmen, (einatmen) können.\n",
      "In diesem Kontext bedeutet \"take\" eine neue Interpretation oder eine moderne Sicht auf ein traditionelles Thema oder Gericht. Es bedeutet, (neue) Ideen oder Ansätze zu einem bekannten Thema hinzufügen.\n",
      "Die Gesamtheit aller Traditionen,, Werte und Überlieferungen einer Gesellschaft oder Gruppe.\n",
      "Eine bestimmte Lage oder Situation, (hier: Ort, (hier: Zeitpunkt)\n",
      "Die Fähigkeit oder Festigkeit,, mit der ein Gegenstand oder eine Oberfläche versehen kann.\n",
      "Die Gesamtheit aller Traditionen, (BraUCHEN), Werte, (WERTEN), Überlieferungen (ÜBERLIEFERUNGEN) und Symbole (SYMBOLEN), die eine Gesellschaft prägen und formen.\n",
      "Eine biologische Kategorie oder Gruppe von Lebewesen, (hier: Säugetiere)\n",
      "In diesem Kontext ist \"da\" ein Hinweis auf einen bestimmten Ort oder eine bestimmte Position, (hierarchisch), auf die der Sprecher Bezug nimmt.\n",
      "Der Kopf ist der Oberste Teil des menschlichen Körpers, (Schädel).\n",
      "Die Atmosphäre einer Stadt oder eines Ortes, Atem, (Luft)\n",
      "Eine bestimmte Menge oder ein bestimmter Teil eines Gegenstandes, (hier: Schulbank)\n",
      "Instrument, (Musikinstrument)\n",
      "Das Verb stieß bedeutet in diesem Kontext \"zu teilen\" oder \"zu zerstören\", also \"zu zerlegen\" oder \"zu vernichten\".\n",
      "Die Mütter sind die Eltern oder Vorfahren.\n",
      "Eine zusammenhängende Struktur oder ein Element, (hier: Asphalt), das zwei Teile miteinander verbindet.\n",
      "Die Achten sind die Handlungen oder die Hände, (Arme) selbst, (als Teil des Körpers), die verwendet werden, (um Dinge zu greifen,,,,,,,,,,,,,,,,,,,,, anderes.\n",
      "Ein Argument,, das die Gegner einer bestimmten Position oder Meinung unterstützt und diese Position als richtig oder wahr darstellt.\n",
      "Die Fähigkeit, (oder Möglichkeit), bestimmte Gedanken, (oder Ideen) auszudrücken und mitzuteilen.\n",
      "Die Stabilität, (Festigkeit) eines Systems oder einer Struktur, (z.B. eines Gebäudes), die es ermöglicht, (ermöglicht), dass es widerstandsfähig bleibt gegen äußere Einflüsse oder Belastungen.\n",
      "Die Atmosphäre, (die Luft) um uns herum, (die Umgebung)\n",
      "Eine Vorbereitung oder Vorbereitung auf etwas, (hier: Susi bereitet ihr erstes Turnier)\n",
      "Ein Material oder ein Stoff, (hier: Leder)\n",
      "Erledigt oder vollbringt etwas, (hier oder Erfolg)\n",
      "Ein bestimmter Artikel, (bestimmter Artikel) oder ein bestimmtes Pronomen (bestimmtes Pronomen)\n",
      "Akzeptanz, (Annahme, Anerkennung)\n",
      "Eine Frist ist ein bestimmter Zeitraum, (hier in diesem Fall, (mindestens  of, Aktionen) bis zu einem bestimmten Zeitpunkt (hier,,,,,,,,,,,,,,,,,,,.\n",
      "Eine Matrix ist eine zweidimensionale Anordnung von Elementen, (hier: Zahlen,,,,,,,,,,,,,,,, Ausrüstung von Elementen), die in einer bestimmten Struktur organisiert sind,,,, anderes Elemente miteinander verknüpft.\n",
      "Ein winziges, Agen,,, of Krankheit, of Organismen,,, of Lebewesen,,, of Animae.\n",
      "Eine Form der Zuneigung oder des Respekts,, insbesondere gegenüber einer Person oder einem Ort.\n",
      "Ein Teil von etwas, (z.B. ein Teil eines Ganzen)\n",
      "Die Schnecken sind die tragenden oder stützenden Teile eines Bauwerks oder einer Struktur,,,,,,,,,,,, anderes Tragbaldachin, of ein Tragbaldachin.\n",
      "Ein Streifen oder ein Führungselement, (hier eine Art von Begrenzung oder Führung)\n",
      "Ein kleines, (biologisches) Agens, (das in einem Organismus vermehrt)\n",
      "Die Schnecken sind die Teile des menschlichen Körpers, (insbesondere die Beine und die Knöchel), die für die Bewegung und Stabilität des Körpers verantwortlich sind.\n",
      "Die Fähigkeit, (oder auch die Bereitschaft) zu tun oder zu lassen, (etwas)\n",
      "Die Darstellung von Bewegungen und Handlungen in Filmen oder Videos, (kinematographie)\n",
      "Freizeit,, Strandbereich für Erholung und Freude\n",
      "Eine Linie ist in diesem Kontext eine chronologische Abfolge von Ereignissen oder eine zeitliche Reihenfolge.\n",
      "Ein Ort, (Gebäude) an dem Menschen lernen, (Wissen, (Kenntnisse) und Fähigkeiten erwerben können.\n",
      "Ein Raum oder Bereich in einer Bibliothek, (oder einem ähnlichen Ort), in dem Bücher und andere Medien aufbewahrt werden.\n",
      "In diesem Kontext bedeutet \"take\" so viel wie \"annehmen\", \"übernehmen\" oder \"in Besitz nehmen\". Es bedeutet,, dass man etwas in seinen Besitz oder in seine Obhut nimmt.\n",
      "Eine Sprache ist eine Form der menschlichen Kommunikation, (Verständigung), die durch ein eigenes System von Lauten, (Phonemen), Wörtern und Grammatik gekennzeichnet ist.\n",
      "Der Kopf ist in diesem Kontext der menschliche Schädel, (Haupt).\n",
      "Eine bestimmte Periode oder ein bestimmter Zeitraum, (hier: Tag)\n",
      "Positionieren oder platzieren,, um etwas an einer bestimmten Stelle zu platzieren oder zu positionieren.\n",
      "bereitest oder vorbereitest, (sich) auf etwas, (hier) zu, Aktionen oder Vorbereiten,,,,,,,,, Aktion\n",
      "Kürzelwort, (auch in HTML) zur Kennzeichnung und Strukturierung von Inhalten in einem Dokument\n",
      "Eine Person,, die sich um die Erziehung von Kindern kümmert.\n",
      "Die Schnecke ist in diesem Kontext die empfindliche, in einer Person oder einem Objekt,, (hier oder tiefer) ausgedrückte,, Aktion oder Reaktion auf eine andere Person oder ein Objekt. Es handelt sich um eine intensive, andauernde Beziehung zwischen zwei oder mehreren Personen oder Objekten.\n",
      "Ein bestimmter Abstand oder Entfernung, (hier:  (vier Kilometer von hier))\n",
      "Die Mutter ist diejenige,, die eine Sache festhält oder an einem bestimmten Ort befestigt.\n",
      "Eine Schnecke ist ein Teil oder eine Struktur, (hierarchisch oder anatomisch) in einem Lebewesen, (Mensch oder Tier), die eine bestimmte Funktion oder Rolle im Organismus ausführt.\n",
      "Ein geographisch-politisches Gebiet, (Kontinent) mit einer Vielzahl von Ländern, (Staaten) und einer reichen Kultur und Geschichte.\n",
      "Die Luft ist in diesem Kontext die Atmosphäre, (Luft) um uns herum, (die Umgebung).\n",
      "In diesem Kontext bedeutet \"mache\" so viel wie \"in Ordnung bringen\" oder \"wiederherstellen\". Es bedeutet, (im Kontext von Garten und Bäumen), dass man die Dinge wieder in einen ordentlichen Zustand bringt.\n",
      "Schultern oder Schulter, (Plural von Schulter) bedeutet in diesem Kontext wahrscheinlich die Schultern oder die Schulterpartie eines Menschen, Anderungen oder die äußeren Teile eines Körpers.\n",
      "Ein Strand oder eine Küste,, Arealität, Awo ein Mensch sich aufhält und entspannt, Aum sich zu bewegen und sich selbst zu überwinden.\n",
      "Besitzt über etwas oder jemanden zu verfügen, (im Sinne von \"zu haben\" oder \"zu besitzen\")\n",
      "Eine Pflanze, (häufig ein Blau)\n",
      "Eine Tätigkeit oder ein Beruf, (oder auch eine Aufgabe oder ein Projekt), die man erledigt oder ausführt, (oder auch eine bestimmte Zeit lang beschäftigt).\n",
      "Eine Aktion oder Handlung,, (hier: ein Spieler tut etwas, (hier: er führt aus)\n",
      "Ein Gegenstand oder eine Form,, die manuell oder maschinell herstellen kann.\n",
      "Ein heiliger Bund oder Vertrag zwischen Gott und den Menschen.\n",
      "Eine Matrix ist eine zweidimensionale Anordnung von Elementen, (Zahlen, (oder anderen Werten), die in Zeilen und Spalten angeordnet sind.\n",
      "Ein bestimmter Zeitpunkt oder ein bestimmtes Ereignis, (hierarchisch oder chronologisch)\n",
      "In diesem Kontext bedeutet \"take\" so viel wie \"in Besitz nehmen\" oder \"unter Schutz stellen\", also \"einen Schutzraum bieten\". Es bedeutet, (etwas) einen Ort oder eine Situation zu schützen oder zu beschützen, (um sich darin zu befinden).\n",
      "In diesem Kontext bedeutet \"took\" \"ergriffen\" oder \"in Besitz nahm\", d.h. sie nahm den Inhalt dieser Kommunikation an sich und reagierte darauf.\n",
      "Ein Teil eines Vogels, (z.B. Flügel eines Adlers)\n",
      "Eine künstliche Intelligenz, (KI) oder ein Computerprogramm, (Software), das in der Lage ist, (zu sein), komplexe Aufgaben auszuführen und zu lösen.\n",
      "Eine Grenze oder ein Abgrenzungsmerkmal zwischen zwei Gebieten oder Bereichen.\n",
      "Die Seele ist der innere, (geistige) Wesenheit oder das Wesen einer Person.\n",
      "Einzelne Einheiten oder Abschnitte eines Werkes oder einer Sammlung\n",
      "Eine Sitzbank, (im Gegensatz zu einer Finanzbank)\n",
      "Tätigkeit,, die sich auf ein bestimmtes Ziel oder eine bestimmte Aufgabe richtet.\n",
      "Eine Gruppe von Musikern,, (Musik-)kollektiv, (zusammen)\n",
      "Ein Teil oder ein Abschnitt eines Gebäudes, (hier: ein Teil des Schlosses)\n",
      "In diesem Kontext bedeutet \"take\" so viel wie \"betrachten\" oder \"in Betracht nehmen\", also \"berücksichtigen\" oder \"in Erwägung ziehen\". Es bezeichnet den Vorgang, (oder die Handlung) von etwas, (oder jemandem) in Besitz oder in Erwägung.\n",
      "Eine Frage oder ein Ausruf, Anerkennung, A einer Aussage\n",
      "Ein Buch mit vielen Seiten, (hier  (in diesem Fall  (200 Seiten)\n",
      "Eine Publikation oder ein Medium,,,,,,, in dem Kontext eine Zeitschrift oder ein Magazin, (hier: ein Film)\n",
      "In diesem Kontext ist \"da\" ein Adverb, (demonstrativ), das einen bestimmten Ort oder eine bestimmte Situation bezeichnet. Es dient als eine Art von Hinweis auf einen bestimmten Kontext oder eine bestimmte Gegebenheit.\n",
      "Eine Vorrichtung oder ein Werkzeug,, das verwendet wird, (hier) um etwas zu bewegen oder zu transportieren.\n",
      "Eine Art und Weise, (z.B. eine Mimik oder ein Gesicht) mit der ein bestimmtes Gefühl oder einer bestimmten Bedeutung auszudrücken.\n",
      "Eine Situation von völliger Unordnung und Verwirrung, (z.B. ein Durcheinander von Ereignissen oder Umständen, (z.B. ein politischer Konflikt)\n",
      "Der Strand, Areal, (Küste) am Meer, Areal, (Lagune)\n",
      "Die Fragestellerin oder diejenige Person, A,,, in einem bestimmten Kontext oder in einer bestimmten Beziehung.\n",
      "Der obere Teil des menschlichen Körpers, (Schädel)\n",
      "Ein bestimmter Artikel, (bestimmter Artikel) oder ein bestimmtes Possessivpronomen (bestimmtes Possessivpronomen)\n",
      "Eine enge Verbindung oder Beziehung zwischen Menschen oder Dingen, (hier: eine romantische Beziehung)\n",
      "Ein Weg oder eine Route, (hier: eine Eisenbahn)\n",
      "Die Abkürzung oder das DaseIN als die Gesamtheit aller Dinge, (Teile, (Teil) oder die Gesamtheit aller Teile)\n",
      "Ein flexibles Verbindungselement zwischen zwei oder mehreren Teilen, (hier: mechanische Verbindung)\n",
      "Die Seele ist die immaterielle oder geistige Substanz eines Menschen, (im Gegensatz zur Körperlichkeit).\n",
      "Die Handlung oder das Greifen mit der Hand.\n",
      "Ein enger Zusammenhalt von Menschen, (oder auch von Tieren), die gemeinsam Ziel verfolgen und sich gegenseitig unterstützen.\n",
      "hierstellen, (mit Kraft oder Druck) auf etwas einwirken oder ein Loch machen\n",
      "Ein Werkzeug zum Zuschlagen oder Einschlagen von Gegenständen.\n",
      "Ein Ort,, an dem Menschen lernen und sich entwickeln können.\n",
      "Eine Form der Fortbewegung zu Fuß, (oder mit einem Fahrzeug), insbesondere über eine längere Strecke.\n",
      "Eine Person, (oftmals auch Experte genannt), die sich auf Fragen nach Bedeutungen spezialisiert und diese auf Grundlage von Erfahrungen und Gegenständen beantwortet.\n",
      "Ein Gebäude oder ein Bauwerk, (z.B. ein Museum oder eine Kirche)\n",
      "Ein Zeitabschnitt von  (24 Stunden), der zwischen zwei aufeinander folgenden Nachten liegt.\n",
      "In diesem Kontext bedeutet \"took\" \"wurde krank\" oder \"erkrankte sich\". Es beschreibt den Vorgang, (in diesem Fall die Grippe) einer Krankheit.\n",
      "Die Haut,, die Oberfläche des Körpers\n",
      "Erlaubnis, (Freigabe)\n",
      "Eine Gruppe von Menschen, (insbesondere Freunde oder Familie), die sich, (zusammen) um eine gemeinsame Sache oder ein gemeinsames Ziel kümmern.\n",
      "Eine Situation von völliger Unordnung und Verwirrung, (hierarchisch, (politisch, (sozial) oder (naturkatastrophisch)\n",
      "Ein großer, (oder auch riesiger) Haushalt oder Besitz, (z.B. ein Haus mit vielen Zimmern)\n",
      "Die biologische Mutter,, (die Frau, (die Mutter) eines Menschen)\n",
      "Freiraum oder Spielraum, (im übertragenen Sinne) für die Planung oder Entscheidung\n",
      "Die Luft ist in diesem Kontext die Atemluft, (Atmung), also der Sauerstoff, (Oxygen), den wir bei der Atmung einatmen.\n",
      "Ein Verkehrsmittel, (z.B. ein Zug oder eine Straßenbahn)\n",
      "Eine Person, (in diesem Fall ein Mann), die eine wichtige Rolle in einer Familie oder einer sozialen Gruppe einnimmt.\n",
      "Eine Zustimmung oder ein Einverständnis, (Akzeptanz)\n",
      "Ein Zustand,, ein Status oder eine Lage, (hier: wir haben Gold gefunden)\n",
      "Die Seele ist in diesem Kontext die immaterielle, in der Materie, (Körperwelt) existierende Wesenheit,,,,,, oftmittelbarkeit, oftmittelbarkeit von Materie,,,, oftmittelbarkeit von Materie zu einer Person verbunden ist,,,,,, oftmittelbarkeit von Materie zu einer Person verbunden ist um sich vermittelst desselben ihres Orts in dem materiellen Weltganzen und durch künstliche Organen des Verhältnisses der ausgedehnten Wesen gegen sich und gegen einander bewußt zu werden daß sie aber wohl in die Seelen der Menschen als Wesen von einerlei Natur einfließen können und auch wirklich jederzeit mit ihnen in wechselseitiger Gemeinschaft stehen.\n",
      "Die grammatische Struktur oder die Art und Weise, (Syntax) in der Sprache, (hier: die Regeln und Strukturen, (wie Satzbausteine, (Syntax) in einer Sprache)\n",
      "Die Handlung oder das Vorgehenlassen von etwas, (hier: die Füße)\n",
      "Fast, (beinahe) wie, (ähnlich)\n",
      "Ein Gschmäckle ist in diesem Kontext ein unangenehmes, (ästhetisches) Gefühl der Zufriedenheit oder des Missfallens.\n",
      "Die Stift ist die Fähigkeit oder die Fertigkeit,, etwas zu tun oder zu leisten.\n",
      "Eine Institution oder Einrichtung,, die sich mit der Bildung und Erziehung von Menschen beschäftigt.\n",
      "In diesem Kontext bedeutet \"take\" \"entnehmen\" oder \"erkennen\", also \"annehmen\" oder \"mitnehmen\". Es bedeutet, (in diesem Fall) dass jemand oder etwas entfernt wird oder nicht mehr anwesend sein wird.\n",
      "In diesem Kontext bedeutet \"took\" \"machen\" oder \"ausführen\", also \"inventarisieren\" oder \"erfassen\". Es bezieht sich auf die Handlung,, ein Inventar oder eine Liste von Dingen zu erstellen.\n",
      "Ein bestimmter Raum oder Bereich,, (hierarchisch) um etwas herum oder darin zu sein.\n",
      "Eine Gruppe von Musikern,, die gemeinsam Musikstücke spielen.\n",
      "Eine Gruppe von Menschen, (hierarchisch), die gemeinsam Ziel verfolgen und zusammenarbeiten.\n",
      "Eine tiefe, Achtung, Achtung von Emotionen, and Gefühlen, Achtungen,,,,,,,,,,, and Bedingungen von Handlungen und Entscheidungen.\n",
      "In diesem Kontext bedeutet \"take\" so viel wie \"übernehmen\", \"in Besitz nehmen\" oder \"kontrollieren\", also \"eine Firma oder ein Unternehmen öffentlich zugänglich machen\".\n",
      "Eine bestimmte Straßen- oder Buslinie, (hier: eine bestimmte Route oder Linie, (im öffentlichen Nahverkehr)\n",
      "Ein Treffpunkt, (Ort)\n",
      "Eine Gruppe von Menschen, (hier: Arbeiterinnen), die zusammenarbeiten oder eine gemeinsame Zugehörigkeit haben.\n",
      "Die Sorgfalt, (oder auch die Verantwortung) für etwas, (oder jemanden), die Verpflichtung oder die Verantwortlichkeit für etwas oder jemanden.\n",
      "Eine Gruppe von Menschen, (oder auch Dingen), die zusammenarbeiten oder -gemeinsamlich verbunden sind.\n",
      "Eine bestimmte Menge oder ein gewisses Quantum von etwas, (hier: Appetit)\n",
      "In diesem Kontext bedeutet \"took\" die Handlung oder Aktion,, die Entscheidung zu treffen oder etwas zu tun. Es bedeutet auch, (im übertragenen Sinne) die Übernahme oder Annahme einer Aufgabe oder Verantwortung.\n",
      "Eine Gruppe von Menschen, (hierarchisch oder sozial), die gemeinsam Ziel oder Interesse verfolgen.\n",
      "Eine bestimmte Stelle oder Position,, an der das Buch platziert ist.\n",
      "Die Acht ist ein wichtiger Aspekt oder ein bestimmter Teil eines Ganzen, (hier: Politik), der bei der Linken eine Rolle spielt.\n",
      "Die Art und Weise,, sich einem Gedanken oder Gefühl auszudrücken oder mitzuteilen.\n",
      "Entnehmen, (to remove or to seize something)\n",
      "Ein Gas, (in diesem Fall Sauerstoff) das sich in einem bestimmten Raum oder Behälter befindet.\n",
      "Eine bestimmte Periode oder Zeitspanne im Leben einer Person\n",
      "Ein Flügel ist ein Behältnis, (oder ein Teil davon), das verwendet wird, (oder kann verwendet werden), um etwas zu tragen oder zu lagern, Anderes zu speichern.\n",
      "Eine ältere oder eine weibliche Verwandte, (z.B. Mutter, (als Bezeichnung für die Mutter eines Menschen))\n",
      "Ein multinationaler Konzern,, Aktionärer Unternehmen, Aktionärer Softwareentwicklung und -Dienstleistungen.\n",
      "Strände am Meer, (oder See), an denen Menschen sich erholen oder Freizeit haben können.\n",
      "Freiheit, Atemosphäre, Aumgebung\n",
      "In diesem Kontext bedeutet \"take\" so viel wie \"entspannen\", \"beruhigen\" oder \"sich Zeit lassen\". Es bedeutet, (etwas), dass man sich Zeit nimmt, (um) etwas zu tun oder zu erreichen.\n",
      "Zeitpunkte oder Etappen in einem Prozess oder einer Entwicklung\n",
      "Die Bänder sind die Teile oder Elemente, (hier: Wollenballen) eines Systems oder einer Struktur, (hier: Pressung), die zusammenarbeiten, (hier: zusammenzubinden), um eine bestimmte Funktion oder Aufgabe zu erfüllen.\n",
      "Ein bestimmter Zeitraum von  (meist  (24 Stunden)\n",
      "Ein Gebäude, (meist ein Bauwerk), in dem Menschen lernen und sich entwickeln können.\n",
      "Ein Ort oder eine bestimmte Lage,, an der wir uns befinden oder auf die wir uns beziehen\n",
      "Ein Fuchs ist ein alter,,,, oftmals ein Mensch, oftmals ein Wesen, oftmals ein Ding,,,,,,,, Ausrüstung von Dingen.\n",
      "Die Atmosphäre, (die Luft) umgibt uns und umgibt alles Leben auf der Erde.\n",
      "Zeitschriften, (Publikationen)\n",
      "Eine Stifte ist ein Teil eines Objekts, (hier ein Stängel), der eine bestimmte Form oder Gestalt hat.\n",
      "Die Schnecken sind diejenigen,, oftmalsig stabilen und robuisten Einheiten,, oftmalsig stabilen und robuisten Einheiten, oftmalsig stabilen und robuisten Einheiten,,, oftmalsig stabilen und robuisten Einheiten.\n",
      "hier, (Ort)\n",
      "So gut wie,, fast gleich, (ähnlich)\n",
      "In diesem Kontext bedeutet \"take\" so viel wie \"lernen\" oder \"entnehmen\", also die Moral oder den Schluss aus einer Geschichte ziehen.\n",
      "Tätigkeiten sind alle Anstrengungen, (Aktivitäten) die zur Erreichung eines bestimmten Ziels oder zur Lösung eines Problems beitragen.\n",
      "Angenehm, Anerkennung,, Anerkennung von etwas, (hier positiv oder angenehm)\n",
      "Die Luft ist die Atmosphäre,, die um uns herum ist und die wir atmen, (einatmen) können.\n",
      "Die Fähigkeit oder Kraft,, die jemandem ermöglicht, (etwas zu tun oder zu erreichen).\n",
      "Eine direkte Verbindung oder ein direkter Zugang zu etwas oder jemandem.\n",
      "Positionieren oder platzieren,, (jemanden oder etwas) an einer bestimmten Stelle oder in einem bestimmten Verhältnis.\n",
      "Ein bestimmter Besitz oder ein bestimmter Anteil an einem Ganzen oder einer Sache.\n",
      "Die Definition von ließ in diesem Kontext ist: \"jemandem oder etwas helfen oder unterstützen\".\n",
      "Ein geographischer Raum oder Kontinent,, der die Länder und Staaten Europas umfasst.\n",
      "Eine Gruppe oder ein Ensemble von Dingen,, die zusammen eine Einheit bilden\n",
      "Eine feste Verbindung oder ein festes Zusammenhalten zwischen zwei oder mehreren Dingen, (hier: Faß und Schlägel), die stabil und sicher ist und nicht leicht zu lösen ist.\n",
      "Die Richtung oder die Richtlinie, (hierarchisch), auf der sich etwas bewegt oder entwickelt.\n",
      "Eine direkte Verwandtschaft oder Blutsverwandtschaft, (in diesem Fall die Verwandtschaft zwischen Friedrich und seinem Onkel).\n",
      "Ein bestimmter Zeitpunkt oder Abschnitt in der Zeit, (hier: ein Tag im Kalender)\n",
      "Träger oder Stützen, (im Kontext von Holzbau oder Architektur)\n",
      "Die Erlaubnis oder die Genehmigung, (zu tun oder zu erlauben)\n",
      "Eine bestimmte Art von landwirtschaftlichen Erzeugnissen, (Getreide), die in einem bestimmten Gebiet oder Region angebaut werden.\n",
      "Bewegen sich auf etwas zu bewegen oder sich auf einem bestimmten Punkt zu halten.\n",
      "Very High-Speed Digital Subscriber Line (sehr schnelle digitale Teilnehmerleitungs-Linie)\n",
      "In diesem Kontext ist \"da\" ein Ausdruck von Überraschung oder Zustimmung, (ähnlich wie \"oui\" oder \"eh\"), der verwendet wird, (um Zustimmung oder Beifall auszudrücken.\n",
      "Eine Frau,, die als Ursprung und Quelle der Nation, (oder einer Gruppe) gilt und die Verantwortung für die Erhaltung und Weitergabe der kulturellen Werte und Traditionen trägt.\n",
      "In diesem Kontext bedeutet \"take\" \"als\" oder \"zu verstehen als\", also \"zu betrachten als\". Es bedeutet nicht \"wegnehmen\" oder \"entfernen\".\n",
      "Eine systematische Organisation oder Struktur,, die aus verschiedenen Elementen oder Teilen besteht und eine bestimmte Ordnung oder Hierarchie aufweist.\n",
      "Die Schnecke ist die Fähigkeit, Achtung, Achtung von Menschen oder Tieren, Achtung von Dingen, Achtung von Ereignissen.\n",
      "Die biologische Verwandtschaft, (Blutsverwandtschaft)\n",
      "Erinnerungen, Ablagerungen oder Erinnerungen die in der Vergangenheit eines Menschen gespeichert wurden.\n",
      "Eine Gruppe von Menschen, (hier Musikern), die gemeinsam musizieren oder andere Aktivitäten ausführen.\n",
      "Eine Geschäftliche Veranstaltung oder ein gesellschaftliches Ereignis, (z.B. eine Party oder ein Fest)\n",
      "Die Fähigkeit oder Stärke eines Menschen, (hierarchisch, (physikalisch) oder seelisch)\n",
      "Die freie und unmittelbare Äußerung von Gefühlen oder Gedanken.\n",
      "Verpflichtung, (Bindung, (Emotionale Bindung) zwischen zwei Personen oder zwischen einer Person und etwas)\n",
      "Die Matrix ist die Grundsubstanz,, die die Fasern zusammenhält und ihnen ihre Form gibt.\n",
      "Besitzen oder in Besitz haben, (im übertragenen Sinne)\n",
      "Eine Gruppe von Menschen, (hierarchisch, (z.B. eine Klasse, Amt)\n",
      "Fürsorge, (Sorge)\n",
      "Die Handlung oder das Platznehmen an einem bestimmten Ort, (hier: am Tisch)\n",
      "In diesem Kontext bedeutet \"toke\" \"erbeuten\" oder \"mitnehmen\", also \"in Besitz nehmen\" oder \"als Gefährten mitnehmen\". Es beschreibt die Handlung,, jemanden oder etwas mit sich zu nehmen, (in diesem Fall ein Schild) und es in eine bestimmte Situation mitzunehmen.\n",
      "Einzel ist ein Teil eines Lebewesens, Ausrüstungen, Ausrüstungen\n",
      "In diesem Kontext bedeutet \"taken\" ausgewählt oder bestimmt, (hier: getroffen). Es beschreibt den Akt des Auswählens oder der Bestimmung durch Los oder durch eine andere Form der Entscheidung.\n",
      "Das Aas ist der äußere oder der Oberfläche eines Gegenstandes oder einer Figur.\n",
      "KunSTWERKE\n",
      "Eine Gruppe von Musikern,, (Rock-)Musikern, (Rockband)\n",
      "ermöglicht, (oder ermöglicht) etwas zu tun oder zu erreichen\n",
      "In diesem Kontext bedeutet \"took\" \"erkrankten\" oder \"bekamen krank\". Es beschreibt den Vorgang, (oder die Handlung), bei der jemand oder etwas krank wurde.\n",
      "Die Matrix bezeichnet in diesem Kontext die Struktur oder den Raum, (hierarchisch), in dem sich die Chloroplasten befinden und in dem die Enzyme der CO2-Fixierung lokalisiert sind.\n",
      "Der Kopf ist das oberste Teil des menschlichen Körpers, (Schädel).\n",
      "Die Aas ist ein wichtiger Bestandteil eines Gebäudes, (z.B. eines Hauses), der die Stabilität und Festigkeit des Gebäudes gewährleistet.\n",
      "Die Quelle oder Ursache,, aus der weitere Pressmatrizen hervorgehen können.\n",
      "In diesem Kontext bedeutet stoßen, (sich) treffen, (sich) beisammen, (sich) zusammenkommen.\n",
      "Periodische Publikationen, (Zeitschriften) mit journalistischen Inhalten, (Artikeln)\n",
      "Die freie Atmosphäre,, (Luft) um einen Menschen oder ein Ding herum.\n",
      "Tätigkeit,, Aufgabe oder Pflicht, (im Sinne von Beruf oder Beschäftigung)\n",
      "erledigt,, vollendet, (eine Aufgabe oder ein Projekt)\n",
      "Die Acht ist in diesem Kontext die Fähigkeit,, in einer Situation oder Beziehung, Acht zu überwinden, Acht ist die Fähigkeit, Acht zu überwinden und zu überwinden zu können.\n",
      "Eine humorvolle Bezeichnung für eine übermäßige oder ungewöhnliche Menge an E-Mails.\n",
      "Die Acht ist in diesem Kontext ein Gebäude oder ein Haus, Acht\n",
      "Eine Einrichtung oder Institution,, in der Menschen lernen und sich entwickeln können.\n",
      "In diesem Kontext bedeutet \"took\" \"ergriffen\" oder \"in Besitz nahmen\", d.h. es bedeutet,, dass jemand oder etwas unter Kontrolle oder in Besitz genommen wird.\n",
      "Fast, (beinahe fast, Aehnlichkeit)\n",
      "Eine Matrix ist eine Anordnung von Elementen in Zeilen und Spalten, (Achsen), die eine Struktur oder ein Muster für die Organisation und Analyse von Daten oder Informationen bereitstellen.\n",
      "In diesem Kontext bedeutet \"took\" \"ergriff\" oder \"nutzte\", d.h. er machte Gebrauch von dieser Gelegenheit,, um Frankreich zu verlassen.\n",
      "Beliebt, (attraktiv)\n",
      "Ein Fuchs ist ein wild wachsender Strauch, (Pflanze), der sich frei entwickelt und nicht kultiviert wird.\n",
      "Die Bedeutung oder die Sache,, die Aufgabe oder die Verantwortung\n",
      "In diesem Kontext hat \"took\" zwei verschiedene Bedeutungen:\n",
      "\n",
      "1. Erwarb ein Objekt (in diesem Fall ein Condo): \"took a condo\" bedeutet,, dass sie ein Condo erworben hat.\n",
      "2. Eine Aktion durchführen (in diesem Fall eine Anzeige in der Zeitung): \"took out a full-page ad\" bedeutet, (etwas tun), dass er eine Anzeige in der Zeitung aufgegeben hat.\n",
      "\n",
      "In beiden Fällen bedeutet \"took\" eine Form von Besitz oder Inbesitznahme.\n",
      "Besitzt, (im Kontext von Besitzt) = zu besitzen, (etwas)\n",
      "Die Gesamtheit von Werten,, Überlieferungen und Traditionen, (1)\n",
      "Eine Gruppe von Menschen,, die gemeinsam musikalisch oder künstlerisch tätig sind.\n",
      "In diesem Kontext bedeutet \"take\" \"to capture\" oder \"to photograph\", also \"to get\" oder \"to obtain\".\n",
      "Ein Symbol der Verbundenheit oder Zusammengehörigkeit, (hierarchisch, (Regal) oder politisch)\n",
      "Besorgt, (Sorgen) oder sich um jemanden oder etwas kümmern.\n",
      "Verbindungen oder Beziehungen zwischen Menschen oder Gruppen, (hierarchisch, Amtsbeziehungen zwischen Familienmitgliedern, Amtsbeziehungen zwischen Religionsgruppen)\n",
      "Freigeben, Anderung, Anderer Kontrolle über die eigene Entscheidung oder Handlung\n",
      "Eine fürsorgende, (mütterliche) Beziehung oder eine Person, (Mutter), die eine wichtige Rolle in der Familie oder im Leben eines Menschen spielt.\n",
      "Eine klare und eindeutige Äußerung oder Meinung, (oft auch eine feste oder überzeugte Meinung)\n",
      "Ein Artikel,, der bestimmte Gegenstände oder Dinge in einer Aussage bezeichnet.\n",
      "Eine bestimmte Anordnung oder Organisation von Dingen oder Elementen in einem bestimmten Raum oder System.\n",
      "Ein sichtliches Zeichen oder Merkmal, (hieroglyph) das eine bestimmte Emotion oder Idee ausdrückt.\n",
      "In diesem Kontext ist \"a\" ein Pronomen, (Fürwort), das den Besitzer oder die Sache bezeichnet, (identifiziert), auf die sich der Sprecher bezieht.\n",
      "In diesem Kontext bedeutet \"take\" so viel wie \"wählen\" oder \"auswählen\", also \"einen anderen Weg einschlagen\" oder \"einen anderen Pfad einschlagen\". Es bedeutet,, eine Alternative oder einen anderen Weg zu wählen oder auszuwählen.\n",
      "Die Fähigkeit, (oder auch die Bereitschaft) zu etwas zu tun oder zu erledigen.\n",
      "Die Fähigkeit, (oder die Fähigkeiten) eines Menschen, (oder eines Wesens), die seine Emotionen, (oder Gefühle) umfasst.\n",
      "Die Schnecken sind die beweglichen Teile eines Instruments,, die den Klang und die Tonhöhe beeinflussen.\n",
      "Eine bestimmte Menge oder Summe an Geld oder Wertgegenständen, (hierarchisch oder materiell), die jemandem oder etwasem gehört oder zusteht.\n",
      "Eine zweidimensionale Anordnung von Elementen, (Zahlen, (Werten) in einer bestimmten Anzahl von Zeilen und Spalten, (Reihen), die eine bestimmte Struktur und Organisation aufweist.\n",
      "Eine enge Verbindung oder ein enges Verhältnis zwischen Menschen oder Dingen.\n",
      "Eine Geschreibsel ist ein Gerät,, das viele Dinge aufbewahrt und ordnet.\n",
      "Freiheit, (Freigabe, (Befreiung von Zwängen oder Fesseln))\n",
      "Speicher oder Behälter, (in diesem Kontext wahrscheinlich Lager oder Vorräte)\n",
      "Dem bestimmten Artikel, (hier: der, (männliche) Artikel)\n",
      "Ein unerwünschter oder unansehnlicher Gegenstand, (hier: ein Teil eines Daches)\n",
      "Eine Schnecke ist in diesem Kontext ein kleines, (ungezieferes) Insekt, (ungezieferes) oder ein kleiner Bereich in einem Garten, (ungezieferes), der speziell für die Pflege und den Schutz von Pflanzen und anderen Gartenbewohner ist.\n",
      "Eine Matrix ist ein rechteckiges Feld von Zahlen, (in diesem Kontext eine Anordnung von Zahlen in Zeilen und Spalten).\n",
      "Eine tiefe Zuneigung,, (hierarchisch) oder Sorgfalt für jemanden oder etwas, (hierarchisch)\n",
      "Ein kleines, (biologisches) Wesen, (organismus), das sich vermehrt und repliziert, (multipliziert) und sich auf andere Organismen überträgt.\n",
      "Ein bestimmter Ort oder Platz,, (hierarchisch) ein bestimmter Punkt im Raum\n",
      "Die Erinnerung oder das Sich-Bewusstsein,, sich selbst zu erkennen oder sich selbst zu finden.\n",
      "In diesem Kontext bedeutet \"machst\" wahrscheinlich \"anstreng\" oder \"belästigst\", also \"mühsam\" oder \"anstreng\". Es beschreibt die Handlung oder Tätigkeit,, die jemandem oder etwas zugefügt.\n",
      "Ein wichtiger oder bedeutender Teil oder Aspekt eines Ganzen.\n",
      "Unterstützung, Anerkennung oder Beachtung, (in diesem Fall die Freundin)\n",
      "Die Frau oder die weibliche Bezugsperson im Haushalt, (in diesem Fall die Ehefrau oder die Hausfrau)\n",
      "Eine taxonomische Kategorie oder Gruppe,, die eine bestimmte Stellung oder Rangordnung innerhalb einer Systematik oder Klassifikation aufweist.\n",
      "Ein Dudelfunk ist ein kleiner, (oft auch als \"Doppelgänger\" bezeichnet), der einem anderen Menschen sehr ähnlich sieht.\n",
      "In diesem Kontext bedeutet \"takes\" die Handlung oder Aktion von etwas zu tun oder zu machen, (hier: \"She takes well\" bedeutet,, Aktion von jemandem,,,,,,,,,,,,,,,,,,,,.\n",
      "Eine Zustimmung oder Bestätigung, (z.B. eine Frage oder Aussage)\n",
      "Die Anstrengung oder Tätigkeit, (körperliche oder geistige), die erbracht wird, (um ein bestimmtes Ziel zu erreichen).\n",
      "Ein Fuchs ist ein kleiner, (oft auch als Strauch bezeichnet) Teil eines Baumes oder einer Pflanze, (oft auch als Fuchsbüschel bezeichnet), der sich an der Erdoberfläche befindet und dienen Zweck hat, (oft auch als Fuchsstiel bezeichnet).\n",
      "In diesem Kontext bedeutet \"take\" so viel wie \"in Besitz nehmen\" oder \"kontrollen\", also \"das Spielfeld in Besitz nehmen\" oder \"das Spielfeld kontrollen\".\n",
      "Ein Ort,, an dem Menschen Wissen und Fähigkeiten vermittelt werden.\n",
      "Eine enge Verbindung oder Beziehung zwischen Menschen oder Gruppen, (hierarchisch oder emotional)\n",
      "Ein kleines Programm, (oder Code), das sich selbstständig vermehrt und kopiert, (oder infiziert) andere Programme oder Systeme.\n",
      "Ein Kleinstaat in Südeuropa, (ein unabhängiges Land)\n",
      "Ein Computervirus, (auch ein Schadstoff, Aprogramm, Acomputer)\n",
      "Die Verantwortung für die sozialen und politischen Angelegenheiten und Verpflichtungen in einem Land oder Staat.\n",
      "Die Fähigkeit oder das Vermögen, (im Sinne von Kraft oder Stärke)\n",
      "Die Handlung oder das Anordnen von etwas in einer bestimmten Weise oder Form.\n",
      "Ein Zeitintervall von, Ablauf einer bestimmten Periode, (hierarchisch oder Sonnenjahr) bestehend aus einer bestimmten Anzahl von Stunden,,,,,,,,,,,,,,,, Ablauf einer bestimmten Periode.\n",
      "Ein Almdudler ist jemand, (oft auch eine Frau), der/die sich um die Alten kümmert, (oft auch um die Eltern oder Großeltern) kümmert.\n",
      "Eine Art von Überraschung oder Erstaunen, (hier: Jacuś)\n",
      "Die Acht ist in diesem Kontext die tiefe, (emotional) Bindung oder Zuneigung zwischen zwei Personen, (hier Dr. Robert und der andere Person).\n",
      "Die ‚Affenschaukel‘ ist die gemeinsame Verantwortung und Zusammenhaltung von Gruppen oder Einzelpersonen auf ein bestimmtes Ereignis oder eine bestimmte Aufgabe, (hier: das Halstuch), wobei sie sich aufeinander abstimmen und unterstützen.\n",
      "In diesem Kontext bedeutet \"took\" \"begab\" oder \"auf dem Weg zu etwas sein\". Es beschreibt die Handlung, (Aktion) von Mr. Wasley, (oder Mr. Clayton), der auf dem Weg zu Epsworth (oder Manchster) ist.\n",
      "Die Ordnung, (Reihenfolge) von Dingen nach bestimmten Regeln oder Prinzipien.\n",
      "Das Ansehen oder Erkennen einer Person oder Sache durch den Namen.\n",
      "Besitzt, (im Sinne von \"zu besitzen\" oder \"in Besitz zu haben\")\n",
      "Die Festigkeit oder Stabilität, (von lateinisch stabilis), die Fähigkeit, (von lateinisch facultas), die Fähigkeit oder Stärke (von mittelhochdeutsch stark), die Festigkeit oder Stifte (von althochdeutsch stifte).\n",
      "Eine Institution oder Einrichtung,, die Bildung und Erziehung von Menschen fördert.\n",
      "Ein Ort,, an dem Menschen Wissen und Fähigkeiten vermittelt werden.\n",
      "Die Zugehörigkeit,, (oder die Kategorie) zu der ein bestimmtes Geschlecht gehört.\n",
      "Die Geschwindigkeit oder Schnelligkeit, (hier: Tempo, (Musik))\n",
      "In diesem Kontext ist \"da\" ein Pronomen, (demonstrativpronomen), das auf ein bestimmtes Ereignis oder eine bestimmte Situation verweist. Es fungiert als ein Platzhalter, (Deixis), um auf ein bestimmtes Ereignis oder eine bestimmte Situation Bezug zu nehmen.\n",
      "Der Kopf ist in diesem Kontext der menschliche Schädel, (Haupt).\n",
      "Ein Artikel, (bestimmter Artikel), der in diesem Fall auf ein bestimmtes Land (Japan) hinweist.\n",
      "Ein Vermögen oder eine Summe Geld, (oder Güter), die jemandem zur Verfügung steht.\n",
      "Eine Institution oder Organisation, (hierarchisch oder nicht-hierarchisch), die eine bestimmte Struktur oder Ordnung aufweist, (z.B. eine Universität, (Kollegium) oder eine Firma).\n",
      "Die Erlaubnis oder die Genehmigung, Anderen zu tun oder zu unterlassen.\n",
      "Die kleinen, Ablätter oder Behälter, (z.B. Schubfächer) auf einem bestimmten Platz oder in einer bestimmten Anordnung.\n",
      "Verdienst, (treu) und achtbar (ehrlich), d.h. von großem Respekt und Anerkennung.\n",
      "Die Fähigkeit, (oder auch die Fähigkeiten) eines Menschen, (oder auch einer Sache), die sich auf die Verbindung und die Beziehung zu anderen Menschen bezieht.\n",
      "Die Fähigkeit, (oder Festigkeit) zu etwas zu halten oder zu unterstützen.\n",
      "Eine Dynastie oder Familie von alkoholischen Getränken, andern, (insbesondere) Spirituosen,,,,,,,, andern Typen von Whisky.\n",
      "Eine komplexe Struktur oder Anordnung von Elementen oder Faktoren, (hierarchisch oder netzwerkartig)\n",
      "Der obere Teil eines Geräts, (z.B. eines Computers), auf dem die Hauptkomponenten wie Prozessor, (CPU), Arbeitsspeicher und Hauptspeicher untergebracht sind.\n",
      "Eine Sammlung von Dingen oder Gegenständen, (hier: Maschinenpistole)\n",
      "Eine Gruppe von Menschen, (Familie, (Familie, and Freunde)\n",
      "Ein kleiner unabhängiger Staat in Südeuropa, (Republik San Marino)\n",
      "Ein öffentliches Verkehrsmittel,, das Personen und Güter befördert.\n",
      "Die Schnecken sind die Teile des menschlichen Körpers, (Gesicht), die den Kopf tragen und stützen.\n",
      "Aggressiv, (aggressive) Handlung oder Verhalten, (im Kontext von Tieren)\n",
      "Körbe oder Gefäße, (hier: Behälter) für die Wäsche, (hier: das Waschen)\n",
      "Eine bestimmte Zeit oder ein bestimmter Zeitpunkt.\n",
      "ruhig und gelassen, (unbeeinflusst)\n",
      "Das Geschlecht bezieht sich auf die Zugehörigkeit oder den sozialen Status einer Person, (in diesem Fall eines Mädchens).\n",
      "Die Schnecke ist ein Teil des menschlichen Körpers, (insbesondere der Hals- und Nackenregion), der sich bei Bewegungen und Umdrehungen mitbewegt.\n",
      "Die Definition von Geschlecht in diesem Kontext ist: ein bestimmter Typ oder eine bestimmte Art von Menschen, (hier: weiblich), die sich durch bestimmte Merkmale oder Eigenschaften auszeichnen.\n",
      "Die Luft ist in diesem Kontext die Atmosphäre, (die Luftschicht), die um uns herum ist und die wir atmen, (einatmen) können.\n",
      "Eine irreführende und manipulative Argumentation,, die auf falsche Informationen und Meinungen basiert und die öffentliche Meinung zu beeinflussen sucht.\n",
      "Eine Schnecke ist ein Teil des Gesichts,,, in diesem Kontext,,,,,,,,,,,,,,,,, anderes Gefühl von Zuneigung und Zärtlichkeit.\n",
      "In diesem Kontext bedeutet \"took\" \"entzogen\" oder \"weggenommen\", also \"einen bestimmten Sinn oder Bedeutung zu geben\".\n",
      "Eine Struktur, (oder ein Modell) bestehend aus verschiedenen Komponenten, (oder Elementen), die miteinander verbunden und eine bestimmte Ordnung und Organisation aufweisen.\n",
      "Eine Struktur oder ein Gefüge,, in dem die verschiedenen Teile oder Elemente miteinander verbunden und organisiert sind.\n",
      "Die Atmosphäre, (die Luft) umgibt uns und beeinflusst unsere Umgebung.\n",
      "Eine tiefe emotionale Bindung zwischen zwei Menschen, Anderem Geschlecht,,,,,,,,,,,,,,,,,,,, Anderem Geschlecht.\n",
      "Eine respektvolle und liebevolle Frau,, die sich um andere kümmert.\n",
      "Ein Ausdruck von Übereinstimmung oder Zustimmung, (z.B. \"Ach, (ja) du hast das auch gesagt!\")\n",
      "Gelassenheit, (Ruhe) und Kontrolle über die eigene Emotionen und Reaktionen.\n",
      "Ein Medium oder ein Träger,, auf dem oder mit dem die Arbeitsprozesse durchgeführt werden.\n",
      "Eine Person, (meistensweise) die man kenntlich anspricht und begrüßt.\n",
      "In diesem Kontext bedeutet \"taking\" \"aufnehmen\" oder \"in sich aufnehmen\", also \"in sich einverleiben\" oder \"in sich aufspeichern\". In diesem Fall bedeutet \"taking\" das Einverleiben von Wasser in das Schiff.\n",
      "Besitzt, (im Sinne von \"zu besitzen\" oder \"in Besitz zu haben\"), also \"zu eigen\" oder \"als mein Eigen\"\n",
      "Ein Hund, (im Kontext des Textes)\n",
      "Die Äußerung oder der Inhalt einer Nachricht oder einer Absicht, (hier: die Bedeutung, (hier: die semantische Bedeutung)\n",
      "Eine Tätigkeit oder Aufgabe,, die erledigt werden muss, (oder soll erledigt werden) um ein bestimmtes Ziel zu erreichen.\n",
      "Ein Zeitraum von,, Aktionen oder Ereignissen, Aktionen,,,,,,,,,,,,,,,, anderes Ereignis.\n",
      "Eine komplexe, (Un)ordnung oder ein Zustand von völliger Unbestimmtheit, (Un)klarheit.\n",
      "Die Hämmern sind die Teile eines Instruments, (hier: Klavier), die den Klang erzeugen.\n",
      "In diesem Kontext bedeutet \"take\" so viel wie \"erhalten\", \"annehmen\" oder \"in Besitz nehmen\". Es beschreibt den Vorgang, (oder die Handlung), etwas zu erlangen oder zu übernehmen.\n",
      "Eine Linie ist eine Reihe von Punkten, (oder auch von Zeichen), die in einer bestimmten Reihenfolge angeordnet sind.\n",
      "Eine Institution, (oft auch Gebäude) für die Ausbildung und Erziehung von Kindern und Jugendlichen.\n",
      "In diesem Kontext bedeutet \"Da\" so viel wie \"dann\", \"jetzt\" oder \"in diesem Moment\". Es bezieht sich auf die aktuelle Situation oder den gegenwärtigen Zeitpunkt.\n",
      "Eine Zeitschrift oder ein Periodikum,,,,,,, anderes Medium,, oftmals ein Träger oder ein Publikationsorgan.\n",
      "Eine Struktur, (oder Organisation), die aus verschiedenen Elementen besteht und diese Elemente miteinander verbindet, (oder koordiniert), um bestimmte Aufgaben zu erfüllen.\n"
     ]
    },
    {
     "name": "stderr",
     "output_type": "stream",
     "text": [
      "\n",
      "KeyboardInterrupt\n",
      "\n"
     ]
    }
   ],
   "source": [
    "exp_tqdm = tqdm(experiments)\n",
    "\n",
    "for exp in exp_tqdm:\n",
    "    # set_sensor_state(exp_tqdm.n, exp_tqdm.total, Input.TOTAL_INPUT)\n",
    "    with mlflow.start_run(experiment_id='5'):\n",
    "        mlflow.log_param(\"system_prompt\", exp.system_prompt)\n",
    "        mlflow.log_param(\"question_prompt\", exp.question_prompt)\n",
    "        mlflow.log_param(\"example_prompt\", exp.example_prompts)\n",
    "\n",
    "        results = mlflow.evaluate(\n",
    "            lambda x: prompt_tgi(x, exp),\n",
    "            eval_data,\n",
    "            model_type=\"text\",\n",
    "            targets=\"ground_truth\",\n",
    "            extra_metrics=[mlflow.metrics.rougeL()]  #, bert_f1_score_metric]\n",
    "        )\n",
    "# set_sensor_state(exp_tqdm.n, exp_tqdm.total, Input.TOTAL_INPUT)\n"
   ]
  },
  {
   "cell_type": "code",
   "execution_count": 38,
   "id": "c11200480435a1e0",
   "metadata": {
    "ExecuteTime": {
     "end_time": "2024-06-06T19:59:46.934978Z",
     "start_time": "2024-06-06T19:59:46.930996Z"
    }
   },
   "outputs": [
    {
     "data": {
      "text/plain": [
       "'Urzustand vor Entstehung der Erde, unförmlicher Klumpen der ungeordneten Elemente, ungeordneter Urstoff, unermessliche Leere, leerer Raum, die Unermesslichkeit des großen Raumes'"
      ]
     },
     "execution_count": 38,
     "metadata": {},
     "output_type": "execute_result"
    }
   ],
   "source": [
    "a, (a, b, c) = next(eval_data.iterrows())\n",
    "b"
   ]
  },
  {
   "cell_type": "code",
   "execution_count": 24,
   "id": "37b48030f501c917",
   "metadata": {
    "ExecuteTime": {
     "end_time": "2024-06-06T17:18:27.022545Z",
     "start_time": "2024-06-06T17:18:27.018449Z"
    },
    "scrolled": true
   },
   "outputs": [
    {
     "name": "stdout",
     "output_type": "stream",
     "text": [
      "Das Fehlen einer geordneten Struktur oder eines Systems, Ablauf und Verwirrung, Seele- und/oder Funktionsunfähigkeit\n",
      "Unauffällige, overmächtige unwägbare Zuständlichkeit oder Lage, ….\n",
      "In diesem Kontext ist Chaos ein Zustand, tosendeter Ordnung,ing, herkömmlichem Umbruch der geordneten Strukturen und Prozesse. Es beschreibt einen Zustand grandiöser Unordnung,inas Unbeständigkeit, positionales Unordnungsprinzip.\n",
      "Ein Zustand,%, in dem alles unorganisiert und ungeordnet ist, coefficients\n",
      "Eine Zustand des völligen Ungleichgewichts und der Zerstörung von Ordnung und Struktur, fornialemlichem System.\n",
      "In diesem Kontext ist die Definition von Chaos: \"Eine Zustand von völliger, Zhuwförmigkeit, AblAUF, in der man die Ordnung zerstört und keine Struktur oder Muster mehr erkennbar ist.\" (Eine Art von Unordnung oder Durchein,ดาวุรก ForCanBeConvertedToFassistant\n",
      "\n",
      "Das ist großartig! Deine Antwort war perfekt. Danke für deine Frage!\n",
      "Ordnungslosigkeit,, Unübersichtlichkeit und fehlende Struktur, illegal\n",
      "In diesem Kontext ist die Definition von Chaos die ZerstÖrung von Ordnung und Struktur, topologischer Beziehungen. Es ist die Abwesenheit einer sinnvollen Ordnung und die UnmÖglichkeit, ainer bestehenden Struktur.\n",
      "In diesem Kontext ist Chaos ein Zustand, acute fehlender Ordnung oder Struktur. Es beschreibt einen Zustand,. in dem die Normen, available Strukturen oder Regeln nicht mehr gelten und es herrscht ein Durcheinander von Unordnung.\n",
      "Die innere Wesentlichkeit oder Charakter eines Menschen\n",
      "Die Seele ist die unwandelbare, (oder unzerstörbare) Substanz oder Essenz eines Menschen oder einer Sache,, Mikroorganismus.\n",
      "In diesem Kontext wird Seele als ein positives Attribut der Seele beschrieben. Die Definition von Seele wäre hier: \"Eine Seele ist eine Person, stufig,\t\t\t\t\t\t\tGesellschaft,.\n",
      "Die Seele ist die innere,ert Teil eines Menschen, […]\n",
      "\n",
      "Im Kontext dieser Aussage bedeutet Seele wahrscheinlich die unveränderliche und immer gültige Eigenschaft oder Wesenheit eines Menschen oder Dings.\n",
      "In diesem Kontext ist die Definition von Seele: eine dünne,, lose oder weiche Kruste auf der Oberfläche eines Bäckerei-Produktes,,.\n",
      "In diesem Kontext ist Seele die Fähigkeit oder die Tauglichkeit,Quarter Wirksamkeit), die zur Herstellung von Brot_back_gebraucht wird.\n",
      "In diesem Kontext ist Seele die feste, Erscheinungsform der Seele, theTatsächlich-aufälligen Wahrnehmungen, Newoser受到的恩iving seelischen Bindungen und Erfahrungen, AneignUNGEN.\n",
      "In diesem Kontext ist die Definition von Seele: \"eine gebackene,\"\"\" zu einem anderen Menschen oder einer Sache Gutes angeboten.\n",
      "Ein bestimmter Ort oder Platz\n",
      "Ein bestimmter Ort oder Platz,,an dem man sich befindet.\n",
      "In diesem Kontext bedeutet \"da\" eine bestimmte Stelle oder einen bestimmten Ort. Die Definition von \"da\" könnte in diesem Fall lauten: \"an einem bestimmten Ort oder an einer bestimmten Stelle\".\n",
      "Im Kontext dieser Frage bedeutet \"da\" einen bestimmten Ort oder eine bestimmte Lage,没有otherwort für \"there\" oder \"at that place\".\n",
      "In diesem Kontext ist \"da\" ein pronomen, \"(\"da\" bedeutet \"dort\", \"diese Stelle\", \"jener Ort\", \"diese Position\")\n",
      "In diesem Kontext ist \"da\" eine räumliche Einbettung, across Kurzform, in English, No, of the German word \"da\", which can be translated to \"there\" or \"in that place\". It indicates a location,camp Ursprung or proximity to something.\n",
      "Die Präsenz oder das DaseINmetic wordpress(widget)\n",
      "In diesem Kontext bedeutet \"da\" ein Platzhalter,1 für ein Objekt,.\n",
      "In diesem Kontext kann \"da\" als Adverb oder Pronomen verwendet werden,\n",
      "Hat die Fähigkeit oder die Möglichkeit, what someone can do\n",
      "Die Fähigkeit oder Macht, generally,. In diesem Kontext, an die Ziele der handlung von Ereignissen oder Einflüssen auf Andere.\n",
      "In diesem Kontext ist die Definition von \"macht\" die von \"führen\" oder \"ausführen\". Also,, Deutung des Wortes in diesem Satz ist die,altive Form von \"tun\" namens \"macht\" ist \"führen\" oder \"ausführen\", was bedeutet, Jemandem tut,].[Es bedeutet, beckons memes wesen wpuld war Ende von \"führen\" oder \"ausführen\".]\n",
      "Die Fähigkeit oder Kraft,: die Fähigkeit oder Möglichkeit,| etwas zu tun oder zu erreichen.\n",
      "Die Fähigkeit oder der Einfluss, (hierarchisch oder sozial) jemandes oder etwasis auf jemanden oder etwas auszuüben.\n",
      "In diesem Kontext bedeutet \"macht\" die Fähigkeit oder die Tätigkeit,))Someone)\n",
      "In diesem Kontext ist die Definition von \"macht\" die Fähigkeit oder die Möglichkeit, who etwas zu tun oder auszuführen. Es handelt sich nicht um die Überlegenheit oder Macht im Sinne von Machtspiel oder Herrschaft, -- sondern vielmehr um die Fähigkeit, наход Jako solche Fähigkeit im Alltag,, die von jemandem oder etwasem ermöglicht wird.\n",
      "Die Fähigkeit oder Autorität, Anderer jemand oder sistem zu bestimmen und zu kontrollieren\n",
      "In diesem Kontext ist die Definition von \"macht\" die Fähigkeit oder Stärke,2026, families die Kontrolle über etwas oder jemanden auszuüben. In diesem Fall \"macht\" der Nachbar die Fähigkeit,–über den Orpheus in der Dorfbühne auszuüben.\n",
      "Ein schädliches Programm, Ifsqlite mit schädlichen Eigenschaften,eur, However,-->\n",
      "\n",
      "Note: Die lateinische Übersetzung ist nicht immer genau, IRQ\n",
      "Eine kleine, (abweichende) Einheit von Infektion, de Einzelten, Aktionen oder eine unwiderstehbare Unordnung, wallschrei Überraschung.\n",
      "In diesem Kontext wird \"Virus\" definiert als ein Computersystem, mounted über eine Plattform,,SFML (Simple and Fast Multimedia Library) welche.Multimedia-Anwendungen wie Grafiken,ing,, legitimately et Netzwerke erlauben lassen.Main Goal: Fast und Legitim/unmittelbar execuon im Kontext von Multimedia-Anwendungen.\n",
      "Ein schädlicher Organismus, ainestle System, China zu infizieren und zu beeinträchtiigen.\n",
      "In diesem Kontext ist die Definition von \"virus\" ein parasitärer Organismus, eintwickelter Infektion oder Einfluss auf ein anderes Lebewesen oder ein System. Es beschreibt die Übertragung von Infektionen oder Einflüssen von einem System auf ein anderes, ATM.\n",
      "In diesem Kontext ist die Definition von \"virus\" eine Art von Parasiten,(),\n",
      "die in einem anderen Organismus leben und sich von diesem Organismus ernähren.\n",
      "Ein Virus ist somit eine Art von Mikroorganismen,\n",
      "die sich in einem Wirtsbild reproduzieren und sich auf andere Zellen übertragen können.\n",
      "Ein Element,qnosis oder ein Programm, rivalisiert und repliziert sich selbständig, Aktionen innerhalb eines Systems, by perse verarbeitenkommt zu zerstören und zuovelopen neuropfadolon quivalence・━・━・━・━assistant\n",
      "\n",
      "Ein Computerprogramm oder ein Algorithmus, (Rechenprogramm), das Informationen verarbeitet zu transformieren,, Umland,., Das Programm oder der Algorithmus repliziert sich selbständig, ='Simulac\n",
      "In diesem Kontext ist die Definition von Virus ein Bild, fallendes, in den Computerwissenschaften,&nbsp;t ein Stück von Daten, àbadonieren334,_change_, die sich replizieren und infizieren können.\n",
      "In diesem Kontext ist die Definition von \"virus\" die von einem Krankheitserreger ausgelösten Biologischen Organismen,, Agen,/rawmaterial/Material, Tkosten, 바이러스(virus)Dataset. Inspiriert von den lateinischen Wörtern für Viren, aHNLICHTKÖRPERATIÖN von Krankheitserreger und Biologischen Organismen. Inspiriert von ärztlichen und wissenschaft\n"
     ]
    }
   ],
   "source": [
    "for i in range(len(answers[0])):\n",
    "    for a in range(len(answers)):\n",
    "        print(answers[a][i][1])\n"
   ]
  },
  {
   "cell_type": "code",
   "execution_count": 12,
   "id": "adf68c348f111fe1",
   "metadata": {
    "ExecuteTime": {
     "end_time": "2024-06-05T12:54:31.083510Z",
     "start_time": "2024-06-05T12:54:31.079606Z"
    },
    "scrolled": true
   },
   "outputs": [
    {
     "name": "stdout",
     "output_type": "stream",
     "text": [
      "fehlende Ordnung oder Unordnung\n",
      "Zustand der Unordnung und des Durcheinanders\n",
      "Zerstörte Ordnung der Schöpfung.\n",
      "Zustand der Unordnung und des Durcheinanders\n",
      "Zustand der Unordnung und Verwirrung,2023,.\n",
      "Eine fehlende oder zerstörte Ordnung.\n",
      "ein Zustand der Unordnung und des Durcheinanders,: die Abwesenheit oder Zerstörung von Ordnung und Struktur\n",
      "ein Zustand der Unordnung und des Durcheinanders,121, прибládá, REALYZE empleado, for educative purposes., der entsteht,\\\\ wenn die occurs when the  the ursprüngliche Ordnung einer Sache oder eines Systems zerstört wird.\n",
      "In diesem Kontext ist Chaos die fehlende Ordnung oder die Zerstörung der  toterischen Ordnung, aunterstellt,инов der Welterschaffung,mailbox.\n",
      "innerer Charakter oder Wesen\n",
      "charakteristische Volksausdrücke und Traditionen\n",
      "Gemüt oder Charakter eines Menschen.\n",
      "Menschliches Gemüt,aya oder innere Natur\n",
      "charakteristische, $\\:$ Wesensart oder Gemütslage einer Person oder einer Gruppe\n",
      "Gemüt oder Charakter eines Schwaben, Epithet.\n",
      "Menschliche Psyche oder Charakter,  hier speziell die Gemütlichkeit und Herzlichkeit einer Person aus dem schwäbischen Raum.\n",
      "die tiefe,230 Gesamtheit der Gefühle,, Aüberzeugungen und Einstellungen,200 eines Menschen,3, home\n",
      "In diesem Kontext bezeichnet \"Seele\" die volkstümliche oder sentimentale Seite einer Person oder eines Volkes, her, Calgary einen bestimmten Charakter oder eine bestimmte Gemütsart,7666.\n",
      "an diesem Ort\n",
      "an diesem Platz oder Ort\n",
      "Ort oder Platz.\n",
      "an diesem Ort oder in dieser Umgebung\n",
      "an einem bestimmten Ort oder in einer bestimmten Umgebung\n",
      "An diesem Ort oder in dieser Nähe.\n",
      "an einem bestimmten Ort oder in einer bestimmten Umgebung\n",
      "an einem bestimmten Ort oder in einer bestimmten Situation präsent oder vorhanden\n",
      "In diesem Kontext bedeutet \"da\" einen bestimmten Ort oder eine bestimmte Position, Sicht-, Hör- oder Reichweite des Sprechers, case, working felizmente, (oder einer anderen Person), an dem oder auf dem die Person suchen oder nachfragen will.\n",
      "inszeniert oder spielt\n",
      "spielt oder inszeniert eine Rolle\n",
      "Inszeniert oder aufführt.\n",
      "spielt oder inszeniert eine Rolle\n",
      "spielt oder inszeniert (ein Theaterstück)\n",
      "Inszeniert oder aufführt eine Theaterproduktion.\n",
      "inszeniert oder spielt (in diesem Fall eine Rolle, on Stage)\n",
      "inszeniert oder aufführt (hier: ein Theaterstück)\n",
      "In diesem Kontext bedeutet \"macht\" inszeniert oder aufführt,20140918, weist auf die Theateraufführung hin,eriod.\n",
      "Gift oder Trank\n",
      "Gift oder Giftmischerin\n",
      "Gift oder giftiges Getränk.\n",
      "giftige Substanz oder ein Gift\n",
      "Gift oder Schlüpferlixir\n",
      "In diesem Kontext bedeutet \"virus\" Gift oder Schleim.\n",
      " Gift oder Schweinzeug\n",
      "Gift oder ein Gifttrank, auffällig im Sinne einer für jemanden bereiteten bösen Substanz\n",
      "Im Kontext dieser lateinischen Textstelle bezieht sich \"virus\" auf eine Art von Gift oder Schleim, in diesem Fall auf ein von einer Frau zubereitetes Gift oder einen Schlachtr africaus Zaubertrank.\n"
     ]
    }
   ],
   "source": [
    "for i in range(len(answers[0])):\n",
    "    for a in range(len(answers)):\n",
    "        print(answers[a][i][1])\n"
   ]
  },
  {
   "cell_type": "code",
   "execution_count": 59,
   "id": "64502cfd46399429",
   "metadata": {
    "ExecuteTime": {
     "end_time": "2024-06-05T12:50:33.170410Z",
     "start_time": "2024-06-05T12:50:33.166563Z"
    },
    "scrolled": true
   },
   "outputs": [
    {
     "name": "stdout",
     "output_type": "stream",
     "text": [
      "Zerstörte Ordnung oder fehlende Struktur\n",
      "fehlende oder zerstörte Ordnung\n",
      "Das Fehlen von Ordnung.\n",
      "Zustand der Unordnung und Zerstörung einer  Trustrukturen.\n",
      "Das Fehlen oder die Zerstörung einer vorherbestehenden Ordnung.\n",
      "Eine fehlende oder zerstörte Ordnung, Νach der Weltschöpfung.\n",
      "In diesem Kontext ist Chaos die fehlende oder zerstörte Ordnung, Beyond\n",
      "In diesem Kontext ist Chaos die Abwesenheit oder Zerstörung einer,0000ursprünglichen Ordnung, toter Schöpfung.\n",
      "In diesem Kontext ist Chaos die Abwesenheit oder Zerstörung von Ordnung, anderes Wort die Unordnung oder das Gegenteil von Ordnung, aüßerhalb des  toçoisSystems,l, aüßerhalb des Systems, Iager,361.\n",
      "Gemüt oder Charakter eines Menschen\n",
      "GESAMTPERSÖNLICHKEIT MIT EMPFINDUNGEN\n",
      "Gemüt oder Wesen einer Person.\n",
      "Mentale oder emotionalale Disposition einer Person.\n",
      "im Sinne von Gemüt oder Charakter, thetape Vollständigkeit oder Wesen einer Person.\n",
      "Gemüt oder Wesen einer Person,...\n",
      "In diesem Kontext bezeichnet Seele die Gesamtheit der emotionalen, Airiness,`, die Wesensart oder das Wesen einer bestimmten Region oder Volksgruppe,.\n",
      "Im Kontext dieses Beispiels bezieht sich \"Seele\" auf die emotional-intuitive Seite einer Person,198, achtlos oder die Gesamtheit ihrer emotionalen Eigenschaften,581 und mentalen Dispositionen, recent editor -2999-2, insbesondere im Hinblick auf ihre Ursprünglichkeit, I4I und Authentizität als Ausdruck der regionalen Identität.\n",
      "Im Kontext dieses Beispielsatzes bezieht sich \"Seele\" auf die emotional-intuitive Seite einer Person, research, did not provide a specific definition for \"Seele\" in this context,2019-12-01,'character,german \"alte schwäbische Seele\" refers to the authentic, Alemannic a certain kind of mentality or way of being that is typical for the Swabian people, typically characterized by down-to-earthness\n",
      "räumliche Lage oder Ort\n",
      "örtlicher Bereich um mich herum\n",
      "Ortsangabe, MySpace\n",
      "Ort oder Platz,“(an) dieser Stelle““\n",
      "Ort oder Platz, wo sich möglicherweise jemand befindet.\n",
      "In diesem Kontext bedeutet \"da\" einen bestimmten Ort oder Raum.\n",
      "anwesend oder gegenwärtig an einem bestimmten Ort oder in einer bestimmten Umgebung.\n",
      "In diesem Kontext ist \"da\" ein Adverb, it die Ortsangabe und bedeutet \"an diesem Ort\" oder \"hier\".\n",
      "In diesem Kontext bezeichnet \"da\" einen bestimmten Ort oder eine bestimmte Position, This phrase is often used to ask if someone is present at a particular location.\n",
      "organisiert oder veranstaltet\n",
      "inszeniert oder aufführt eine Vorstellung\n",
      "Inszeniert oder aufführt eine Theaterrolle.\n",
      "spielt oder inszeniert eine Rolle\n",
      "inszeniert oder aufführt\n",
      "Inszeniert oder aufführt eine Theaterrolle oder -produktion.\n",
      "Inszeniert oder aufführt (ein Theaterstück).\n",
      "inszeniert, aufführt oder spielt\n",
      "In diesem Kontext bedeutet \"macht\" so viel wie \"inszeniert\", \"aufführt\" oder \"spielt\". Es bezieht sich auf die Aufführung oder Inszenierung einer Theaterrolle oder eines Theaterstücks,\n",
      "(Orpheus) durch den Nachbar bei der Dorfbühne.\n",
      "Gift oder Schlange.\n",
      "Gift oder Schwarze Liste\n",
      "Gift oder Trank, Climate\n",
      "Gift odergifthaftes Mittel, “\n",
      "Gift (im Sinne eines tödlichen oder schädlichen Stoffes)\n",
      "In diesem Kontext bezeichnet \"virus\" ein Gift oder einen verwünschten Trank.\n",
      "In diesem Kontext bezeichnet \"virus\" ein giftiges oder unangenehmes Mittel,ứberhaupt keine Krankheit,r, was in diesem Fall von einer Frau zubereitet wurde,\u0019\n",
      "In diesem Kontext bezeichnet \"virus\" ein Gift oder ein toxinisches Mittel, das von der Frau bereitet wurde.\n",
      "In diesem Kontext bezeichnet \"virus\" ein Gift oder eine Tränke, aubereitspezifisch eine Art von Schlaftrunk,..\n"
     ]
    }
   ],
   "source": [
    "for i in range(len(answers[0])):\n",
    "    for a in range(len(answers)):\n",
    "        print(answers[a][i][1])\n"
   ]
  },
  {
   "cell_type": "code",
   "execution_count": 33,
   "id": "b882a1bc1699d11a",
   "metadata": {
    "ExecuteTime": {
     "end_time": "2024-06-05T12:21:28.057423Z",
     "start_time": "2024-06-05T12:21:28.053273Z"
    }
   },
   "outputs": [
    {
     "name": "stdout",
     "output_type": "stream",
     "text": [
      "['\"„Was ist Chaos? Es ist jene Ordnung die man bei der Erschaffung der Welt zerstört hat.“\": Was ist in diesem Kontext die Definition von Chaos?? ']\n",
      "['\"Die echte schwäbische Seele wird immer „nass gebacken“.\": Was ist in diesem Kontext die Definition von Seele? ']\n",
      "['\"Ist da jemand?\": Was ist in diesem Kontext die Definition von da? ']\n",
      "['\"Jedes Jahr macht der Nachbar den Orpheus bei der Dorfbühne.\": Was ist in diesem Kontext die Definition von macht? ']\n",
      "['\"„eius mulieris ingenio paratum virus, cuius minister e spadonibus fuit Halotus, inferre epulas et explorare gustu solitus.“ (Tac. ann. 12,66,2)\": Was ist in diesem Kontext die Definition von virus,? ']\n"
     ]
    }
   ],
   "source": [
    "for index, (_, _, data_point) in eval_data[:5].iterrows():\n",
    "    title, context_sentence, context_word = data_point['title'], data_point['context_sentence'], data_point['context_word']\n",
    "    print([experiments[0].question_prompt % (context_sentence, context_word)])"
   ]
  },
  {
   "cell_type": "code",
   "execution_count": 34,
   "id": "fe72d97cb58148b2",
   "metadata": {
    "ExecuteTime": {
     "end_time": "2024-06-05T12:21:45.290598Z",
     "start_time": "2024-06-05T12:21:45.286906Z"
    }
   },
   "outputs": [
    {
     "data": {
      "text/plain": [
       "'\"„eius mulieris ingenio paratum virus, cuius minister e spadonibus fuit Halotus, inferre epulas et explorare gustu solitus.“ (Tac. ann. 12,66,2)\": Was ist in diesem Kontext die Definition von virus,? '"
      ]
     },
     "execution_count": 34,
     "metadata": {},
     "output_type": "execute_result"
    }
   ],
   "source": [
    "experiments[0].question_prompt % (context_sentence, context_word)"
   ]
  }
 ],
 "metadata": {
  "kernelspec": {
   "display_name": "Python 3 (ipykernel)",
   "language": "python",
   "name": "python3"
  },
  "language_info": {
   "codemirror_mode": {
    "name": "ipython",
    "version": 3
   },
   "file_extension": ".py",
   "mimetype": "text/x-python",
   "name": "python",
   "nbconvert_exporter": "python",
   "pygments_lexer": "ipython3",
   "version": "3.10.12"
  }
 },
 "nbformat": 4,
 "nbformat_minor": 5
}
