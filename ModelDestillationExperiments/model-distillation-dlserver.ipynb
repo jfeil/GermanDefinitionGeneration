{
 "cells": [
  {
   "cell_type": "code",
   "id": "4264be337388f15a",
   "metadata": {
    "ExecuteTime": {
     "end_time": "2024-08-04T20:34:28.392070Z",
     "start_time": "2024-08-04T20:34:27.835812Z"
    }
   },
   "source": [
    "from datasets import Dataset\n",
    "import os\n",
    "\n",
    "from watchfiles import awatch\n",
    "\n",
    "base_path = \"/home/jfeil/MasterThesis/dataset_distillation/base-v5-unshuffled/\"\n",
    "output_path = \"/home/jfeil/MasterThesis/dataset_distillation/v1/\"\n",
    "\n",
    "if not os.path.exists(output_path):\n",
    "    os.makedirs(output_path)\n",
    "\n",
    "def load_dataset(path):\n",
    "    dataset = Dataset.from_parquet(path)\n",
    "    dataset = dataset.rename_column(\"gt\", \"wiktionary_gt\")\n",
    "    return dataset\n",
    "\n",
    "train_set = load_dataset(base_path + \"train.parquet\")\n",
    "test_set = load_dataset(base_path + \"test.parquet\")\n",
    "val_set = load_dataset(base_path + \"val.parquet\")"
   ],
   "outputs": [],
   "execution_count": 1
  },
  {
   "metadata": {
    "ExecuteTime": {
     "end_time": "2024-08-04T20:34:59.879403Z",
     "start_time": "2024-08-04T20:34:59.866265Z"
    }
   },
   "cell_type": "code",
   "source": "train_set[24000]",
   "id": "244cd4f8f2de7ac6",
   "outputs": [
    {
     "data": {
      "text/plain": [
       "{'title': 'Verhältnis',\n",
       " 'context_word': 'Verhältnis',\n",
       " 'context_sentence': '\"Evas Verhältnis ist nach Brüssel, da kann sie die Mietze zu sich einladen und ihr alles zeigen, wie es bei ganz feinen Leuten ist.\"',\n",
       " 'wiktionary_gt': 'umgangssprachlich: intime Beziehung zwischen zwei Menschen',\n",
       " 'prompt': '\"Evas Verhältnis ist nach Brüssel, da kann sie die Mietze zu sich einladen und ihr alles zeigen, wie es bei ganz feinen Leuten ist.\" Was ist die Definition von Verhältnis? '}"
      ]
     },
     "execution_count": 2,
     "metadata": {},
     "output_type": "execute_result"
    }
   ],
   "execution_count": 2
  },
  {
   "metadata": {
    "ExecuteTime": {
     "end_time": "2024-08-01T21:02:45.991529Z",
     "start_time": "2024-08-01T21:02:45.807942Z"
    }
   },
   "cell_type": "code",
   "source": [
    "from collections import Counter\n",
    "\n",
    "x = Counter(train_set['wiktionary_gt'])"
   ],
   "id": "4393d696e2e7ba4c",
   "outputs": [],
   "execution_count": 25
  },
  {
   "metadata": {
    "ExecuteTime": {
     "end_time": "2024-08-01T21:03:28.612092Z",
     "start_time": "2024-08-01T21:03:28.592808Z"
    }
   },
   "cell_type": "code",
   "source": "list(dict(x).items())[-1]",
   "id": "79680f1216ed8e6c",
   "outputs": [
    {
     "data": {
      "text/plain": [
       "('allmähliche Verminderung des Tageslichts nach Sonnenuntergang; Zeitraum zwischen Sonnenuntergang und Eintritt der Dunkelheit',\n",
       " 3)"
      ]
     },
     "execution_count": 33,
     "metadata": {},
     "output_type": "execute_result"
    }
   ],
   "execution_count": 33
  },
  {
   "metadata": {
    "ExecuteTime": {
     "end_time": "2024-08-01T21:01:12.983313Z",
     "start_time": "2024-08-01T21:01:12.807959Z"
    }
   },
   "cell_type": "code",
   "source": "len(train_set['wiktionary_gt'])",
   "id": "6172412b77479882",
   "outputs": [
    {
     "data": {
      "text/plain": [
       "274875"
      ]
     },
     "execution_count": 21,
     "metadata": {},
     "output_type": "execute_result"
    }
   ],
   "execution_count": 21
  },
  {
   "metadata": {
    "ExecuteTime": {
     "end_time": "2024-08-01T21:01:25.791263Z",
     "start_time": "2024-08-01T21:01:25.788732Z"
    }
   },
   "cell_type": "code",
   "source": "1108/274875",
   "id": "5f290691ef37f0e6",
   "outputs": [
    {
     "data": {
      "text/plain": [
       "0.004030923146884947"
      ]
     },
     "execution_count": 22,
     "metadata": {},
     "output_type": "execute_result"
    }
   ],
   "execution_count": 22
  },
  {
   "metadata": {},
   "cell_type": "code",
   "outputs": [],
   "execution_count": null,
   "source": "",
   "id": "a1e1dbef47958f54"
  },
  {
   "metadata": {
    "ExecuteTime": {
     "end_time": "2024-08-01T21:55:04.902255Z",
     "start_time": "2024-08-01T21:55:04.377019Z"
    }
   },
   "cell_type": "code",
   "source": [
    "prefixes = [\n",
    "    \"salopp\",\n",
    "    \"abwertend\",\n",
    "    \"umgangssprachlich\",\n",
    "    \"übertragen\",\n",
    "    \"allgemein\",\n",
    "    \"fachsprachlich\",\n",
    "    \"familiär\",\n",
    "    \"historisch\",\n",
    "    \"gehoben\",\n",
    "    \"landschaftlich\",\n",
    "    \"norddeutsch\", \n",
    "    \"östereichisch\",\n",
    "    \"scherzhaft\",\n",
    "    \"schweizerisch\",\n",
    "    \"süddeutsch\",\n",
    "    \"figurativ\",\n",
    "    \"veraltend\"\n",
    "]\n",
    "\n",
    "prefixes_count = {p: 0 for p in prefixes}\n",
    "\n",
    "count = 0\n",
    "for gt in train_set['wiktionary_gt']:\n",
    "    cur_gt = 0\n",
    "    for prefix in prefixes:\n",
    "        if prefix in gt:\n",
    "            cur_gt += 1\n",
    "            prefixes_count[prefix] += 1\n",
    "    if cur_gt > 0:\n",
    "        count += 1\n",
    "count"
   ],
   "id": "3217e75d898b54c1",
   "outputs": [
    {
     "data": {
      "text/plain": [
       "26273"
      ]
     },
     "execution_count": 36,
     "metadata": {},
     "output_type": "execute_result"
    }
   ],
   "execution_count": 36
  },
  {
   "metadata": {
    "ExecuteTime": {
     "end_time": "2024-08-01T21:56:38.466151Z",
     "start_time": "2024-08-01T21:56:38.463703Z"
    }
   },
   "cell_type": "code",
   "source": "26273 / 274875",
   "id": "61810b525eaa9e",
   "outputs": [
    {
     "data": {
      "text/plain": [
       "0.09558162801273307"
      ]
     },
     "execution_count": 38,
     "metadata": {},
     "output_type": "execute_result"
    }
   ],
   "execution_count": 38
  },
  {
   "metadata": {
    "ExecuteTime": {
     "end_time": "2024-08-01T21:55:08.872634Z",
     "start_time": "2024-08-01T21:55:08.870008Z"
    }
   },
   "cell_type": "code",
   "source": "prefixes_count",
   "id": "f19900be56a8a6c2",
   "outputs": [
    {
     "data": {
      "text/plain": [
       "{'salopp': 764,\n",
       " 'abwertend': 2839,\n",
       " 'umgangssprachlich': 9533,\n",
       " 'übertragen': 4655,\n",
       " 'allgemein': 1878,\n",
       " 'fachsprachlich': 732,\n",
       " 'familiär': 144,\n",
       " 'historisch': 2191,\n",
       " 'gehoben': 1937,\n",
       " 'landschaftlich': 552,\n",
       " 'norddeutsch': 546,\n",
       " 'östereichisch': 594,\n",
       " 'scherzhaft': 982,\n",
       " 'schweizerisch': 691,\n",
       " 'süddeutsch': 503,\n",
       " 'figurativ': 571,\n",
       " 'veraltend': 1321}"
      ]
     },
     "execution_count": 37,
     "metadata": {},
     "output_type": "execute_result"
    }
   ],
   "execution_count": 37
  },
  {
   "metadata": {
    "ExecuteTime": {
     "end_time": "2024-08-04T20:35:23.618051Z",
     "start_time": "2024-08-04T20:35:23.613426Z"
    }
   },
   "cell_type": "code",
   "source": [
    "def prompt_pattern(context: str, word: str, pattern=\"\\\"%s\\\": Was ist die Definition von %s?\") -> str:\n",
    "    return pattern % (context, word)\n",
    "\n",
    "\n",
    "class Experiment:\n",
    "    \n",
    "    def __init__(self, system_prompt=None, question_prompt=\"\\\"%s\\\": Was ist die Definition von %s? \",\n",
    "                 example_prompts=(\n",
    "                         (\"Die Liebe überwindet alle Grenzen\", \"Liebe\",\n",
    "                          \"inniges Gefühl der Zuneigung für jemanden oder für etwas\"))):\n",
    "        if system_prompt:\n",
    "            self.system_prompt = system_prompt\n",
    "        else:\n",
    "            self.system_prompt = [\"Du bist ein Definitionsgenerator. \"\n",
    "                                  \"Du antwortest in Deutsch. \"\n",
    "                                  \"Du bekommst einen Beispielsatz und ein Wort aus dem Satz. \"\n",
    "                                  \"Du antwortest mit der Definition des Wortes im Kontext des Beispiels. \"\n",
    "                                  \"Du antwortest nur mit der Definition. \"\n",
    "                                  \"Du zeigst den Bezug auf den Kontext. \"\n",
    "                                  \"Du antwortest in maximal 5 Worten. \"]\n",
    "        self.question_prompt = question_prompt\n",
    "        self.example_prompts = example_prompts\n",
    "\n",
    "    def create_examples_prompt(self):\n",
    "        ret_val = []\n",
    "        for example, word, definition in self.example_prompts:\n",
    "            ret_val += [prompt_pattern(example, word, pattern=self.question_prompt) + definition]\n",
    "        return ret_val\n",
    "\n",
    "    def create_examples(self):\n",
    "        ret_val = []\n",
    "        for example, word, definition in self.example_prompts:\n",
    "            ret_val += [{\n",
    "                \"role\": \"user\",\n",
    "                \"content\": self.question_prompt % (example, word)\n",
    "            },\n",
    "                {\n",
    "                    \"role\": \"assistant\",\n",
    "                    \"content\": definition}\n",
    "            ]\n",
    "        return ret_val\n",
    "    \n",
    "default_experiment = Experiment(system_prompt=[\n",
    "        \"Du bist ein Definitionsgenerator. \"\n",
    "        \"Du antwortest in Deutsch. \"\n",
    "        \"Du bekommst einen Beispielsatz und ein Wort aus dem Satz. \"\n",
    "        \"Du antwortest mit der Definition des Wortes im Kontext des Beispiels. \"\n",
    "        \"Du antwortest nur mit der Definition. \"\n",
    "        \"Du zeigst den Bezug auf den Kontext. \"\n",
    "        \"Du antwortest so detailiert wie nötig. \"\n",
    "    ],\n",
    "        question_prompt=\"%s: Was ist in diesem Kontext die Definition von %s?\",\n",
    "        example_prompts=[\n",
    "            (\"Die Liebe überwindet alle Grenzen\",\n",
    "             \"Liebe\",\n",
    "             \"inniges Gefühl der Zuneigung für jemanden oder für etwas\"),\n",
    "        ])"
   ],
   "id": "2464be0a980e6d30",
   "outputs": [],
   "execution_count": 3
  },
  {
   "metadata": {
    "ExecuteTime": {
     "end_time": "2024-08-22T13:35:11.261891Z",
     "start_time": "2024-08-22T13:35:11.258436Z"
    }
   },
   "cell_type": "code",
   "source": [
    "import csv\n",
    "\n",
    "dataset = []\n",
    "\n",
    "with open(\"mai_val_dataset.csv\") as file:\n",
    "    csv_reader = csv.reader(file, delimiter=',')\n",
    "    next(csv_reader)\n",
    "    for row in csv_reader:\n",
    "        dataset.append(row)"
   ],
   "id": "a90e3937d09a5b29",
   "outputs": [],
   "execution_count": 14
  },
  {
   "metadata": {
    "ExecuteTime": {
     "end_time": "2024-08-22T13:38:05.644815Z",
     "start_time": "2024-08-22T13:38:05.642912Z"
    }
   },
   "cell_type": "code",
   "source": "dataset = dataset + dataset[0:32]",
   "id": "38382a1765c6f7cd",
   "outputs": [],
   "execution_count": 18
  },
  {
   "metadata": {
    "ExecuteTime": {
     "end_time": "2024-08-22T13:38:16.725939Z",
     "start_time": "2024-08-22T13:38:16.702929Z"
    }
   },
   "cell_type": "code",
   "source": [
    "from tqdm.auto import tqdm\n",
    "import os\n",
    "import asyncio\n",
    "from openai import AsyncOpenAI\n",
    "import json\n",
    "import datetime\n",
    "\n",
    "\n",
    "base_url=\"http://localhost:8080/v1\"\n",
    "\n",
    "async_client = AsyncOpenAI(\n",
    "    base_url=base_url,\n",
    "    api_key=\"-\"\n",
    ")\n",
    "\n",
    "def create_messages(prompt):\n",
    "    return [\n",
    "            {\n",
    "                \"role\": \"user\",\n",
    "                \"content\": prompt,\n",
    "            }\n",
    "        ]\n",
    "\n",
    "\n",
    "async def async_prompt(row) -> None:\n",
    "    return (await async_client.chat.completions.create(\n",
    "        messages=create_messages(row[0]),\n",
    "        model=\"tgi\",\n",
    "        stream=False,\n",
    "        max_tokens=512, \n",
    "        frequency_penalty=1, \n",
    "        logprobs=False, \n",
    "        seed=42, \n",
    "        temperature=0.2,\n",
    "\n",
    "    )).choices[0].message.content\n",
    "\n",
    "\n",
    "\n",
    "async def prompt_dataset(dataset, split, experiment, batch_size=512, warm_up=32, checkpoint_dir=\"checkpoint\"):\n",
    "    prefix = str(datetime.datetime.now().strftime(\"%Y-%m-%d_%H-%M-%S\"))\n",
    "    \n",
    "    if not os.path.isdir(checkpoint_dir):\n",
    "        os.makedirs(checkpoint_dir)\n",
    "    \n",
    "    responses = []\n",
    "    tasks = []\n",
    "    for i in tqdm(dataset):\n",
    "        tasks.append(async_prompt(i))\n",
    "    current_batch = await asyncio.gather(*tasks[0:warm_up])\n",
    "    responses.append(current_batch)\n",
    "    with open(f\"{checkpoint_dir}/{split}_{prefix}_0.json\", \"w\") as f:\n",
    "        print(current_batch)\n",
    "        json.dump(current_batch, f)\n",
    "\n",
    "    for i in tqdm(range(warm_up, len(dataset), batch_size)):\n",
    "        current_batch = await asyncio.gather(*tasks[i:i + batch_size])\n",
    "        responses.append(current_batch)\n",
    "        with open(f\"{checkpoint_dir}/{split}_{prefix}_{i}.json\", \"w\") as f:\n",
    "            json.dump(current_batch, f)\n",
    "    return responses\n",
    "\n",
    "# asyncio.run(main())"
   ],
   "id": "da797b0e375f768d",
   "outputs": [],
   "execution_count": 19
  },
  {
   "metadata": {
    "ExecuteTime": {
     "end_time": "2024-08-22T13:41:07.599031Z",
     "start_time": "2024-08-22T13:38:18.296215Z"
    }
   },
   "cell_type": "code",
   "source": "responses = await prompt_dataset(dataset, \"maival\", None)",
   "id": "6320272069f2ec81",
   "outputs": [
    {
     "data": {
      "text/plain": [
       "  0%|          | 0/132 [00:00<?, ?it/s]"
      ],
      "application/vnd.jupyter.widget-view+json": {
       "version_major": 2,
       "version_minor": 0,
       "model_id": "7388282ceea548168856308a291e4fb7"
      }
     },
     "metadata": {},
     "output_type": "display_data"
    },
    {
     "name": "stdout",
     "output_type": "stream",
     "text": [
      "[\"Während der Vorbereitungen für die ProSieben-Show 'TV total Turmspringen' ereignete sich am 14. November 2012 ein Unfall in der Berliner Schwimm- und Sprunghalle im Europasportpark. Ein Teilnehmer verlor beim Sprung vom 3-Meter-Brett die Kontrolle, prallte mit der Stirn gegen die Wasseroberfläche und zog sich möglicherweise eine Rückenmarksverletzung zu. Nachdem er drei Tage intensivmedizinisch behandelt wurde, reichte er später eine Klage gegen die Produktionsfirma Brainpool beim Arbeitsgericht Köln ein und forderte Schmerzensgeld sowie Schadensersatz.\", 'Ein Mann erlitt einen Unfall beim Springen im Schwimmbad. Er sprang von einem 3-Meter-Brett und verletzte sich beim Aufprall, da er seinen Kopf nach hinten bog. Im Krankenhaus wurde er gut versorgt, da die Ärzte befürchteten, dass auch sein Rücken verletzt sein könnte. Später verklagte der Mann die Firma, die die Show verantworrtet, weil er Schmerzen hatte und Geld wollte.', 'Oberst Streight hatte die Absicht, die strategischen Verbindungslinien von General Bragg in Nord-Alabama und Georgia zu unterbrechen. Er wurde jedoch von General Forrest abgefangen und gestoppt.', \"Magellan hatte ein großes Schiff, die 'Trinidad'. Nachts machte er dort ein Licht an. So konnten die anderen Schiffe das große Schiff sehen und ihm folgen. Auf seinem Schiff waren viele Menschen, mehr als 200. Viele kamen aus Spanien, aber auch aus anderen Ländern. Später auf einer Insel kamen noch mehr Leute dazu. Insgesamt waren es dann 242 Menschen auf fünf Schiffen.\", 'Historische Dokumente einer Schule zeigen auf, dass unter der Verwaltung von Paul und Edith Geheeb Missstände wie Missbrauchsfälle an Schülern auftraten. Diese Vorfälle wurden jedoch nie offiziell angezeigt, was auf eine mögliche Unterdrückung dieser ernsten Angelegenheiten hindeutet.', 'Es gibt ein Flugzeug namens Panavia Tornado. Es kann auf viele Arten verwendet werden. Leute aus verschiedenen Ländern haben zusammen ein neues Programm gestartet, weil ein altes Flugzeug nicht mehr gut war. Das war im Jahr 1969.', 'Die Republik Zypern ist ein souveräner Staat auf der Insel Zypern, die im östlichen Mittelmeer gelegen ist.', 'Die Veranstaltung wurde aufgrund der COVID-19-Krankheit 2020 und 2021 abgesagt.', 'Zwischen 1940 und 1943 wurden in einem Krankenhaus in Gütersloh über tausend Patienten in eine andere Klinik verlegt. Viele von ihnen haben nicht überlebt, nur etwa 220 sind zurückgekehrt.', 'Oberst Streight hatte die Absicht, die strategischen Verbindungslinien von General Bragg in Nord-Alabama und Georgia zu unterbrechen. Er wurde jedoch von General Forrest abgefangen und gestoppt.', \"Während der Vorbereitungen für die ProSieben-Show 'TV total Turmspringen' ereignete sich am 14. November 2012 ein Unfall in der Berliner Schwimm- und Sprunghalle im Europasportpark. Ein Teilnehmer verlor beim Sprung vom 3-Meter-Brett die Kontrolle, prallte mit der Stirn gegen die Wasseroberfläche und zog sich möglicherweise eine Rückenmarksverletzung zu. Nachdem er drei Tage intensivmedizinisch behandelt wurde, reichte er später eine Klage gegen die Produktionsfirma Brainpool beim Arbeitsgericht Köln ein und forderte Schmerzensgeld sowie Schadensersatz.\", 'Die Veranstaltung wurde 2020 und 2021 aufgrund der COVID-19-Krankheit abgesagt.', \"Magellan hatte ein großes Schiff, die 'Trinidad'. Nachts machte er dort ein Licht an. So konnten die anderen Schiffe das große Schiff sehen und ihm folgen. Auf seinem Schiff waren viele Menschen, mehr als 200. Viele kamen aus Spanien, aber auch aus anderen Ländern. Später auf einer Insel kamen noch mehr Leute dazu. Insgesamt waren es dann 242 Menschen auf fünf Schiffen.\", \"Auf seiner Expedition benannte Magellan das Schiff 'Trinidad'. Um den Kontakt mit den anderen Schiffen auch bei Nacht zu halten, ließ er eine Flagge anbringen. Die Besatzung bestand aus 237 Mitgliedern, überwiegend aus Spaniern, aber auch aus anderen Nationalitäten wie Portugiesen, Italienern und sogar einem Norweger. Nach einem Aufenthalt auf den Kanarischen Inseln wuchs die Crew auf\\t242 Mitglieder an, verteilt auf fünf Schiffe. Diese multinationale Zusammensetzung spiegelt die breite geografische Reichweite seiner Rekrutierung wider.\", 'Die Veranstaltung wurde 2020 und 2021 aufgrund der COVID-19-Krankheit abgesagt.', 'Offizielle Korrespondenzen der Schule, die im Archiv gefunden und in einer Dissertation aufgearbeitet wurden, deuten darauf hin, dass es bereits unter der Leitung der Gründer Paul und Edith Geheeb Missbrauchsfälle an Mädchen und Jungen gab.', 'Der Panavia Tornado war das erste Flugzeug, das für verschiedene militärische Aufgaben eingesetzt werden konnte.', 'Am 14. November 2012 kam es zu einem schweren Unfall in einem Berliner Schwimmbad, als sich ein Mann während der Vorbereitungen für eine TV-Show am 3-Meter-Brett verletzte. Er stieß mit der Stirn so stark auf das Wasser, dass sein Kopf heftig nach hinten geschleudert wurde. Er musste wegen des Verdachts auf eine Rückenmarksverletzung drei Tage lang intensiv behandelt werden. Einige Jahre später verklagte er die Produktionsfirma auf Schmerzensgeld und Schadensersatz.', 'Nach seiner Abdankung kehrte Nikolaus II. am 9. März 1917 zu seiner Frau Alexandra Fjodorowna und seinen Kindern Olga,Tatjana,Maria,Anastasia und Alexei nach Zarskoje Selo zurück. Dort wurde die Zarenfamilie samt ihrem Gefolge unter Hausarrest gestellt. Abgesehen von der eingeschränkten Bewegungsfreiheit hatte die Familie wenig Entbehrungen zu erleiden. Man vertrieb sich die Zeit mit Gartenarbeit und kurzen Spaziergängen im Garten des Alexanderpalastes.', 'Historische Dokumente einer Schule zeigen auf, dass unter der Verwaltung von Paul und Edith Geheeb Missstände wie Missbrauchsfälle an Schülern auftraten. Diese Vorfälle wurden jedoch nie offiziell angezeigt, was auf eine mögliche Unterdrückung dieser ernsten Angelegenheiten hindeutet.', \"Während der Vorbereitungen für die ProSieben-Show 'TV total Turmspringen' ereignete sich am 14. November 2012 ein Unfall in der Berliner Schwimm- und Sprunghalle im Europasportpark. Ein Teilnehmer verlor beim Sprung vom 3-Meter-Brett die Kontrolle, prallte mit der Stirn gegen die Wasseroberfläche und zog sich möglicherweise eine Rückenmarksverletzung zu. Nachdem er drei Tage intensivmedizinisch behandelt wurde, reichte er später eine Klage gegen die Produktionsfirma Brainpool beim Arbeitsgericht Köln ein und forderte Schmerzensgeld sowie Schadensersatz.\", 'Unter der Leitung von Paul und Edith Geheeb an ihrer Schule fanden Missbrauchsfälle an Kindern statt. Trotzdem wurden die Vorfälle nicht rechtlich verfolgt, was auf strukturelle Defizite in der institutionellen Reaktion hinweist.', 'In der psychiatrischen Provinzial-Heilanstalt Gütersloh wurden zwischen 1940 und 1943 darüber hinaus insgesamt 1017 Patienten im Rahmen der NS-Krankenmorde Aktion T4 und Aktion Brandt in Tötungsanstalten wie Hadamar deportiert. Nur 220 von ihnen überlebten.', \"Am 14. November 2012 kam es zu einem schweren Unfall in der Berliner Schwimm- und Sprunghalle im Europasportpark. Ein Teilnehmer der ProSieben-Show 'TV total Turmspringen' erlitt beim Versuch, vom 3-Meter-Brett zu springen, einen schweren Unfall. Der Teilnehmer verlor die Kontrolle und schlug mit der Stirn derart heftig auf die Wasseroberfläche, dass eine extreme Hyperextension des Nackens vermutet wurde. Infolge dessen erforderte sein Zustand eine dreitägige intensivmedizinische Behandlung, um eine mögliche Rückenmarksverletzung zu adressieren. Nach dem Ereignis initiierte der Geschädigte ein rechtliches Verfahren gegen die produzierende Gesellschaft, Brainpool, am Arbeitsgericht Köln, wobei er Schmerzensgeld sowie Kompensation für entstandene Schäden einforderte.\", 'In Deutschland mussten alle neuen Autos ab dem 1. Januar 1974 Sicherheitsgurte haben. Autos, die vorher schon im Verkehr waren, mussten die Gurte auch nachgerüstet werden.', 'In der Geschichte der psychiatrischen Provinzial-Heilanstalt Gütersloh,später bekannt als Westfälische Landesklinik,wurde zwischen 1940 und__1943 insgesamt__1017 Patienten im Zuge der NS-Krankenmorde Aktion T4 und Aktion Brandt deportiert. Von diesen überlebten lediglich nur__220. Die meisten wurden in Einrichtungen wie Hadamar umgebracht.', 'In Gütersloh gab es ein großes Krankenhaus. Von 1940 bis 1943 wurden viele kranke Menschen weggebracht und nicht mehr zurückgebracht. Nur wenige kamen zurück.', 'In der Geschichte der psychiatrischen Provinzial-Heilanstalt Gütersloh,später bekannt als Westfälische Landesklinik,wurde zwischen 1940 und__1943 insgesamt__1017 Patienten im Zuge der NS-Krankenmorde Aktion T4 und Aktion Brandt deportiert. Von diesen überlebten lediglich nur__220. Die meisten wurden in Einrichtungen wie Hadamar umgebracht.', 'Als Nikolaus II. am 9. März 1917 abdankte, kehrte er zu seiner Familie in Zarskoje Selo zurück. Zu seiner Familie zählten seine Frau Alexandra und seine fünf Kinder. Die ganze Familie wurde dort unter Hausarrest gestellt, hatte jedoch die Freiheit, sich in ihrem großen Garten etwas zu bewegen. Sie nutzten diese Möglichkeit für Gartenarbeit und kurze Spaziergänge.', 'Nach seiner Abdankung konnte Nikolaus II. am 9. März 1917 zu seiner Familie zurückkehren, die in Zarskoje Selo lebte. Dort wurden er, seine Frau Alexandra und seine Kinder Olga, Tatjana, Maria, Anastasia und Alexei unter Hausarrest gestellt. Die Einschränkungen im Hausarrest waren dennoch gering, sodass sie ihre Zeit mit Aktivitäten wie Gartenarbeit und kurzen Spaziergängen im Garten des Alexanderpalastes verbringen konnten.', 'Unter der Leitung von Paul und Edith Geheeb fanden an ihrer Schule Missbrauchsfälle an Kindern statt. Trotzdem wurden die Vorfälle zu keinem Zeitpunkt rechtlich verfolgt.', 'In einer Schule gab es früher schlechte Vorfälle mit Kindern. Die Schule wurde von Paul und Edith geleitet. Sie haben nichts unternommen, um die Kinder zu schützen. Niemand hat diese Fälle der Polizei gemeldet.']\n"
     ]
    },
    {
     "data": {
      "text/plain": [
       "  0%|          | 0/1 [00:00<?, ?it/s]"
      ],
      "application/vnd.jupyter.widget-view+json": {
       "version_major": 2,
       "version_minor": 0,
       "model_id": "e44d464bcbaa4ca887ce643e94dc51d5"
      }
     },
     "metadata": {},
     "output_type": "display_data"
    }
   ],
   "execution_count": 20
  },
  {
   "metadata": {},
   "cell_type": "code",
   "outputs": [
    {
     "data": {
      "application/vnd.jupyter.widget-view+json": {
       "model_id": "6a389763996644549b96f188521f0030",
       "version_major": 2,
       "version_minor": 0
      },
      "text/plain": [
       "  0%|          | 0/34189 [00:00<?, ?it/s]"
      ]
     },
     "metadata": {},
     "output_type": "display_data"
    },
    {
     "name": "stdout",
     "output_type": "stream",
     "text": [
      "['freudiger, lautstarker Ausdruck der Begrüßung', 'Kampf, Streit', 'ein lauter Schrei', 'eine regionale Süßspeise', 'malerisch, künstlerisch', 'am wenigsten pittoresken', 'sehr hübsch und reizvoll', 'senkrecht, lotrecht', 'Farbe', 'eine Farbe, die dunkler als Rot', 'eine Farbe', 'eine Farbe', 'Gelb ist hier ein Synonym für Leber oder Fett,', 'das Ergebnis einer Backreaktion', 'Kaffee', 'Gelb ist eine Farbe.', 'Eigelb', 'Name eines berühmten Kaninchenzüchters', 'Brautigamer', 'eine Farbe', 'Wörter sind einzelne Wörter in einem Satz oder Text,', 'kleinste Einheiten der Sprache', 'eine Einheit aus Lauten mit einer bestimmten Bedeutung', 'eine sprachliche Einheit', 'Wörter sind die kleinsten bedeutungstragenden Einheiten einer Sprache.', 'Einzelne Einheiten einer Sprache', 'Eine Gruppe von Bits, die als Einheit verarbeitet werden', 'eine Folge von Bits, die als Einheit verarbeitet wird', 'eine Folge von Buchstaben, die einen bestimmten Sinn oder Begriff ausdrücken', 'Eine Folge von Bits, die als Einheit behandelt wird', 'eine einzelne sprachliche Einheit', 'gesprochene Sprache']\n"
     ]
    },
    {
     "data": {
      "application/vnd.jupyter.widget-view+json": {
       "model_id": "553ee91ccdf04c0395903933667b6208",
       "version_major": 2,
       "version_minor": 0
      },
      "text/plain": [
       "  0%|          | 0/67 [00:00<?, ?it/s]"
      ]
     },
     "metadata": {},
     "output_type": "display_data"
    },
    {
     "name": "stderr",
     "output_type": "stream",
     "text": [
      "/home/jfeil/.pyenv/versions/3.10.12/lib/python3.10/typing.py:329: RuntimeWarning: coroutine 'async_prompt' was never awaited\n",
      "  ev_args = tuple(_eval_type(a, globalns, localns, recursive_guard) for a in t.__args__)\n",
      "RuntimeWarning: Enable tracemalloc to get the object allocation traceback\n"
     ]
    },
    {
     "ename": "CancelledError",
     "evalue": "",
     "output_type": "error",
     "traceback": [
      "\u001B[0;31m---------------------------------------------------------------------------\u001B[0m",
      "\u001B[0;31mCancelledError\u001B[0m                            Traceback (most recent call last)",
      "File \u001B[0;32m~/.pyenv/versions/3.10.12/envs/MasterThesis-NLP/lib/python3.10/site-packages/openai/_base_client.py:1522\u001B[0m, in \u001B[0;36mAsyncAPIClient._request\u001B[0;34m(self, cast_to, options, stream, stream_cls, remaining_retries)\u001B[0m\n\u001B[1;32m   1521\u001B[0m \u001B[38;5;28;01mtry\u001B[39;00m:\n\u001B[0;32m-> 1522\u001B[0m     response \u001B[38;5;241m=\u001B[39m \u001B[38;5;28;01mawait\u001B[39;00m \u001B[38;5;28mself\u001B[39m\u001B[38;5;241m.\u001B[39m_client\u001B[38;5;241m.\u001B[39msend(\n\u001B[1;32m   1523\u001B[0m         request,\n\u001B[1;32m   1524\u001B[0m         stream\u001B[38;5;241m=\u001B[39mstream \u001B[38;5;129;01mor\u001B[39;00m \u001B[38;5;28mself\u001B[39m\u001B[38;5;241m.\u001B[39m_should_stream_response_body(request\u001B[38;5;241m=\u001B[39mrequest),\n\u001B[1;32m   1525\u001B[0m         \u001B[38;5;241m*\u001B[39m\u001B[38;5;241m*\u001B[39mkwargs,\n\u001B[1;32m   1526\u001B[0m     )\n\u001B[1;32m   1527\u001B[0m \u001B[38;5;28;01mexcept\u001B[39;00m httpx\u001B[38;5;241m.\u001B[39mTimeoutException \u001B[38;5;28;01mas\u001B[39;00m err:\n",
      "File \u001B[0;32m~/.pyenv/versions/3.10.12/envs/MasterThesis-NLP/lib/python3.10/site-packages/httpx/_client.py:1661\u001B[0m, in \u001B[0;36mAsyncClient.send\u001B[0;34m(self, request, stream, auth, follow_redirects)\u001B[0m\n\u001B[1;32m   1659\u001B[0m auth \u001B[38;5;241m=\u001B[39m \u001B[38;5;28mself\u001B[39m\u001B[38;5;241m.\u001B[39m_build_request_auth(request, auth)\n\u001B[0;32m-> 1661\u001B[0m response \u001B[38;5;241m=\u001B[39m \u001B[38;5;28;01mawait\u001B[39;00m \u001B[38;5;28mself\u001B[39m\u001B[38;5;241m.\u001B[39m_send_handling_auth(\n\u001B[1;32m   1662\u001B[0m     request,\n\u001B[1;32m   1663\u001B[0m     auth\u001B[38;5;241m=\u001B[39mauth,\n\u001B[1;32m   1664\u001B[0m     follow_redirects\u001B[38;5;241m=\u001B[39mfollow_redirects,\n\u001B[1;32m   1665\u001B[0m     history\u001B[38;5;241m=\u001B[39m[],\n\u001B[1;32m   1666\u001B[0m )\n\u001B[1;32m   1667\u001B[0m \u001B[38;5;28;01mtry\u001B[39;00m:\n",
      "File \u001B[0;32m~/.pyenv/versions/3.10.12/envs/MasterThesis-NLP/lib/python3.10/site-packages/httpx/_client.py:1689\u001B[0m, in \u001B[0;36mAsyncClient._send_handling_auth\u001B[0;34m(self, request, auth, follow_redirects, history)\u001B[0m\n\u001B[1;32m   1688\u001B[0m \u001B[38;5;28;01mwhile\u001B[39;00m \u001B[38;5;28;01mTrue\u001B[39;00m:\n\u001B[0;32m-> 1689\u001B[0m     response \u001B[38;5;241m=\u001B[39m \u001B[38;5;28;01mawait\u001B[39;00m \u001B[38;5;28mself\u001B[39m\u001B[38;5;241m.\u001B[39m_send_handling_redirects(\n\u001B[1;32m   1690\u001B[0m         request,\n\u001B[1;32m   1691\u001B[0m         follow_redirects\u001B[38;5;241m=\u001B[39mfollow_redirects,\n\u001B[1;32m   1692\u001B[0m         history\u001B[38;5;241m=\u001B[39mhistory,\n\u001B[1;32m   1693\u001B[0m     )\n\u001B[1;32m   1694\u001B[0m     \u001B[38;5;28;01mtry\u001B[39;00m:\n",
      "File \u001B[0;32m~/.pyenv/versions/3.10.12/envs/MasterThesis-NLP/lib/python3.10/site-packages/httpx/_client.py:1726\u001B[0m, in \u001B[0;36mAsyncClient._send_handling_redirects\u001B[0;34m(self, request, follow_redirects, history)\u001B[0m\n\u001B[1;32m   1724\u001B[0m     \u001B[38;5;28;01mawait\u001B[39;00m hook(request)\n\u001B[0;32m-> 1726\u001B[0m response \u001B[38;5;241m=\u001B[39m \u001B[38;5;28;01mawait\u001B[39;00m \u001B[38;5;28mself\u001B[39m\u001B[38;5;241m.\u001B[39m_send_single_request(request)\n\u001B[1;32m   1727\u001B[0m \u001B[38;5;28;01mtry\u001B[39;00m:\n",
      "File \u001B[0;32m~/.pyenv/versions/3.10.12/envs/MasterThesis-NLP/lib/python3.10/site-packages/httpx/_client.py:1763\u001B[0m, in \u001B[0;36mAsyncClient._send_single_request\u001B[0;34m(self, request)\u001B[0m\n\u001B[1;32m   1762\u001B[0m \u001B[38;5;28;01mwith\u001B[39;00m request_context(request\u001B[38;5;241m=\u001B[39mrequest):\n\u001B[0;32m-> 1763\u001B[0m     response \u001B[38;5;241m=\u001B[39m \u001B[38;5;28;01mawait\u001B[39;00m transport\u001B[38;5;241m.\u001B[39mhandle_async_request(request)\n\u001B[1;32m   1765\u001B[0m \u001B[38;5;28;01massert\u001B[39;00m \u001B[38;5;28misinstance\u001B[39m(response\u001B[38;5;241m.\u001B[39mstream, AsyncByteStream)\n",
      "File \u001B[0;32m~/.pyenv/versions/3.10.12/envs/MasterThesis-NLP/lib/python3.10/site-packages/httpx/_transports/default.py:373\u001B[0m, in \u001B[0;36mAsyncHTTPTransport.handle_async_request\u001B[0;34m(self, request)\u001B[0m\n\u001B[1;32m    372\u001B[0m \u001B[38;5;28;01mwith\u001B[39;00m map_httpcore_exceptions():\n\u001B[0;32m--> 373\u001B[0m     resp \u001B[38;5;241m=\u001B[39m \u001B[38;5;28;01mawait\u001B[39;00m \u001B[38;5;28mself\u001B[39m\u001B[38;5;241m.\u001B[39m_pool\u001B[38;5;241m.\u001B[39mhandle_async_request(req)\n\u001B[1;32m    375\u001B[0m \u001B[38;5;28;01massert\u001B[39;00m \u001B[38;5;28misinstance\u001B[39m(resp\u001B[38;5;241m.\u001B[39mstream, typing\u001B[38;5;241m.\u001B[39mAsyncIterable)\n",
      "File \u001B[0;32m~/.pyenv/versions/3.10.12/envs/MasterThesis-NLP/lib/python3.10/site-packages/httpcore/_async/connection_pool.py:216\u001B[0m, in \u001B[0;36mAsyncConnectionPool.handle_async_request\u001B[0;34m(self, request)\u001B[0m\n\u001B[1;32m    215\u001B[0m     \u001B[38;5;28;01mawait\u001B[39;00m \u001B[38;5;28mself\u001B[39m\u001B[38;5;241m.\u001B[39m_close_connections(closing)\n\u001B[0;32m--> 216\u001B[0m     \u001B[38;5;28;01mraise\u001B[39;00m exc \u001B[38;5;28;01mfrom\u001B[39;00m \u001B[38;5;28;01mNone\u001B[39;00m\n\u001B[1;32m    218\u001B[0m \u001B[38;5;66;03m# Return the response. Note that in this case we still have to manage\u001B[39;00m\n\u001B[1;32m    219\u001B[0m \u001B[38;5;66;03m# the point at which the response is closed.\u001B[39;00m\n",
      "File \u001B[0;32m~/.pyenv/versions/3.10.12/envs/MasterThesis-NLP/lib/python3.10/site-packages/httpcore/_async/connection_pool.py:196\u001B[0m, in \u001B[0;36mAsyncConnectionPool.handle_async_request\u001B[0;34m(self, request)\u001B[0m\n\u001B[1;32m    194\u001B[0m \u001B[38;5;28;01mtry\u001B[39;00m:\n\u001B[1;32m    195\u001B[0m     \u001B[38;5;66;03m# Send the request on the assigned connection.\u001B[39;00m\n\u001B[0;32m--> 196\u001B[0m     response \u001B[38;5;241m=\u001B[39m \u001B[38;5;28;01mawait\u001B[39;00m connection\u001B[38;5;241m.\u001B[39mhandle_async_request(\n\u001B[1;32m    197\u001B[0m         pool_request\u001B[38;5;241m.\u001B[39mrequest\n\u001B[1;32m    198\u001B[0m     )\n\u001B[1;32m    199\u001B[0m \u001B[38;5;28;01mexcept\u001B[39;00m ConnectionNotAvailable:\n\u001B[1;32m    200\u001B[0m     \u001B[38;5;66;03m# In some cases a connection may initially be available to\u001B[39;00m\n\u001B[1;32m    201\u001B[0m     \u001B[38;5;66;03m# handle a request, but then become unavailable.\u001B[39;00m\n\u001B[1;32m    202\u001B[0m     \u001B[38;5;66;03m#\u001B[39;00m\n\u001B[1;32m    203\u001B[0m     \u001B[38;5;66;03m# In this case we clear the connection and try again.\u001B[39;00m\n",
      "File \u001B[0;32m~/.pyenv/versions/3.10.12/envs/MasterThesis-NLP/lib/python3.10/site-packages/httpcore/_async/connection.py:101\u001B[0m, in \u001B[0;36mAsyncHTTPConnection.handle_async_request\u001B[0;34m(self, request)\u001B[0m\n\u001B[1;32m     99\u001B[0m     \u001B[38;5;28;01mraise\u001B[39;00m exc\n\u001B[0;32m--> 101\u001B[0m \u001B[38;5;28;01mreturn\u001B[39;00m \u001B[38;5;28;01mawait\u001B[39;00m \u001B[38;5;28mself\u001B[39m\u001B[38;5;241m.\u001B[39m_connection\u001B[38;5;241m.\u001B[39mhandle_async_request(request)\n",
      "File \u001B[0;32m~/.pyenv/versions/3.10.12/envs/MasterThesis-NLP/lib/python3.10/site-packages/httpcore/_async/http11.py:143\u001B[0m, in \u001B[0;36mAsyncHTTP11Connection.handle_async_request\u001B[0;34m(self, request)\u001B[0m\n\u001B[1;32m    142\u001B[0m         \u001B[38;5;28;01mawait\u001B[39;00m \u001B[38;5;28mself\u001B[39m\u001B[38;5;241m.\u001B[39m_response_closed()\n\u001B[0;32m--> 143\u001B[0m \u001B[38;5;28;01mraise\u001B[39;00m exc\n",
      "File \u001B[0;32m~/.pyenv/versions/3.10.12/envs/MasterThesis-NLP/lib/python3.10/site-packages/httpcore/_async/http11.py:113\u001B[0m, in \u001B[0;36mAsyncHTTP11Connection.handle_async_request\u001B[0;34m(self, request)\u001B[0m\n\u001B[1;32m    104\u001B[0m \u001B[38;5;28;01masync\u001B[39;00m \u001B[38;5;28;01mwith\u001B[39;00m Trace(\n\u001B[1;32m    105\u001B[0m     \u001B[38;5;124m\"\u001B[39m\u001B[38;5;124mreceive_response_headers\u001B[39m\u001B[38;5;124m\"\u001B[39m, logger, request, kwargs\n\u001B[1;32m    106\u001B[0m ) \u001B[38;5;28;01mas\u001B[39;00m trace:\n\u001B[1;32m    107\u001B[0m     (\n\u001B[1;32m    108\u001B[0m         http_version,\n\u001B[1;32m    109\u001B[0m         status,\n\u001B[1;32m    110\u001B[0m         reason_phrase,\n\u001B[1;32m    111\u001B[0m         headers,\n\u001B[1;32m    112\u001B[0m         trailing_data,\n\u001B[0;32m--> 113\u001B[0m     ) \u001B[38;5;241m=\u001B[39m \u001B[38;5;28;01mawait\u001B[39;00m \u001B[38;5;28mself\u001B[39m\u001B[38;5;241m.\u001B[39m_receive_response_headers(\u001B[38;5;241m*\u001B[39m\u001B[38;5;241m*\u001B[39mkwargs)\n\u001B[1;32m    114\u001B[0m     trace\u001B[38;5;241m.\u001B[39mreturn_value \u001B[38;5;241m=\u001B[39m (\n\u001B[1;32m    115\u001B[0m         http_version,\n\u001B[1;32m    116\u001B[0m         status,\n\u001B[1;32m    117\u001B[0m         reason_phrase,\n\u001B[1;32m    118\u001B[0m         headers,\n\u001B[1;32m    119\u001B[0m     )\n",
      "File \u001B[0;32m~/.pyenv/versions/3.10.12/envs/MasterThesis-NLP/lib/python3.10/site-packages/httpcore/_async/http11.py:186\u001B[0m, in \u001B[0;36mAsyncHTTP11Connection._receive_response_headers\u001B[0;34m(self, request)\u001B[0m\n\u001B[1;32m    185\u001B[0m \u001B[38;5;28;01mwhile\u001B[39;00m \u001B[38;5;28;01mTrue\u001B[39;00m:\n\u001B[0;32m--> 186\u001B[0m     event \u001B[38;5;241m=\u001B[39m \u001B[38;5;28;01mawait\u001B[39;00m \u001B[38;5;28mself\u001B[39m\u001B[38;5;241m.\u001B[39m_receive_event(timeout\u001B[38;5;241m=\u001B[39mtimeout)\n\u001B[1;32m    187\u001B[0m     \u001B[38;5;28;01mif\u001B[39;00m \u001B[38;5;28misinstance\u001B[39m(event, h11\u001B[38;5;241m.\u001B[39mResponse):\n",
      "File \u001B[0;32m~/.pyenv/versions/3.10.12/envs/MasterThesis-NLP/lib/python3.10/site-packages/httpcore/_async/http11.py:224\u001B[0m, in \u001B[0;36mAsyncHTTP11Connection._receive_event\u001B[0;34m(self, timeout)\u001B[0m\n\u001B[1;32m    223\u001B[0m \u001B[38;5;28;01mif\u001B[39;00m event \u001B[38;5;129;01mis\u001B[39;00m h11\u001B[38;5;241m.\u001B[39mNEED_DATA:\n\u001B[0;32m--> 224\u001B[0m     data \u001B[38;5;241m=\u001B[39m \u001B[38;5;28;01mawait\u001B[39;00m \u001B[38;5;28mself\u001B[39m\u001B[38;5;241m.\u001B[39m_network_stream\u001B[38;5;241m.\u001B[39mread(\n\u001B[1;32m    225\u001B[0m         \u001B[38;5;28mself\u001B[39m\u001B[38;5;241m.\u001B[39mREAD_NUM_BYTES, timeout\u001B[38;5;241m=\u001B[39mtimeout\n\u001B[1;32m    226\u001B[0m     )\n\u001B[1;32m    228\u001B[0m     \u001B[38;5;66;03m# If we feed this case through h11 we'll raise an exception like:\u001B[39;00m\n\u001B[1;32m    229\u001B[0m     \u001B[38;5;66;03m#\u001B[39;00m\n\u001B[1;32m    230\u001B[0m     \u001B[38;5;66;03m#     httpcore.RemoteProtocolError: can't handle event type\u001B[39;00m\n\u001B[0;32m   (...)\u001B[0m\n\u001B[1;32m    234\u001B[0m     \u001B[38;5;66;03m# perspective. Instead we handle this case distinctly and treat\u001B[39;00m\n\u001B[1;32m    235\u001B[0m     \u001B[38;5;66;03m# it as a ConnectError.\u001B[39;00m\n",
      "File \u001B[0;32m~/.pyenv/versions/3.10.12/envs/MasterThesis-NLP/lib/python3.10/site-packages/httpcore/_backends/anyio.py:35\u001B[0m, in \u001B[0;36mAnyIOStream.read\u001B[0;34m(self, max_bytes, timeout)\u001B[0m\n\u001B[1;32m     34\u001B[0m \u001B[38;5;28;01mtry\u001B[39;00m:\n\u001B[0;32m---> 35\u001B[0m     \u001B[38;5;28;01mreturn\u001B[39;00m \u001B[38;5;28;01mawait\u001B[39;00m \u001B[38;5;28mself\u001B[39m\u001B[38;5;241m.\u001B[39m_stream\u001B[38;5;241m.\u001B[39mreceive(max_bytes\u001B[38;5;241m=\u001B[39mmax_bytes)\n\u001B[1;32m     36\u001B[0m \u001B[38;5;28;01mexcept\u001B[39;00m anyio\u001B[38;5;241m.\u001B[39mEndOfStream:  \u001B[38;5;66;03m# pragma: nocover\u001B[39;00m\n",
      "File \u001B[0;32m~/.pyenv/versions/3.10.12/envs/MasterThesis-NLP/lib/python3.10/site-packages/anyio/_backends/_asyncio.py:1123\u001B[0m, in \u001B[0;36mSocketStream.receive\u001B[0;34m(self, max_bytes)\u001B[0m\n\u001B[1;32m   1122\u001B[0m \u001B[38;5;28mself\u001B[39m\u001B[38;5;241m.\u001B[39m_transport\u001B[38;5;241m.\u001B[39mresume_reading()\n\u001B[0;32m-> 1123\u001B[0m \u001B[38;5;28;01mawait\u001B[39;00m \u001B[38;5;28mself\u001B[39m\u001B[38;5;241m.\u001B[39m_protocol\u001B[38;5;241m.\u001B[39mread_event\u001B[38;5;241m.\u001B[39mwait()\n\u001B[1;32m   1124\u001B[0m \u001B[38;5;28mself\u001B[39m\u001B[38;5;241m.\u001B[39m_transport\u001B[38;5;241m.\u001B[39mpause_reading()\n",
      "File \u001B[0;32m~/.pyenv/versions/3.10.12/lib/python3.10/asyncio/locks.py:214\u001B[0m, in \u001B[0;36mEvent.wait\u001B[0;34m(self)\u001B[0m\n\u001B[1;32m    213\u001B[0m \u001B[38;5;28;01mtry\u001B[39;00m:\n\u001B[0;32m--> 214\u001B[0m     \u001B[38;5;28;01mawait\u001B[39;00m fut\n\u001B[1;32m    215\u001B[0m     \u001B[38;5;28;01mreturn\u001B[39;00m \u001B[38;5;28;01mTrue\u001B[39;00m\n",
      "\u001B[0;31mCancelledError\u001B[0m: ",
      "\nDuring handling of the above exception, another exception occurred:\n",
      "\u001B[0;31mCancelledError\u001B[0m                            Traceback (most recent call last)",
      "Cell \u001B[0;32mIn[12], line 1\u001B[0m\n\u001B[0;32m----> 1\u001B[0m \u001B[38;5;28;01mawait\u001B[39;00m prompt_dataset(test_set, default_experiment)\n",
      "Cell \u001B[0;32mIn[10], line 60\u001B[0m, in \u001B[0;36mprompt_dataset\u001B[0;34m(dataset, experiment, batch_size, warm_up, checkpoint_dir)\u001B[0m\n\u001B[1;32m     57\u001B[0m     json\u001B[38;5;241m.\u001B[39mdump(current_batch, f)\n\u001B[1;32m     59\u001B[0m \u001B[38;5;28;01mfor\u001B[39;00m i \u001B[38;5;129;01min\u001B[39;00m tqdm(\u001B[38;5;28mrange\u001B[39m(warm_up, \u001B[38;5;28mlen\u001B[39m(dataset), batch_size)):\n\u001B[0;32m---> 60\u001B[0m     current_batch \u001B[38;5;241m=\u001B[39m \u001B[38;5;28;01mawait\u001B[39;00m asyncio\u001B[38;5;241m.\u001B[39mgather(\u001B[38;5;241m*\u001B[39mtasks[i:i \u001B[38;5;241m+\u001B[39m batch_size])\n\u001B[1;32m     61\u001B[0m     responses\u001B[38;5;241m.\u001B[39mappend(current_batch)\n\u001B[1;32m     62\u001B[0m     \u001B[38;5;28;01mwith\u001B[39;00m \u001B[38;5;28mopen\u001B[39m(\u001B[38;5;124mf\u001B[39m\u001B[38;5;124m\"\u001B[39m\u001B[38;5;132;01m{\u001B[39;00mcheckpoint_dir\u001B[38;5;132;01m}\u001B[39;00m\u001B[38;5;124m/\u001B[39m\u001B[38;5;132;01m{\u001B[39;00mprefix\u001B[38;5;132;01m}\u001B[39;00m\u001B[38;5;124m_\u001B[39m\u001B[38;5;132;01m{\u001B[39;00mi\u001B[38;5;132;01m}\u001B[39;00m\u001B[38;5;124m.json\u001B[39m\u001B[38;5;124m\"\u001B[39m, \u001B[38;5;124m\"\u001B[39m\u001B[38;5;124mw\u001B[39m\u001B[38;5;124m\"\u001B[39m) \u001B[38;5;28;01mas\u001B[39;00m f:\n",
      "\u001B[0;31mCancelledError\u001B[0m: "
     ]
    }
   ],
   "execution_count": 12,
   "source": [
    "responses = await prompt_dataset(test_set, \"test\", default_experiment)\n",
    "test_set.add_column(\"gt\", responses)\n",
    "test_set.to_parquet(f\"{output_path}test.parquet\")\n",
    "\n",
    "responses = await prompt_dataset(val_set, \"val\", default_experiment)\n",
    "val_set.add_column(\"gt\", responses)\n",
    "val_set.to_parquet(f\"{output_path}val.parquet\")\n",
    "\n",
    "\n",
    "responses = await prompt_dataset(train_set, \"train\", default_experiment)\n",
    "train_set.add_column(\"gt\", responses)\n",
    "train_set.to_parquet(f\"{output_path}train.parquet\")"
   ],
   "id": "feee5a0c0b270030"
  },
  {
   "metadata": {
    "ExecuteTime": {
     "end_time": "2024-08-04T20:39:03.395788Z",
     "start_time": "2024-08-04T20:39:03.130402Z"
    }
   },
   "cell_type": "code",
   "source": [
    "default_experiment = Experiment(system_prompt=[\n",
    "    \"Du bist ein Definitionsgenerator. \"\n",
    "    \"Du antwortest in Deutsch. \"\n",
    "    \"Du bekommst einen Beispielsatz und ein Wort aus dem Satz. \"\n",
    "    \"Du antwortest mit der Definition des Wortes im Kontext des Satzes. \"\n",
    "    \"Du antwortest nur mit der Definition. \"\n",
    "    \"Du zeigst den Bezug auf den Kontext. \"\n",
    "    \"Du antwortest in maximal 10 Worten. \"\n",
    "    # \"Du antwortest so detailiert wie nötig. \"\n",
    "],\n",
    "    question_prompt=\"%s: Was ist in diesem Kontext die Definition von %s?\",\n",
    "    example_prompts=[\n",
    "        (\"Die Liebe überwindet alle Grenzen\",\n",
    "         \"Liebe\",\n",
    "         \"inniges Gefühl der Zuneigung für jemanden oder für etwas\"),\n",
    "    ])\n",
    "\n",
    "data = {\n",
    "    'context_word': \"Pferdewurst\",\n",
    "    'context_sentence': \"\\\"Dort liegt zwischen den Steinproben eine dicke rote Wurst - Pferdewurst, ein Geschenk Watzeks, der sie morgens für mich hinterlassen hat.\\\"\",\n",
    "}\n",
    "\n",
    "\n",
    "await async_prompt(data, default_experiment)"
   ],
   "id": "72fff16b11505e0e",
   "outputs": [
    {
     "data": {
      "text/plain": [
       "'typischer deutscher Wurstsort, aus Pferdemuskel hergestellt'"
      ]
     },
     "execution_count": 18,
     "metadata": {},
     "output_type": "execute_result"
    }
   ],
   "execution_count": 18
  },
  {
   "metadata": {},
   "cell_type": "code",
   "outputs": [],
   "execution_count": null,
   "source": "\"Dort liegt zwischen den Steinproben eine dicke rote Wurst - Pferdewurst, ein Geschenk Watzeks, der sie morgens für mich hinterlassen hat.\": Was ist die Definition von Pferdewurst?",
   "id": "70abc82f1e23b5b0"
  },
  {
   "metadata": {
    "ExecuteTime": {
     "end_time": "2024-07-31T00:03:03.161447Z",
     "start_time": "2024-07-31T00:03:03.157049Z"
    }
   },
   "cell_type": "code",
   "source": [
    "Du bist ein Definitionsgenerator.  \n",
    "Du antwortest in Deutsch. \n",
    "Du bekommst einen Beispielsatz und ein Wort aus dem Satz.\n",
    "Du antwortest mit der Definition des Wortes im Kontext des Satzes.\n",
    "Du antwortest nur mit der Definition. \n",
    "Du zeigst den Bezug auf den Kontext.\n",
    "Du antwortest in maximal 10 Worten. \n"
   ],
   "id": "7992b4e6dfc9f4b",
   "outputs": [
    {
     "data": {
      "text/plain": [
       "{'title': ['Hallo',\n",
       "  'Hallo',\n",
       "  'Hallo',\n",
       "  'Litschi',\n",
       "  'pittoresk',\n",
       "  'pittoresk',\n",
       "  'pittoresk',\n",
       "  'pittoresk',\n",
       "  'Gelb',\n",
       "  'Gelb',\n",
       "  'Gelb',\n",
       "  'Gelb',\n",
       "  'Gelb',\n",
       "  'Gelb',\n",
       "  'Gelb',\n",
       "  'Gelb',\n",
       "  'Gelb',\n",
       "  'Gelb',\n",
       "  'Gelb',\n",
       "  'Gelb',\n",
       "  'Wort',\n",
       "  'Wort',\n",
       "  'Wort',\n",
       "  'Wort',\n",
       "  'Wort',\n",
       "  'Wort',\n",
       "  'Wort',\n",
       "  'Wort',\n",
       "  'Wort',\n",
       "  'Wort',\n",
       "  'Wort',\n",
       "  'Wort'],\n",
       " 'context_word': ['Hallo',\n",
       "  'Hallos',\n",
       "  'Hallo',\n",
       "  'Litschi',\n",
       "  'pittoresken',\n",
       "  'pittoreskesten',\n",
       "  'pittoresk',\n",
       "  'pittoresker',\n",
       "  'Gelb',\n",
       "  'Gelb',\n",
       "  'Gelb',\n",
       "  'Gelb',\n",
       "  'Gelb',\n",
       "  'Gelb',\n",
       "  'Gelb',\n",
       "  'Gelb',\n",
       "  'Gelb',\n",
       "  'Gelb',\n",
       "  'Gelb',\n",
       "  'Gelb',\n",
       "  'Wörter',\n",
       "  'Wörtern',\n",
       "  'Wort',\n",
       "  'Wort',\n",
       "  'Wörter',\n",
       "  'Wörter',\n",
       "  'Wort',\n",
       "  'Wort',\n",
       "  'Wort',\n",
       "  'Wort',\n",
       "  'Wort',\n",
       "  'Wort'],\n",
       " 'context_sentence': ['Als er die Treppe hinaufkam, wurde er mit großem Hallo empfangen',\n",
       "  '\"Da gab es keine Möglichkeit, mich von vielen Leuten (...) zu verabschieden. Deswegen wird es jetzt ein Tag des großen Hallos und des offiziellen Abschieds werden.\"',\n",
       "  '\"Es macht puff und die Kühe fallen um und die kleinen Häuser und Bäume. Da ist dann immer ein großes Hallo und viel Spaß.\"',\n",
       "  'Die Heimat der Litschi ist Südasien',\n",
       "  'Die kleine Stadt mit ihrem Labyrinth enger Straßen und ihren alten Häusern macht einen pittoresken Eindruck',\n",
       "  'Wir waren in dem pittoreskesten Dorf der ganzen Umgebung gelandet',\n",
       "  '\"Diese Stadt soll sehr pittoresk sein.\"',\n",
       "  '\"Das Schiff versank in pittoresker Weise mit dem Bug voran, das Heck erhob sich hoch aus dem Wasser, derweil der Rumpf lotrecht zum Grund des Meeres schoss.\"',\n",
       "  'Mir gefällt das strahlende Gelb der Blumen',\n",
       "  'Das Auto fuhr schnell bei Gelb über die Kreuzung',\n",
       "  'Meyer sah Gelb',\n",
       "  'Der Kleine mag nur das Gelb',\n",
       "  '\"Wer aß denn Eier ohne das Gelb? Das Eigelb war doch der beste Teil.\"',\n",
       "  '\"Wie mögen Sie das Eigelb? Sie entscheiden, wann Sie die Eier herausnehmen. Am besten schmeckt es, wenn das Gelb noch flüssig ist.\"',\n",
       "  '\"Man schlage in das Gelb von 1 Ei einen Eßlöffel von Zucker hinein, gieße darüber ⅔ Tasse heißes Wasser [...].\"',\n",
       "  '\"Die weiße Schale und das Gelb glitten abwärts. Noch ein Ei klatschte an die Fassade [...].\"',\n",
       "  '\"Warten bis die Butter zerlaufen ist und leicht schäumt, oder der Speck glasig wird. Dann das Ei aus der Tasse vorsichtig in die Pfanne geben und braten bis das Eiweiß weiß wird, aber das Gelb noch weich ist.\"',\n",
       "  'Herr Gelb ist als Kaninchenzüchter erfolgreich',\n",
       "  'Herr Gelb heiratet im September auf Hawaii',\n",
       "  'Frau Gelb liebt es, an Weihnachten Plätzchen zu backen',\n",
       "  'Wörter kann man zählen, nach Worten muss man ringen',\n",
       "  'Sätze bestehen aus Wörtern',\n",
       "  '\"Mit Selbstverständlichkeit erlernt der Sprecher das Wort als Grundeinheit der Sprache, als Benennungseinheit, Bedeutungseinheit und Träger zusätzlicher Informationen.\"',\n",
       "  '\"Hier soll unter Wort verstanden werden ein selbständiges Element einer sprachlichen Äußerung, das nicht aus anderen selbständigen Elementen besteht.\"',\n",
       "  '\"Alle Wörter einer Wortart haben eine bestimmte Art der Bedeutung.\"',\n",
       "  '\"Wörter und Wortgruppen, die als Zitate aus einer fremden Sprache angesehen werden, bleiben in der Schreibung meist völlig unverändert <A O (3.1) a>.\"',\n",
       "  '\"Gruppen von 2, 4, oder 8 Bytes werden auch als Wort (2 Bytes), Doppelwort (4 Bytes) bzw. Langwort (8 Bytes) bezeichnet.\" (aus: \"Bytes, Worte und Dateien\")',\n",
       "  '\"Neben den üblichen Bezeichnungen verwenden einige Hersteller andere Bezeichnungen. So bezeichnen sie Wortlängen von 16 Bit als Halbwort, 32 Bit als Wort und 64 Bit Wortlänge als Doppelwort.\"',\n",
       "  '\"Bei den Gleitkommazahlen hat man die beiden Varianten von einfacher und doppelter Genauigkeit [...], die als Wort oder als Doppelwort gespeichert werden.\"',\n",
       "  '\"Direkt zugreifbar im Speicher sind das Byte, das Wort und das Doppelwort, wobei sich deren Adressen, unabhängig von den Datenformaten, üblicherweise auf Bytegrenzen beziehen.\"',\n",
       "  'Das war ein \"Geflügeltes Wort\"',\n",
       "  'In Wort und Musik zu Gehör bringen'],\n",
       " 'wiktionary_gt': ['lautes Rufen; fröhliches, lautes Durcheinander',\n",
       "  'lautes Rufen; fröhliches, lautes Durcheinander',\n",
       "  'lautes Rufen; fröhliches, lautes Durcheinander',\n",
       "  'chinesische Pflanze aus der Familie der Sapindaceae',\n",
       "  'bildungssprachlich: wie von einem Maler gemalt',\n",
       "  'bildungssprachlich: wie von einem Maler gemalt',\n",
       "  'bildungssprachlich: wie von einem Maler gemalt',\n",
       "  'bildungssprachlich: wie von einem Maler gemalt',\n",
       "  'gelber Farbton; ein bestimmter Abschnitt des sichtbaren Lichts im Spektrum der elektromagnetischen Wellen; Malfarbe, Streichfarbe',\n",
       "  'Ampelphase, bei der gelbes Licht angezeigt wird',\n",
       "  'kurz für: Gelbe Karte',\n",
       "  'kurz für: Eigelb',\n",
       "  'kurz für: Eigelb',\n",
       "  'kurz für: Eigelb',\n",
       "  'kurz für: Eigelb',\n",
       "  'kurz für: Eigelb',\n",
       "  'kurz für: Eigelb',\n",
       "  'deutscher Nachname, Familienname',\n",
       "  'deutscher Nachname, Familienname',\n",
       "  'deutscher Nachname, Familienname',\n",
       "  'Linguistik: kleinste, eine selbstständige Bedeutung tragende Einheit der Sprache, eine grammatische Einheit',\n",
       "  'Linguistik: kleinste, eine selbstständige Bedeutung tragende Einheit der Sprache, eine grammatische Einheit',\n",
       "  'Linguistik: kleinste, eine selbstständige Bedeutung tragende Einheit der Sprache, eine grammatische Einheit',\n",
       "  'Linguistik: kleinste, eine selbstständige Bedeutung tragende Einheit der Sprache, eine grammatische Einheit',\n",
       "  'Linguistik: kleinste, eine selbstständige Bedeutung tragende Einheit der Sprache, eine grammatische Einheit',\n",
       "  'Linguistik: kleinste, eine selbstständige Bedeutung tragende Einheit der Sprache, eine grammatische Einheit',\n",
       "  'Programmiersprachen, Rechnerarchitektur: als Einheit betrachtete Kette nebeneinanderliegender Bits / Bytes in definierter Länge',\n",
       "  'Programmiersprachen, Rechnerarchitektur: als Einheit betrachtete Kette nebeneinanderliegender Bits / Bytes in definierter Länge',\n",
       "  'Programmiersprachen, Rechnerarchitektur: als Einheit betrachtete Kette nebeneinanderliegender Bits / Bytes in definierter Länge',\n",
       "  'Programmiersprachen, Rechnerarchitektur: als Einheit betrachtete Kette nebeneinanderliegender Bits / Bytes in definierter Länge',\n",
       "  'eine (aus Wörtern gebildete) sinnvolle Aussage: Zitat, Sinnspruch, Aussage, Ausspruch, Aphorismus, Aperçu',\n",
       "  'Wortlaut, Liedtext'],\n",
       " 'prompt': ['Als er die Treppe hinaufkam, wurde er mit großem Hallo empfangen Was ist die Definition von Hallo? ',\n",
       "  '\"Da gab es keine Möglichkeit, mich von vielen Leuten (...) zu verabschieden. Deswegen wird es jetzt ein Tag des großen Hallos und des offiziellen Abschieds werden.\" Was ist die Definition von Hallos? ',\n",
       "  '\"Es macht puff und die Kühe fallen um und die kleinen Häuser und Bäume. Da ist dann immer ein großes Hallo und viel Spaß.\" Was ist die Definition von Hallo? ',\n",
       "  'Die Heimat der Litschi ist Südasien Was ist die Definition von Litschi? ',\n",
       "  'Die kleine Stadt mit ihrem Labyrinth enger Straßen und ihren alten Häusern macht einen pittoresken Eindruck Was ist die Definition von pittoresken? ',\n",
       "  'Wir waren in dem pittoreskesten Dorf der ganzen Umgebung gelandet Was ist die Definition von pittoreskesten? ',\n",
       "  '\"Diese Stadt soll sehr pittoresk sein.\" Was ist die Definition von pittoresk? ',\n",
       "  '\"Das Schiff versank in pittoresker Weise mit dem Bug voran, das Heck erhob sich hoch aus dem Wasser, derweil der Rumpf lotrecht zum Grund des Meeres schoss.\" Was ist die Definition von pittoresker? ',\n",
       "  'Mir gefällt das strahlende Gelb der Blumen Was ist die Definition von Gelb? ',\n",
       "  'Das Auto fuhr schnell bei Gelb über die Kreuzung Was ist die Definition von Gelb? ',\n",
       "  'Meyer sah Gelb Was ist die Definition von Gelb? ',\n",
       "  'Der Kleine mag nur das Gelb Was ist die Definition von Gelb? ',\n",
       "  '\"Wer aß denn Eier ohne das Gelb? Das Eigelb war doch der beste Teil.\" Was ist die Definition von Gelb? ',\n",
       "  '\"Wie mögen Sie das Eigelb? Sie entscheiden, wann Sie die Eier herausnehmen. Am besten schmeckt es, wenn das Gelb noch flüssig ist.\" Was ist die Definition von Gelb? ',\n",
       "  '\"Man schlage in das Gelb von 1 Ei einen Eßlöffel von Zucker hinein, gieße darüber ⅔ Tasse heißes Wasser [...].\" Was ist die Definition von Gelb? ',\n",
       "  '\"Die weiße Schale und das Gelb glitten abwärts. Noch ein Ei klatschte an die Fassade [...].\" Was ist die Definition von Gelb? ',\n",
       "  '\"Warten bis die Butter zerlaufen ist und leicht schäumt, oder der Speck glasig wird. Dann das Ei aus der Tasse vorsichtig in die Pfanne geben und braten bis das Eiweiß weiß wird, aber das Gelb noch weich ist.\" Was ist die Definition von Gelb? ',\n",
       "  'Herr Gelb ist als Kaninchenzüchter erfolgreich Was ist die Definition von Gelb? ',\n",
       "  'Herr Gelb heiratet im September auf Hawaii Was ist die Definition von Gelb? ',\n",
       "  'Frau Gelb liebt es, an Weihnachten Plätzchen zu backen Was ist die Definition von Gelb? ',\n",
       "  'Wörter kann man zählen, nach Worten muss man ringen Was ist die Definition von Wörter? ',\n",
       "  'Sätze bestehen aus Wörtern Was ist die Definition von Wörtern? ',\n",
       "  '\"Mit Selbstverständlichkeit erlernt der Sprecher das Wort als Grundeinheit der Sprache, als Benennungseinheit, Bedeutungseinheit und Träger zusätzlicher Informationen.\" Was ist die Definition von Wort? ',\n",
       "  '\"Hier soll unter Wort verstanden werden ein selbständiges Element einer sprachlichen Äußerung, das nicht aus anderen selbständigen Elementen besteht.\" Was ist die Definition von Wort? ',\n",
       "  '\"Alle Wörter einer Wortart haben eine bestimmte Art der Bedeutung.\" Was ist die Definition von Wörter? ',\n",
       "  '\"Wörter und Wortgruppen, die als Zitate aus einer fremden Sprache angesehen werden, bleiben in der Schreibung meist völlig unverändert <A O (3.1) a>.\" Was ist die Definition von Wörter? ',\n",
       "  '\"Gruppen von 2, 4, oder 8 Bytes werden auch als Wort (2 Bytes), Doppelwort (4 Bytes) bzw. Langwort (8 Bytes) bezeichnet.\" (aus: \"Bytes, Worte und Dateien\") Was ist die Definition von Wort? ',\n",
       "  '\"Neben den üblichen Bezeichnungen verwenden einige Hersteller andere Bezeichnungen. So bezeichnen sie Wortlängen von 16 Bit als Halbwort, 32 Bit als Wort und 64 Bit Wortlänge als Doppelwort.\" Was ist die Definition von Wort? ',\n",
       "  '\"Bei den Gleitkommazahlen hat man die beiden Varianten von einfacher und doppelter Genauigkeit [...], die als Wort oder als Doppelwort gespeichert werden.\" Was ist die Definition von Wort? ',\n",
       "  '\"Direkt zugreifbar im Speicher sind das Byte, das Wort und das Doppelwort, wobei sich deren Adressen, unabhängig von den Datenformaten, üblicherweise auf Bytegrenzen beziehen.\" Was ist die Definition von Wort? ',\n",
       "  'Das war ein \"Geflügeltes Wort\" Was ist die Definition von Wort? ',\n",
       "  'In Wort und Musik zu Gehör bringen Was ist die Definition von Wort? ']}"
      ]
     },
     "execution_count": 32,
     "metadata": {},
     "output_type": "execute_result"
    }
   ],
   "execution_count": 32
  }
 ],
 "metadata": {
  "kernelspec": {
   "display_name": "Python 3 (ipykernel)",
   "language": "python",
   "name": "python3"
  },
  "language_info": {
   "codemirror_mode": {
    "name": "ipython",
    "version": 3
   },
   "file_extension": ".py",
   "mimetype": "text/x-python",
   "name": "python",
   "nbconvert_exporter": "python",
   "pygments_lexer": "ipython3",
   "version": "3.10.12"
  }
 },
 "nbformat": 4,
 "nbformat_minor": 5
}
