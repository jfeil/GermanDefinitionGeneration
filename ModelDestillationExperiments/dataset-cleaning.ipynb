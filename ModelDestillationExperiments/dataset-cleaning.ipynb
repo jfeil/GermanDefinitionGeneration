{
 "cells": [
  {
   "cell_type": "code",
   "id": "initial_id",
   "metadata": {
    "collapsed": true,
    "ExecuteTime": {
     "end_time": "2024-05-21T15:18:48.887614Z",
     "start_time": "2024-05-21T15:18:48.869593Z"
    }
   },
   "source": [
    "%load_ext autoreload\n",
    "%autoreload 2"
   ],
   "outputs": [],
   "execution_count": 1
  },
  {
   "metadata": {
    "ExecuteTime": {
     "end_time": "2024-05-21T15:25:05.747600Z",
     "start_time": "2024-05-21T15:25:05.712439Z"
    }
   },
   "cell_type": "code",
   "source": [
    "import sys\n",
    "\n",
    "sys.path.insert(0, '../')\n",
    "from src.mongo_utils import collection, create_set\n",
    "from src.utils import sanitize_context\n",
    "import regex as re"
   ],
   "id": "2619df7871b58ed2",
   "outputs": [],
   "execution_count": 28
  },
  {
   "metadata": {
    "ExecuteTime": {
     "end_time": "2024-05-21T15:18:53.282718Z",
     "start_time": "2024-05-21T15:18:53.261258Z"
    }
   },
   "cell_type": "code",
   "source": [
    "def get_all_entries():\n",
    "    query = {\"$and\": [{\"beispiele\": {\"$exists\": True}}, {\"bedeutungen\": {\"$exists\": True}}]}\n",
    "\n",
    "    # Retrieving documents that match the query\n",
    "    return collection.find(query)"
   ],
   "id": "ac5a5c2bf177b8f6",
   "outputs": [],
   "execution_count": 3
  },
  {
   "metadata": {
    "ExecuteTime": {
     "end_time": "2024-05-21T15:18:56.696559Z",
     "start_time": "2024-05-21T15:18:53.440851Z"
    }
   },
   "cell_type": "code",
   "source": [
    "test = get_all_entries()\n",
    "test = list(test)"
   ],
   "id": "8562e95a11803f0c",
   "outputs": [],
   "execution_count": 4
  },
  {
   "metadata": {
    "ExecuteTime": {
     "end_time": "2024-05-21T15:32:12.936272Z",
     "start_time": "2024-05-21T15:32:12.911479Z"
    }
   },
   "cell_type": "code",
   "source": [
    "def evaluate_sets(sets):\n",
    "    def compare_words(words):\n",
    "        # Check if all words in the list are the same\n",
    "        if len(words) < 2:\n",
    "            return True  # If there's only one word or none, they are considered \"equal\"\n",
    "        first_word = words[0]\n",
    "        return all(word == first_word for word in words)\n",
    "    \n",
    "    complain_data = []\n",
    "    for title, context_word, context_sentence, gt in sets:\n",
    "        complain = False\n",
    "        if context_word and re.match(\"[^\\p{L}]\", context_word):\n",
    "            if title != context_word:\n",
    "                complain = True\n",
    "        extracted_context = re.findall(r\"''(.*?)''\", context_sentence)\n",
    "        extracted_context = [sanitize_context(i) for i in extracted_context]\n",
    "        a = []\n",
    "        for x in extracted_context:\n",
    "            if not re.match(r\"\\[\\[(.*?)\\]\\]\", x):\n",
    "                a.append(x.strip())\n",
    "        extracted_context = a\n",
    "        if len(extracted_context) > 1 and context_word is not None:\n",
    "            if not compare_words(extracted_context) and context_word != extracted_context[0]:\n",
    "                complain = True\n",
    "            \n",
    "        if complain:\n",
    "            complain_data.append(\n",
    "                [title, context_word, context_sentence, gt]\n",
    "            )\n",
    "        \n",
    "    return complain_data"
   ],
   "id": "6c58e03ea5bad199",
   "outputs": [],
   "execution_count": 37
  },
  {
   "metadata": {
    "jupyter": {
     "is_executing": true
    },
    "ExecuteTime": {
     "start_time": "2024-05-21T15:40:45.811935Z"
    }
   },
   "cell_type": "code",
   "source": [
    "from pprint import pprint\n",
    "\n",
    "complaints = []\n",
    "for a in test[:]:\n",
    "    complaints += evaluate_sets(create_set(a))\n",
    "pprint(complaints)\n",
    "print(len(complaints))"
   ],
   "id": "794f1d97690b6abe",
   "outputs": [],
   "execution_count": null
  },
  {
   "metadata": {
    "ExecuteTime": {
     "end_time": "2024-05-21T15:36:34.178183Z",
     "start_time": "2024-05-21T15:36:34.156182Z"
    }
   },
   "cell_type": "code",
   "source": "len(complaints)",
   "id": "a9cb0002ad90b990",
   "outputs": [
    {
     "data": {
      "text/plain": [
       "282"
      ]
     },
     "execution_count": 41,
     "metadata": {},
     "output_type": "execute_result"
    }
   ],
   "execution_count": 41
  },
  {
   "metadata": {
    "ExecuteTime": {
     "end_time": "2024-05-21T14:48:59.503697Z",
     "start_time": "2024-05-21T14:48:59.497213Z"
    }
   },
   "cell_type": "code",
   "source": "create_set(a)",
   "id": "c98542184c12025c",
   "outputs": [
    {
     "data": {
      "text/plain": [
       "[('Sonntag',\n",
       "  'Sonntag',\n",
       "  \"Neuere Arbeitsgesetze lassen für den ''Sonntag'' wieder mehr und mehr Ausnahmen zu.\",\n",
       "  'Wochentag zwischen Samstag und Montag'),\n",
       " ('Sonntag',\n",
       "  'Sonntag',\n",
       "  \"„Es ist ''Sonntag'' gewesen, und nun ist es Montag geworden, auch in Altholm.“\",\n",
       "  'Wochentag zwischen Samstag und Montag'),\n",
       " ('Sonntag',\n",
       "  'Sonntag',\n",
       "  \"„In den Abstimmungen vom ''Sonntag'' unterstützen alle drei Standortgemeinden dieses Alternativkonzept und erteilen dem Projekt des Bundes für einen Business-Flugplatz eine Absage.“\",\n",
       "  'Wochentag zwischen Samstag und Montag'),\n",
       " ('Sonntag',\n",
       "  'Sonntag',\n",
       "  \"„Zu gefährlichen Jagdszenen in der Luft kam es am ''Sonntag'' über Oberammergau. Ein Gleitschirmpilot befand sich im Anflug auf einen Oberammergauer Landeplatz, als ihn das ferngesteuerte Flugobjekt fast zum Absturz brachte.“\",\n",
       "  'Wochentag zwischen Samstag und Montag'),\n",
       " ('Sonntag',\n",
       "  'Sonntag',\n",
       "  \"„In Frankreich wurden Berichten zufolge am ''Sonntag'' die Leichen von drei Kajakfahrern gefunden.“\",\n",
       "  'Wochentag zwischen Samstag und Montag'),\n",
       " ('Sonntag',\n",
       "  'Sonntag',\n",
       "  \"''Sonntag'' liegt in Vorarlberg, im Bezirk Bludenz auf 888 Metern Höhe.\",\n",
       "  'Gemeinde in Österreich'),\n",
       " ('Sonntag',\n",
       "  'Sonntag',\n",
       "  \"Der Ortskern von ''Sonntag'' gefällt mir gut.\",\n",
       "  'Gemeinde in Österreich'),\n",
       " ('Sonntag', 'Sonntag', \"Frau ''Sonntag'' ist nett.\", 'Familienname'),\n",
       " ('Sonntag',\n",
       "  'Sonntags',\n",
       "  \"Wir sind heute Abend bei ''Sonntags'' eingeladen.\",\n",
       "  'Familienname'),\n",
       " ('Sonntag', None, \"''die Sonntags'' von nebenan\", 'Familienname')]"
      ]
     },
     "execution_count": 6,
     "metadata": {},
     "output_type": "execute_result"
    }
   ],
   "execution_count": 6
  }
 ],
 "metadata": {
  "kernelspec": {
   "display_name": "Python 3",
   "language": "python",
   "name": "python3"
  },
  "language_info": {
   "codemirror_mode": {
    "name": "ipython",
    "version": 2
   },
   "file_extension": ".py",
   "mimetype": "text/x-python",
   "name": "python",
   "nbconvert_exporter": "python",
   "pygments_lexer": "ipython2",
   "version": "2.7.6"
  }
 },
 "nbformat": 4,
 "nbformat_minor": 5
}
