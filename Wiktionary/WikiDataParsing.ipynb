{
 "cells": [
  {
   "cell_type": "code",
   "id": "746a3174-a213-4d24-bd08-8fcd4c1f5fe3",
   "metadata": {
    "ExecuteTime": {
     "end_time": "2024-04-08T10:20:21.969222Z",
     "start_time": "2024-04-08T10:20:21.948717Z"
    }
   },
   "source": [
    "%load_ext autoreload\n",
    "%autoreload 2"
   ],
   "execution_count": 1,
   "outputs": []
  },
  {
   "metadata": {
    "ExecuteTime": {
     "end_time": "2024-04-08T10:20:23.487632Z",
     "start_time": "2024-04-08T10:20:22.747407Z"
    }
   },
   "cell_type": "code",
   "source": [
    "import mwxml\n",
    "from src.mongo_utils import collection, extract_content\n",
    "from tqdm.notebook import tqdm"
   ],
   "id": "7f7d1bffe3d7d4c",
   "execution_count": 2,
   "outputs": []
  },
  {
   "cell_type": "code",
   "id": "81a21cc3-d692-4869-94f7-a31040f660a6",
   "metadata": {
    "ExecuteTime": {
     "end_time": "2024-04-08T10:35:36.198297Z",
     "start_time": "2024-04-08T10:20:25.889155Z"
    }
   },
   "source": [
    "def extract_text(page):\n",
    "    \"\"\"Extracts the text content from a MediaWiki page.\"\"\"\n",
    "    for revision in page:\n",
    "        if hasattr(revision, 'text') and revision.text is not None:\n",
    "            return revision.text\n",
    "        elif hasattr(revision, 'slots') and 'main' in revision.slots:\n",
    "            return revision.slots['main'].text\n",
    "\n",
    "def process_dump(xml_dump_path):\n",
    "    dump = mwxml.Dump.from_file(open(xml_dump_path, 'rb'))\n",
    "\n",
    "    for page in tqdm(dump):\n",
    "        text = extract_text(page)\n",
    "        if text:\n",
    "            article_data = {\n",
    "                'title': page.title,\n",
    "                'text': text\n",
    "            }\n",
    "            collection.insert_one(article_data)\n",
    "\n",
    "xml_dump_path = \"dewiktionary-20240101-pages-articles.xml\"\n",
    "\n",
    "process_dump(xml_dump_path)"
   ],
   "execution_count": 3,
   "outputs": []
  },
  {
   "cell_type": "code",
   "execution_count": 27,
   "id": "0cab1788-125a-410d-b445-904b0cf4c08f",
   "metadata": {},
   "source": [
    "import re\n",
    "from collections import defaultdict\n",
    "\n",
    "def get_entries(text, token):\n",
    "    if token not in text:\n",
    "        return []\n",
    "    search_token = '{{' + token + '}}'\n",
    "    \n",
    "    m = re.search(search_token+'\\s*:(.*?)(?=\\n{{[^{}]+}}|\\Z)', text, re.DOTALL)\n",
    "    if not m:\n",
    "        return []\n",
    "    m = m.group()\n",
    "    m = m.replace(search_token+'\\n', '')\n",
    "    lines = list(filter(lambda item: item.strip(), m.split(\"\\n\")))\n",
    "    return lines\n",
    "\n",
    "def extract_entries(entries):\n",
    "    curr_id = -1\n",
    "    bedeutungen = defaultdict(lambda: [])\n",
    "    for i, line in enumerate(entries):\n",
    "        if re.search('{{Beispiele fehlen.*}}', line):\n",
    "            continue\n",
    "        if m := re.search(':\\[[0-9]+\\]', line):\n",
    "            curr_id = int(re.search('[0-9]+', m.group()).group())\n",
    "            entry = line.replace(f':[{curr_id}]', '').strip()\n",
    "            if entry:\n",
    "                bedeutungen[str(curr_id)] += [entry]\n",
    "        elif m := re.search('::— ', line):\n",
    "            if curr_id != -1:\n",
    "                bedeutungen[str(curr_id)] += [line.replace('::— ', '').strip()]\n",
    "    return bedeutungen"
   ],
   "outputs": []
  },
  {
   "cell_type": "code",
   "execution_count": null,
   "id": "c14f61a6-5953-49ee-8ed5-0b9102a2f1c7",
   "metadata": {
    "scrolled": true
   },
   "source": [
    "from tqdm.notebook import tqdm\n",
    "\n",
    "\n",
    "search_query =  {'text': {\"$regex\": \".*{{Beispiele}}.*\", \"$options\": \"i\"}}\n",
    "result = collection.find(search_query)\n",
    "count = 0\n",
    "\n",
    "empty_words = []\n",
    "available_words = []\n",
    "\n",
    "i = 0\n",
    "for doc in tqdm(result):\n",
    "    insert_data = {}\n",
    "    a = get_entries(doc['text'], 'Bedeutungen')\n",
    "    bedeutungen = extract_entries(a)\n",
    "    insert_data['bedeutungen'] = bedeutungen\n",
    "    a = get_entries(doc['text'], 'Beispiele')\n",
    "    beispiele = extract_entries(a)\n",
    "    insert_data['beispiele'] = beispiele\n",
    "\n",
    "    if beispiele and bedeutungen:\n",
    "        available_words += [doc['title']]\n",
    "    else:\n",
    "        empty_words += [doc['title']]\n",
    "        continue\n",
    "    result = collection.update_one({\"_id\": doc['_id']}, {'$set': insert_data})\n",
    "count"
   ],
   "outputs": []
  },
  {
   "cell_type": "code",
   "id": "54528ebd-57bd-4aed-b747-b4a0f2bbc685",
   "metadata": {
    "editable": true,
    "scrolled": true,
    "slideshow": {
     "slide_type": ""
    },
    "tags": [],
    "ExecuteTime": {
     "end_time": "2024-04-08T12:46:24.334057Z",
     "start_time": "2024-04-08T12:43:40.101179Z"
    }
   },
   "source": [
    "from tqdm.notebook import tqdm\n",
    "from src.mongo_utils import clear_database\n",
    "\n",
    "clear_database()\n",
    "\n",
    "search_query =  {'text': {\"$regex\": \".*{{Beispiele}}.*\", \"$options\": \"i\"}}\n",
    "result = collection.find(search_query)\n",
    "count = 0\n",
    "\n",
    "empty_words = []\n",
    "available_words = []\n",
    "\n",
    "i = 0\n",
    "for doc in tqdm(result):\n",
    "    insert_data = {}\n",
    "    bedeutungen, beispiele = extract_content(doc['text'])\n",
    "    insert_data['bedeutungen'] = bedeutungen\n",
    "    insert_data['beispiele'] = beispiele\n",
    "\n",
    "    if beispiele and bedeutungen:\n",
    "        count += 1\n",
    "        available_words += [doc['title']]\n",
    "    else:\n",
    "        empty_words += [doc['title']]\n",
    "        continue\n",
    "    result = collection.update_one({\"_id\": doc['_id']}, {'$set': insert_data})\n",
    "count"
   ],
   "execution_count": 5,
   "outputs": []
  },
  {
   "cell_type": "code",
   "execution_count": 113,
   "id": "b7009875-2b69-4727-b21c-21bc5bebbebb",
   "metadata": {
    "editable": true,
    "slideshow": {
     "slide_type": ""
    },
    "tags": []
   },
   "source": [
    "extract_content(doc['text'])"
   ],
   "outputs": []
  },
  {
   "cell_type": "code",
   "execution_count": 26,
   "id": "7bea7cc6-30c2-463d-9909-233eb151cc8d",
   "metadata": {},
   "source": [
    "beispiele"
   ],
   "outputs": []
  },
  {
   "cell_type": "code",
   "execution_count": 8,
   "id": "6d9a173a-abd0-4fe1-a2be-9d258ae415e3",
   "metadata": {},
   "source": [
    "bedeutungen"
   ],
   "outputs": []
  },
  {
   "cell_type": "code",
   "execution_count": 124,
   "id": "922c2016-e1a5-4927-ad36-4788770615b5",
   "metadata": {},
   "source": "",
   "outputs": []
  },
  {
   "cell_type": "code",
   "execution_count": 260,
   "id": "c0c7d3a3-32dc-4355-b83e-ae379eb02122",
   "metadata": {},
   "source": [
    "doc"
   ],
   "outputs": []
  },
  {
   "cell_type": "code",
   "execution_count": 263,
   "id": "a7860fc8-c779-4d01-8729-f2ebfe5802f2",
   "metadata": {
    "scrolled": true
   },
   "source": [
    "len(available_words)"
   ],
   "outputs": []
  },
  {
   "cell_type": "code",
   "execution_count": 264,
   "id": "870e1679-4090-47c3-82f3-c4b1718d112d",
   "metadata": {},
   "source": [
    "len(empty_words)"
   ],
   "outputs": []
  },
  {
   "cell_type": "code",
   "execution_count": 126,
   "id": "7f062e36-2306-4127-aafd-59aab5ca1523",
   "metadata": {
    "scrolled": true
   },
   "source": [
    "example_1 = str(doc['text'])"
   ],
   "outputs": []
  },
  {
   "cell_type": "code",
   "execution_count": 5,
   "id": "a3d08d07-1a48-4ec1-80ad-38b67fddcb57",
   "metadata": {},
   "source": [
    "\n",
    "\n",
    "a = get_entries(doc['text'], 'Bedeutungen')\n",
    "bedeutungen = extract_entries(a)\n",
    "a = get_entries(doc['text'], 'Beispiele')\n",
    "beispiele = extract_entries(a)\n",
    "\n",
    "print(bedeutungen)\n",
    "print(beispiele)"
   ],
   "outputs": []
  },
  {
   "cell_type": "code",
   "execution_count": 258,
   "id": "24451142-5a58-45dd-834b-0ada6d4ba2a7",
   "metadata": {},
   "source": [
    "a"
   ],
   "outputs": []
  },
  {
   "cell_type": "code",
   "execution_count": 225,
   "id": "c783c623-2804-4af7-be0a-154fbd6b9586",
   "metadata": {},
   "source": [
    "import mwparserfromhell\n",
    "\n",
    "wikicode = mwparserfromhell.parse(doc['text'])\n",
    "for template in wikicode.filter_templates():\n",
    "    if template.name.matches(\"Bedeutungen\"):\n",
    "        bedeutungen_template = template\n",
    "        break\n",
    "    else:\n",
    "        print(template.name)"
   ],
   "outputs": []
  },
  {
   "cell_type": "code",
   "execution_count": 224,
   "id": "4cea21da-2394-454b-865a-b42cf703b43a",
   "metadata": {
    "scrolled": true
   },
   "source": [
    "print(doc['text'])"
   ],
   "outputs": []
  },
  {
   "cell_type": "code",
   "execution_count": 100,
   "id": "8f41d89b-fd60-4a5e-9949-3b50b2793245",
   "metadata": {},
   "source": [
    "for line in a:\n",
    "    print(line)"
   ],
   "outputs": []
  },
  {
   "cell_type": "code",
   "execution_count": 83,
   "id": "8a620bf4-7c44-4c24-9304-e9de1ef8aaf2",
   "metadata": {},
   "source": [
    "repr(re.search('[0-9]+', ':[11]').group())"
   ],
   "outputs": []
  },
  {
   "cell_type": "code",
   "execution_count": null,
   "id": "8e85df1e-5cff-4be9-9867-ddf036d0ff03",
   "metadata": {},
   "source": [],
   "outputs": []
  }
 ],
 "metadata": {
  "kernelspec": {
   "display_name": "Python 3 (ipykernel)",
   "language": "python",
   "name": "python3"
  },
  "language_info": {
   "codemirror_mode": {
    "name": "ipython",
    "version": 3
   },
   "file_extension": ".py",
   "mimetype": "text/x-python",
   "name": "python",
   "nbconvert_exporter": "python",
   "pygments_lexer": "ipython3",
   "version": "3.10.12"
  }
 },
 "nbformat": 4,
 "nbformat_minor": 5
}
