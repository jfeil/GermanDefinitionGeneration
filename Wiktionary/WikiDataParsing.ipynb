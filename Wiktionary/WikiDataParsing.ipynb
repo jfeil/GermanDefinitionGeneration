{
 "cells": [
  {
   "cell_type": "code",
   "id": "746a3174-a213-4d24-bd08-8fcd4c1f5fe3",
   "metadata": {
    "ExecuteTime": {
     "end_time": "2024-04-08T10:20:21.969222Z",
     "start_time": "2024-04-08T10:20:21.948717Z"
    }
   },
   "source": [
    "%load_ext autoreload\n",
    "%autoreload 2"
   ],
   "outputs": [],
   "execution_count": 1
  },
  {
   "metadata": {
    "ExecuteTime": {
     "end_time": "2024-04-08T10:20:23.487632Z",
     "start_time": "2024-04-08T10:20:22.747407Z"
    }
   },
   "cell_type": "code",
   "source": [
    "import mwxml\n",
    "from src.mongo_utils import collection, extract_content\n",
    "from tqdm.notebook import tqdm"
   ],
   "id": "7f7d1bffe3d7d4c",
   "outputs": [],
   "execution_count": 2
  },
  {
   "cell_type": "code",
   "id": "81a21cc3-d692-4869-94f7-a31040f660a6",
   "metadata": {
    "ExecuteTime": {
     "end_time": "2024-04-08T10:35:36.198297Z",
     "start_time": "2024-04-08T10:20:25.889155Z"
    }
   },
   "source": [
    "def extract_text(page):\n",
    "    \"\"\"Extracts the text content from a MediaWiki page.\"\"\"\n",
    "    for revision in page:\n",
    "        if hasattr(revision, 'text') and revision.text is not None:\n",
    "            return revision.text\n",
    "        elif hasattr(revision, 'slots') and 'main' in revision.slots:\n",
    "            return revision.slots['main'].text\n",
    "\n",
    "def process_dump(xml_dump_path):\n",
    "    dump = mwxml.Dump.from_file(open(xml_dump_path, 'rb'))\n",
    "\n",
    "    for page in tqdm(dump):\n",
    "        text = extract_text(page)\n",
    "        if text:\n",
    "            article_data = {\n",
    "                'title': page.title,\n",
    "                'text': text\n",
    "            }\n",
    "            collection.insert_one(article_data)\n",
    "\n",
    "xml_dump_path = \"dewiktionary-20240101-pages-articles.xml\"\n",
    "\n",
    "process_dump(xml_dump_path)"
   ],
   "outputs": [
    {
     "data": {
      "text/plain": [
       "0it [00:00, ?it/s]"
      ],
      "application/vnd.jupyter.widget-view+json": {
       "version_major": 2,
       "version_minor": 0,
       "model_id": "a10a3e4de3cf47bd80de3e692b6aae9f"
      }
     },
     "metadata": {},
     "output_type": "display_data"
    }
   ],
   "execution_count": 3
  },
  {
   "cell_type": "code",
   "execution_count": 27,
   "id": "0cab1788-125a-410d-b445-904b0cf4c08f",
   "metadata": {},
   "outputs": [],
   "source": [
    "import re\n",
    "from collections import defaultdict\n",
    "\n",
    "def get_entries(text, token):\n",
    "    if token not in text:\n",
    "        return []\n",
    "    search_token = '{{' + token + '}}'\n",
    "    \n",
    "    m = re.search(search_token+'\\s*:(.*?)(?=\\n{{[^{}]+}}|\\Z)', text, re.DOTALL)\n",
    "    if not m:\n",
    "        return []\n",
    "    m = m.group()\n",
    "    m = m.replace(search_token+'\\n', '')\n",
    "    lines = list(filter(lambda item: item.strip(), m.split(\"\\n\")))\n",
    "    return lines\n",
    "\n",
    "def extract_entries(entries):\n",
    "    curr_id = -1\n",
    "    bedeutungen = defaultdict(lambda: [])\n",
    "    for i, line in enumerate(entries):\n",
    "        if re.search('{{Beispiele fehlen.*}}', line):\n",
    "            continue\n",
    "        if m := re.search(':\\[[0-9]+\\]', line):\n",
    "            curr_id = int(re.search('[0-9]+', m.group()).group())\n",
    "            entry = line.replace(f':[{curr_id}]', '').strip()\n",
    "            if entry:\n",
    "                bedeutungen[str(curr_id)] += [entry]\n",
    "        elif m := re.search('::— ', line):\n",
    "            if curr_id != -1:\n",
    "                bedeutungen[str(curr_id)] += [line.replace('::— ', '').strip()]\n",
    "    return bedeutungen"
   ]
  },
  {
   "cell_type": "code",
   "execution_count": null,
   "id": "c14f61a6-5953-49ee-8ed5-0b9102a2f1c7",
   "metadata": {
    "scrolled": true
   },
   "outputs": [
    {
     "data": {
      "application/vnd.jupyter.widget-view+json": {
       "model_id": "4a393d8f47954f3e91a7700e517d0bba",
       "version_major": 2,
       "version_minor": 0
      },
      "text/plain": [
       "0it [00:00, ?it/s]"
      ]
     },
     "metadata": {},
     "output_type": "display_data"
    }
   ],
   "source": [
    "from tqdm.notebook import tqdm\n",
    "\n",
    "\n",
    "search_query =  {'text': {\"$regex\": \".*{{Beispiele}}.*\", \"$options\": \"i\"}}\n",
    "result = collection.find(search_query)\n",
    "count = 0\n",
    "\n",
    "empty_words = []\n",
    "available_words = []\n",
    "\n",
    "i = 0\n",
    "for doc in tqdm(result):\n",
    "    insert_data = {}\n",
    "    a = get_entries(doc['text'], 'Bedeutungen')\n",
    "    bedeutungen = extract_entries(a)\n",
    "    insert_data['bedeutungen'] = bedeutungen\n",
    "    a = get_entries(doc['text'], 'Beispiele')\n",
    "    beispiele = extract_entries(a)\n",
    "    insert_data['beispiele'] = beispiele\n",
    "\n",
    "    if beispiele and bedeutungen:\n",
    "        available_words += [doc['title']]\n",
    "    else:\n",
    "        empty_words += [doc['title']]\n",
    "        continue\n",
    "    result = collection.update_one({\"_id\": doc['_id']}, {'$set': insert_data})\n",
    "count"
   ]
  },
  {
   "cell_type": "code",
   "id": "54528ebd-57bd-4aed-b747-b4a0f2bbc685",
   "metadata": {
    "editable": true,
    "scrolled": true,
    "slideshow": {
     "slide_type": ""
    },
    "tags": [],
    "ExecuteTime": {
     "end_time": "2024-04-08T12:46:24.334057Z",
     "start_time": "2024-04-08T12:43:40.101179Z"
    }
   },
   "source": [
    "from tqdm.notebook import tqdm\n",
    "from src.mongo_utils import clear_database\n",
    "\n",
    "clear_database()\n",
    "\n",
    "search_query =  {'text': {\"$regex\": \".*{{Beispiele}}.*\", \"$options\": \"i\"}}\n",
    "result = collection.find(search_query)\n",
    "count = 0\n",
    "\n",
    "empty_words = []\n",
    "available_words = []\n",
    "\n",
    "i = 0\n",
    "for doc in tqdm(result):\n",
    "    insert_data = {}\n",
    "    bedeutungen, beispiele = extract_content(doc['text'])\n",
    "    insert_data['bedeutungen'] = bedeutungen\n",
    "    insert_data['beispiele'] = beispiele\n",
    "\n",
    "    if beispiele and bedeutungen:\n",
    "        count += 1\n",
    "        available_words += [doc['title']]\n",
    "    else:\n",
    "        empty_words += [doc['title']]\n",
    "        continue\n",
    "    result = collection.update_one({\"_id\": doc['_id']}, {'$set': insert_data})\n",
    "count"
   ],
   "outputs": [
    {
     "data": {
      "text/plain": [
       "0it [00:00, ?it/s]"
      ],
      "application/vnd.jupyter.widget-view+json": {
       "version_major": 2,
       "version_minor": 0,
       "model_id": "a4e9a31e5c3949a19b07a7c20f381c21"
      }
     },
     "metadata": {},
     "output_type": "display_data"
    },
    {
     "data": {
      "text/plain": [
       "155881"
      ]
     },
     "execution_count": 5,
     "metadata": {},
     "output_type": "execute_result"
    }
   ],
   "execution_count": 5
  },
  {
   "cell_type": "code",
   "execution_count": 113,
   "id": "b7009875-2b69-4727-b21c-21bc5bebbebb",
   "metadata": {
    "editable": true,
    "slideshow": {
     "slide_type": ""
    },
    "tags": []
   },
   "outputs": [
    {
     "ename": "UnboundLocalError",
     "evalue": "local variable 'index_2' referenced before assignment",
     "output_type": "error",
     "traceback": [
      "\u001B[0;31m---------------------------------------------------------------------------\u001B[0m",
      "\u001B[0;31mUnboundLocalError\u001B[0m                         Traceback (most recent call last)",
      "Cell \u001B[0;32mIn[113], line 1\u001B[0m\n\u001B[0;32m----> 1\u001B[0m \u001B[43mextract_content\u001B[49m\u001B[43m(\u001B[49m\u001B[43mdoc\u001B[49m\u001B[43m[\u001B[49m\u001B[38;5;124;43m'\u001B[39;49m\u001B[38;5;124;43mtext\u001B[39;49m\u001B[38;5;124;43m'\u001B[39;49m\u001B[43m]\u001B[49m\u001B[43m)\u001B[49m\n",
      "Cell \u001B[0;32mIn[110], line 47\u001B[0m, in \u001B[0;36mextract_content\u001B[0;34m(content)\u001B[0m\n\u001B[1;32m     45\u001B[0m \u001B[38;5;28;01mif\u001B[39;00m line\u001B[38;5;241m.\u001B[39mstartswith(\u001B[38;5;124m\"\u001B[39m\u001B[38;5;124m:[\u001B[39m\u001B[38;5;124m\"\u001B[39m):\n\u001B[1;32m     46\u001B[0m     \u001B[38;5;28;01mif\u001B[39;00m cache \u001B[38;5;241m!=\u001B[39m \u001B[38;5;124m\"\u001B[39m\u001B[38;5;124m\"\u001B[39m:\n\u001B[0;32m---> 47\u001B[0m         beispiele[index][\u001B[43mindex_2\u001B[49m] \u001B[38;5;241m+\u001B[39m\u001B[38;5;241m=\u001B[39m [cache]\n\u001B[1;32m     48\u001B[0m         cache \u001B[38;5;241m=\u001B[39m \u001B[38;5;124m\"\u001B[39m\u001B[38;5;124m\"\u001B[39m\n\u001B[1;32m     49\u001B[0m     index_2, text \u001B[38;5;241m=\u001B[39m extract_sentence(line)\n",
      "\u001B[0;31mUnboundLocalError\u001B[0m: local variable 'index_2' referenced before assignment"
     ]
    }
   ],
   "source": [
    "extract_content(doc['text'])"
   ]
  },
  {
   "cell_type": "code",
   "execution_count": 26,
   "id": "7bea7cc6-30c2-463d-9909-233eb151cc8d",
   "metadata": {},
   "outputs": [
    {
     "data": {
      "text/plain": [
       "defaultdict(<function __main__.extract_entries.<locals>.<lambda>()>,\n",
       "            {'1': [\"Die Lamprologini sind eine ''Tribus'' der Buntbarsche (Cichlidae).<ref>{{Wikipedia|Lamprologini}}</ref>\"],\n",
       "             '2': [\"Jede ''Tribus'' untergliederte sich in fünf centuriae seniorum und fünf centuriae iuniorum.<ref>{{Wikipedia|Tribus (Rom)}}</ref>\"]})"
      ]
     },
     "execution_count": 26,
     "metadata": {},
     "output_type": "execute_result"
    }
   ],
   "source": [
    "beispiele"
   ]
  },
  {
   "cell_type": "code",
   "execution_count": 8,
   "id": "6d9a173a-abd0-4fe1-a2be-9d258ae415e3",
   "metadata": {},
   "outputs": [
    {
     "data": {
      "text/plain": [
       "defaultdict(<function __main__.extract_entries.<locals>.<lambda>()>,\n",
       "            {'5': ['junge Kalmuspflanze']})"
      ]
     },
     "execution_count": 8,
     "metadata": {},
     "output_type": "execute_result"
    }
   ],
   "source": [
    "bedeutungen"
   ]
  },
  {
   "cell_type": "code",
   "execution_count": 124,
   "id": "922c2016-e1a5-4927-ad36-4788770615b5",
   "metadata": {},
   "outputs": [],
   "source": ""
  },
  {
   "cell_type": "code",
   "execution_count": 260,
   "id": "c0c7d3a3-32dc-4355-b83e-ae379eb02122",
   "metadata": {},
   "outputs": [
    {
     "data": {
      "text/plain": [
       "{'_id': ObjectId('65a93a340d199cc9e0c9c5b7'),\n",
       " 'title': 'familia',\n",
       " 'text': '{{Siehe auch|[[família]]}}\\n== familia ({{Sprache|Latein}}) ==\\n=== {{Wortart|Substantiv|Latein}}, {{f}} ===\\n\\n{{Latein Substantiv Übersicht|familia|famili|ae}}\\n\\n{{Worttrennung}}\\n:fa·mi·lia, {{Pl.}} fa·mi·li·ae\\n\\n{{Grammatische Merkmale}}\\n:[[Genitiv]] Singular nach [[pater]], [[mater]], [[filius]], [[filia]]: \\'\\'familiās\\'\\'<ref name=\"Georges\">{{Ref-Georges}}</ref>\\n\\n{{Bedeutungen}}\\n:[1] das [[Haus]], der [[Hausstand]] (mit Sklaven)\\n:[2] das [[Geschlecht]], die [[Familie]]\\n:[3] die [[Dienerschaft]]\\n\\n{{Herkunft}}\\n:zu dem Adjektiv \\'\\'{{Ü|la|famulus}}\\'\\'<ref name=\"Georges\" /> „dienend“; ursprüngliche Bedeutung: die Gesamtheit der unter einem \\'\\'[[dominus]]\\'\\' stehenden Sklaven, besonders als Angehörige und Teil der Familie, dann übertragen die ganze Hausgenossenschaft (Freie und Sklaven)\\n\\n{{Beispiele}}\\n:[1] {{Beispiele fehlen|spr=la}}\\n\\n==== {{Übersetzungen}} ====\\n{{Ü-Tabelle|1|G=das Haus, der Hausstand (mit Sklaven)|Ü-Liste=\\n*{{de}}: {{Ü|de|Hausstand}}, {{Ü|de|Haus}}\\n}}\\n\\n{{Ü-Tabelle|2|G=das Geschlecht, die Familie|Ü-Liste=\\n*{{de}}: {{Ü|de|Geschlecht}}, {{Ü|de|Familie}}\\n}}\\n\\n{{Ü-Tabelle|3|G=die Dienerschaft|Ü-Liste=\\n*{{de}}: {{Ü|de|Dienerschaft}}\\n}}\\n\\n{{Referenzen}}\\n:[1–3] {{Wikipedia|spr=la|familia}}\\n:[1–3] {{Ref-Georges}}\\n:[1–3] {{Lit-Stowasser: Lateinisch-deutsches Schulwörterbuch|A=1994}}, Seite 202, Eintrag „familia“\\n\\n{{Quellen}}'}"
      ]
     },
     "execution_count": 260,
     "metadata": {},
     "output_type": "execute_result"
    }
   ],
   "source": [
    "doc"
   ]
  },
  {
   "cell_type": "code",
   "execution_count": 263,
   "id": "a7860fc8-c779-4d01-8729-f2ebfe5802f2",
   "metadata": {
    "scrolled": true
   },
   "outputs": [
    {
     "data": {
      "text/plain": [
       "85950"
      ]
     },
     "execution_count": 263,
     "metadata": {},
     "output_type": "execute_result"
    }
   ],
   "source": [
    "len(available_words)"
   ]
  },
  {
   "cell_type": "code",
   "execution_count": 264,
   "id": "870e1679-4090-47c3-82f3-c4b1718d112d",
   "metadata": {},
   "outputs": [
    {
     "data": {
      "text/plain": [
       "160750"
      ]
     },
     "execution_count": 264,
     "metadata": {},
     "output_type": "execute_result"
    }
   ],
   "source": [
    "len(empty_words)"
   ]
  },
  {
   "cell_type": "code",
   "execution_count": 126,
   "id": "7f062e36-2306-4127-aafd-59aab5ca1523",
   "metadata": {
    "scrolled": true
   },
   "outputs": [],
   "source": [
    "example_1 = str(doc['text'])"
   ]
  },
  {
   "cell_type": "code",
   "execution_count": 5,
   "id": "a3d08d07-1a48-4ec1-80ad-38b67fddcb57",
   "metadata": {},
   "outputs": [
    {
     "name": "stdout",
     "output_type": "stream",
     "text": [
      "defaultdict(<function extract_entries.<locals>.<lambda> at 0x7f76d2ce6e60>, {'1': ['lautes Rufen; fröhliches, lautes Durcheinander']})\n",
      "defaultdict(<function extract_entries.<locals>.<lambda> at 0x7f76d2ce72e0>, {'1': [\"Als er die Treppe hinaufkam, wurde er mit großem ''Hallo'' empfangen.\", \"„Da gab es keine Möglichkeit, mich von vielen Leuten (…) zu verabschieden. Deswegen wird es jetzt ein Tag des großen ''Hallos'' und des offiziellen Abschieds werden.“<ref>Marc Heinrich (Interviewer): [http://www.faz.net/aktuell/rhein-main/sport/eintracht-frankfurt/im-gespraech-armin-reutershahn-der-tag-des-hallos-und-des-abschieds-1843358.html ''Im Gespräch: Armin Reutershahn. „Der Tag des Hallos und des Abschieds“''] auf www.faz.net vom 15. August 2009</ref>\"]})\n"
     ]
    }
   ],
   "source": [
    "\n",
    "\n",
    "a = get_entries(doc['text'], 'Bedeutungen')\n",
    "bedeutungen = extract_entries(a)\n",
    "a = get_entries(doc['text'], 'Beispiele')\n",
    "beispiele = extract_entries(a)\n",
    "\n",
    "print(bedeutungen)\n",
    "print(beispiele)"
   ]
  },
  {
   "cell_type": "code",
   "execution_count": 258,
   "id": "24451142-5a58-45dd-834b-0ada6d4ba2a7",
   "metadata": {},
   "outputs": [
    {
     "data": {
      "text/plain": [
       "[':[1] {{Beispiele fehlen|spr=la}}',\n",
       " \":[6] ''Ordines'' sunt exempli gratia Insectis Diptera et Odonata.\",\n",
       " \"::''Ordnungen'' der Insekten sind zum Beispiel die Zweiflügler und die Libellen.\"]"
      ]
     },
     "execution_count": 258,
     "metadata": {},
     "output_type": "execute_result"
    }
   ],
   "source": [
    "a"
   ]
  },
  {
   "cell_type": "code",
   "execution_count": 225,
   "id": "c783c623-2804-4af7-be0a-154fbd6b9586",
   "metadata": {},
   "outputs": [
    {
     "name": "stdout",
     "output_type": "stream",
     "text": [
      "Shortcut\n",
      "Linkbox Regeln und Konventionen/Formatierung\n"
     ]
    }
   ],
   "source": [
    "import mwparserfromhell\n",
    "\n",
    "wikicode = mwparserfromhell.parse(doc['text'])\n",
    "for template in wikicode.filter_templates():\n",
    "    if template.name.matches(\"Bedeutungen\"):\n",
    "        bedeutungen_template = template\n",
    "        break\n",
    "    else:\n",
    "        print(template.name)"
   ]
  },
  {
   "cell_type": "code",
   "execution_count": 224,
   "id": "4cea21da-2394-454b-865a-b42cf703b43a",
   "metadata": {
    "scrolled": true
   },
   "outputs": [
    {
     "name": "stdout",
     "output_type": "stream",
     "text": [
      "{{Shortcut|[[WT:FV]]}}\n",
      "{{Linkbox Regeln und Konventionen/Formatierung}}\n",
      "<div style=\"background-color:#FFFFFF; border: 3px solid #dfdfdf; padding: 1em 1em 1em 1em;\">\n",
      "Um diese Formatvorlage zu verwenden, kann man auch einfach '''<code><nowiki>{{subst:Formatvorlage}}</nowiki></code>''' im Bearbeitungsfenster eingeben. Weitere Hinweise finden sich unter '''[[Hilfe:Verwenden der Formatvorlage|Verwenden der Formatvorlage]]'''.</div>\n",
      "[[Kategorie:Wiktionary|Formatvorlage]]\n",
      "\n",
      "<br />\n",
      "* Wenn du Hilfe für die einzelnen Abschnitte brauchen solltest, siehe unter [[Hilfe:Formatvorlage]]\n",
      "* Solltest du gleich einen Eintrag erstellen wollen, siehe unter [[Wiktionary:Eintrag erstellen]]\n",
      "* Für andere Wortarten als Substantive (Verben, Adjektive und andere) finden sich unter [[Hilfe:Flexionstabellen|Flexionstabellen]] Tabellen zum Herauskopieren für die verbreitetsten Fälle\n",
      "* Für Wörter aus anderen Sprachen gibt es bereits eine Anzahl eigener Formatvorlagen, siehe [[Wiktionary:Eintrag erstellen]]\n",
      "\n",
      "<br style=\"clear: both;\" />\n",
      "'''zum Rauskopieren:'''\n",
      "* Pflichteinträge sind neben der einordnenden Überschrift: Flexionstabelle, Worttrennung, Aussprache, Bedeutung, Übersetzung und Referenzen; weitere vorgeschlagene, aber nicht-benötigte Bausteine bitte löschen\n",
      "\n",
      "<pre>\n",
      "{{Neuer Eintrag}}<!-- Wenn du fertig bist, lösche diese Zeile bitte -->\n",
      "<!-- denn sie ist nur dazu da, dir aktuell Ruhe beim Schreiben zu verschaffen, damit sich keiner einmischt, solange du noch nachdenkst -->\n",
      "<!-- im Folgenden die Platzhalter \"Wort\", \"Wörter\", usw. bitte jeweils ersetzen -->\n",
      "\n",
      "== {{subst:PAGENAME}} ({{Sprache|Deutsch}}) ==\n",
      "<!-- ggf. Lemma (Worteintrag, um den es geht) und Sprache ändern -->\n",
      "=== {{Wortart|Substantiv|Deutsch}}, {{Geschlecht}} ===  \n",
      "<!-- Substantiv ggf. durch Adjektiv, Adverb, Verb, oder was es nun ist, ersetzen -->\n",
      "<!-- für Profis oder Neugierige: weitere Angaben wie Eigenname (bei Substantiv), unregelmäßig (bei Verben) usw. machen -->\n",
      "\n",
      "<!-- die folgende Tabelle ggf. durch eine der Wortart entsprechende aus \"Hilfe:Flexionstabellen\" ersetzen -->\n",
      "<!-- ein Link dorthin findet sich oben -->\n",
      "{{Deutsch Substantiv Übersicht\n",
      "|Genus=n\n",
      "|Nominativ Singular=Wort\n",
      "|Nominativ Plural=Wörter\n",
      "|Genitiv Singular=Wortes\n",
      "|Genitiv Singular*=Worts\n",
      "|Genitiv Plural=Wörter\n",
      "|Dativ Singular=Wort\n",
      "|Dativ Plural=Wörtern\n",
      "|Akkusativ Singular=Wort\n",
      "|Akkusativ Plural=Wörter\n",
      "}}\n",
      "\n",
      "{{Worttrennung}}\n",
      ":Wort, {{Pl.}} Wör·ter\n",
      "<!-- hier das konkrete Wort und dessen Mehrzahl einsetzen -->\n",
      "<!-- bzw. mit {{kPl.}} angeben, dass es keine Mehrzahl gibt -->\n",
      "\n",
      "<!-- {{Umschrift}} [[Hilfe:Kunrei|Kunrei]]: bei Wörtern aus nichtlateinischer Schrift hier bitte die Umschrift angeben -->\n",
      "<!-- und auch die jeweils verwendete Umschrift spezifizieren, z. B. Kunrei, Hepburn, Pinyin-->\n",
      "\n",
      "{{Aussprache}}\n",
      ":{{IPA}} {{Lautschrift|}}\n",
      ":{{Hörbeispiele}} {{Audio|}}\n",
      "<!-- z. B.: IPA: {{Lautschrift|vɔrt}} -->\n",
      "<!-- trag gerne die Aussprache ein, wenn du die Notation beherrschst -->\n",
      "\n",
      "{{Bedeutungen}}\n",
      ":[1] \n",
      ":[2] \n",
      "<!-- erste Bedeutung [1], nächste [2]: jede Bedeutung muss über eine Referenz belegt sein -->\n",
      "<!-- jede Bedeutungserläuterung erfordert meist mehr als ein Wort - die Erklärung dennoch bitte möglichst kurz halten -->\n",
      "\n",
      "{{Abkürzungen}}\n",
      ":\n",
      "\n",
      "{{Herkunft}}\n",
      ":\n",
      "\n",
      "{{Synonyme}}\n",
      "<!-- vor den Synonymen angeben, auf welche Bedeutung sie sich beziehen ([1] oder [1, 2], [1–3] etc.) -->\n",
      ":\n",
      "\n",
      "{{Gegenwörter}}\n",
      "<!-- vor den Gegenwörtern angeben, auf welche Bedeutung sie sich beziehen ([1] oder [1, 2], [1–3] etc.) -->\n",
      ":\n",
      "\n",
      "{{Oberbegriffe}}\n",
      "<!-- vor Oberbegriffe angeben, auf welche Bedeutung sie sich beziehen und die Begriffe selbst aufsteigend nach Umfang sortieren -->\n",
      ":\n",
      "\n",
      "{{Unterbegriffe}}\n",
      "<!-- vor Unterbegriffe angeben, auf welche Bedeutung sie sich beziehen, und die Begriffe selbst nach Alphabet sortieren -->\n",
      "<!-- oft sind Unterbegriffe solche, die das Lemma/Wort im zweiten Teil des zusammengesetzten Wortes enthalten, Schimpf'''wort''' -->\n",
      ":\n",
      "\n",
      "{{Beispiele}}\n",
      "<!-- für Bedeutung [1], andere Bedeutung [2], usw.; mindestens ein Beispiel pro Bedeutung -->\n",
      "<!-- fehlt ein Beispiel, dann den Baustein {{Beispiele fehlen}} setzen -->\n",
      ":[1] \n",
      "\n",
      "{{Redewendungen}}\n",
      ":\n",
      "\n",
      "{{Charakteristische Wortkombinationen}}\n",
      "<!-- vor CWK angeben, auf welche Bedeutung sie sich beziehen -->\n",
      "<!-- Einträge sind Kombinationen (eine Wendung, auf die man sofort kommt), bestehend aus Lemma/Wort (kursiv) und Nachbarwort (verlinkt) -->\n",
      ":\n",
      "\n",
      "{{Wortbildungen}}\n",
      "<!-- bitte alphabetisch sortieren (z. B. Wörterbuch, wortgewandt, wortkarg, wortreich); -->\n",
      "<!-- oft sind Wortbildungen solche, die das Lemma/Wort im ersten Teil eines zusammengesetzten Wortes enthalten, '''Wort'''art -->\n",
      ":\n",
      "\n",
      "==== {{Übersetzungen}} ====\n",
      "{{Ü-Tabelle|1|G=|Ü-Liste=\n",
      "*{{en}}: {{Ü|en|}}\n",
      "*{{fr}}: {{Ü|fr|}}\n",
      "*{{it}}: {{Ü|it|}}\n",
      "*{{es}}: {{Ü|es|}}\n",
      "|Dialekttabelle=\n",
      "*Alemannisch: \n",
      "*Bairisch: \n",
      "*Niedersächsisch: \n",
      "*Ostmitteldeutsch: \n",
      "}}\n",
      "<!-- Übersetzungen sind nach den Sprachen, nicht den Kürzeln!, alphabetisch sortiert -->\n",
      "<!-- eine nicht benötigte Dialekttabelle löschen, aber die schließende Doppelklammer }} lassen -->\n",
      "\n",
      "{{Referenzen}}\n",
      ":[1] {{Wikipedia}}\n",
      ":[1] {{Ref-DWDS}}\n",
      ":[*] {{Ref-OWID}}\n",
      ":[1] {{Ref-FreeDictionary}}\n",
      ":[1] {{Ref-Duden}}\n",
      ":[1] {{Ref-Grimm}}\n",
      ":[*] {{Ref-UniLeipzig}}\n",
      "<!-- Referenzen den Bedeutungen zuordnen; z. B. [1] oder [1, 2] oder [1–3]  -->\n",
      "\n",
      "{{Ähnlichkeiten 1|}}\n",
      "<!-- tot beim Eintrag von Tod, und umgekehrt, aber nicht so bei Tat und tät -->\n",
      "\n",
      "<!-- weitere Homonyme können durch „{{subst:Formatvorlage}}“ eingefügt werden  -->\n",
      "<!-- überzählige Überschriften (z. B.: gleiche Sprache wie vorherige Eintragung) löschen -->\n",
      "\n",
      "</pre>\n",
      "\n",
      "* Alles, was hier zwischen den Pfeilen steht, gibt es in einem gewöhnlichen Eintrag nicht. Diese Einfügungen kann man im Eintrag zwar nicht sehen, man sieht sie aber, wenn man ihn bearbeitet. Sie stehen hier also zur Erläuterung für jemanden, der neu anfängt. Deshalb wäre es toll, wenn du sie in deinem neuerstellten Eintrag löschst, das Wiktionary dankt\n",
      "\n",
      "[[cs:Wikislovník:Jak editovat hesla]]\n",
      "[[el:Βικιλεξικό:Πώς να επεξεργαστείτε μια σελίδα]]\n",
      "[[en:Help:How to edit a page]]\n",
      "[[eo:Vikivortaro:Kiel redakti paĝon]]\n",
      "[[es:Wikcionario:Cómo se edita una página]]\n",
      "[[fr:Aide:Comment modifier une page]]\n",
      "[[ms:Wiktionary:Menyunting]]\n",
      "[[no:Hjelp:Hvordan redigere en oppføring]]\n",
      "[[pt:Ajuda:Guia de edição/Formatação]]\n",
      "[[vi:Trợ giúp:Sửa đổi]]\n",
      "[[zh:Wiktionary:如何编辑页面]]\n"
     ]
    }
   ],
   "source": [
    "print(doc['text'])"
   ]
  },
  {
   "cell_type": "code",
   "execution_count": 100,
   "id": "8f41d89b-fd60-4a5e-9949-3b50b2793245",
   "metadata": {},
   "outputs": [
    {
     "name": "stdout",
     "output_type": "stream",
     "text": [
      ":[1] ''gegenständlich:'' [[Reihe]], [[Sitzreihe]] ''(Reihe der Sitze oder Bänke im Theater)'', [[Lage]], [[Schicht]]\n",
      ":[2] ''militärisch:''\n",
      "::— ''(abstrakt: Militär-Gruppierung, Legion)'' [[Glied]], [[Zenturie]], [[Abteilung]], [[Abteilungsglied]], [[Kompanie]]\n",
      "::— ''(personifiziert)'' der [[Hauptmann]] selbst\n",
      ":[3] ''politisch-gesellschaftlich:'' [[Stand]], [[Klasse]], [[Rang]], [[Stellung]]\n",
      ":[4] ''abstrakt:'' [[Ordnung]], gehörige Reihenfolge, [[Anordnung]], [[Regel]]\n",
      "::— ''übertragen:'' [[Verfassung]], [[Zustand]]\n",
      ":[5] ''kirchlich (mittellateinisch):''\n",
      "::[5a] [[Ordensgemeinschaft]] ''von Mönchen''\n",
      "::[5b] kirchlicher Stand: [[Weihestufe]]\n",
      "::[5c] die (göttliche) Weltordnung\n",
      ":[6] ''[[Taxonomie]]: Biologische Systematik (neulateinisch):'' [[Ordnung]] oder fachwissenschaftlich [[Ordo]] ''(Zusammenfassung mehrerer eng verwandter Familien, Teil eine Klasse)''\n",
      "\n"
     ]
    }
   ],
   "source": [
    "for line in a:\n",
    "    print(line)"
   ]
  },
  {
   "cell_type": "code",
   "execution_count": 83,
   "id": "8a620bf4-7c44-4c24-9304-e9de1ef8aaf2",
   "metadata": {},
   "outputs": [
    {
     "data": {
      "text/plain": [
       "\"'11'\""
      ]
     },
     "execution_count": 83,
     "metadata": {},
     "output_type": "execute_result"
    }
   ],
   "source": [
    "repr(re.search('[0-9]+', ':[11]').group())"
   ]
  },
  {
   "cell_type": "code",
   "execution_count": null,
   "id": "8e85df1e-5cff-4be9-9867-ddf036d0ff03",
   "metadata": {},
   "outputs": [],
   "source": []
  }
 ],
 "metadata": {
  "kernelspec": {
   "display_name": "Python 3 (ipykernel)",
   "language": "python",
   "name": "python3"
  },
  "language_info": {
   "codemirror_mode": {
    "name": "ipython",
    "version": 3
   },
   "file_extension": ".py",
   "mimetype": "text/x-python",
   "name": "python",
   "nbconvert_exporter": "python",
   "pygments_lexer": "ipython3",
   "version": "3.10.12"
  }
 },
 "nbformat": 4,
 "nbformat_minor": 5
}
