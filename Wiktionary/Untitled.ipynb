{
 "cells": [
  {
   "cell_type": "code",
   "execution_count": 2,
   "id": "765a0ccb-1a02-47a0-9835-d5787cda614f",
   "metadata": {},
   "outputs": [],
   "source": [
    "from wiktionary_de_parser import WiktionaryParser\n",
    "from wiktionary_de_parser.dump_processor import WiktionaryDump\n",
    "\n",
    "dump = WiktionaryDump(dump_file_path=\"/home/jfeil/Downloads/dewiktionary-20240101-pages-articles.xml.bz2\")\n",
    "dump.download_dump()"
   ]
  },
  {
   "cell_type": "code",
   "execution_count": 5,
   "id": "fdff858d-cb14-42bc-ac7b-365f56a77d14",
   "metadata": {},
   "outputs": [
    {
     "name": "stdout",
     "output_type": "stream",
     "text": [
      "ParsedWiktionaryPageEntry(name='schleifen', hyphenation=['schlei', 'fen'], flexion={'Präsens_ich': 'schleife', 'Präsens_du': 'schleifst', 'Präsens_er, sie, es': 'schleift', 'Präteritum_ich': 'schleifte', 'Partizip II': 'geschleift', 'Konjunktiv II_ich': 'schleifte', 'Imperativ Singular': 'schleife', 'Imperativ Plural': 'schleift', 'Hilfsverb': 'haben'}, ipa=['ˈʃlaɪ̯fn̩'], language=Language(lang='Deutsch', lang_code='de'), lemma=Lemma(lemma='schleifen', inflected=False), pos={'Verb': []}, rhymes=['aɪ̯fn̩'])\n",
      "ParsedWiktionaryPageEntry(name='schleifen', hyphenation=['schlei', 'fen'], flexion={'Präsens_ich': 'schleife', 'Präsens_du': 'schleifst', 'Präsens_er, sie, es': 'schleift', 'Präteritum_ich': 'schliff', 'Partizip II': 'geschliffen', 'Konjunktiv II_ich': 'schliffe', 'Imperativ Singular': 'schleife', 'Imperativ Plural': 'schleift', 'Hilfsverb': 'haben'}, ipa=['ˈʃlaɪ̯fn̩'], language=Language(lang='Deutsch', lang_code='de'), lemma=Lemma(lemma='schleifen', inflected=False), pos={'Verb': []}, rhymes=['aɪ̯fn̩'])\n"
     ]
    }
   ],
   "source": [
    "from pprint import pprint\n",
    "from wiktionary_de_parser import WiktionaryParser\n",
    "\n",
    "# ... (see above)\n",
    "\n",
    "parser = WiktionaryParser()\n",
    "\n",
    "for page in dump.pages():\n",
    "    # Skip redirects\n",
    "    if page.redirect_to:\n",
    "        continue\n",
    "\n",
    "    if page.name == \"schleifen\":\n",
    "        # Parse all entries for \"Abend\"\n",
    "        for entry in parser.entries_from_page(page):\n",
    "            results = parser.parse_entry(entry)\n",
    "            pprint(results)\n",
    "        break"
   ]
  },
  {
   "cell_type": "code",
   "execution_count": 7,
   "id": "fba91c8a-0c6d-422b-a527-2741490dd7fa",
   "metadata": {},
   "outputs": [
    {
     "data": {
      "text/plain": [
       "{'name': 'schleifen',\n",
       " 'hyphenation': ['schlei', 'fen'],\n",
       " 'flexion': {'Präsens_ich': 'schleife',\n",
       "  'Präsens_du': 'schleifst',\n",
       "  'Präsens_er, sie, es': 'schleift',\n",
       "  'Präteritum_ich': 'schliff',\n",
       "  'Partizip II': 'geschliffen',\n",
       "  'Konjunktiv II_ich': 'schliffe',\n",
       "  'Imperativ Singular': 'schleife',\n",
       "  'Imperativ Plural': 'schleift',\n",
       "  'Hilfsverb': 'haben'},\n",
       " 'ipa': ['ˈʃlaɪ̯fn̩'],\n",
       " 'language': Language(lang='Deutsch', lang_code='de'),\n",
       " 'lemma': Lemma(lemma='schleifen', inflected=False),\n",
       " 'pos': {'Verb': []},\n",
       " 'rhymes': ['aɪ̯fn̩']}"
      ]
     },
     "execution_count": 7,
     "metadata": {},
     "output_type": "execute_result"
    }
   ],
   "source": [
    "results.__dict__"
   ]
  }
 ],
 "metadata": {
  "kernelspec": {
   "display_name": "Python 3 (ipykernel)",
   "language": "python",
   "name": "python3"
  },
  "language_info": {
   "codemirror_mode": {
    "name": "ipython",
    "version": 3
   },
   "file_extension": ".py",
   "mimetype": "text/x-python",
   "name": "python",
   "nbconvert_exporter": "python",
   "pygments_lexer": "ipython3",
   "version": "3.11.4"
  }
 },
 "nbformat": 4,
 "nbformat_minor": 5
}
