{
 "cells": [
  {
   "cell_type": "code",
   "id": "initial_id",
   "metadata": {
    "collapsed": true,
    "ExecuteTime": {
     "end_time": "2024-05-13T14:20:11.924126Z",
     "start_time": "2024-05-13T14:20:11.867985Z"
    }
   },
   "source": [
    "import requests\n",
    "import enum"
   ],
   "outputs": [],
   "execution_count": 1
  },
  {
   "metadata": {
    "ExecuteTime": {
     "end_time": "2024-05-13T14:20:12.184502Z",
     "start_time": "2024-05-13T14:20:12.181594Z"
    }
   },
   "cell_type": "code",
   "source": [
    "class Model:\n",
    "    Intel_Neural_Chat_7B = \"intel-neural-chat-7b\"\n",
    "    Mixtral_8x7b = \"mixtral-8x7b-instruct\"\n",
    "    Qwen_1_5_72B = \"qwen1.5-72b-chat\"\n",
    "    Llama_3_70B = \"meta-llama-3-70b-instruct\"\n",
    "    GPT_35 = \"openai-gpt35\"\n",
    "    GPT_4 = \"openai-gpt4\""
   ],
   "id": "536e6c3182f9ca3c",
   "outputs": [],
   "execution_count": 2
  },
  {
   "metadata": {
    "ExecuteTime": {
     "end_time": "2024-05-13T14:20:13.404206Z",
     "start_time": "2024-05-13T14:20:13.028359Z"
    }
   },
   "cell_type": "code",
   "source": [
    "endpoint = \"https://chat-ai.academiccloud.de/chat-ai-backend\"\n",
    "content = {\n",
    "    \"model\":Model.Llama_3_70B,\n",
    "    \"messages\":\n",
    "        [\n",
    "            {\"role\":\"system\",\"content\":\"You are a helpful assistant\"},\n",
    "            {\"role\":\"user\",\"content\":\"Test 123\"},\n",
    "            {\"role\":\"assistant\",\"content\":\"It seems like you're testing to see if I'm working properly! That's perfectly fine. I'm happy to report that I'm functioning as intended and ready to assist you with any questions or tasks you may have. Is there anything specific you'd like to chat about or ask? I'm all ears!\"},\n",
    "            {\"role\":\"user\",\"content\":\"Test 123\"},\n",
    "            {\"role\":\"assistant\",\"content\":\"Your test is successful! How can I assist you with your scientific inquiries?\"},\n",
    "            {\"role\":\"user\",\"content\":\"Test Test 123\"}\n",
    "        ],\n",
    "    \"temperature\":1\n",
    "}\n",
    "\n",
    "header = {\"Content-Type\": \"application/json\",\n",
    "          \"Cookie\": \"mod_auth_openidc_session=eac7bf0d-1dfa-418d-a75c-1cd631fab20e\"}\n",
    "\n",
    "resp = requests.post(endpoint, json=content, headers=header)"
   ],
   "id": "9e9dbd685c25065f",
   "outputs": [],
   "execution_count": 3
  },
  {
   "metadata": {
    "ExecuteTime": {
     "end_time": "2024-05-13T14:20:13.947911Z",
     "start_time": "2024-05-13T14:20:13.939221Z"
    }
   },
   "cell_type": "code",
   "source": "resp.content",
   "id": "f7d38ad40cc50fb8",
   "outputs": [
    {
     "data": {
      "text/plain": [
       "b'<!DOCTYPE html>\\n<html class=\"login-pf\">\\n\\n<head>\\n    <meta charset=\"utf-8\">\\n    <meta http-equiv=\"Content-Type\" content=\"text/html; charset=UTF-8\" />\\n    <meta name=\"robots\" content=\"noindex, nofollow\">\\n\\n            <meta name=\"viewport\" content=\"width=device-width,initial-scale=1\"/>\\n    <title>Sign in to academiccloud</title>\\n    <link rel=\"icon\" href=\"/auth/resources/piaky/login/actheme/img/favicon.ico\" />\\n            <link href=\"/auth/resources/piaky/common/keycloak/node_modules/@patternfly/patternfly/patternfly.min.css\" rel=\"stylesheet\" />\\n            <link href=\"/auth/resources/piaky/common/keycloak/node_modules/patternfly/dist/css/patternfly.min.css\" rel=\"stylesheet\" />\\n            <link href=\"/auth/resources/piaky/common/keycloak/node_modules/patternfly/dist/css/patternfly-additions.min.css\" rel=\"stylesheet\" />\\n            <link href=\"/auth/resources/piaky/common/keycloak/lib/pficon/pficon.css\" rel=\"stylesheet\" />\\n            <link href=\"/auth/resources/piaky/login/actheme/css/login.css\" rel=\"stylesheet\" />\\n            <link href=\"/auth/resources/piaky/login/actheme/css/styles.css\" rel=\"stylesheet\" />\\n    <script src=\"/auth/resources/piaky/login/actheme/js/menu-button-links.js\" type=\"module\"></script>\\n        <script type=\"module\">\\n            import { checkCookiesAndSetTimer } from \"/auth/resources/piaky/login/actheme/js/authChecker.js\";\\n\\n            checkCookiesAndSetTimer(\\n              \"f1a0c3f8-ea0d-4502-8ae1-a0fd9bf8b4ef\",\\n              \"u5zUW0wTsFA\",\\n              \"/auth/realms/academiccloud/login-actions/restart?client_id=gwdg-chatai-prod&tab_id=u5zUW0wTsFA&skip_logout=true\"\\n            );\\n        </script>\\n</head>\\n\\n<body class=\"\">\\n<div class=\"login-pf-page\">\\n    <div id=\"kc-header\" class=\"login-pf-page-header\">\\n        <div id=\"kc-header-wrapper\"\\n             class=\"\">academiccloud</div>\\n    </div>\\n    <div class=\"card-pf\">\\n        <header class=\"login-pf-header\">\\n                <h1 id=\"kc-page-title\">        Authentication Redirect\\n</h1>\\n      </header>\\n      <div id=\"kc-content\">\\n        <div id=\"kc-content-wrapper\">\\n\\n\\n        <script>window.onload = function() {document.forms[0].submit()};</script>\\n        <p>Redirecting, please wait.</p>\\n        <form name=\"saml-post-binding\" method=\"post\" action=\"https://sso.academiccloud.de/simplesaml/saml2/idp/SSOService.php\">\\n                <input type=\"hidden\" name=\"SAMLRequest\" value=\"PHNhbWxwOkF1dGhuUmVxdWVzdCB4bWxuczpzYW1scD0idXJuOm9hc2lzOm5hbWVzOnRjOlNBTUw6Mi4wOnByb3RvY29sIiB4bWxucz0idXJuOm9hc2lzOm5hbWVzOnRjOlNBTUw6Mi4wOmFzc2VydGlvbiIgeG1sbnM6c2FtbD0idXJuOm9hc2lzOm5hbWVzOnRjOlNBTUw6Mi4wOmFzc2VydGlvbiIgQXNzZXJ0aW9uQ29uc3VtZXJTZXJ2aWNlVVJMPSJodHRwczovL2tleWNsb2FrLnNzby5nd2RnLmRlL2F1dGgvcmVhbG1zL2FjYWRlbWljY2xvdWQvYnJva2VyL2FjLXNzby1jdXN0b21zYW1sL2VuZHBvaW50IiBEZXN0aW5hdGlvbj0iaHR0cHM6Ly9zc28uYWNhZGVtaWNjbG91ZC5kZS9zaW1wbGVzYW1sL3NhbWwyL2lkcC9TU09TZXJ2aWNlLnBocCIgRm9yY2VBdXRobj0iZmFsc2UiIElEPSJJRF83YmUwNzE0Ni1kMDI4LTRhMzctYTllZC0wNzAyNzJlMjhhMTgiIElzc3VlSW5zdGFudD0iMjAyNC0wNS0xM1QxNDoyMDoxMy4zMjNaIiBQcm90b2NvbEJpbmRpbmc9InVybjpvYXNpczpuYW1lczp0YzpTQU1MOjIuMDpiaW5kaW5nczpIVFRQLVBPU1QiIFZlcnNpb249IjIuMCI+PHNhbWw6SXNzdWVyPmh0dHBzOi8va2V5Y2xvYWsuc3NvLmd3ZGcuZGUvYXV0aC9yZWFsbXMvYWNhZGVtaWNjbG91ZDwvc2FtbDpJc3N1ZXI+PHNhbWxwOkV4dGVuc2lvbnM+PHNhbWw6Q2xpZW50SUQgQ2xpZW50SUQ9Imd3ZGctY2hhdGFpLXByb2QiLz48L3NhbWxwOkV4dGVuc2lvbnM+PHNhbWxwOk5hbWVJRFBvbGljeSBBbGxvd0NyZWF0ZT0iZmFsc2UiIEZvcm1hdD0idXJuOm9hc2lzOm5hbWVzOnRjOlNBTUw6Mi4wOm5hbWVpZC1mb3JtYXQ6cGVyc2lzdGVudCIvPjwvc2FtbHA6QXV0aG5SZXF1ZXN0Pg==\"/>\\n                <input type=\"hidden\" name=\"RelayState\" value=\"7rCw4fV5mcSs796MRrVdYYaRkbuHZmlFNTTfbnJetEM.u5zUW0wTsFA.fbxFFoMcRVW1T5hEdQHE5Q\"/>\\n\\n            <noscript>\\n                <p>JavaScript is disabled. We strongly recommend to enable it. Click the button below to continue. </p>\\n                <input type=\"submit\" value=\"Continue\"/>\\n            </noscript>\\n        </form>\\n\\n\\n\\n        </div>\\n      </div>\\n\\n    </div>\\n  </div>\\n</body>\\n</html>\\n'"
      ]
     },
     "execution_count": 4,
     "metadata": {},
     "output_type": "execute_result"
    }
   ],
   "execution_count": 4
  },
  {
   "metadata": {},
   "cell_type": "code",
   "outputs": [],
   "execution_count": null,
   "source": "",
   "id": "aba337aff7bdb670"
  }
 ],
 "metadata": {
  "kernelspec": {
   "display_name": "Python 3",
   "language": "python",
   "name": "python3"
  },
  "language_info": {
   "codemirror_mode": {
    "name": "ipython",
    "version": 2
   },
   "file_extension": ".py",
   "mimetype": "text/x-python",
   "name": "python",
   "nbconvert_exporter": "python",
   "pygments_lexer": "ipython2",
   "version": "2.7.6"
  }
 },
 "nbformat": 4,
 "nbformat_minor": 5
}
